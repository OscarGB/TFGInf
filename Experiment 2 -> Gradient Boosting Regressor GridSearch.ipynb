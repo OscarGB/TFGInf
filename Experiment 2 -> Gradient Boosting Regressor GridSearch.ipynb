{
 "cells": [
  {
   "cell_type": "code",
   "execution_count": 1,
   "metadata": {},
   "outputs": [],
   "source": [
    "import pandas as pd\n",
    "import numpy as np\n",
    "from sklearn import svm\n",
    "from sklearn.multioutput import MultiOutputRegressor\n",
    "from sklearn.ensemble import GradientBoostingRegressor\n",
    "from sklearn.preprocessing import MinMaxScaler\n",
    "import time\n",
    "import matplotlib.pyplot as plt\n",
    "from sklearn.model_selection import GridSearchCV, ParameterGrid"
   ]
  },
  {
   "cell_type": "markdown",
   "metadata": {},
   "source": [
    "# Import all data"
   ]
  },
  {
   "cell_type": "code",
   "execution_count": 2,
   "metadata": {},
   "outputs": [],
   "source": [
    "X_train = pd.read_parquet(\"X/X_train.parquet\")\n",
    "X_test = pd.read_parquet(\"X/X_test.parquet\")\n",
    "Y_train = pd.read_parquet(\"Y/Y_train.parquet\")\n",
    "Y_test = pd.read_parquet(\"Y/Y_test.parquet\")\n",
    "X_train = X_train[['Built', 'Below Secundary', 'Income Median',\n",
    "       'Population', 'Over 65', 'Over 65 Percentage', 'Over 85',\n",
    "       'Over 85 Percentage', 'Over 50', 'Over 50 Percentage', 'Under 20',\n",
    "       'Under 20 Percentage', 'Income Per Capita', 'Tourism', 'Area',\n",
    "       'Built Area']]\n",
    "X_test = X_test[['Built', 'Below Secundary', 'Income Median',\n",
    "       'Population', 'Over 65', 'Over 65 Percentage', 'Over 85',\n",
    "       'Over 85 Percentage', 'Over 50', 'Over 50 Percentage', 'Under 20',\n",
    "       'Under 20 Percentage', 'Income Per Capita', 'Tourism', 'Area',\n",
    "       'Built Area']]\n",
    "Complete = pd.read_parquet(\"dataset.parquet\")"
   ]
  },
  {
   "cell_type": "code",
   "execution_count": 3,
   "metadata": {},
   "outputs": [],
   "source": [
    "scalerX = MinMaxScaler().fit(X_train)\n",
    "X_train = pd.DataFrame(scalerX.transform(X_train))\n",
    "X_test = pd.DataFrame(scalerX.transform(X_test))\n",
    "scalerY = MinMaxScaler().fit(Y_train)\n",
    "Y_train = pd.DataFrame(scalerY.transform(Y_train))\n",
    "Y_test = pd.DataFrame(scalerY.transform(Y_test))\n",
    "Y1_train = Y_train[[0]]\n",
    "Y1_test = Y_test[[0]]\n",
    "Y2_train = Y_train[[1]]\n",
    "Y2_test = Y_test[[1]]\n",
    "Y3_train = Y_train[[2]]\n",
    "Y3_test = Y_test[[2]]\n",
    "Y4_train = Y_train[[3]]\n",
    "Y4_test = Y_test[[3]]\n",
    "Y5_train = Y_train[[4]]\n",
    "Y5_test = Y_test[[4]]\n",
    "Y6_train = Y_train[[5]]\n",
    "Y6_test = Y_test[[5]]"
   ]
  },
  {
   "cell_type": "markdown",
   "metadata": {},
   "source": [
    "## Train and score"
   ]
  },
  {
   "cell_type": "code",
   "execution_count": 4,
   "metadata": {},
   "outputs": [],
   "source": [
    "parameters = {'learning_rate':[0.001, 0.005, 0.01, 0.05, 0.1, 0.5],\n",
    "              'n_estimators':[50, 100, 200, 500, 1000],\n",
    "              'max_depth': [2,3,5,10,20,30,50,100]} "
   ]
  },
  {
   "cell_type": "code",
   "execution_count": 5,
   "metadata": {},
   "outputs": [],
   "source": [
    "def GridSearch(rf, X_train, X_test, y_train, y_test, grid, verbose=False):\n",
    "    best_score = 0\n",
    "    par = ParameterGrid(grid)\n",
    "    ln = len(par)\n",
    "    i = 0\n",
    "    for g in par:\n",
    "        if(verbose):\n",
    "            print(f\"Probando: {g}, {i} de {ln}\")\n",
    "        i+=1\n",
    "        rf.set_params(**g)\n",
    "        startTime = time.time()\n",
    "        rf.fit(X_train, np.ravel(y_train))\n",
    "        elapsedTime = time.time() - startTime\n",
    "        score = rf.score(X_test, y_test)\n",
    "        if(verbose):\n",
    "            print(f\"Tiempo de entrenamiento: {elapsedTime} s, score: {score}\")\n",
    "        # save if best\n",
    "        if score > best_score:\n",
    "            best_score = score\n",
    "            best_grid = g\n",
    "    print(f\"Best Score: {best_score}\")\n",
    "    print(f\"Best Parameters: {best_grid}\")\n",
    "    return best_grid"
   ]
  },
  {
   "cell_type": "code",
   "execution_count": null,
   "metadata": {
    "scrolled": true
   },
   "outputs": [
    {
     "name": "stdout",
     "output_type": "stream",
     "text": [
      "Probando: {'learning_rate': 0.001, 'max_depth': 2, 'n_estimators': 50}, 0 de 240\n",
      "Tiempo de entrenamiento: 0.09377837181091309 s, score: 0.06483265253974102\n",
      "Probando: {'learning_rate': 0.001, 'max_depth': 2, 'n_estimators': 100}, 1 de 240\n",
      "Tiempo de entrenamiento: 0.21716737747192383 s, score: 0.1232535068917282\n",
      "Probando: {'learning_rate': 0.001, 'max_depth': 2, 'n_estimators': 200}, 2 de 240\n",
      "Tiempo de entrenamiento: 0.5080645084381104 s, score: 0.22315354456753822\n",
      "Probando: {'learning_rate': 0.001, 'max_depth': 2, 'n_estimators': 500}, 3 de 240\n",
      "Tiempo de entrenamiento: 1.2102010250091553 s, score: 0.4710416593896633\n",
      "Probando: {'learning_rate': 0.001, 'max_depth': 2, 'n_estimators': 1000}, 4 de 240\n",
      "Tiempo de entrenamiento: 2.6963987350463867 s, score: 0.7272630017007725\n",
      "Probando: {'learning_rate': 0.001, 'max_depth': 3, 'n_estimators': 50}, 5 de 240\n",
      "Tiempo de entrenamiento: 0.18210506439208984 s, score: 0.07801726857621338\n",
      "Probando: {'learning_rate': 0.001, 'max_depth': 3, 'n_estimators': 100}, 6 de 240\n",
      "Tiempo de entrenamiento: 0.2998483180999756 s, score: 0.14777077516452308\n",
      "Probando: {'learning_rate': 0.001, 'max_depth': 3, 'n_estimators': 200}, 7 de 240\n",
      "Tiempo de entrenamiento: 0.8557000160217285 s, score: 0.26601372486714914\n",
      "Probando: {'learning_rate': 0.001, 'max_depth': 3, 'n_estimators': 500}, 8 de 240\n",
      "Tiempo de entrenamiento: 2.2403316497802734 s, score: 0.5010336383664225\n",
      "Probando: {'learning_rate': 0.001, 'max_depth': 3, 'n_estimators': 1000}, 9 de 240\n",
      "Tiempo de entrenamiento: 4.43115234375 s, score: 0.6901915771784516\n",
      "Probando: {'learning_rate': 0.001, 'max_depth': 5, 'n_estimators': 50}, 10 de 240\n",
      "Tiempo de entrenamiento: 0.2808854579925537 s, score: 0.08685490785046035\n",
      "Probando: {'learning_rate': 0.001, 'max_depth': 5, 'n_estimators': 100}, 11 de 240\n",
      "Tiempo de entrenamiento: 0.6130092144012451 s, score: 0.1643911144827428\n",
      "Probando: {'learning_rate': 0.001, 'max_depth': 5, 'n_estimators': 200}, 12 de 240\n",
      "Tiempo de entrenamiento: 1.184133529663086 s, score: 0.29509344769593704\n",
      "Probando: {'learning_rate': 0.001, 'max_depth': 5, 'n_estimators': 500}, 13 de 240\n",
      "Tiempo de entrenamiento: 3.459987163543701 s, score: 0.5518508580784259\n",
      "Probando: {'learning_rate': 0.001, 'max_depth': 5, 'n_estimators': 1000}, 14 de 240\n",
      "Tiempo de entrenamiento: 6.6699254512786865 s, score: 0.7610072544352384\n",
      "Probando: {'learning_rate': 0.001, 'max_depth': 10, 'n_estimators': 50}, 15 de 240\n",
      "Tiempo de entrenamiento: 0.5559937953948975 s, score: 0.08954505354197206\n",
      "Probando: {'learning_rate': 0.001, 'max_depth': 10, 'n_estimators': 100}, 16 de 240\n",
      "Tiempo de entrenamiento: 1.2194311618804932 s, score: 0.16949798319426201\n",
      "Probando: {'learning_rate': 0.001, 'max_depth': 10, 'n_estimators': 200}, 17 de 240\n"
     ]
    }
   ],
   "source": [
    "g = GridSearch(GradientBoostingRegressor(), X_train, X_test, Y1_train, Y1_test, parameters, verbose=True)\n",
    "clf1 = GradientBoostingRegressor(**g).fit(X_train, np.ravel(Y1_train))"
   ]
  },
  {
   "cell_type": "code",
   "execution_count": null,
   "metadata": {},
   "outputs": [],
   "source": [
    "g = GridSearch(GradientBoostingRegressor(), X_train, X_test, Y2_train, Y2_test, parameters, verbose=True)\n",
    "clf2 = GradientBoostingRegressor(**g).fit(X_train, np.ravel(Y2_train))"
   ]
  },
  {
   "cell_type": "code",
   "execution_count": null,
   "metadata": {},
   "outputs": [],
   "source": [
    "g = GridSearch(GradientBoostingRegressor(), X_train, X_test, Y3_train, Y3_test, parameters, verbose=True)\n",
    "clf3 = GradientBoostingRegressor(**g).fit(X_train, np.ravel(Y3_train))"
   ]
  },
  {
   "cell_type": "code",
   "execution_count": null,
   "metadata": {},
   "outputs": [],
   "source": [
    "g = GridSearch(GradientBoostingRegressor(), X_train, X_test, Y4_train, Y4_test, parameters, verbose=True)\n",
    "clf4 = GradientBoostingRegressor(**g).fit(X_train, np.ravel(Y4_train))"
   ]
  },
  {
   "cell_type": "code",
   "execution_count": null,
   "metadata": {},
   "outputs": [],
   "source": [
    "g = GridSearch(GradientBoostingRegressor(), X_train, X_test, Y5_train, Y5_test, parameters, verbose=True)\n",
    "clf5 = GradientBoostingRegressor(**g).fit(X_train, np.ravel(Y5_train))"
   ]
  },
  {
   "cell_type": "code",
   "execution_count": 6,
   "metadata": {
    "scrolled": true
   },
   "outputs": [
    {
     "name": "stdout",
     "output_type": "stream",
     "text": [
      "Probando: {'learning_rate': 0.001, 'max_depth': 2, 'n_estimators': 50}, 0 de 240\n",
      "Tiempo de entrenamiento: 0.13655972480773926 s, score: 0.06741060278886546\n",
      "Probando: {'learning_rate': 0.001, 'max_depth': 2, 'n_estimators': 100}, 1 de 240\n",
      "Tiempo de entrenamiento: 0.27324914932250977 s, score: 0.12925322286369112\n",
      "Probando: {'learning_rate': 0.001, 'max_depth': 2, 'n_estimators': 200}, 2 de 240\n",
      "Tiempo de entrenamiento: 0.49808692932128906 s, score: 0.2392390405874566\n",
      "Probando: {'learning_rate': 0.001, 'max_depth': 2, 'n_estimators': 500}, 3 de 240\n",
      "Tiempo de entrenamiento: 1.3498930931091309 s, score: 0.48078525652957904\n",
      "Probando: {'learning_rate': 0.001, 'max_depth': 2, 'n_estimators': 1000}, 4 de 240\n",
      "Tiempo de entrenamiento: 2.253242254257202 s, score: 0.712036008204352\n",
      "Probando: {'learning_rate': 0.001, 'max_depth': 3, 'n_estimators': 50}, 5 de 240\n",
      "Tiempo de entrenamiento: 0.13670659065246582 s, score: 0.07754872022463011\n",
      "Probando: {'learning_rate': 0.001, 'max_depth': 3, 'n_estimators': 100}, 6 de 240\n",
      "Tiempo de entrenamiento: 0.3050568103790283 s, score: 0.14873117635072497\n",
      "Probando: {'learning_rate': 0.001, 'max_depth': 3, 'n_estimators': 200}, 7 de 240\n",
      "Tiempo de entrenamiento: 0.6025605201721191 s, score: 0.2725265584012211\n",
      "Probando: {'learning_rate': 0.001, 'max_depth': 3, 'n_estimators': 500}, 8 de 240\n",
      "Tiempo de entrenamiento: 1.9632582664489746 s, score: 0.5316232537555525\n",
      "Probando: {'learning_rate': 0.001, 'max_depth': 3, 'n_estimators': 1000}, 9 de 240\n",
      "Tiempo de entrenamiento: 3.0352377891540527 s, score: 0.750376137873012\n",
      "Probando: {'learning_rate': 0.001, 'max_depth': 5, 'n_estimators': 50}, 10 de 240\n",
      "Tiempo de entrenamiento: 0.19017887115478516 s, score: 0.08973408476596667\n",
      "Probando: {'learning_rate': 0.001, 'max_depth': 5, 'n_estimators': 100}, 11 de 240\n",
      "Tiempo de entrenamiento: 0.4133126735687256 s, score: 0.1716098682371172\n",
      "Probando: {'learning_rate': 0.001, 'max_depth': 5, 'n_estimators': 200}, 12 de 240\n",
      "Tiempo de entrenamiento: 0.9076156616210938 s, score: 0.3107672937226832\n",
      "Probando: {'learning_rate': 0.001, 'max_depth': 5, 'n_estimators': 500}, 13 de 240\n",
      "Tiempo de entrenamiento: 2.1125338077545166 s, score: 0.5935411692659989\n",
      "Probando: {'learning_rate': 0.001, 'max_depth': 5, 'n_estimators': 1000}, 14 de 240\n",
      "Tiempo de entrenamiento: 4.459661483764648 s, score: 0.8192797563944719\n",
      "Probando: {'learning_rate': 0.001, 'max_depth': 10, 'n_estimators': 50}, 15 de 240\n",
      "Tiempo de entrenamiento: 0.36065077781677246 s, score: 0.08983921411164997\n",
      "Probando: {'learning_rate': 0.001, 'max_depth': 10, 'n_estimators': 100}, 16 de 240\n",
      "Tiempo de entrenamiento: 0.7666552066802979 s, score: 0.1714607069153251\n",
      "Probando: {'learning_rate': 0.001, 'max_depth': 10, 'n_estimators': 200}, 17 de 240\n",
      "Tiempo de entrenamiento: 1.4058396816253662 s, score: 0.3125831541915116\n",
      "Probando: {'learning_rate': 0.001, 'max_depth': 10, 'n_estimators': 500}, 18 de 240\n",
      "Tiempo de entrenamiento: 3.980278968811035 s, score: 0.6000536815731241\n",
      "Probando: {'learning_rate': 0.001, 'max_depth': 10, 'n_estimators': 1000}, 19 de 240\n",
      "Tiempo de entrenamiento: 7.926025629043579 s, score: 0.8204584635136264\n",
      "Probando: {'learning_rate': 0.001, 'max_depth': 20, 'n_estimators': 50}, 20 de 240\n",
      "Tiempo de entrenamiento: 0.4611222743988037 s, score: 0.08979380049494845\n",
      "Probando: {'learning_rate': 0.001, 'max_depth': 20, 'n_estimators': 100}, 21 de 240\n",
      "Tiempo de entrenamiento: 1.0548648834228516 s, score: 0.17141869906760032\n",
      "Probando: {'learning_rate': 0.001, 'max_depth': 20, 'n_estimators': 200}, 22 de 240\n",
      "Tiempo de entrenamiento: 1.8089265823364258 s, score: 0.31175220568583795\n",
      "Probando: {'learning_rate': 0.001, 'max_depth': 20, 'n_estimators': 500}, 23 de 240\n",
      "Tiempo de entrenamiento: 4.637967586517334 s, score: 0.597307779971969\n",
      "Probando: {'learning_rate': 0.001, 'max_depth': 20, 'n_estimators': 1000}, 24 de 240\n",
      "Tiempo de entrenamiento: 10.658106327056885 s, score: 0.8161927181000513\n",
      "Probando: {'learning_rate': 0.001, 'max_depth': 30, 'n_estimators': 50}, 25 de 240\n",
      "Tiempo de entrenamiento: 0.7093009948730469 s, score: 0.08981346932295621\n",
      "Probando: {'learning_rate': 0.001, 'max_depth': 30, 'n_estimators': 100}, 26 de 240\n",
      "Tiempo de entrenamiento: 1.1681697368621826 s, score: 0.1713899280187845\n",
      "Probando: {'learning_rate': 0.001, 'max_depth': 30, 'n_estimators': 200}, 27 de 240\n",
      "Tiempo de entrenamiento: 2.329332113265991 s, score: 0.3116804857514174\n",
      "Probando: {'learning_rate': 0.001, 'max_depth': 30, 'n_estimators': 500}, 28 de 240\n",
      "Tiempo de entrenamiento: 6.070177793502808 s, score: 0.5974216984382752\n",
      "Probando: {'learning_rate': 0.001, 'max_depth': 30, 'n_estimators': 1000}, 29 de 240\n",
      "Tiempo de entrenamiento: 9.963780164718628 s, score: 0.816113739604566\n",
      "Probando: {'learning_rate': 0.001, 'max_depth': 50, 'n_estimators': 50}, 30 de 240\n",
      "Tiempo de entrenamiento: 0.5104930400848389 s, score: 0.08980098466616648\n",
      "Probando: {'learning_rate': 0.001, 'max_depth': 50, 'n_estimators': 100}, 31 de 240\n",
      "Tiempo de entrenamiento: 1.1644160747528076 s, score: 0.17128932269568053\n",
      "Probando: {'learning_rate': 0.001, 'max_depth': 50, 'n_estimators': 200}, 32 de 240\n",
      "Tiempo de entrenamiento: 1.8871140480041504 s, score: 0.3117456553360908\n",
      "Probando: {'learning_rate': 0.001, 'max_depth': 50, 'n_estimators': 500}, 33 de 240\n",
      "Tiempo de entrenamiento: 4.938429594039917 s, score: 0.5974686843352166\n",
      "Probando: {'learning_rate': 0.001, 'max_depth': 50, 'n_estimators': 1000}, 34 de 240\n",
      "Tiempo de entrenamiento: 9.923707246780396 s, score: 0.8161143335173228\n",
      "Probando: {'learning_rate': 0.001, 'max_depth': 100, 'n_estimators': 50}, 35 de 240\n",
      "Tiempo de entrenamiento: 0.5040812492370605 s, score: 0.08984181902478916\n",
      "Probando: {'learning_rate': 0.001, 'max_depth': 100, 'n_estimators': 100}, 36 de 240\n",
      "Tiempo de entrenamiento: 0.9399623870849609 s, score: 0.17129628151711662\n",
      "Probando: {'learning_rate': 0.001, 'max_depth': 100, 'n_estimators': 200}, 37 de 240\n",
      "Tiempo de entrenamiento: 2.3252944946289062 s, score: 0.311812647315009\n",
      "Probando: {'learning_rate': 0.001, 'max_depth': 100, 'n_estimators': 500}, 38 de 240\n",
      "Tiempo de entrenamiento: 5.4314656257629395 s, score: 0.5973179489007863\n",
      "Probando: {'learning_rate': 0.001, 'max_depth': 100, 'n_estimators': 1000}, 39 de 240\n",
      "Tiempo de entrenamiento: 9.391324758529663 s, score: 0.816207614148652\n",
      "Probando: {'learning_rate': 0.005, 'max_depth': 2, 'n_estimators': 50}, 40 de 240\n",
      "Tiempo de entrenamiento: 0.08113241195678711 s, score: 0.28835157835523617\n",
      "Probando: {'learning_rate': 0.005, 'max_depth': 2, 'n_estimators': 100}, 41 de 240\n",
      "Tiempo de entrenamiento: 0.17353081703186035 s, score: 0.48126714758822975\n",
      "Probando: {'learning_rate': 0.005, 'max_depth': 2, 'n_estimators': 200}, 42 de 240\n",
      "Tiempo de entrenamiento: 0.39519381523132324 s, score: 0.7126983009590746\n",
      "Probando: {'learning_rate': 0.005, 'max_depth': 2, 'n_estimators': 500}, 43 de 240\n",
      "Tiempo de entrenamiento: 1.0440921783447266 s, score: 0.8867049458955903\n",
      "Probando: {'learning_rate': 0.005, 'max_depth': 2, 'n_estimators': 1000}, 44 de 240\n",
      "Tiempo de entrenamiento: 2.2575178146362305 s, score: 0.9432183490968125\n",
      "Probando: {'learning_rate': 0.005, 'max_depth': 3, 'n_estimators': 50}, 45 de 240\n",
      "Tiempo de entrenamiento: 0.13310813903808594 s, score: 0.3267086039667344\n",
      "Probando: {'learning_rate': 0.005, 'max_depth': 3, 'n_estimators': 100}, 46 de 240\n",
      "Tiempo de entrenamiento: 0.2845907211303711 s, score: 0.5322382700890679\n",
      "Probando: {'learning_rate': 0.005, 'max_depth': 3, 'n_estimators': 200}, 47 de 240\n",
      "Tiempo de entrenamiento: 0.6149566173553467 s, score: 0.7514402283150684\n",
      "Probando: {'learning_rate': 0.005, 'max_depth': 3, 'n_estimators': 500}, 48 de 240\n",
      "Tiempo de entrenamiento: 1.4225640296936035 s, score: 0.9514006335031938\n",
      "Probando: {'learning_rate': 0.005, 'max_depth': 3, 'n_estimators': 1000}, 49 de 240\n",
      "Tiempo de entrenamiento: 2.963252067565918 s, score: 0.9660682843739637\n",
      "Probando: {'learning_rate': 0.005, 'max_depth': 5, 'n_estimators': 50}, 50 de 240\n",
      "Tiempo de entrenamiento: 0.21764540672302246 s, score: 0.3710215440678858\n",
      "Probando: {'learning_rate': 0.005, 'max_depth': 5, 'n_estimators': 100}, 51 de 240\n",
      "Tiempo de entrenamiento: 0.47632598876953125 s, score: 0.5937588648364794\n",
      "Probando: {'learning_rate': 0.005, 'max_depth': 5, 'n_estimators': 200}, 52 de 240\n"
     ]
    },
    {
     "name": "stdout",
     "output_type": "stream",
     "text": [
      "Tiempo de entrenamiento: 0.8303122520446777 s, score: 0.8196967091864704\n",
      "Probando: {'learning_rate': 0.005, 'max_depth': 5, 'n_estimators': 500}, 53 de 240\n",
      "Tiempo de entrenamiento: 2.2335734367370605 s, score: 0.9562290034311509\n",
      "Probando: {'learning_rate': 0.005, 'max_depth': 5, 'n_estimators': 1000}, 54 de 240\n",
      "Tiempo de entrenamiento: 4.9141151905059814 s, score: 0.9746906198589996\n",
      "Probando: {'learning_rate': 0.005, 'max_depth': 10, 'n_estimators': 50}, 55 de 240\n",
      "Tiempo de entrenamiento: 0.39653515815734863 s, score: 0.3739839338189428\n",
      "Probando: {'learning_rate': 0.005, 'max_depth': 10, 'n_estimators': 100}, 56 de 240\n",
      "Tiempo de entrenamiento: 0.9007775783538818 s, score: 0.6001205213306171\n",
      "Probando: {'learning_rate': 0.005, 'max_depth': 10, 'n_estimators': 200}, 57 de 240\n",
      "Tiempo de entrenamiento: 1.8798177242279053 s, score: 0.8203423426048927\n",
      "Probando: {'learning_rate': 0.005, 'max_depth': 10, 'n_estimators': 500}, 58 de 240\n",
      "Tiempo de entrenamiento: 3.9993300437927246 s, score: 0.9462929323553348\n",
      "Probando: {'learning_rate': 0.005, 'max_depth': 10, 'n_estimators': 1000}, 59 de 240\n",
      "Tiempo de entrenamiento: 8.070903301239014 s, score: 0.9576270790210344\n",
      "Probando: {'learning_rate': 0.005, 'max_depth': 20, 'n_estimators': 50}, 60 de 240\n",
      "Tiempo de entrenamiento: 0.6863489151000977 s, score: 0.3724684690830853\n",
      "Probando: {'learning_rate': 0.005, 'max_depth': 20, 'n_estimators': 100}, 61 de 240\n",
      "Tiempo de entrenamiento: 1.0172300338745117 s, score: 0.597998186029905\n",
      "Probando: {'learning_rate': 0.005, 'max_depth': 20, 'n_estimators': 200}, 62 de 240\n",
      "Tiempo de entrenamiento: 1.8183186054229736 s, score: 0.8166183099040466\n",
      "Probando: {'learning_rate': 0.005, 'max_depth': 20, 'n_estimators': 500}, 63 de 240\n",
      "Tiempo de entrenamiento: 4.766668081283569 s, score: 0.934939680200309\n",
      "Probando: {'learning_rate': 0.005, 'max_depth': 20, 'n_estimators': 1000}, 64 de 240\n",
      "Tiempo de entrenamiento: 8.516910314559937 s, score: 0.9421169177960088\n",
      "Probando: {'learning_rate': 0.005, 'max_depth': 30, 'n_estimators': 50}, 65 de 240\n",
      "Tiempo de entrenamiento: 0.5116326808929443 s, score: 0.3725226067467936\n",
      "Probando: {'learning_rate': 0.005, 'max_depth': 30, 'n_estimators': 100}, 66 de 240\n",
      "Tiempo de entrenamiento: 1.0146381855010986 s, score: 0.5977990693659779\n",
      "Probando: {'learning_rate': 0.005, 'max_depth': 30, 'n_estimators': 200}, 67 de 240\n",
      "Tiempo de entrenamiento: 2.1846210956573486 s, score: 0.8165795112645235\n",
      "Probando: {'learning_rate': 0.005, 'max_depth': 30, 'n_estimators': 500}, 68 de 240\n",
      "Tiempo de entrenamiento: 5.317810297012329 s, score: 0.9352250830241656\n",
      "Probando: {'learning_rate': 0.005, 'max_depth': 30, 'n_estimators': 1000}, 69 de 240\n",
      "Tiempo de entrenamiento: 10.539857387542725 s, score: 0.9426405222303915\n",
      "Probando: {'learning_rate': 0.005, 'max_depth': 50, 'n_estimators': 50}, 70 de 240\n",
      "Tiempo de entrenamiento: 0.769320011138916 s, score: 0.37241937596595065\n",
      "Probando: {'learning_rate': 0.005, 'max_depth': 50, 'n_estimators': 100}, 71 de 240\n",
      "Tiempo de entrenamiento: 1.1262271404266357 s, score: 0.5981226442412577\n",
      "Probando: {'learning_rate': 0.005, 'max_depth': 50, 'n_estimators': 200}, 72 de 240\n",
      "Tiempo de entrenamiento: 2.6822640895843506 s, score: 0.8163994523323862\n",
      "Probando: {'learning_rate': 0.005, 'max_depth': 50, 'n_estimators': 500}, 73 de 240\n",
      "Tiempo de entrenamiento: 5.545588970184326 s, score: 0.9357146135617582\n",
      "Probando: {'learning_rate': 0.005, 'max_depth': 50, 'n_estimators': 1000}, 74 de 240\n",
      "Tiempo de entrenamiento: 10.439385890960693 s, score: 0.942341305748349\n",
      "Probando: {'learning_rate': 0.005, 'max_depth': 100, 'n_estimators': 50}, 75 de 240\n",
      "Tiempo de entrenamiento: 0.5787656307220459 s, score: 0.37228462103629983\n",
      "Probando: {'learning_rate': 0.005, 'max_depth': 100, 'n_estimators': 100}, 76 de 240\n",
      "Tiempo de entrenamiento: 1.1250488758087158 s, score: 0.5980694968169001\n",
      "Probando: {'learning_rate': 0.005, 'max_depth': 100, 'n_estimators': 200}, 77 de 240\n",
      "Tiempo de entrenamiento: 2.0424203872680664 s, score: 0.8164543870803085\n",
      "Probando: {'learning_rate': 0.005, 'max_depth': 100, 'n_estimators': 500}, 78 de 240\n",
      "Tiempo de entrenamiento: 4.945432424545288 s, score: 0.9350741226569568\n",
      "Probando: {'learning_rate': 0.005, 'max_depth': 100, 'n_estimators': 1000}, 79 de 240\n",
      "Tiempo de entrenamiento: 9.136930465698242 s, score: 0.9421194364921794\n",
      "Probando: {'learning_rate': 0.01, 'max_depth': 2, 'n_estimators': 50}, 80 de 240\n",
      "Tiempo de entrenamiento: 0.1097877025604248 s, score: 0.4810843314005705\n",
      "Probando: {'learning_rate': 0.01, 'max_depth': 2, 'n_estimators': 100}, 81 de 240\n",
      "Tiempo de entrenamiento: 0.18651819229125977 s, score: 0.7133954274798889\n",
      "Probando: {'learning_rate': 0.01, 'max_depth': 2, 'n_estimators': 200}, 82 de 240\n",
      "Tiempo de entrenamiento: 0.541344165802002 s, score: 0.8564632803674141\n",
      "Probando: {'learning_rate': 0.01, 'max_depth': 2, 'n_estimators': 500}, 83 de 240\n",
      "Tiempo de entrenamiento: 1.0804271697998047 s, score: 0.9428279835181855\n",
      "Probando: {'learning_rate': 0.01, 'max_depth': 2, 'n_estimators': 1000}, 84 de 240\n",
      "Tiempo de entrenamiento: 2.3106558322906494 s, score: 0.9568091193765738\n",
      "Probando: {'learning_rate': 0.01, 'max_depth': 3, 'n_estimators': 50}, 85 de 240\n",
      "Tiempo de entrenamiento: 0.18282127380371094 s, score: 0.5329745386672524\n",
      "Probando: {'learning_rate': 0.01, 'max_depth': 3, 'n_estimators': 100}, 86 de 240\n",
      "Tiempo de entrenamiento: 0.42356395721435547 s, score: 0.7525259618784416\n",
      "Probando: {'learning_rate': 0.01, 'max_depth': 3, 'n_estimators': 200}, 87 de 240\n",
      "Tiempo de entrenamiento: 0.8926513195037842 s, score: 0.926058686934611\n",
      "Probando: {'learning_rate': 0.01, 'max_depth': 3, 'n_estimators': 500}, 88 de 240\n",
      "Tiempo de entrenamiento: 1.894676685333252 s, score: 0.967632429787195\n",
      "Probando: {'learning_rate': 0.01, 'max_depth': 3, 'n_estimators': 1000}, 89 de 240\n",
      "Tiempo de entrenamiento: 3.116684675216675 s, score: 0.9680333615181457\n",
      "Probando: {'learning_rate': 0.01, 'max_depth': 5, 'n_estimators': 50}, 90 de 240\n",
      "Tiempo de entrenamiento: 0.20660877227783203 s, score: 0.5948374138069636\n",
      "Probando: {'learning_rate': 0.01, 'max_depth': 5, 'n_estimators': 100}, 91 de 240\n",
      "Tiempo de entrenamiento: 0.4488797187805176 s, score: 0.8201931794452573\n",
      "Probando: {'learning_rate': 0.01, 'max_depth': 5, 'n_estimators': 200}, 92 de 240\n",
      "Tiempo de entrenamiento: 1.145075798034668 s, score: 0.937507931687282\n",
      "Probando: {'learning_rate': 0.01, 'max_depth': 5, 'n_estimators': 500}, 93 de 240\n",
      "Tiempo de entrenamiento: 2.1426892280578613 s, score: 0.9747966475776292\n",
      "Probando: {'learning_rate': 0.01, 'max_depth': 5, 'n_estimators': 1000}, 94 de 240\n",
      "Tiempo de entrenamiento: 4.986548900604248 s, score: 0.9757299542472202\n",
      "Probando: {'learning_rate': 0.01, 'max_depth': 10, 'n_estimators': 50}, 95 de 240\n",
      "Tiempo de entrenamiento: 0.3823099136352539 s, score: 0.6011619406675469\n",
      "Probando: {'learning_rate': 0.01, 'max_depth': 10, 'n_estimators': 100}, 96 de 240\n",
      "Tiempo de entrenamiento: 0.9830493927001953 s, score: 0.8212281772679729\n",
      "Probando: {'learning_rate': 0.01, 'max_depth': 10, 'n_estimators': 200}, 97 de 240\n",
      "Tiempo de entrenamiento: 1.7818043231964111 s, score: 0.9316612141122042\n",
      "Probando: {'learning_rate': 0.01, 'max_depth': 10, 'n_estimators': 500}, 98 de 240\n",
      "Tiempo de entrenamiento: 4.429023742675781 s, score: 0.9572418112163452\n",
      "Probando: {'learning_rate': 0.01, 'max_depth': 10, 'n_estimators': 1000}, 99 de 240\n",
      "Tiempo de entrenamiento: 9.062415361404419 s, score: 0.95785493661409\n",
      "Probando: {'learning_rate': 0.01, 'max_depth': 20, 'n_estimators': 50}, 100 de 240\n",
      "Tiempo de entrenamiento: 0.6150674819946289 s, score: 0.5989018238746195\n",
      "Probando: {'learning_rate': 0.01, 'max_depth': 20, 'n_estimators': 100}, 101 de 240\n",
      "Tiempo de entrenamiento: 1.1132254600524902 s, score: 0.8171473739276566\n",
      "Probando: {'learning_rate': 0.01, 'max_depth': 20, 'n_estimators': 200}, 102 de 240\n",
      "Tiempo de entrenamiento: 2.0609235763549805 s, score: 0.9256344377952058\n",
      "Probando: {'learning_rate': 0.01, 'max_depth': 20, 'n_estimators': 500}, 103 de 240\n",
      "Tiempo de entrenamiento: 5.00281834602356 s, score: 0.942398140353983\n",
      "Probando: {'learning_rate': 0.01, 'max_depth': 20, 'n_estimators': 1000}, 104 de 240\n",
      "Tiempo de entrenamiento: 6.460199594497681 s, score: 0.9420212458623705\n",
      "Probando: {'learning_rate': 0.01, 'max_depth': 30, 'n_estimators': 50}, 105 de 240\n"
     ]
    },
    {
     "name": "stdout",
     "output_type": "stream",
     "text": [
      "Tiempo de entrenamiento: 0.5774049758911133 s, score: 0.5989117877245125\n",
      "Probando: {'learning_rate': 0.01, 'max_depth': 30, 'n_estimators': 100}, 106 de 240\n",
      "Tiempo de entrenamiento: 1.1030406951904297 s, score: 0.8177040497342075\n",
      "Probando: {'learning_rate': 0.01, 'max_depth': 30, 'n_estimators': 200}, 107 de 240\n",
      "Tiempo de entrenamiento: 2.1234657764434814 s, score: 0.9251158245768709\n",
      "Probando: {'learning_rate': 0.01, 'max_depth': 30, 'n_estimators': 500}, 108 de 240\n",
      "Tiempo de entrenamiento: 4.455948829650879 s, score: 0.9426974605656671\n",
      "Probando: {'learning_rate': 0.01, 'max_depth': 30, 'n_estimators': 1000}, 109 de 240\n",
      "Tiempo de entrenamiento: 5.96006178855896 s, score: 0.9428767649803617\n",
      "Probando: {'learning_rate': 0.01, 'max_depth': 50, 'n_estimators': 50}, 110 de 240\n",
      "Tiempo de entrenamiento: 0.6120889186859131 s, score: 0.5990059631399197\n",
      "Probando: {'learning_rate': 0.01, 'max_depth': 50, 'n_estimators': 100}, 111 de 240\n",
      "Tiempo de entrenamiento: 0.9070203304290771 s, score: 0.8172753961610535\n",
      "Probando: {'learning_rate': 0.01, 'max_depth': 50, 'n_estimators': 200}, 112 de 240\n",
      "Tiempo de entrenamiento: 1.9071238040924072 s, score: 0.9249192481000599\n",
      "Probando: {'learning_rate': 0.01, 'max_depth': 50, 'n_estimators': 500}, 113 de 240\n",
      "Tiempo de entrenamiento: 4.7376039028167725 s, score: 0.9424533930904723\n",
      "Probando: {'learning_rate': 0.01, 'max_depth': 50, 'n_estimators': 1000}, 114 de 240\n",
      "Tiempo de entrenamiento: 5.694325685501099 s, score: 0.942855237342779\n",
      "Probando: {'learning_rate': 0.01, 'max_depth': 100, 'n_estimators': 50}, 115 de 240\n",
      "Tiempo de entrenamiento: 0.5650162696838379 s, score: 0.5984760196534578\n",
      "Probando: {'learning_rate': 0.01, 'max_depth': 100, 'n_estimators': 100}, 116 de 240\n",
      "Tiempo de entrenamiento: 1.0949931144714355 s, score: 0.817314876166439\n",
      "Probando: {'learning_rate': 0.01, 'max_depth': 100, 'n_estimators': 200}, 117 de 240\n",
      "Tiempo de entrenamiento: 2.0454156398773193 s, score: 0.9248152601962036\n",
      "Probando: {'learning_rate': 0.01, 'max_depth': 100, 'n_estimators': 500}, 118 de 240\n",
      "Tiempo de entrenamiento: 4.883951902389526 s, score: 0.9425303892618566\n",
      "Probando: {'learning_rate': 0.01, 'max_depth': 100, 'n_estimators': 1000}, 119 de 240\n",
      "Tiempo de entrenamiento: 6.237640857696533 s, score: 0.9419278650762828\n",
      "Probando: {'learning_rate': 0.05, 'max_depth': 2, 'n_estimators': 50}, 120 de 240\n",
      "Tiempo de entrenamiento: 0.09743618965148926 s, score: 0.8895364000842796\n",
      "Probando: {'learning_rate': 0.05, 'max_depth': 2, 'n_estimators': 100}, 121 de 240\n",
      "Tiempo de entrenamiento: 0.24221420288085938 s, score: 0.94595332190965\n",
      "Probando: {'learning_rate': 0.05, 'max_depth': 2, 'n_estimators': 200}, 122 de 240\n",
      "Tiempo de entrenamiento: 0.5359475612640381 s, score: 0.9593549330518882\n",
      "Probando: {'learning_rate': 0.05, 'max_depth': 2, 'n_estimators': 500}, 123 de 240\n",
      "Tiempo de entrenamiento: 0.9942581653594971 s, score: 0.9554990780121544\n",
      "Probando: {'learning_rate': 0.05, 'max_depth': 2, 'n_estimators': 1000}, 124 de 240\n",
      "Tiempo de entrenamiento: 2.664078950881958 s, score: 0.9487788472141914\n",
      "Probando: {'learning_rate': 0.05, 'max_depth': 3, 'n_estimators': 50}, 125 de 240\n",
      "Tiempo de entrenamiento: 0.11749911308288574 s, score: 0.9524640084659541\n",
      "Probando: {'learning_rate': 0.05, 'max_depth': 3, 'n_estimators': 100}, 126 de 240\n",
      "Tiempo de entrenamiento: 0.29363417625427246 s, score: 0.9674187918944345\n",
      "Probando: {'learning_rate': 0.05, 'max_depth': 3, 'n_estimators': 200}, 127 de 240\n",
      "Tiempo de entrenamiento: 0.5902488231658936 s, score: 0.9677418058213997\n",
      "Probando: {'learning_rate': 0.05, 'max_depth': 3, 'n_estimators': 500}, 128 de 240\n",
      "Tiempo de entrenamiento: 1.723118543624878 s, score: 0.9676386121596812\n",
      "Probando: {'learning_rate': 0.05, 'max_depth': 3, 'n_estimators': 1000}, 129 de 240\n",
      "Tiempo de entrenamiento: 3.502417802810669 s, score: 0.9681275094596445\n",
      "Probando: {'learning_rate': 0.05, 'max_depth': 5, 'n_estimators': 50}, 130 de 240\n",
      "Tiempo de entrenamiento: 0.18399548530578613 s, score: 0.9542994672089036\n",
      "Probando: {'learning_rate': 0.05, 'max_depth': 5, 'n_estimators': 100}, 131 de 240\n",
      "Tiempo de entrenamiento: 0.5835480690002441 s, score: 0.9711239512200056\n",
      "Probando: {'learning_rate': 0.05, 'max_depth': 5, 'n_estimators': 200}, 132 de 240\n",
      "Tiempo de entrenamiento: 0.9526543617248535 s, score: 0.9725922732889813\n",
      "Probando: {'learning_rate': 0.05, 'max_depth': 5, 'n_estimators': 500}, 133 de 240\n",
      "Tiempo de entrenamiento: 2.60201358795166 s, score: 0.973911976812936\n",
      "Probando: {'learning_rate': 0.05, 'max_depth': 5, 'n_estimators': 1000}, 134 de 240\n",
      "Tiempo de entrenamiento: 5.483002185821533 s, score: 0.9747634521552159\n",
      "Probando: {'learning_rate': 0.05, 'max_depth': 10, 'n_estimators': 50}, 135 de 240\n",
      "Tiempo de entrenamiento: 0.4382638931274414 s, score: 0.9462100869720259\n",
      "Probando: {'learning_rate': 0.05, 'max_depth': 10, 'n_estimators': 100}, 136 de 240\n",
      "Tiempo de entrenamiento: 0.7558839321136475 s, score: 0.9548505800418352\n",
      "Probando: {'learning_rate': 0.05, 'max_depth': 10, 'n_estimators': 200}, 137 de 240\n",
      "Tiempo de entrenamiento: 1.754460096359253 s, score: 0.9575312598279956\n",
      "Probando: {'learning_rate': 0.05, 'max_depth': 10, 'n_estimators': 500}, 138 de 240\n",
      "Tiempo de entrenamiento: 2.052464723587036 s, score: 0.9569559647235563\n",
      "Probando: {'learning_rate': 0.05, 'max_depth': 10, 'n_estimators': 1000}, 139 de 240\n",
      "Tiempo de entrenamiento: 2.0107171535491943 s, score: 0.9587843921622845\n",
      "Probando: {'learning_rate': 0.05, 'max_depth': 20, 'n_estimators': 50}, 140 de 240\n",
      "Tiempo de entrenamiento: 0.7523560523986816 s, score: 0.9352841508302733\n",
      "Probando: {'learning_rate': 0.05, 'max_depth': 20, 'n_estimators': 100}, 141 de 240\n",
      "Tiempo de entrenamiento: 0.9238831996917725 s, score: 0.9416279561999518\n",
      "Probando: {'learning_rate': 0.05, 'max_depth': 20, 'n_estimators': 200}, 142 de 240\n",
      "Tiempo de entrenamiento: 1.1995503902435303 s, score: 0.9425640975501492\n",
      "Probando: {'learning_rate': 0.05, 'max_depth': 20, 'n_estimators': 500}, 143 de 240\n",
      "Tiempo de entrenamiento: 1.1825923919677734 s, score: 0.9431702356648002\n",
      "Probando: {'learning_rate': 0.05, 'max_depth': 20, 'n_estimators': 1000}, 144 de 240\n",
      "Tiempo de entrenamiento: 1.5717864036560059 s, score: 0.9420876777945898\n",
      "Probando: {'learning_rate': 0.05, 'max_depth': 30, 'n_estimators': 50}, 145 de 240\n",
      "Tiempo de entrenamiento: 0.694293737411499 s, score: 0.9365127092596067\n",
      "Probando: {'learning_rate': 0.05, 'max_depth': 30, 'n_estimators': 100}, 146 de 240\n",
      "Tiempo de entrenamiento: 1.0942409038543701 s, score: 0.9432651587302963\n",
      "Probando: {'learning_rate': 0.05, 'max_depth': 30, 'n_estimators': 200}, 147 de 240\n",
      "Tiempo de entrenamiento: 1.003357172012329 s, score: 0.9439316482585973\n",
      "Probando: {'learning_rate': 0.05, 'max_depth': 30, 'n_estimators': 500}, 148 de 240\n",
      "Tiempo de entrenamiento: 1.2960972785949707 s, score: 0.9414509078486895\n",
      "Probando: {'learning_rate': 0.05, 'max_depth': 30, 'n_estimators': 1000}, 149 de 240\n",
      "Tiempo de entrenamiento: 1.3008394241333008 s, score: 0.9428375957379134\n",
      "Probando: {'learning_rate': 0.05, 'max_depth': 50, 'n_estimators': 50}, 150 de 240\n",
      "Tiempo de entrenamiento: 0.45729565620422363 s, score: 0.9358032323448093\n",
      "Probando: {'learning_rate': 0.05, 'max_depth': 50, 'n_estimators': 100}, 151 de 240\n",
      "Tiempo de entrenamiento: 1.0297291278839111 s, score: 0.9431786768214703\n",
      "Probando: {'learning_rate': 0.05, 'max_depth': 50, 'n_estimators': 200}, 152 de 240\n",
      "Tiempo de entrenamiento: 1.101778268814087 s, score: 0.9439200036485295\n",
      "Probando: {'learning_rate': 0.05, 'max_depth': 50, 'n_estimators': 500}, 153 de 240\n",
      "Tiempo de entrenamiento: 1.327648401260376 s, score: 0.942897117360118\n",
      "Probando: {'learning_rate': 0.05, 'max_depth': 50, 'n_estimators': 1000}, 154 de 240\n",
      "Tiempo de entrenamiento: 1.6870715618133545 s, score: 0.9417497035921989\n",
      "Probando: {'learning_rate': 0.05, 'max_depth': 100, 'n_estimators': 50}, 155 de 240\n",
      "Tiempo de entrenamiento: 0.581357479095459 s, score: 0.9361355004023999\n",
      "Probando: {'learning_rate': 0.05, 'max_depth': 100, 'n_estimators': 100}, 156 de 240\n",
      "Tiempo de entrenamiento: 0.8995146751403809 s, score: 0.9417306611381314\n",
      "Probando: {'learning_rate': 0.05, 'max_depth': 100, 'n_estimators': 200}, 157 de 240\n",
      "Tiempo de entrenamiento: 1.240915298461914 s, score: 0.9424978715964049\n",
      "Probando: {'learning_rate': 0.05, 'max_depth': 100, 'n_estimators': 500}, 158 de 240\n"
     ]
    },
    {
     "name": "stdout",
     "output_type": "stream",
     "text": [
      "Tiempo de entrenamiento: 1.0693087577819824 s, score: 0.9421115605184908\n",
      "Probando: {'learning_rate': 0.05, 'max_depth': 100, 'n_estimators': 1000}, 159 de 240\n",
      "Tiempo de entrenamiento: 1.2129006385803223 s, score: 0.9419572055177874\n",
      "Probando: {'learning_rate': 0.1, 'max_depth': 2, 'n_estimators': 50}, 160 de 240\n",
      "Tiempo de entrenamiento: 0.1344296932220459 s, score: 0.9423615154090866\n",
      "Probando: {'learning_rate': 0.1, 'max_depth': 2, 'n_estimators': 100}, 161 de 240\n",
      "Tiempo de entrenamiento: 0.1705944538116455 s, score: 0.9547678302876293\n",
      "Probando: {'learning_rate': 0.1, 'max_depth': 2, 'n_estimators': 200}, 162 de 240\n",
      "Tiempo de entrenamiento: 0.35198116302490234 s, score: 0.9599974426208998\n",
      "Probando: {'learning_rate': 0.1, 'max_depth': 2, 'n_estimators': 500}, 163 de 240\n",
      "Tiempo de entrenamiento: 1.1415796279907227 s, score: 0.9562201784807627\n",
      "Probando: {'learning_rate': 0.1, 'max_depth': 2, 'n_estimators': 1000}, 164 de 240\n",
      "Tiempo de entrenamiento: 2.215122938156128 s, score: 0.9618458303318724\n",
      "Probando: {'learning_rate': 0.1, 'max_depth': 3, 'n_estimators': 50}, 165 de 240\n",
      "Tiempo de entrenamiento: 0.22640562057495117 s, score: 0.9694513644620641\n",
      "Probando: {'learning_rate': 0.1, 'max_depth': 3, 'n_estimators': 100}, 166 de 240\n",
      "Tiempo de entrenamiento: 0.2714979648590088 s, score: 0.9676074203439086\n",
      "Probando: {'learning_rate': 0.1, 'max_depth': 3, 'n_estimators': 200}, 167 de 240\n",
      "Tiempo de entrenamiento: 0.5860157012939453 s, score: 0.9646115276748466\n",
      "Probando: {'learning_rate': 0.1, 'max_depth': 3, 'n_estimators': 500}, 168 de 240\n",
      "Tiempo de entrenamiento: 1.8106634616851807 s, score: 0.9659457741020379\n",
      "Probando: {'learning_rate': 0.1, 'max_depth': 3, 'n_estimators': 1000}, 169 de 240\n",
      "Tiempo de entrenamiento: 3.26621675491333 s, score: 0.9648788475078417\n",
      "Probando: {'learning_rate': 0.1, 'max_depth': 5, 'n_estimators': 50}, 170 de 240\n",
      "Tiempo de entrenamiento: 0.18550872802734375 s, score: 0.9729219282480251\n",
      "Probando: {'learning_rate': 0.1, 'max_depth': 5, 'n_estimators': 100}, 171 de 240\n",
      "Tiempo de entrenamiento: 0.4275810718536377 s, score: 0.9761703650192088\n",
      "Probando: {'learning_rate': 0.1, 'max_depth': 5, 'n_estimators': 200}, 172 de 240\n",
      "Tiempo de entrenamiento: 0.9080512523651123 s, score: 0.9773605771465675\n",
      "Probando: {'learning_rate': 0.1, 'max_depth': 5, 'n_estimators': 500}, 173 de 240\n",
      "Tiempo de entrenamiento: 2.352854013442993 s, score: 0.9783503345075388\n",
      "Probando: {'learning_rate': 0.1, 'max_depth': 5, 'n_estimators': 1000}, 174 de 240\n",
      "Tiempo de entrenamiento: 3.805753469467163 s, score: 0.9778259468847799\n",
      "Probando: {'learning_rate': 0.1, 'max_depth': 10, 'n_estimators': 50}, 175 de 240\n",
      "Tiempo de entrenamiento: 0.3997931480407715 s, score: 0.9510795473089183\n",
      "Probando: {'learning_rate': 0.1, 'max_depth': 10, 'n_estimators': 100}, 176 de 240\n",
      "Tiempo de entrenamiento: 0.7594494819641113 s, score: 0.9545709850375328\n",
      "Probando: {'learning_rate': 0.1, 'max_depth': 10, 'n_estimators': 200}, 177 de 240\n",
      "Tiempo de entrenamiento: 1.166966199874878 s, score: 0.9552662489478706\n",
      "Probando: {'learning_rate': 0.1, 'max_depth': 10, 'n_estimators': 500}, 178 de 240\n",
      "Tiempo de entrenamiento: 1.2940902709960938 s, score: 0.9532833579197948\n",
      "Probando: {'learning_rate': 0.1, 'max_depth': 10, 'n_estimators': 1000}, 179 de 240\n",
      "Tiempo de entrenamiento: 1.4874811172485352 s, score: 0.9554215600869943\n",
      "Probando: {'learning_rate': 0.1, 'max_depth': 20, 'n_estimators': 50}, 180 de 240\n",
      "Tiempo de entrenamiento: 0.5521340370178223 s, score: 0.9426376572996061\n",
      "Probando: {'learning_rate': 0.1, 'max_depth': 20, 'n_estimators': 100}, 181 de 240\n",
      "Tiempo de entrenamiento: 0.5801606178283691 s, score: 0.9413623303019416\n",
      "Probando: {'learning_rate': 0.1, 'max_depth': 20, 'n_estimators': 200}, 182 de 240\n",
      "Tiempo de entrenamiento: 0.5945606231689453 s, score: 0.9411907097099604\n",
      "Probando: {'learning_rate': 0.1, 'max_depth': 20, 'n_estimators': 500}, 183 de 240\n",
      "Tiempo de entrenamiento: 0.9237954616546631 s, score: 0.9417336836681405\n",
      "Probando: {'learning_rate': 0.1, 'max_depth': 20, 'n_estimators': 1000}, 184 de 240\n",
      "Tiempo de entrenamiento: 0.7801015377044678 s, score: 0.9390315918949684\n",
      "Probando: {'learning_rate': 0.1, 'max_depth': 30, 'n_estimators': 50}, 185 de 240\n",
      "Tiempo de entrenamiento: 0.5273730754852295 s, score: 0.9434615047006003\n",
      "Probando: {'learning_rate': 0.1, 'max_depth': 30, 'n_estimators': 100}, 186 de 240\n",
      "Tiempo de entrenamiento: 0.577418327331543 s, score: 0.9433570584120685\n",
      "Probando: {'learning_rate': 0.1, 'max_depth': 30, 'n_estimators': 200}, 187 de 240\n",
      "Tiempo de entrenamiento: 0.6915490627288818 s, score: 0.9412102281941391\n",
      "Probando: {'learning_rate': 0.1, 'max_depth': 30, 'n_estimators': 500}, 188 de 240\n",
      "Tiempo de entrenamiento: 0.8912229537963867 s, score: 0.9422437822389558\n",
      "Probando: {'learning_rate': 0.1, 'max_depth': 30, 'n_estimators': 1000}, 189 de 240\n",
      "Tiempo de entrenamiento: 0.9952964782714844 s, score: 0.9421596554342588\n",
      "Probando: {'learning_rate': 0.1, 'max_depth': 50, 'n_estimators': 50}, 190 de 240\n",
      "Tiempo de entrenamiento: 0.45629048347473145 s, score: 0.9420479162437781\n",
      "Probando: {'learning_rate': 0.1, 'max_depth': 50, 'n_estimators': 100}, 191 de 240\n",
      "Tiempo de entrenamiento: 0.6097447872161865 s, score: 0.9414749489103771\n",
      "Probando: {'learning_rate': 0.1, 'max_depth': 50, 'n_estimators': 200}, 192 de 240\n",
      "Tiempo de entrenamiento: 0.6857514381408691 s, score: 0.941610736957084\n",
      "Probando: {'learning_rate': 0.1, 'max_depth': 50, 'n_estimators': 500}, 193 de 240\n",
      "Tiempo de entrenamiento: 0.8472709655761719 s, score: 0.9438463328153124\n",
      "Probando: {'learning_rate': 0.1, 'max_depth': 50, 'n_estimators': 1000}, 194 de 240\n",
      "Tiempo de entrenamiento: 0.9108295440673828 s, score: 0.9435879344049848\n",
      "Probando: {'learning_rate': 0.1, 'max_depth': 100, 'n_estimators': 50}, 195 de 240\n",
      "Tiempo de entrenamiento: 0.48824477195739746 s, score: 0.9425952993970496\n",
      "Probando: {'learning_rate': 0.1, 'max_depth': 100, 'n_estimators': 100}, 196 de 240\n",
      "Tiempo de entrenamiento: 0.6359567642211914 s, score: 0.9446516526003104\n",
      "Probando: {'learning_rate': 0.1, 'max_depth': 100, 'n_estimators': 200}, 197 de 240\n",
      "Tiempo de entrenamiento: 0.6151795387268066 s, score: 0.9429866668521715\n",
      "Probando: {'learning_rate': 0.1, 'max_depth': 100, 'n_estimators': 500}, 198 de 240\n",
      "Tiempo de entrenamiento: 0.7316217422485352 s, score: 0.9430875981707746\n",
      "Probando: {'learning_rate': 0.1, 'max_depth': 100, 'n_estimators': 1000}, 199 de 240\n",
      "Tiempo de entrenamiento: 0.7966418266296387 s, score: 0.9422723603548233\n",
      "Probando: {'learning_rate': 0.5, 'max_depth': 2, 'n_estimators': 50}, 200 de 240\n",
      "Tiempo de entrenamiento: 0.16567206382751465 s, score: 0.941681312459683\n",
      "Probando: {'learning_rate': 0.5, 'max_depth': 2, 'n_estimators': 100}, 201 de 240\n",
      "Tiempo de entrenamiento: 0.21917724609375 s, score: 0.9382364777211403\n",
      "Probando: {'learning_rate': 0.5, 'max_depth': 2, 'n_estimators': 200}, 202 de 240\n",
      "Tiempo de entrenamiento: 0.4487791061401367 s, score: 0.9375017972131093\n",
      "Probando: {'learning_rate': 0.5, 'max_depth': 2, 'n_estimators': 500}, 203 de 240\n",
      "Tiempo de entrenamiento: 1.398866891860962 s, score: 0.9238410287975616\n",
      "Probando: {'learning_rate': 0.5, 'max_depth': 2, 'n_estimators': 1000}, 204 de 240\n",
      "Tiempo de entrenamiento: 2.141819477081299 s, score: 0.9233645704043534\n",
      "Probando: {'learning_rate': 0.5, 'max_depth': 3, 'n_estimators': 50}, 205 de 240\n",
      "Tiempo de entrenamiento: 0.21056318283081055 s, score: 0.9485410700011657\n",
      "Probando: {'learning_rate': 0.5, 'max_depth': 3, 'n_estimators': 100}, 206 de 240\n",
      "Tiempo de entrenamiento: 0.3093898296356201 s, score: 0.9598004675033286\n",
      "Probando: {'learning_rate': 0.5, 'max_depth': 3, 'n_estimators': 200}, 207 de 240\n",
      "Tiempo de entrenamiento: 0.6763486862182617 s, score: 0.950843857541674\n",
      "Probando: {'learning_rate': 0.5, 'max_depth': 3, 'n_estimators': 500}, 208 de 240\n",
      "Tiempo de entrenamiento: 1.8482379913330078 s, score: 0.9554647533771846\n",
      "Probando: {'learning_rate': 0.5, 'max_depth': 3, 'n_estimators': 1000}, 209 de 240\n",
      "Tiempo de entrenamiento: 1.7852871417999268 s, score: 0.9513981350772335\n",
      "Probando: {'learning_rate': 0.5, 'max_depth': 5, 'n_estimators': 50}, 210 de 240\n",
      "Tiempo de entrenamiento: 0.23222780227661133 s, score: 0.9803797072822908\n",
      "Probando: {'learning_rate': 0.5, 'max_depth': 5, 'n_estimators': 100}, 211 de 240\n"
     ]
    },
    {
     "name": "stdout",
     "output_type": "stream",
     "text": [
      "Tiempo de entrenamiento: 0.583045244216919 s, score: 0.9749500611386201\n",
      "Probando: {'learning_rate': 0.5, 'max_depth': 5, 'n_estimators': 200}, 212 de 240\n",
      "Tiempo de entrenamiento: 0.945582389831543 s, score: 0.9774273264199265\n",
      "Probando: {'learning_rate': 0.5, 'max_depth': 5, 'n_estimators': 500}, 213 de 240\n",
      "Tiempo de entrenamiento: 0.7990243434906006 s, score: 0.9631717599426015\n",
      "Probando: {'learning_rate': 0.5, 'max_depth': 5, 'n_estimators': 1000}, 214 de 240\n",
      "Tiempo de entrenamiento: 0.9671614170074463 s, score: 0.9684638218287127\n",
      "Probando: {'learning_rate': 0.5, 'max_depth': 10, 'n_estimators': 50}, 215 de 240\n",
      "Tiempo de entrenamiento: 0.17620277404785156 s, score: 0.9548030794419029\n",
      "Probando: {'learning_rate': 0.5, 'max_depth': 10, 'n_estimators': 100}, 216 de 240\n",
      "Tiempo de entrenamiento: 0.2505176067352295 s, score: 0.9641658856226721\n",
      "Probando: {'learning_rate': 0.5, 'max_depth': 10, 'n_estimators': 200}, 217 de 240\n",
      "Tiempo de entrenamiento: 0.1925506591796875 s, score: 0.9551661737806193\n",
      "Probando: {'learning_rate': 0.5, 'max_depth': 10, 'n_estimators': 500}, 218 de 240\n",
      "Tiempo de entrenamiento: 0.26575708389282227 s, score: 0.9629039647457213\n",
      "Probando: {'learning_rate': 0.5, 'max_depth': 10, 'n_estimators': 1000}, 219 de 240\n",
      "Tiempo de entrenamiento: 0.43500256538391113 s, score: 0.964100168714319\n",
      "Probando: {'learning_rate': 0.5, 'max_depth': 20, 'n_estimators': 50}, 220 de 240\n",
      "Tiempo de entrenamiento: 0.08829545974731445 s, score: 0.9433216798671187\n",
      "Probando: {'learning_rate': 0.5, 'max_depth': 20, 'n_estimators': 100}, 221 de 240\n",
      "Tiempo de entrenamiento: 0.1773388385772705 s, score: 0.9422586159808557\n",
      "Probando: {'learning_rate': 0.5, 'max_depth': 20, 'n_estimators': 200}, 222 de 240\n",
      "Tiempo de entrenamiento: 0.1100008487701416 s, score: 0.9433077923685038\n",
      "Probando: {'learning_rate': 0.5, 'max_depth': 20, 'n_estimators': 500}, 223 de 240\n",
      "Tiempo de entrenamiento: 0.24611234664916992 s, score: 0.9297525059816045\n",
      "Probando: {'learning_rate': 0.5, 'max_depth': 20, 'n_estimators': 1000}, 224 de 240\n",
      "Tiempo de entrenamiento: 0.409954309463501 s, score: 0.92297773277247\n",
      "Probando: {'learning_rate': 0.5, 'max_depth': 30, 'n_estimators': 50}, 225 de 240\n",
      "Tiempo de entrenamiento: 0.11867666244506836 s, score: 0.9361645361150172\n",
      "Probando: {'learning_rate': 0.5, 'max_depth': 30, 'n_estimators': 100}, 226 de 240\n",
      "Tiempo de entrenamiento: 0.07772088050842285 s, score: 0.9468915829738591\n",
      "Probando: {'learning_rate': 0.5, 'max_depth': 30, 'n_estimators': 200}, 227 de 240\n",
      "Tiempo de entrenamiento: 0.14844489097595215 s, score: 0.9392840274468213\n",
      "Probando: {'learning_rate': 0.5, 'max_depth': 30, 'n_estimators': 500}, 228 de 240\n",
      "Tiempo de entrenamiento: 0.22214245796203613 s, score: 0.9383151589227816\n",
      "Probando: {'learning_rate': 0.5, 'max_depth': 30, 'n_estimators': 1000}, 229 de 240\n",
      "Tiempo de entrenamiento: 0.4624509811401367 s, score: 0.9448053797493271\n",
      "Probando: {'learning_rate': 0.5, 'max_depth': 50, 'n_estimators': 50}, 230 de 240\n",
      "Tiempo de entrenamiento: 0.1575610637664795 s, score: 0.9406885300257494\n",
      "Probando: {'learning_rate': 0.5, 'max_depth': 50, 'n_estimators': 100}, 231 de 240\n",
      "Tiempo de entrenamiento: 0.13210201263427734 s, score: 0.9295667130177111\n",
      "Probando: {'learning_rate': 0.5, 'max_depth': 50, 'n_estimators': 200}, 232 de 240\n",
      "Tiempo de entrenamiento: 0.10936641693115234 s, score: 0.9386239645991833\n",
      "Probando: {'learning_rate': 0.5, 'max_depth': 50, 'n_estimators': 500}, 233 de 240\n",
      "Tiempo de entrenamiento: 0.19108843803405762 s, score: 0.9272712010888439\n",
      "Probando: {'learning_rate': 0.5, 'max_depth': 50, 'n_estimators': 1000}, 234 de 240\n",
      "Tiempo de entrenamiento: 0.3921647071838379 s, score: 0.9463342597494683\n",
      "Probando: {'learning_rate': 0.5, 'max_depth': 100, 'n_estimators': 50}, 235 de 240\n",
      "Tiempo de entrenamiento: 0.15880227088928223 s, score: 0.9442109115901801\n",
      "Probando: {'learning_rate': 0.5, 'max_depth': 100, 'n_estimators': 100}, 236 de 240\n",
      "Tiempo de entrenamiento: 0.11482930183410645 s, score: 0.9373508427676968\n",
      "Probando: {'learning_rate': 0.5, 'max_depth': 100, 'n_estimators': 200}, 237 de 240\n",
      "Tiempo de entrenamiento: 0.22211623191833496 s, score: 0.9456786866401693\n",
      "Probando: {'learning_rate': 0.5, 'max_depth': 100, 'n_estimators': 500}, 238 de 240\n",
      "Tiempo de entrenamiento: 0.3101472854614258 s, score: 0.9261630716663019\n",
      "Probando: {'learning_rate': 0.5, 'max_depth': 100, 'n_estimators': 1000}, 239 de 240\n",
      "Tiempo de entrenamiento: 0.3648202419281006 s, score: 0.9429841479188394\n",
      "Best Score: 0.9803797072822908\n",
      "Best Parameters: {'learning_rate': 0.5, 'max_depth': 5, 'n_estimators': 50}\n"
     ]
    }
   ],
   "source": [
    "g = GridSearch(GradientBoostingRegressor(), X_train, X_test, Y6_train, Y6_test, parameters, verbose=True)\n",
    "clf6 = GradientBoostingRegressor(**g).fit(X_train, np.ravel(Y6_train))"
   ]
  },
  {
   "cell_type": "raw",
   "metadata": {},
   "source": [
    "clf1 = GridSearchCV(GradientBoostingRegressor(), parameters, n_jobs=-1)\n",
    "startTime = time.time()\n",
    "clf1.fit(X_train, np.ravel(Y1_train))\n",
    "elapsedTime = time.time() - startTime\n",
    "print('{} s'.format(int(elapsedTime)))\n",
    "print(clf1.score(X_test, Y1_test))\n",
    "print(clf1.best_params_)"
   ]
  },
  {
   "cell_type": "raw",
   "metadata": {},
   "source": [
    "clf2 = GridSearchCV(GradientBoostingRegressor(), parameters, n_jobs=-1)\n",
    "startTime = time.time()\n",
    "clf2.fit(X_train, np.ravel(Y2_train))\n",
    "elapsedTime = time.time() - startTime\n",
    "print('{} s'.format(int(elapsedTime)))\n",
    "print(clf2.score(X_test, Y2_test))\n",
    "print(clf2.best_params_)"
   ]
  },
  {
   "cell_type": "raw",
   "metadata": {},
   "source": [
    "clf3 = GridSearchCV(GradientBoostingRegressor(), parameters, n_jobs=-1)\n",
    "startTime = time.time()\n",
    "clf3.fit(X_train, np.ravel(Y3_train))\n",
    "elapsedTime = time.time() - startTime\n",
    "print('{} s'.format(int(elapsedTime)))\n",
    "print(clf3.score(X_test, Y3_test))\n",
    "print(clf3.best_params_)"
   ]
  },
  {
   "cell_type": "raw",
   "metadata": {},
   "source": [
    "clf4 = GridSearchCV(GradientBoostingRegressor(), parameters, n_jobs=-1)\n",
    "startTime = time.time()\n",
    "clf4.fit(X_train, np.ravel(Y4_train))\n",
    "elapsedTime = time.time() - startTime\n",
    "print('{} s'.format(int(elapsedTime)))\n",
    "print(clf4.score(X_test, Y4_test))\n",
    "print(clf4.best_params_)"
   ]
  },
  {
   "cell_type": "raw",
   "metadata": {},
   "source": [
    "clf5 = GridSearchCV(GradientBoostingRegressor(), parameters, n_jobs=-1)\n",
    "startTime = time.time()\n",
    "clf5.fit(X_train, np.ravel(Y5_train))\n",
    "elapsedTime = time.time() - startTime\n",
    "print('{} s'.format(int(elapsedTime)))\n",
    "print(clf5.score(X_test, Y5_test))\n",
    "print(clf5.best_params_)"
   ]
  },
  {
   "cell_type": "raw",
   "metadata": {},
   "source": [
    "clf6 = GridSearchCV(GradientBoostingRegressor(), parameters, n_jobs=-1)\n",
    "startTime = time.time()\n",
    "clf6.fit(X_train, np.ravel(Y6_train))\n",
    "elapsedTime = time.time() - startTime\n",
    "print('{} s'.format(int(elapsedTime)))\n",
    "print(clf6.score(X_test, Y6_test))\n",
    "print(clf6.best_params_)"
   ]
  },
  {
   "cell_type": "markdown",
   "metadata": {},
   "source": [
    "## Test for each year"
   ]
  },
  {
   "cell_type": "code",
   "execution_count": null,
   "metadata": {
    "scrolled": true
   },
   "outputs": [],
   "source": [
    "np.abs(clf1.predict(X_test.iloc[0::4]) - np.array(Y1_test.iloc[0::4][0])).mean()"
   ]
  },
  {
   "cell_type": "code",
   "execution_count": null,
   "metadata": {},
   "outputs": [],
   "source": [
    "np.abs(clf1.predict(X_test.iloc[1::4]) - np.array(Y1_test.iloc[1::4][0])).mean()"
   ]
  },
  {
   "cell_type": "code",
   "execution_count": null,
   "metadata": {},
   "outputs": [],
   "source": [
    "np.abs(clf1.predict(X_test.iloc[2::4]) - np.array(Y1_test.iloc[2::4][0])).mean()"
   ]
  },
  {
   "cell_type": "code",
   "execution_count": null,
   "metadata": {},
   "outputs": [],
   "source": [
    "np.abs(clf1.predict(X_test.iloc[3::4]) - np.array(Y1_test.iloc[3::4][0])).mean()"
   ]
  },
  {
   "cell_type": "markdown",
   "metadata": {},
   "source": [
    "## One concrete example"
   ]
  },
  {
   "cell_type": "code",
   "execution_count": null,
   "metadata": {},
   "outputs": [],
   "source": [
    "i = 120\n",
    "scalerY.inverse_transform([[clf1.predict([X_test.iloc[i]])[0], clf2.predict([X_test.iloc[i]])[0], clf3.predict([X_test.iloc[i]])[0], \n",
    "                          clf4.predict([X_test.iloc[i]])[0], clf5.predict([X_test.iloc[i]])[0], clf6.predict([X_test.iloc[i]])[0], 0]])"
   ]
  },
  {
   "cell_type": "code",
   "execution_count": null,
   "metadata": {},
   "outputs": [],
   "source": [
    "scalerY.inverse_transform([Y_test.iloc[i]])"
   ]
  },
  {
   "cell_type": "markdown",
   "metadata": {},
   "source": [
    "## Probamos con España"
   ]
  },
  {
   "cell_type": "code",
   "execution_count": 7,
   "metadata": {},
   "outputs": [],
   "source": [
    "country = 'ESP'\n",
    "esp = Complete[Complete.COU == country]"
   ]
  },
  {
   "cell_type": "markdown",
   "metadata": {},
   "source": [
    "### Municipal"
   ]
  },
  {
   "cell_type": "code",
   "execution_count": null,
   "metadata": {},
   "outputs": [],
   "source": [
    "years = list(esp.Year)\n",
    "mun = list(esp.Municipal)\n",
    "predictions = clf1.predict(pd.DataFrame(scalerX.transform(Complete.loc[esp.index[-4:],:][['Built', 'Below Secundary', 'Income Median',\n",
    "       'Population', 'Over 65', 'Over 65 Percentage', 'Over 85',\n",
    "       'Over 85 Percentage', 'Over 50', 'Over 50 Percentage', 'Under 20',\n",
    "       'Under 20 Percentage', 'Income Per Capita', 'Tourism', 'Area',\n",
    "       'Built Area']])))\n",
    "predictions = [a[0] for a in scalerY.inverse_transform([[a,0,0,0,0,0,0] for a in predictions])]"
   ]
  },
  {
   "cell_type": "code",
   "execution_count": null,
   "metadata": {},
   "outputs": [],
   "source": [
    "plt.plot(years, mun, lw=2, label='real')\n",
    "plt.axvline(x=2013.5, c='green', lw=1, ls=':', label='separación')\n",
    "plt.plot(years[-4:], predictions, c='red', lw=2, label='predecido')\n",
    "plt.title(\"Basura municipal en España\")\n",
    "plt.xlabel(\"Año\")\n",
    "plt.ylabel(\"Miles de toneladas\")\n",
    "plt.legend()\n",
    "plt.show()"
   ]
  },
  {
   "cell_type": "markdown",
   "metadata": {},
   "source": [
    "### Household"
   ]
  },
  {
   "cell_type": "code",
   "execution_count": null,
   "metadata": {},
   "outputs": [],
   "source": [
    "years = list(esp.Year)\n",
    "mun = list(esp.Household)\n",
    "predictions = clf2.predict(pd.DataFrame(scalerX.transform(Complete.loc[esp.index[-4:],:][['Built', 'Below Secundary', 'Income Median',\n",
    "       'Population', 'Over 65', 'Over 65 Percentage', 'Over 85',\n",
    "       'Over 85 Percentage', 'Over 50', 'Over 50 Percentage', 'Under 20',\n",
    "       'Under 20 Percentage', 'Income Per Capita', 'Tourism', 'Area',\n",
    "       'Built Area']])))\n",
    "predictions = [a[1] for a in scalerY.inverse_transform([[0,a,0,0,0,0,0] for a in predictions])]"
   ]
  },
  {
   "cell_type": "code",
   "execution_count": null,
   "metadata": {},
   "outputs": [],
   "source": [
    "plt.plot(years, mun, lw=2, label='real')\n",
    "plt.axvline(x=2013.5, c='green', lw=1, ls=':', label='separación')\n",
    "plt.plot(years[-4:], predictions, c='red', lw=2, label='predecido')\n",
    "plt.title(\"Basura doméstica en España\")\n",
    "plt.xlabel(\"Año\")\n",
    "plt.ylabel(\"Miles de toneladas\")\n",
    "plt.legend()\n",
    "plt.show()"
   ]
  },
  {
   "cell_type": "markdown",
   "metadata": {},
   "source": [
    "### Recovered"
   ]
  },
  {
   "cell_type": "code",
   "execution_count": null,
   "metadata": {},
   "outputs": [],
   "source": [
    "years = list(esp.Year)\n",
    "mun = list(esp.Recovered)\n",
    "predictions = clf3.predict(pd.DataFrame(scalerX.transform(Complete.loc[esp.index[-4:],:][['Built', 'Below Secundary', 'Income Median',\n",
    "       'Population', 'Over 65', 'Over 65 Percentage', 'Over 85',\n",
    "       'Over 85 Percentage', 'Over 50', 'Over 50 Percentage', 'Under 20',\n",
    "       'Under 20 Percentage', 'Income Per Capita', 'Tourism', 'Area',\n",
    "       'Built Area']])))\n",
    "predictions = [a[2] for a in scalerY.inverse_transform([[0,0,a,0,0,0,0] for a in predictions])]"
   ]
  },
  {
   "cell_type": "code",
   "execution_count": null,
   "metadata": {},
   "outputs": [],
   "source": [
    "plt.plot(years, mun, lw=2, label='real')\n",
    "plt.axvline(x=2013.5, c='green', lw=1, ls=':', label='separación')\n",
    "plt.plot(years[-4:], predictions, c='red', lw=2, label='predecido')\n",
    "plt.title(\"Basura recuperada en España\")\n",
    "plt.xlabel(\"Año\")\n",
    "plt.ylabel(\"Miles de toneladas\")\n",
    "plt.legend()\n",
    "plt.show()"
   ]
  },
  {
   "cell_type": "markdown",
   "metadata": {},
   "source": [
    "### Recicled"
   ]
  },
  {
   "cell_type": "code",
   "execution_count": null,
   "metadata": {},
   "outputs": [],
   "source": [
    "years = list(esp.Year)\n",
    "mun = list(esp.Recicled)\n",
    "predictions = clf4.predict(pd.DataFrame(scalerX.transform(Complete.loc[esp.index[-4:],:][['Built', 'Below Secundary', 'Income Median',\n",
    "       'Population', 'Over 65', 'Over 65 Percentage', 'Over 85',\n",
    "       'Over 85 Percentage', 'Over 50', 'Over 50 Percentage', 'Under 20',\n",
    "       'Under 20 Percentage', 'Income Per Capita', 'Tourism', 'Area',\n",
    "       'Built Area']])))\n",
    "predictions = [a[3] for a in scalerY.inverse_transform([[0,0,0,a,0,0,0] for a in predictions])]"
   ]
  },
  {
   "cell_type": "code",
   "execution_count": null,
   "metadata": {
    "scrolled": false
   },
   "outputs": [],
   "source": [
    "plt.plot(years, mun, lw=2, label='real')\n",
    "plt.axvline(x=2013.5, c='green', lw=1, ls=':', label='separación')\n",
    "plt.plot(years[-4:], predictions, c='red', lw=2, label='predecido')\n",
    "plt.title(\"Basura reciclada en España\")\n",
    "plt.xlabel(\"Año\")\n",
    "plt.ylabel(\"Miles de toneladas\")\n",
    "plt.legend()\n",
    "plt.show()"
   ]
  },
  {
   "cell_type": "markdown",
   "metadata": {},
   "source": [
    "### Compost"
   ]
  },
  {
   "cell_type": "code",
   "execution_count": null,
   "metadata": {},
   "outputs": [],
   "source": [
    "years = list(esp.Year)\n",
    "mun = list(esp.Compost)\n",
    "predictions = clf5.predict(pd.DataFrame(scalerX.transform(Complete.loc[esp.index[-4:],:][['Built', 'Below Secundary', 'Income Median',\n",
    "       'Population', 'Over 65', 'Over 65 Percentage', 'Over 85',\n",
    "       'Over 85 Percentage', 'Over 50', 'Over 50 Percentage', 'Under 20',\n",
    "       'Under 20 Percentage', 'Income Per Capita', 'Tourism', 'Area',\n",
    "       'Built Area']])))\n",
    "predictions = [a[4] for a in scalerY.inverse_transform([[0,0,0,0,a,0,0] for a in predictions])]"
   ]
  },
  {
   "cell_type": "code",
   "execution_count": null,
   "metadata": {},
   "outputs": [],
   "source": [
    "plt.plot(years, mun, lw=2, label='real')\n",
    "plt.axvline(x=2013.5, c='green', lw=1, ls=':', label='separación')\n",
    "plt.plot(years[-4:], predictions, c='red', lw=2, label='predecido')\n",
    "plt.title(\"Basura compostada en España\")\n",
    "plt.xlabel(\"Año\")\n",
    "plt.ylabel(\"Miles de toneladas\")\n",
    "plt.legend()\n",
    "plt.show()"
   ]
  },
  {
   "cell_type": "markdown",
   "metadata": {},
   "source": [
    "### Disposal"
   ]
  },
  {
   "cell_type": "code",
   "execution_count": 8,
   "metadata": {},
   "outputs": [],
   "source": [
    "years = list(esp.Year)\n",
    "mun = list(esp.Disposal)\n",
    "predictions = clf6.predict(pd.DataFrame(scalerX.transform(Complete.loc[esp.index[-4:],:][['Built', 'Below Secundary', 'Income Median',\n",
    "       'Population', 'Over 65', 'Over 65 Percentage', 'Over 85',\n",
    "       'Over 85 Percentage', 'Over 50', 'Over 50 Percentage', 'Under 20',\n",
    "       'Under 20 Percentage', 'Income Per Capita', 'Tourism', 'Area',\n",
    "       'Built Area']])))\n",
    "predictions = [a[5] for a in scalerY.inverse_transform([[0,0,0,0,0,a,0] for a in predictions])]"
   ]
  },
  {
   "cell_type": "code",
   "execution_count": 10,
   "metadata": {
    "scrolled": false
   },
   "outputs": [
    {
     "data": {
      "image/png": "[encoded data removed]",
      "text/plain": [
       "<Figure size 432x288 with 1 Axes>"
      ]
     },
     "metadata": {
      "needs_background": "light"
     },
     "output_type": "display_data"
    }
   ],
   "source": [
    "plt.plot(years, mun, lw=2, label='real')\n",
    "plt.axvline(x=2013.5, c='green', lw=1, ls=':', label='separación')\n",
    "plt.plot(years[-4:], predictions, c='red', lw=2, label='predecido')\n",
    "plt.title(\"Basura desechada en España\")\n",
    "plt.xlabel(\"Año\")\n",
    "plt.ylabel(\"Miles de toneladas\")\n",
    "plt.legend()\n",
    "plt.show()"
   ]
  },
  {
   "cell_type": "code",
   "execution_count": null,
   "metadata": {},
   "outputs": [],
   "source": []
  }
 ],
 "metadata": {
  "kernelspec": {
   "display_name": "Python 3",
   "language": "python",
   "name": "python3"
  },
  "language_info": {
   "codemirror_mode": {
    "name": "ipython",
    "version": 3
   },
   "file_extension": ".py",
   "mimetype": "text/x-python",
   "name": "python",
   "nbconvert_exporter": "python",
   "pygments_lexer": "ipython3",
   "version": "3.6.9"
  }
 },
 "nbformat": 4,
 "nbformat_minor": 4
}
