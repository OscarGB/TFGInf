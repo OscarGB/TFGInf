{
 "cells": [
  {
   "cell_type": "code",
   "execution_count": 1,
   "metadata": {},
   "outputs": [],
   "source": [
    "import pandas as pd\n",
    "import numpy as np\n",
    "from sklearn import svm\n",
    "from sklearn.multioutput import MultiOutputRegressor\n",
    "from sklearn.ensemble import GradientBoostingRegressor\n",
    "from sklearn.preprocessing import MinMaxScaler\n",
    "import time\n",
    "import matplotlib.pyplot as plt\n",
    "from sklearn.model_selection import GridSearchCV, ParameterGrid"
   ]
  },
  {
   "cell_type": "markdown",
   "metadata": {},
   "source": [
    "# Import all data"
   ]
  },
  {
   "cell_type": "code",
   "execution_count": 2,
   "metadata": {},
   "outputs": [],
   "source": [
    "X_train = pd.read_parquet(\"X/X_train.parquet\")\n",
    "X_test = pd.read_parquet(\"X/X_test.parquet\")\n",
    "Y_train = pd.read_parquet(\"Y/Y_train.parquet\")\n",
    "Y_test = pd.read_parquet(\"Y/Y_test.parquet\")\n",
    "X_train = X_train[['Built', 'Below Secundary', 'Income Median',\n",
    "       'Population', 'Over 65', 'Over 65 Percentage', 'Over 85',\n",
    "       'Over 85 Percentage', 'Over 50', 'Over 50 Percentage', 'Under 20',\n",
    "       'Under 20 Percentage', 'Income Per Capita', 'Tourism', 'Area',\n",
    "       'Built Area']]\n",
    "X_test = X_test[['Built', 'Below Secundary', 'Income Median',\n",
    "       'Population', 'Over 65', 'Over 65 Percentage', 'Over 85',\n",
    "       'Over 85 Percentage', 'Over 50', 'Over 50 Percentage', 'Under 20',\n",
    "       'Under 20 Percentage', 'Income Per Capita', 'Tourism', 'Area',\n",
    "       'Built Area']]\n",
    "Complete = pd.read_parquet(\"dataset.parquet\")"
   ]
  },
  {
   "cell_type": "code",
   "execution_count": 3,
   "metadata": {},
   "outputs": [],
   "source": [
    "scalerX = MinMaxScaler().fit(X_train)\n",
    "X_train = pd.DataFrame(scalerX.transform(X_train))\n",
    "X_test = pd.DataFrame(scalerX.transform(X_test))\n",
    "scalerY = MinMaxScaler().fit(Y_train)\n",
    "Y_train = pd.DataFrame(scalerY.transform(Y_train))\n",
    "Y_test = pd.DataFrame(scalerY.transform(Y_test))\n",
    "Y1_train = Y_train[[0]]\n",
    "Y1_test = Y_test[[0]]\n",
    "Y2_train = Y_train[[1]]\n",
    "Y2_test = Y_test[[1]]\n",
    "Y3_train = Y_train[[2]]\n",
    "Y3_test = Y_test[[2]]\n",
    "Y4_train = Y_train[[3]]\n",
    "Y4_test = Y_test[[3]]\n",
    "Y5_train = Y_train[[4]]\n",
    "Y5_test = Y_test[[4]]\n",
    "Y6_train = Y_train[[5]]\n",
    "Y6_test = Y_test[[5]]"
   ]
  },
  {
   "cell_type": "markdown",
   "metadata": {},
   "source": [
    "## Train and score"
   ]
  },
  {
   "cell_type": "code",
   "execution_count": 4,
   "metadata": {},
   "outputs": [],
   "source": [
    "parameters = {'learning_rate':[0.001, 0.005, 0.01, 0.05, 0.1, 0.5],\n",
    "              'n_estimators':[50, 100, 200, 500, 1000],\n",
    "              'max_depth': [2,3,5,10,20,30,50,100]} "
   ]
  },
  {
   "cell_type": "code",
   "execution_count": 5,
   "metadata": {},
   "outputs": [],
   "source": [
    "def GridSearch(rf, X_train, X_test, y_train, y_test, grid, verbose=False):\n",
    "    best_score = 0\n",
    "    par = ParameterGrid(grid)\n",
    "    ln = len(par)\n",
    "    i = 0\n",
    "    for g in par:\n",
    "        if(verbose):\n",
    "            print(f\"Probando: {g}, {i} de {ln}\")\n",
    "        i+=1\n",
    "        rf.set_params(**g)\n",
    "        startTime = time.time()\n",
    "        rf.fit(X_train, np.ravel(y_train))\n",
    "        elapsedTime = time.time() - startTime\n",
    "        score = rf.score(X_test, y_test)\n",
    "        if(verbose):\n",
    "            print(f\"Tiempo de entrenamiento: {elapsedTime} s, score: {score}\")\n",
    "        # save if best\n",
    "        if score > best_score:\n",
    "            best_score = score\n",
    "            best_grid = g\n",
    "    print(f\"Best Score: {best_score}\")\n",
    "    print(f\"Best Parameters: {best_grid}\")\n",
    "    return best_grid"
   ]
  },
  {
   "cell_type": "code",
   "execution_count": null,
   "metadata": {
    "scrolled": true
   },
   "outputs": [
    {
     "name": "stdout",
     "output_type": "stream",
     "text": [
      "Probando: {'learning_rate': 0.001, 'max_depth': 2, 'n_estimators': 50}, 0 de 240\n",
      "Tiempo de entrenamiento: 0.09377837181091309 s, score: 0.06483265253974102\n",
      "Probando: {'learning_rate': 0.001, 'max_depth': 2, 'n_estimators': 100}, 1 de 240\n",
      "Tiempo de entrenamiento: 0.21716737747192383 s, score: 0.1232535068917282\n",
      "Probando: {'learning_rate': 0.001, 'max_depth': 2, 'n_estimators': 200}, 2 de 240\n",
      "Tiempo de entrenamiento: 0.5080645084381104 s, score: 0.22315354456753822\n",
      "Probando: {'learning_rate': 0.001, 'max_depth': 2, 'n_estimators': 500}, 3 de 240\n",
      "Tiempo de entrenamiento: 1.2102010250091553 s, score: 0.4710416593896633\n",
      "Probando: {'learning_rate': 0.001, 'max_depth': 2, 'n_estimators': 1000}, 4 de 240\n",
      "Tiempo de entrenamiento: 2.6963987350463867 s, score: 0.7272630017007725\n",
      "Probando: {'learning_rate': 0.001, 'max_depth': 3, 'n_estimators': 50}, 5 de 240\n",
      "Tiempo de entrenamiento: 0.18210506439208984 s, score: 0.07801726857621338\n",
      "Probando: {'learning_rate': 0.001, 'max_depth': 3, 'n_estimators': 100}, 6 de 240\n",
      "Tiempo de entrenamiento: 0.2998483180999756 s, score: 0.14777077516452308\n",
      "Probando: {'learning_rate': 0.001, 'max_depth': 3, 'n_estimators': 200}, 7 de 240\n",
      "Tiempo de entrenamiento: 0.8557000160217285 s, score: 0.26601372486714914\n",
      "Probando: {'learning_rate': 0.001, 'max_depth': 3, 'n_estimators': 500}, 8 de 240\n",
      "Tiempo de entrenamiento: 2.2403316497802734 s, score: 0.5010336383664225\n",
      "Probando: {'learning_rate': 0.001, 'max_depth': 3, 'n_estimators': 1000}, 9 de 240\n",
      "Tiempo de entrenamiento: 4.43115234375 s, score: 0.6901915771784516\n",
      "Probando: {'learning_rate': 0.001, 'max_depth': 5, 'n_estimators': 50}, 10 de 240\n",
      "Tiempo de entrenamiento: 0.2808854579925537 s, score: 0.08685490785046035\n",
      "Probando: {'learning_rate': 0.001, 'max_depth': 5, 'n_estimators': 100}, 11 de 240\n",
      "Tiempo de entrenamiento: 0.6130092144012451 s, score: 0.1643911144827428\n",
      "Probando: {'learning_rate': 0.001, 'max_depth': 5, 'n_estimators': 200}, 12 de 240\n",
      "Tiempo de entrenamiento: 1.184133529663086 s, score: 0.29509344769593704\n",
      "Probando: {'learning_rate': 0.001, 'max_depth': 5, 'n_estimators': 500}, 13 de 240\n",
      "Tiempo de entrenamiento: 3.459987163543701 s, score: 0.5518508580784259\n",
      "Probando: {'learning_rate': 0.001, 'max_depth': 5, 'n_estimators': 1000}, 14 de 240\n",
      "Tiempo de entrenamiento: 6.6699254512786865 s, score: 0.7610072544352384\n",
      "Probando: {'learning_rate': 0.001, 'max_depth': 10, 'n_estimators': 50}, 15 de 240\n",
      "Tiempo de entrenamiento: 0.5559937953948975 s, score: 0.08954505354197206\n",
      "Probando: {'learning_rate': 0.001, 'max_depth': 10, 'n_estimators': 100}, 16 de 240\n",
      "Tiempo de entrenamiento: 1.2194311618804932 s, score: 0.16949798319426201\n",
      "Probando: {'learning_rate': 0.001, 'max_depth': 10, 'n_estimators': 200}, 17 de 240\n"
     ]
    }
   ],
   "source": [
    "g = GridSearch(GradientBoostingRegressor(), X_train, X_test, Y1_train, Y1_test, parameters, verbose=True)\n",
    "clf1 = GradientBoostingRegressor(**g).fit(X_train, np.ravel(Y1_train))"
   ]
  },
  {
   "cell_type": "code",
   "execution_count": null,
   "metadata": {},
   "outputs": [],
   "source": [
    "g = GridSearch(GradientBoostingRegressor(), X_train, X_test, Y2_train, Y2_test, parameters, verbose=True)\n",
    "clf2 = GradientBoostingRegressor(**g).fit(X_train, np.ravel(Y2_train))"
   ]
  },
  {
   "cell_type": "code",
   "execution_count": null,
   "metadata": {},
   "outputs": [],
   "source": [
    "g = GridSearch(GradientBoostingRegressor(), X_train, X_test, Y3_train, Y3_test, parameters, verbose=True)\n",
    "clf3 = GradientBoostingRegressor(**g).fit(X_train, np.ravel(Y3_train))"
   ]
  },
  {
   "cell_type": "code",
   "execution_count": null,
   "metadata": {},
   "outputs": [],
   "source": [
    "g = GridSearch(GradientBoostingRegressor(), X_train, X_test, Y4_train, Y4_test, parameters, verbose=True)\n",
    "clf4 = GradientBoostingRegressor(**g).fit(X_train, np.ravel(Y4_train))"
   ]
  },
  {
   "cell_type": "code",
   "execution_count": null,
   "metadata": {},
   "outputs": [],
   "source": [
    "g = GridSearch(GradientBoostingRegressor(), X_train, X_test, Y5_train, Y5_test, parameters, verbose=True)\n",
    "clf5 = GradientBoostingRegressor(**g).fit(X_train, np.ravel(Y5_train))"
   ]
  },
  {
   "cell_type": "code",
   "execution_count": 6,
   "metadata": {
    "scrolled": true
   },
   "outputs": [
    {
     "name": "stdout",
     "output_type": "stream",
     "text": [
      "Probando: {'learning_rate': 0.001, 'max_depth': 2, 'n_estimators': 50}, 0 de 240\n",
      "Tiempo de entrenamiento: 0.12443733215332031 s, score: 0.06741060278886546\n",
      "Probando: {'learning_rate': 0.001, 'max_depth': 2, 'n_estimators': 100}, 1 de 240\n",
      "Tiempo de entrenamiento: 0.2959134578704834 s, score: 0.12925322286369112\n",
      "Probando: {'learning_rate': 0.001, 'max_depth': 2, 'n_estimators': 200}, 2 de 240\n",
      "Tiempo de entrenamiento: 0.5669324398040771 s, score: 0.2392390405874566\n",
      "Probando: {'learning_rate': 0.001, 'max_depth': 2, 'n_estimators': 500}, 3 de 240\n",
      "Tiempo de entrenamiento: 1.1130287647247314 s, score: 0.4807852565295794\n",
      "Probando: {'learning_rate': 0.001, 'max_depth': 2, 'n_estimators': 1000}, 4 de 240\n",
      "Tiempo de entrenamiento: 2.6558175086975098 s, score: 0.7120360082043519\n",
      "Probando: {'learning_rate': 0.001, 'max_depth': 3, 'n_estimators': 50}, 5 de 240\n",
      "Tiempo de entrenamiento: 0.20956635475158691 s, score: 0.07754872022463011\n",
      "Probando: {'learning_rate': 0.001, 'max_depth': 3, 'n_estimators': 100}, 6 de 240\n",
      "Tiempo de entrenamiento: 0.29650449752807617 s, score: 0.14873117635072497\n",
      "Probando: {'learning_rate': 0.001, 'max_depth': 3, 'n_estimators': 200}, 7 de 240\n",
      "Tiempo de entrenamiento: 0.7247991561889648 s, score: 0.2725265584012211\n",
      "Probando: {'learning_rate': 0.001, 'max_depth': 3, 'n_estimators': 500}, 8 de 240\n",
      "Tiempo de entrenamiento: 1.7359416484832764 s, score: 0.5316232537555525\n",
      "Probando: {'learning_rate': 0.001, 'max_depth': 3, 'n_estimators': 1000}, 9 de 240\n",
      "Tiempo de entrenamiento: 3.531158208847046 s, score: 0.750376137873012\n",
      "Probando: {'learning_rate': 0.001, 'max_depth': 5, 'n_estimators': 50}, 10 de 240\n",
      "Tiempo de entrenamiento: 0.22858166694641113 s, score: 0.08973454602041886\n",
      "Probando: {'learning_rate': 0.001, 'max_depth': 5, 'n_estimators': 100}, 11 de 240\n",
      "Tiempo de entrenamiento: 0.6992905139923096 s, score: 0.17160452189122166\n",
      "Probando: {'learning_rate': 0.001, 'max_depth': 5, 'n_estimators': 200}, 12 de 240\n",
      "Tiempo de entrenamiento: 0.9320383071899414 s, score: 0.3107525312759022\n",
      "Probando: {'learning_rate': 0.001, 'max_depth': 5, 'n_estimators': 500}, 13 de 240\n",
      "Tiempo de entrenamiento: 3.1344244480133057 s, score: 0.5935404245014668\n",
      "Probando: {'learning_rate': 0.001, 'max_depth': 5, 'n_estimators': 1000}, 14 de 240\n",
      "Tiempo de entrenamiento: 6.843601942062378 s, score: 0.8192820180488191\n",
      "Probando: {'learning_rate': 0.001, 'max_depth': 10, 'n_estimators': 50}, 15 de 240\n",
      "Tiempo de entrenamiento: 0.44115591049194336 s, score: 0.08982927389080131\n",
      "Probando: {'learning_rate': 0.001, 'max_depth': 10, 'n_estimators': 100}, 16 de 240\n",
      "Tiempo de entrenamiento: 1.4109866619110107 s, score: 0.17145785260172497\n",
      "Probando: {'learning_rate': 0.001, 'max_depth': 10, 'n_estimators': 200}, 17 de 240\n",
      "Tiempo de entrenamiento: 2.243006467819214 s, score: 0.3127766939585013\n",
      "Probando: {'learning_rate': 0.001, 'max_depth': 10, 'n_estimators': 500}, 18 de 240\n",
      "Tiempo de entrenamiento: 5.527456521987915 s, score: 0.5999637391743855\n",
      "Probando: {'learning_rate': 0.001, 'max_depth': 10, 'n_estimators': 1000}, 19 de 240\n",
      "Tiempo de entrenamiento: 10.990960121154785 s, score: 0.820342020005032\n",
      "Probando: {'learning_rate': 0.001, 'max_depth': 20, 'n_estimators': 50}, 20 de 240\n",
      "Tiempo de entrenamiento: 0.6733057498931885 s, score: 0.08985164752801122\n",
      "Probando: {'learning_rate': 0.001, 'max_depth': 20, 'n_estimators': 100}, 21 de 240\n",
      "Tiempo de entrenamiento: 1.2958405017852783 s, score: 0.17126937628643224\n",
      "Probando: {'learning_rate': 0.001, 'max_depth': 20, 'n_estimators': 200}, 22 de 240\n",
      "Tiempo de entrenamiento: 2.8216235637664795 s, score: 0.31172070566058985\n",
      "Probando: {'learning_rate': 0.001, 'max_depth': 20, 'n_estimators': 500}, 23 de 240\n",
      "Tiempo de entrenamiento: 7.234123706817627 s, score: 0.5975109204401292\n",
      "Probando: {'learning_rate': 0.001, 'max_depth': 20, 'n_estimators': 1000}, 24 de 240\n",
      "Tiempo de entrenamiento: 14.39718508720398 s, score: 0.8161253207504373\n",
      "Probando: {'learning_rate': 0.001, 'max_depth': 30, 'n_estimators': 50}, 25 de 240\n",
      "Tiempo de entrenamiento: 0.7912349700927734 s, score: 0.08976313648064249\n",
      "Probando: {'learning_rate': 0.001, 'max_depth': 30, 'n_estimators': 100}, 26 de 240\n",
      "Tiempo de entrenamiento: 1.3830738067626953 s, score: 0.1713750843855211\n",
      "Probando: {'learning_rate': 0.001, 'max_depth': 30, 'n_estimators': 200}, 27 de 240\n",
      "Tiempo de entrenamiento: 2.7532176971435547 s, score: 0.3117221723518093\n",
      "Probando: {'learning_rate': 0.001, 'max_depth': 30, 'n_estimators': 500}, 28 de 240\n",
      "Tiempo de entrenamiento: 7.62708854675293 s, score: 0.5974713609299122\n",
      "Probando: {'learning_rate': 0.001, 'max_depth': 30, 'n_estimators': 1000}, 29 de 240\n",
      "Tiempo de entrenamiento: 13.976435422897339 s, score: 0.8163142914288184\n",
      "Probando: {'learning_rate': 0.001, 'max_depth': 50, 'n_estimators': 50}, 30 de 240\n",
      "Tiempo de entrenamiento: 0.8593254089355469 s, score: 0.08978995465960993\n",
      "Probando: {'learning_rate': 0.001, 'max_depth': 50, 'n_estimators': 100}, 31 de 240\n",
      "Tiempo de entrenamiento: 1.69822359085083 s, score: 0.17125657479719725\n",
      "Probando: {'learning_rate': 0.001, 'max_depth': 50, 'n_estimators': 200}, 32 de 240\n",
      "Tiempo de entrenamiento: 3.3227386474609375 s, score: 0.31167825480461464\n",
      "Probando: {'learning_rate': 0.001, 'max_depth': 50, 'n_estimators': 500}, 33 de 240\n",
      "Tiempo de entrenamiento: 7.64060640335083 s, score: 0.5973728022539182\n",
      "Probando: {'learning_rate': 0.001, 'max_depth': 50, 'n_estimators': 1000}, 34 de 240\n",
      "Tiempo de entrenamiento: 14.256861448287964 s, score: 0.8161428228417067\n",
      "Probando: {'learning_rate': 0.001, 'max_depth': 100, 'n_estimators': 50}, 35 de 240\n",
      "Tiempo de entrenamiento: 0.70721435546875 s, score: 0.08981663686793129\n",
      "Probando: {'learning_rate': 0.001, 'max_depth': 100, 'n_estimators': 100}, 36 de 240\n",
      "Tiempo de entrenamiento: 1.6122076511383057 s, score: 0.1712760255489626\n",
      "Probando: {'learning_rate': 0.001, 'max_depth': 100, 'n_estimators': 200}, 37 de 240\n",
      "Tiempo de entrenamiento: 2.911637306213379 s, score: 0.3116604861311836\n",
      "Probando: {'learning_rate': 0.001, 'max_depth': 100, 'n_estimators': 500}, 38 de 240\n",
      "Tiempo de entrenamiento: 7.391789436340332 s, score: 0.5975232831618369\n",
      "Probando: {'learning_rate': 0.001, 'max_depth': 100, 'n_estimators': 1000}, 39 de 240\n",
      "Tiempo de entrenamiento: 14.66474437713623 s, score: 0.8160285529400652\n",
      "Probando: {'learning_rate': 0.005, 'max_depth': 2, 'n_estimators': 50}, 40 de 240\n",
      "Tiempo de entrenamiento: 0.16176819801330566 s, score: 0.28835157835523617\n",
      "Probando: {'learning_rate': 0.005, 'max_depth': 2, 'n_estimators': 100}, 41 de 240\n",
      "Tiempo de entrenamiento: 0.357403039932251 s, score: 0.48126714758822975\n",
      "Probando: {'learning_rate': 0.005, 'max_depth': 2, 'n_estimators': 200}, 42 de 240\n",
      "Tiempo de entrenamiento: 0.6480758190155029 s, score: 0.7126983009590746\n",
      "Probando: {'learning_rate': 0.005, 'max_depth': 2, 'n_estimators': 500}, 43 de 240\n",
      "Tiempo de entrenamiento: 1.609999418258667 s, score: 0.8849209551818795\n",
      "Probando: {'learning_rate': 0.005, 'max_depth': 2, 'n_estimators': 1000}, 44 de 240\n",
      "Tiempo de entrenamiento: 3.17490291595459 s, score: 0.9431880824278737\n",
      "Probando: {'learning_rate': 0.005, 'max_depth': 3, 'n_estimators': 50}, 45 de 240\n",
      "Tiempo de entrenamiento: 0.19240021705627441 s, score: 0.3267086039667344\n",
      "Probando: {'learning_rate': 0.005, 'max_depth': 3, 'n_estimators': 100}, 46 de 240\n",
      "Tiempo de entrenamiento: 0.4903421401977539 s, score: 0.5322382700890679\n",
      "Probando: {'learning_rate': 0.005, 'max_depth': 3, 'n_estimators': 200}, 47 de 240\n",
      "Tiempo de entrenamiento: 1.0463318824768066 s, score: 0.7514402283150685\n",
      "Probando: {'learning_rate': 0.005, 'max_depth': 3, 'n_estimators': 500}, 48 de 240\n",
      "Tiempo de entrenamiento: 2.2245306968688965 s, score: 0.9510076324775256\n",
      "Probando: {'learning_rate': 0.005, 'max_depth': 3, 'n_estimators': 1000}, 49 de 240\n",
      "Tiempo de entrenamiento: 4.614177227020264 s, score: 0.9662655070075795\n",
      "Probando: {'learning_rate': 0.005, 'max_depth': 5, 'n_estimators': 50}, 50 de 240\n",
      "Tiempo de entrenamiento: 0.3014838695526123 s, score: 0.3710222400336823\n",
      "Probando: {'learning_rate': 0.005, 'max_depth': 5, 'n_estimators': 100}, 51 de 240\n",
      "Tiempo de entrenamiento: 0.6358649730682373 s, score: 0.5937515894262159\n",
      "Probando: {'learning_rate': 0.005, 'max_depth': 5, 'n_estimators': 200}, 52 de 240\n"
     ]
    },
    {
     "name": "stdout",
     "output_type": "stream",
     "text": [
      "Tiempo de entrenamiento: 1.4661262035369873 s, score: 0.8197109269857313\n",
      "Probando: {'learning_rate': 0.005, 'max_depth': 5, 'n_estimators': 500}, 53 de 240\n",
      "Tiempo de entrenamiento: 3.3945300579071045 s, score: 0.9560764514414521\n",
      "Probando: {'learning_rate': 0.005, 'max_depth': 5, 'n_estimators': 1000}, 54 de 240\n",
      "Tiempo de entrenamiento: 6.239099025726318 s, score: 0.9744859590461709\n",
      "Probando: {'learning_rate': 0.005, 'max_depth': 10, 'n_estimators': 50}, 55 de 240\n",
      "Tiempo de entrenamiento: 0.5777726173400879 s, score: 0.3738830735279358\n",
      "Probando: {'learning_rate': 0.005, 'max_depth': 10, 'n_estimators': 100}, 56 de 240\n",
      "Tiempo de entrenamiento: 1.196120262145996 s, score: 0.6002691520128923\n",
      "Probando: {'learning_rate': 0.005, 'max_depth': 10, 'n_estimators': 200}, 57 de 240\n",
      "Tiempo de entrenamiento: 2.660182476043701 s, score: 0.8208832837189427\n",
      "Probando: {'learning_rate': 0.005, 'max_depth': 10, 'n_estimators': 500}, 58 de 240\n",
      "Tiempo de entrenamiento: 6.086158990859985 s, score: 0.946433286398264\n",
      "Probando: {'learning_rate': 0.005, 'max_depth': 10, 'n_estimators': 1000}, 59 de 240\n",
      "Tiempo de entrenamiento: 10.69107961654663 s, score: 0.9580092772173572\n",
      "Probando: {'learning_rate': 0.005, 'max_depth': 20, 'n_estimators': 50}, 60 de 240\n",
      "Tiempo de entrenamiento: 0.666680097579956 s, score: 0.37227135895459307\n",
      "Probando: {'learning_rate': 0.005, 'max_depth': 20, 'n_estimators': 100}, 61 de 240\n",
      "Tiempo de entrenamiento: 1.3364171981811523 s, score: 0.5979653848308191\n",
      "Probando: {'learning_rate': 0.005, 'max_depth': 20, 'n_estimators': 200}, 62 de 240\n",
      "Tiempo de entrenamiento: 2.4949848651885986 s, score: 0.8164199541344869\n",
      "Probando: {'learning_rate': 0.005, 'max_depth': 20, 'n_estimators': 500}, 63 de 240\n",
      "Tiempo de entrenamiento: 5.963715553283691 s, score: 0.9352678724271841\n",
      "Probando: {'learning_rate': 0.005, 'max_depth': 20, 'n_estimators': 1000}, 64 de 240\n",
      "Tiempo de entrenamiento: 12.00761342048645 s, score: 0.9425128109261302\n",
      "Probando: {'learning_rate': 0.005, 'max_depth': 30, 'n_estimators': 50}, 65 de 240\n",
      "Tiempo de entrenamiento: 0.7114171981811523 s, score: 0.3724897629326441\n",
      "Probando: {'learning_rate': 0.005, 'max_depth': 30, 'n_estimators': 100}, 66 de 240\n",
      "Tiempo de entrenamiento: 1.250342845916748 s, score: 0.5980763965936146\n",
      "Probando: {'learning_rate': 0.005, 'max_depth': 30, 'n_estimators': 200}, 67 de 240\n",
      "Tiempo de entrenamiento: 2.6433558464050293 s, score: 0.8164034208659903\n",
      "Probando: {'learning_rate': 0.005, 'max_depth': 30, 'n_estimators': 500}, 68 de 240\n",
      "Tiempo de entrenamiento: 6.508248329162598 s, score: 0.9348986948218435\n",
      "Probando: {'learning_rate': 0.005, 'max_depth': 30, 'n_estimators': 1000}, 69 de 240\n",
      "Tiempo de entrenamiento: 11.021175384521484 s, score: 0.9419977249028921\n",
      "Probando: {'learning_rate': 0.005, 'max_depth': 50, 'n_estimators': 50}, 70 de 240\n",
      "Tiempo de entrenamiento: 0.6491296291351318 s, score: 0.37257474550158376\n",
      "Probando: {'learning_rate': 0.005, 'max_depth': 50, 'n_estimators': 100}, 71 de 240\n",
      "Tiempo de entrenamiento: 1.0916125774383545 s, score: 0.598007167464865\n",
      "Probando: {'learning_rate': 0.005, 'max_depth': 50, 'n_estimators': 200}, 72 de 240\n",
      "Tiempo de entrenamiento: 2.340461492538452 s, score: 0.8169172804409692\n",
      "Probando: {'learning_rate': 0.005, 'max_depth': 50, 'n_estimators': 500}, 73 de 240\n",
      "Tiempo de entrenamiento: 6.463301181793213 s, score: 0.9342696971128176\n",
      "Probando: {'learning_rate': 0.005, 'max_depth': 50, 'n_estimators': 1000}, 74 de 240\n",
      "Tiempo de entrenamiento: 11.299608707427979 s, score: 0.9428633966322116\n",
      "Probando: {'learning_rate': 0.005, 'max_depth': 100, 'n_estimators': 50}, 75 de 240\n",
      "Tiempo de entrenamiento: 0.5136559009552002 s, score: 0.37247986376957565\n",
      "Probando: {'learning_rate': 0.005, 'max_depth': 100, 'n_estimators': 100}, 76 de 240\n",
      "Tiempo de entrenamiento: 1.4599535465240479 s, score: 0.5980705768730846\n",
      "Probando: {'learning_rate': 0.005, 'max_depth': 100, 'n_estimators': 200}, 77 de 240\n",
      "Tiempo de entrenamiento: 2.573993444442749 s, score: 0.8158016078501703\n",
      "Probando: {'learning_rate': 0.005, 'max_depth': 100, 'n_estimators': 500}, 78 de 240\n",
      "Tiempo de entrenamiento: 5.219575881958008 s, score: 0.9353131061507459\n",
      "Probando: {'learning_rate': 0.005, 'max_depth': 100, 'n_estimators': 1000}, 79 de 240\n",
      "Tiempo de entrenamiento: 9.3382728099823 s, score: 0.9425567247397474\n",
      "Probando: {'learning_rate': 0.01, 'max_depth': 2, 'n_estimators': 50}, 80 de 240\n",
      "Tiempo de entrenamiento: 0.12913751602172852 s, score: 0.4810843314005705\n",
      "Probando: {'learning_rate': 0.01, 'max_depth': 2, 'n_estimators': 100}, 81 de 240\n",
      "Tiempo de entrenamiento: 0.20174169540405273 s, score: 0.7133954274798889\n",
      "Probando: {'learning_rate': 0.01, 'max_depth': 2, 'n_estimators': 200}, 82 de 240\n",
      "Tiempo de entrenamiento: 0.3825540542602539 s, score: 0.856463280367414\n",
      "Probando: {'learning_rate': 0.01, 'max_depth': 2, 'n_estimators': 500}, 83 de 240\n",
      "Tiempo de entrenamiento: 1.1808784008026123 s, score: 0.9427064183948461\n",
      "Probando: {'learning_rate': 0.01, 'max_depth': 2, 'n_estimators': 1000}, 84 de 240\n",
      "Tiempo de entrenamiento: 2.4104106426239014 s, score: 0.9564504644338178\n",
      "Probando: {'learning_rate': 0.01, 'max_depth': 3, 'n_estimators': 50}, 85 de 240\n",
      "Tiempo de entrenamiento: 0.20896410942077637 s, score: 0.5329745386672524\n",
      "Probando: {'learning_rate': 0.01, 'max_depth': 3, 'n_estimators': 100}, 86 de 240\n",
      "Tiempo de entrenamiento: 0.29080963134765625 s, score: 0.7525259618784416\n",
      "Probando: {'learning_rate': 0.01, 'max_depth': 3, 'n_estimators': 200}, 87 de 240\n",
      "Tiempo de entrenamiento: 0.655540943145752 s, score: 0.9270726133181473\n",
      "Probando: {'learning_rate': 0.01, 'max_depth': 3, 'n_estimators': 500}, 88 de 240\n",
      "Tiempo de entrenamiento: 1.4165053367614746 s, score: 0.9674366557729706\n",
      "Probando: {'learning_rate': 0.01, 'max_depth': 3, 'n_estimators': 1000}, 89 de 240\n",
      "Tiempo de entrenamiento: 2.7917885780334473 s, score: 0.9680803347833355\n",
      "Probando: {'learning_rate': 0.01, 'max_depth': 5, 'n_estimators': 50}, 90 de 240\n",
      "Tiempo de entrenamiento: 0.34948158264160156 s, score: 0.5948573020959327\n",
      "Probando: {'learning_rate': 0.01, 'max_depth': 5, 'n_estimators': 100}, 91 de 240\n",
      "Tiempo de entrenamiento: 0.44953155517578125 s, score: 0.8202143369812716\n",
      "Probando: {'learning_rate': 0.01, 'max_depth': 5, 'n_estimators': 200}, 92 de 240\n",
      "Tiempo de entrenamiento: 1.0915579795837402 s, score: 0.9374721827554431\n",
      "Probando: {'learning_rate': 0.01, 'max_depth': 5, 'n_estimators': 500}, 93 de 240\n",
      "Tiempo de entrenamiento: 2.638782501220703 s, score: 0.9750986130253108\n",
      "Probando: {'learning_rate': 0.01, 'max_depth': 5, 'n_estimators': 1000}, 94 de 240\n",
      "Tiempo de entrenamiento: 5.291015386581421 s, score: 0.9754357553616375\n",
      "Probando: {'learning_rate': 0.01, 'max_depth': 10, 'n_estimators': 50}, 95 de 240\n",
      "Tiempo de entrenamiento: 0.4283559322357178 s, score: 0.6010074147084672\n",
      "Probando: {'learning_rate': 0.01, 'max_depth': 10, 'n_estimators': 100}, 96 de 240\n",
      "Tiempo de entrenamiento: 0.9549925327301025 s, score: 0.8212454414645057\n",
      "Probando: {'learning_rate': 0.01, 'max_depth': 10, 'n_estimators': 200}, 97 de 240\n",
      "Tiempo de entrenamiento: 1.479597568511963 s, score: 0.9318891198131256\n",
      "Probando: {'learning_rate': 0.01, 'max_depth': 10, 'n_estimators': 500}, 98 de 240\n",
      "Tiempo de entrenamiento: 5.141325950622559 s, score: 0.9566482584336737\n",
      "Probando: {'learning_rate': 0.01, 'max_depth': 10, 'n_estimators': 1000}, 99 de 240\n",
      "Tiempo de entrenamiento: 9.223900079727173 s, score: 0.9584718711054413\n",
      "Probando: {'learning_rate': 0.01, 'max_depth': 20, 'n_estimators': 50}, 100 de 240\n",
      "Tiempo de entrenamiento: 0.4641852378845215 s, score: 0.5985445456397167\n",
      "Probando: {'learning_rate': 0.01, 'max_depth': 20, 'n_estimators': 100}, 101 de 240\n",
      "Tiempo de entrenamiento: 0.9759886264801025 s, score: 0.8167467454601384\n",
      "Probando: {'learning_rate': 0.01, 'max_depth': 20, 'n_estimators': 200}, 102 de 240\n",
      "Tiempo de entrenamiento: 2.153343439102173 s, score: 0.9250863368446626\n",
      "Probando: {'learning_rate': 0.01, 'max_depth': 20, 'n_estimators': 500}, 103 de 240\n",
      "Tiempo de entrenamiento: 4.56492018699646 s, score: 0.941829659359618\n",
      "Probando: {'learning_rate': 0.01, 'max_depth': 20, 'n_estimators': 1000}, 104 de 240\n",
      "Tiempo de entrenamiento: 5.372642993927002 s, score: 0.9430238370309005\n",
      "Probando: {'learning_rate': 0.01, 'max_depth': 30, 'n_estimators': 50}, 105 de 240\n"
     ]
    },
    {
     "name": "stdout",
     "output_type": "stream",
     "text": [
      "Tiempo de entrenamiento: 0.6220250129699707 s, score: 0.5990025102562095\n",
      "Probando: {'learning_rate': 0.01, 'max_depth': 30, 'n_estimators': 100}, 106 de 240\n",
      "Tiempo de entrenamiento: 1.3971788883209229 s, score: 0.8170240442833154\n",
      "Probando: {'learning_rate': 0.01, 'max_depth': 30, 'n_estimators': 200}, 107 de 240\n",
      "Tiempo de entrenamiento: 2.3355963230133057 s, score: 0.9246278423765592\n",
      "Probando: {'learning_rate': 0.01, 'max_depth': 30, 'n_estimators': 500}, 108 de 240\n",
      "Tiempo de entrenamiento: 4.945797443389893 s, score: 0.9423929387852022\n",
      "Probando: {'learning_rate': 0.01, 'max_depth': 30, 'n_estimators': 1000}, 109 de 240\n",
      "Tiempo de entrenamiento: 5.6442461013793945 s, score: 0.9429927636398721\n",
      "Probando: {'learning_rate': 0.01, 'max_depth': 50, 'n_estimators': 50}, 110 de 240\n",
      "Tiempo de entrenamiento: 0.6046226024627686 s, score: 0.5995021530563411\n",
      "Probando: {'learning_rate': 0.01, 'max_depth': 50, 'n_estimators': 100}, 111 de 240\n",
      "Tiempo de entrenamiento: 1.1050822734832764 s, score: 0.8172319539065374\n",
      "Probando: {'learning_rate': 0.01, 'max_depth': 50, 'n_estimators': 200}, 112 de 240\n",
      "Tiempo de entrenamiento: 2.5120646953582764 s, score: 0.924763762180006\n",
      "Probando: {'learning_rate': 0.01, 'max_depth': 50, 'n_estimators': 500}, 113 de 240\n",
      "Tiempo de entrenamiento: 5.119063854217529 s, score: 0.9415687388004398\n",
      "Probando: {'learning_rate': 0.01, 'max_depth': 50, 'n_estimators': 1000}, 114 de 240\n",
      "Tiempo de entrenamiento: 5.956543684005737 s, score: 0.9426339851879767\n",
      "Probando: {'learning_rate': 0.01, 'max_depth': 100, 'n_estimators': 50}, 115 de 240\n",
      "Tiempo de entrenamiento: 0.5125112533569336 s, score: 0.599278262664406\n",
      "Probando: {'learning_rate': 0.01, 'max_depth': 100, 'n_estimators': 100}, 116 de 240\n",
      "Tiempo de entrenamiento: 1.0129411220550537 s, score: 0.8167286157182599\n",
      "Probando: {'learning_rate': 0.01, 'max_depth': 100, 'n_estimators': 200}, 117 de 240\n",
      "Tiempo de entrenamiento: 1.9675006866455078 s, score: 0.9257467431794548\n",
      "Probando: {'learning_rate': 0.01, 'max_depth': 100, 'n_estimators': 500}, 118 de 240\n",
      "Tiempo de entrenamiento: 4.39394998550415 s, score: 0.9420432323938818\n",
      "Probando: {'learning_rate': 0.01, 'max_depth': 100, 'n_estimators': 1000}, 119 de 240\n",
      "Tiempo de entrenamiento: 5.854601860046387 s, score: 0.9428640626974513\n",
      "Probando: {'learning_rate': 0.05, 'max_depth': 2, 'n_estimators': 50}, 120 de 240\n",
      "Tiempo de entrenamiento: 0.1389484405517578 s, score: 0.8833217990091452\n",
      "Probando: {'learning_rate': 0.05, 'max_depth': 2, 'n_estimators': 100}, 121 de 240\n",
      "Tiempo de entrenamiento: 0.35448527336120605 s, score: 0.9481128859309571\n",
      "Probando: {'learning_rate': 0.05, 'max_depth': 2, 'n_estimators': 200}, 122 de 240\n",
      "Tiempo de entrenamiento: 0.47705078125 s, score: 0.9573104695639103\n",
      "Probando: {'learning_rate': 0.05, 'max_depth': 2, 'n_estimators': 500}, 123 de 240\n",
      "Tiempo de entrenamiento: 1.2215938568115234 s, score: 0.9524255714124816\n",
      "Probando: {'learning_rate': 0.05, 'max_depth': 2, 'n_estimators': 1000}, 124 de 240\n",
      "Tiempo de entrenamiento: 2.186204433441162 s, score: 0.9462351483872222\n",
      "Probando: {'learning_rate': 0.05, 'max_depth': 3, 'n_estimators': 50}, 125 de 240\n",
      "Tiempo de entrenamiento: 0.24137091636657715 s, score: 0.9529632208979973\n",
      "Probando: {'learning_rate': 0.05, 'max_depth': 3, 'n_estimators': 100}, 126 de 240\n",
      "Tiempo de entrenamiento: 0.27168965339660645 s, score: 0.9686056220312623\n",
      "Probando: {'learning_rate': 0.05, 'max_depth': 3, 'n_estimators': 200}, 127 de 240\n",
      "Tiempo de entrenamiento: 0.7346971035003662 s, score: 0.966225009136846\n",
      "Probando: {'learning_rate': 0.05, 'max_depth': 3, 'n_estimators': 500}, 128 de 240\n",
      "Tiempo de entrenamiento: 1.6429524421691895 s, score: 0.966564306334307\n",
      "Probando: {'learning_rate': 0.05, 'max_depth': 3, 'n_estimators': 1000}, 129 de 240\n",
      "Tiempo de entrenamiento: 3.3641855716705322 s, score: 0.9659322755779929\n",
      "Probando: {'learning_rate': 0.05, 'max_depth': 5, 'n_estimators': 50}, 130 de 240\n",
      "Tiempo de entrenamiento: 0.3307948112487793 s, score: 0.9541434492321238\n",
      "Probando: {'learning_rate': 0.05, 'max_depth': 5, 'n_estimators': 100}, 131 de 240\n",
      "Tiempo de entrenamiento: 0.6517078876495361 s, score: 0.9717423994236596\n",
      "Probando: {'learning_rate': 0.05, 'max_depth': 5, 'n_estimators': 200}, 132 de 240\n",
      "Tiempo de entrenamiento: 1.0048060417175293 s, score: 0.9727763018608782\n",
      "Probando: {'learning_rate': 0.05, 'max_depth': 5, 'n_estimators': 500}, 133 de 240\n",
      "Tiempo de entrenamiento: 2.6262340545654297 s, score: 0.9737383225872936\n",
      "Probando: {'learning_rate': 0.05, 'max_depth': 5, 'n_estimators': 1000}, 134 de 240\n",
      "Tiempo de entrenamiento: 5.076934814453125 s, score: 0.9737841896643122\n",
      "Probando: {'learning_rate': 0.05, 'max_depth': 10, 'n_estimators': 50}, 135 de 240\n",
      "Tiempo de entrenamiento: 0.5347709655761719 s, score: 0.9455095256929503\n",
      "Probando: {'learning_rate': 0.05, 'max_depth': 10, 'n_estimators': 100}, 136 de 240\n",
      "Tiempo de entrenamiento: 0.9661586284637451 s, score: 0.9558522281457229\n",
      "Probando: {'learning_rate': 0.05, 'max_depth': 10, 'n_estimators': 200}, 137 de 240\n",
      "Tiempo de entrenamiento: 1.9517159461975098 s, score: 0.9582536465702822\n",
      "Probando: {'learning_rate': 0.05, 'max_depth': 10, 'n_estimators': 500}, 138 de 240\n",
      "Tiempo de entrenamiento: 2.101736068725586 s, score: 0.9569987222001501\n",
      "Probando: {'learning_rate': 0.05, 'max_depth': 10, 'n_estimators': 1000}, 139 de 240\n",
      "Tiempo de entrenamiento: 1.955915927886963 s, score: 0.9567420280975767\n",
      "Probando: {'learning_rate': 0.05, 'max_depth': 20, 'n_estimators': 50}, 140 de 240\n",
      "Tiempo de entrenamiento: 0.49866652488708496 s, score: 0.9370480165029513\n",
      "Probando: {'learning_rate': 0.05, 'max_depth': 20, 'n_estimators': 100}, 141 de 240\n",
      "Tiempo de entrenamiento: 0.9883518218994141 s, score: 0.9432587534467425\n",
      "Probando: {'learning_rate': 0.05, 'max_depth': 20, 'n_estimators': 200}, 142 de 240\n",
      "Tiempo de entrenamiento: 1.0628480911254883 s, score: 0.9427364240925915\n",
      "Probando: {'learning_rate': 0.05, 'max_depth': 20, 'n_estimators': 500}, 143 de 240\n",
      "Tiempo de entrenamiento: 1.5430421829223633 s, score: 0.9413093280127862\n",
      "Probando: {'learning_rate': 0.05, 'max_depth': 20, 'n_estimators': 1000}, 144 de 240\n",
      "Tiempo de entrenamiento: 1.3706185817718506 s, score: 0.9429963058328066\n",
      "Probando: {'learning_rate': 0.05, 'max_depth': 30, 'n_estimators': 50}, 145 de 240\n",
      "Tiempo de entrenamiento: 0.5836453437805176 s, score: 0.9357959210570386\n",
      "Probando: {'learning_rate': 0.05, 'max_depth': 30, 'n_estimators': 100}, 146 de 240\n",
      "Tiempo de entrenamiento: 1.212965726852417 s, score: 0.9413468789828084\n",
      "Probando: {'learning_rate': 0.05, 'max_depth': 30, 'n_estimators': 200}, 147 de 240\n",
      "Tiempo de entrenamiento: 1.261173963546753 s, score: 0.9427557636981844\n",
      "Probando: {'learning_rate': 0.05, 'max_depth': 30, 'n_estimators': 500}, 148 de 240\n",
      "Tiempo de entrenamiento: 1.320641040802002 s, score: 0.9425740103396094\n",
      "Probando: {'learning_rate': 0.05, 'max_depth': 30, 'n_estimators': 1000}, 149 de 240\n",
      "Tiempo de entrenamiento: 1.3239693641662598 s, score: 0.9427056708232266\n",
      "Probando: {'learning_rate': 0.05, 'max_depth': 50, 'n_estimators': 50}, 150 de 240\n",
      "Tiempo de entrenamiento: 0.45635533332824707 s, score: 0.935533579053574\n",
      "Probando: {'learning_rate': 0.05, 'max_depth': 50, 'n_estimators': 100}, 151 de 240\n",
      "Tiempo de entrenamiento: 1.0626609325408936 s, score: 0.9417351111092793\n",
      "Probando: {'learning_rate': 0.05, 'max_depth': 50, 'n_estimators': 200}, 152 de 240\n",
      "Tiempo de entrenamiento: 1.0684309005737305 s, score: 0.9425144887204214\n",
      "Probando: {'learning_rate': 0.05, 'max_depth': 50, 'n_estimators': 500}, 153 de 240\n",
      "Tiempo de entrenamiento: 1.4102740287780762 s, score: 0.9410436910968696\n",
      "Probando: {'learning_rate': 0.05, 'max_depth': 50, 'n_estimators': 1000}, 154 de 240\n",
      "Tiempo de entrenamiento: 1.4221775531768799 s, score: 0.9430664127862062\n",
      "Probando: {'learning_rate': 0.05, 'max_depth': 100, 'n_estimators': 50}, 155 de 240\n",
      "Tiempo de entrenamiento: 0.4568490982055664 s, score: 0.9358511230289175\n",
      "Probando: {'learning_rate': 0.05, 'max_depth': 100, 'n_estimators': 100}, 156 de 240\n",
      "Tiempo de entrenamiento: 0.9702122211456299 s, score: 0.9434335439137144\n",
      "Probando: {'learning_rate': 0.05, 'max_depth': 100, 'n_estimators': 200}, 157 de 240\n",
      "Tiempo de entrenamiento: 1.1878464221954346 s, score: 0.9431011942211085\n",
      "Probando: {'learning_rate': 0.05, 'max_depth': 100, 'n_estimators': 500}, 158 de 240\n"
     ]
    },
    {
     "name": "stdout",
     "output_type": "stream",
     "text": [
      "Tiempo de entrenamiento: 1.2303335666656494 s, score: 0.9425410351248431\n",
      "Probando: {'learning_rate': 0.05, 'max_depth': 100, 'n_estimators': 1000}, 159 de 240\n",
      "Tiempo de entrenamiento: 1.5243749618530273 s, score: 0.9414022148546375\n",
      "Probando: {'learning_rate': 0.1, 'max_depth': 2, 'n_estimators': 50}, 160 de 240\n",
      "Tiempo de entrenamiento: 0.10790205001831055 s, score: 0.9435469239404373\n",
      "Probando: {'learning_rate': 0.1, 'max_depth': 2, 'n_estimators': 100}, 161 de 240\n",
      "Tiempo de entrenamiento: 0.21918725967407227 s, score: 0.9546886242025437\n",
      "Probando: {'learning_rate': 0.1, 'max_depth': 2, 'n_estimators': 200}, 162 de 240\n",
      "Tiempo de entrenamiento: 0.4821600914001465 s, score: 0.9461439473963208\n",
      "Probando: {'learning_rate': 0.1, 'max_depth': 2, 'n_estimators': 500}, 163 de 240\n",
      "Tiempo de entrenamiento: 1.1172759532928467 s, score: 0.945663225755828\n",
      "Probando: {'learning_rate': 0.1, 'max_depth': 2, 'n_estimators': 1000}, 164 de 240\n",
      "Tiempo de entrenamiento: 2.3384954929351807 s, score: 0.9436908681438128\n",
      "Probando: {'learning_rate': 0.1, 'max_depth': 3, 'n_estimators': 50}, 165 de 240\n",
      "Tiempo de entrenamiento: 0.14310479164123535 s, score: 0.9706258194256435\n",
      "Probando: {'learning_rate': 0.1, 'max_depth': 3, 'n_estimators': 100}, 166 de 240\n",
      "Tiempo de entrenamiento: 0.37871718406677246 s, score: 0.966615858149026\n",
      "Probando: {'learning_rate': 0.1, 'max_depth': 3, 'n_estimators': 200}, 167 de 240\n",
      "Tiempo de entrenamiento: 0.6198287010192871 s, score: 0.9664249346873154\n",
      "Probando: {'learning_rate': 0.1, 'max_depth': 3, 'n_estimators': 500}, 168 de 240\n",
      "Tiempo de entrenamiento: 1.693772792816162 s, score: 0.9654734644865678\n",
      "Probando: {'learning_rate': 0.1, 'max_depth': 3, 'n_estimators': 1000}, 169 de 240\n",
      "Tiempo de entrenamiento: 3.3826828002929688 s, score: 0.9651272181583602\n",
      "Probando: {'learning_rate': 0.1, 'max_depth': 5, 'n_estimators': 50}, 170 de 240\n",
      "Tiempo de entrenamiento: 0.27312135696411133 s, score: 0.973149738121737\n",
      "Probando: {'learning_rate': 0.1, 'max_depth': 5, 'n_estimators': 100}, 171 de 240\n",
      "Tiempo de entrenamiento: 0.5692698955535889 s, score: 0.9751976443234552\n",
      "Probando: {'learning_rate': 0.1, 'max_depth': 5, 'n_estimators': 200}, 172 de 240\n",
      "Tiempo de entrenamiento: 0.940936803817749 s, score: 0.9772274881512057\n",
      "Probando: {'learning_rate': 0.1, 'max_depth': 5, 'n_estimators': 500}, 173 de 240\n",
      "Tiempo de entrenamiento: 2.5749714374542236 s, score: 0.977876517197861\n",
      "Probando: {'learning_rate': 0.1, 'max_depth': 5, 'n_estimators': 1000}, 174 de 240\n",
      "Tiempo de entrenamiento: 4.162075996398926 s, score: 0.9782868059351953\n",
      "Probando: {'learning_rate': 0.1, 'max_depth': 10, 'n_estimators': 50}, 175 de 240\n",
      "Tiempo de entrenamiento: 0.4452517032623291 s, score: 0.953284254322825\n",
      "Probando: {'learning_rate': 0.1, 'max_depth': 10, 'n_estimators': 100}, 176 de 240\n",
      "Tiempo de entrenamiento: 0.9233517646789551 s, score: 0.9538429951470347\n",
      "Probando: {'learning_rate': 0.1, 'max_depth': 10, 'n_estimators': 200}, 177 de 240\n",
      "Tiempo de entrenamiento: 0.9731881618499756 s, score: 0.951685484098254\n",
      "Probando: {'learning_rate': 0.1, 'max_depth': 10, 'n_estimators': 500}, 178 de 240\n",
      "Tiempo de entrenamiento: 1.1315357685089111 s, score: 0.9554986125317151\n",
      "Probando: {'learning_rate': 0.1, 'max_depth': 10, 'n_estimators': 1000}, 179 de 240\n",
      "Tiempo de entrenamiento: 1.4981179237365723 s, score: 0.9545470916598143\n",
      "Probando: {'learning_rate': 0.1, 'max_depth': 20, 'n_estimators': 50}, 180 de 240\n",
      "Tiempo de entrenamiento: 0.4877133369445801 s, score: 0.9419198326355592\n",
      "Probando: {'learning_rate': 0.1, 'max_depth': 20, 'n_estimators': 100}, 181 de 240\n",
      "Tiempo de entrenamiento: 0.6901416778564453 s, score: 0.9437958093332672\n",
      "Probando: {'learning_rate': 0.1, 'max_depth': 20, 'n_estimators': 200}, 182 de 240\n",
      "Tiempo de entrenamiento: 0.6252045631408691 s, score: 0.9411882441332778\n",
      "Probando: {'learning_rate': 0.1, 'max_depth': 20, 'n_estimators': 500}, 183 de 240\n",
      "Tiempo de entrenamiento: 0.6940293312072754 s, score: 0.9440764968902479\n",
      "Probando: {'learning_rate': 0.1, 'max_depth': 20, 'n_estimators': 1000}, 184 de 240\n",
      "Tiempo de entrenamiento: 0.9554131031036377 s, score: 0.9420019756946248\n",
      "Probando: {'learning_rate': 0.1, 'max_depth': 30, 'n_estimators': 50}, 185 de 240\n",
      "Tiempo de entrenamiento: 0.415477991104126 s, score: 0.9402338064073726\n",
      "Probando: {'learning_rate': 0.1, 'max_depth': 30, 'n_estimators': 100}, 186 de 240\n",
      "Tiempo de entrenamiento: 0.6388599872589111 s, score: 0.9424412952592723\n",
      "Probando: {'learning_rate': 0.1, 'max_depth': 30, 'n_estimators': 200}, 187 de 240\n",
      "Tiempo de entrenamiento: 0.49030208587646484 s, score: 0.9448653301544613\n",
      "Probando: {'learning_rate': 0.1, 'max_depth': 30, 'n_estimators': 500}, 188 de 240\n",
      "Tiempo de entrenamiento: 0.9723732471466064 s, score: 0.9414329861141731\n",
      "Probando: {'learning_rate': 0.1, 'max_depth': 30, 'n_estimators': 1000}, 189 de 240\n",
      "Tiempo de entrenamiento: 0.8494951725006104 s, score: 0.9414015204473658\n",
      "Probando: {'learning_rate': 0.1, 'max_depth': 50, 'n_estimators': 50}, 190 de 240\n",
      "Tiempo de entrenamiento: 0.6012997627258301 s, score: 0.9435691099467431\n",
      "Probando: {'learning_rate': 0.1, 'max_depth': 50, 'n_estimators': 100}, 191 de 240\n",
      "Tiempo de entrenamiento: 0.519996166229248 s, score: 0.9411624745142231\n",
      "Probando: {'learning_rate': 0.1, 'max_depth': 50, 'n_estimators': 200}, 192 de 240\n",
      "Tiempo de entrenamiento: 0.7804088592529297 s, score: 0.9432080690590497\n",
      "Probando: {'learning_rate': 0.1, 'max_depth': 50, 'n_estimators': 500}, 193 de 240\n",
      "Tiempo de entrenamiento: 0.6567747592926025 s, score: 0.9406127149964147\n",
      "Probando: {'learning_rate': 0.1, 'max_depth': 50, 'n_estimators': 1000}, 194 de 240\n",
      "Tiempo de entrenamiento: 0.9742817878723145 s, score: 0.942055636358302\n",
      "Probando: {'learning_rate': 0.1, 'max_depth': 100, 'n_estimators': 50}, 195 de 240\n",
      "Tiempo de entrenamiento: 0.4246246814727783 s, score: 0.9431081841343143\n",
      "Probando: {'learning_rate': 0.1, 'max_depth': 100, 'n_estimators': 100}, 196 de 240\n",
      "Tiempo de entrenamiento: 0.482403039932251 s, score: 0.9437432582482309\n",
      "Probando: {'learning_rate': 0.1, 'max_depth': 100, 'n_estimators': 200}, 197 de 240\n",
      "Tiempo de entrenamiento: 0.6255736351013184 s, score: 0.9412528190544409\n",
      "Probando: {'learning_rate': 0.1, 'max_depth': 100, 'n_estimators': 500}, 198 de 240\n",
      "Tiempo de entrenamiento: 0.5868110656738281 s, score: 0.9437963746780615\n",
      "Probando: {'learning_rate': 0.1, 'max_depth': 100, 'n_estimators': 1000}, 199 de 240\n",
      "Tiempo de entrenamiento: 0.8570456504821777 s, score: 0.9395322428886526\n",
      "Probando: {'learning_rate': 0.5, 'max_depth': 2, 'n_estimators': 50}, 200 de 240\n",
      "Tiempo de entrenamiento: 0.15984225273132324 s, score: 0.941681312459683\n",
      "Probando: {'learning_rate': 0.5, 'max_depth': 2, 'n_estimators': 100}, 201 de 240\n",
      "Tiempo de entrenamiento: 0.22864174842834473 s, score: 0.9334444873239545\n",
      "Probando: {'learning_rate': 0.5, 'max_depth': 2, 'n_estimators': 200}, 202 de 240\n",
      "Tiempo de entrenamiento: 0.512474536895752 s, score: 0.933332923054124\n",
      "Probando: {'learning_rate': 0.5, 'max_depth': 2, 'n_estimators': 500}, 203 de 240\n",
      "Tiempo de entrenamiento: 1.0378849506378174 s, score: 0.9229912924463618\n",
      "Probando: {'learning_rate': 0.5, 'max_depth': 2, 'n_estimators': 1000}, 204 de 240\n",
      "Tiempo de entrenamiento: 2.2581441402435303 s, score: 0.9272253821423019\n",
      "Probando: {'learning_rate': 0.5, 'max_depth': 3, 'n_estimators': 50}, 205 de 240\n",
      "Tiempo de entrenamiento: 0.2522299289703369 s, score: 0.9482245290422422\n",
      "Probando: {'learning_rate': 0.5, 'max_depth': 3, 'n_estimators': 100}, 206 de 240\n",
      "Tiempo de entrenamiento: 0.26593780517578125 s, score: 0.9502478477507745\n",
      "Probando: {'learning_rate': 0.5, 'max_depth': 3, 'n_estimators': 200}, 207 de 240\n",
      "Tiempo de entrenamiento: 0.7892110347747803 s, score: 0.9576085107707388\n",
      "Probando: {'learning_rate': 0.5, 'max_depth': 3, 'n_estimators': 500}, 208 de 240\n",
      "Tiempo de entrenamiento: 1.612621784210205 s, score: 0.9506887085841622\n",
      "Probando: {'learning_rate': 0.5, 'max_depth': 3, 'n_estimators': 1000}, 209 de 240\n",
      "Tiempo de entrenamiento: 2.262108325958252 s, score: 0.9569040971387148\n",
      "Probando: {'learning_rate': 0.5, 'max_depth': 5, 'n_estimators': 50}, 210 de 240\n",
      "Tiempo de entrenamiento: 0.18933510780334473 s, score: 0.9753227565858738\n",
      "Probando: {'learning_rate': 0.5, 'max_depth': 5, 'n_estimators': 100}, 211 de 240\n"
     ]
    },
    {
     "name": "stdout",
     "output_type": "stream",
     "text": [
      "Tiempo de entrenamiento: 0.5787510871887207 s, score: 0.9618059400773982\n",
      "Probando: {'learning_rate': 0.5, 'max_depth': 5, 'n_estimators': 200}, 212 de 240\n",
      "Tiempo de entrenamiento: 0.853989839553833 s, score: 0.9816599849054451\n",
      "Probando: {'learning_rate': 0.5, 'max_depth': 5, 'n_estimators': 500}, 213 de 240\n",
      "Tiempo de entrenamiento: 0.812842607498169 s, score: 0.9812899571729572\n",
      "Probando: {'learning_rate': 0.5, 'max_depth': 5, 'n_estimators': 1000}, 214 de 240\n",
      "Tiempo de entrenamiento: 1.1188411712646484 s, score: 0.9745208167970049\n",
      "Probando: {'learning_rate': 0.5, 'max_depth': 10, 'n_estimators': 50}, 215 de 240\n",
      "Tiempo de entrenamiento: 0.2415781021118164 s, score: 0.9639766051404082\n",
      "Probando: {'learning_rate': 0.5, 'max_depth': 10, 'n_estimators': 100}, 216 de 240\n",
      "Tiempo de entrenamiento: 0.2040235996246338 s, score: 0.9594882026916746\n",
      "Probando: {'learning_rate': 0.5, 'max_depth': 10, 'n_estimators': 200}, 217 de 240\n",
      "Tiempo de entrenamiento: 0.16370272636413574 s, score: 0.964346625504759\n",
      "Probando: {'learning_rate': 0.5, 'max_depth': 10, 'n_estimators': 500}, 218 de 240\n",
      "Tiempo de entrenamiento: 0.29964160919189453 s, score: 0.9643717888009228\n",
      "Probando: {'learning_rate': 0.5, 'max_depth': 10, 'n_estimators': 1000}, 219 de 240\n",
      "Tiempo de entrenamiento: 0.41441893577575684 s, score: 0.9639284514237499\n",
      "Probando: {'learning_rate': 0.5, 'max_depth': 20, 'n_estimators': 50}, 220 de 240\n",
      "Tiempo de entrenamiento: 0.09069514274597168 s, score: 0.9301482000214605\n",
      "Probando: {'learning_rate': 0.5, 'max_depth': 20, 'n_estimators': 100}, 221 de 240\n",
      "Tiempo de entrenamiento: 0.11270976066589355 s, score: 0.9463568042785531\n",
      "Probando: {'learning_rate': 0.5, 'max_depth': 20, 'n_estimators': 200}, 222 de 240\n",
      "Tiempo de entrenamiento: 0.10521578788757324 s, score: 0.9374160933352453\n",
      "Probando: {'learning_rate': 0.5, 'max_depth': 20, 'n_estimators': 500}, 223 de 240\n",
      "Tiempo de entrenamiento: 0.32834720611572266 s, score: 0.9428642037830746\n",
      "Probando: {'learning_rate': 0.5, 'max_depth': 20, 'n_estimators': 1000}, 224 de 240\n",
      "Tiempo de entrenamiento: 0.39887046813964844 s, score: 0.940243636671865\n",
      "Probando: {'learning_rate': 0.5, 'max_depth': 30, 'n_estimators': 50}, 225 de 240\n",
      "Tiempo de entrenamiento: 0.07918238639831543 s, score: 0.9261548077408019\n",
      "Probando: {'learning_rate': 0.5, 'max_depth': 30, 'n_estimators': 100}, 226 de 240\n",
      "Tiempo de entrenamiento: 0.1519792079925537 s, score: 0.9466192367189237\n",
      "Probando: {'learning_rate': 0.5, 'max_depth': 30, 'n_estimators': 200}, 227 de 240\n",
      "Tiempo de entrenamiento: 0.19427204132080078 s, score: 0.9462949918514719\n",
      "Probando: {'learning_rate': 0.5, 'max_depth': 30, 'n_estimators': 500}, 228 de 240\n",
      "Tiempo de entrenamiento: 0.273348331451416 s, score: 0.9428501054325163\n",
      "Probando: {'learning_rate': 0.5, 'max_depth': 30, 'n_estimators': 1000}, 229 de 240\n",
      "Tiempo de entrenamiento: 0.38553357124328613 s, score: 0.9402859221978919\n",
      "Probando: {'learning_rate': 0.5, 'max_depth': 50, 'n_estimators': 50}, 230 de 240\n",
      "Tiempo de entrenamiento: 0.1061248779296875 s, score: 0.9428564316066814\n",
      "Probando: {'learning_rate': 0.5, 'max_depth': 50, 'n_estimators': 100}, 231 de 240\n",
      "Tiempo de entrenamiento: 0.17549347877502441 s, score: 0.9434746390351775\n",
      "Probando: {'learning_rate': 0.5, 'max_depth': 50, 'n_estimators': 200}, 232 de 240\n",
      "Tiempo de entrenamiento: 0.14952754974365234 s, score: 0.9469387071377148\n",
      "Probando: {'learning_rate': 0.5, 'max_depth': 50, 'n_estimators': 500}, 233 de 240\n",
      "Tiempo de entrenamiento: 0.22031569480895996 s, score: 0.9315037131450326\n",
      "Probando: {'learning_rate': 0.5, 'max_depth': 50, 'n_estimators': 1000}, 234 de 240\n",
      "Tiempo de entrenamiento: 0.4371788501739502 s, score: 0.9340031472664341\n",
      "Probando: {'learning_rate': 0.5, 'max_depth': 100, 'n_estimators': 50}, 235 de 240\n",
      "Tiempo de entrenamiento: 0.09666943550109863 s, score: 0.9414153763991876\n",
      "Probando: {'learning_rate': 0.5, 'max_depth': 100, 'n_estimators': 100}, 236 de 240\n",
      "Tiempo de entrenamiento: 0.17717814445495605 s, score: 0.9383012110925839\n",
      "Probando: {'learning_rate': 0.5, 'max_depth': 100, 'n_estimators': 200}, 237 de 240\n",
      "Tiempo de entrenamiento: 0.11682319641113281 s, score: 0.9396066695633402\n",
      "Probando: {'learning_rate': 0.5, 'max_depth': 100, 'n_estimators': 500}, 238 de 240\n",
      "Tiempo de entrenamiento: 0.22058486938476562 s, score: 0.9413945455156567\n",
      "Probando: {'learning_rate': 0.5, 'max_depth': 100, 'n_estimators': 1000}, 239 de 240\n",
      "Tiempo de entrenamiento: 0.33431434631347656 s, score: 0.9398005385610576\n",
      "Best Score: 0.9816599849054451\n",
      "Best Parameters: {'learning_rate': 0.5, 'max_depth': 5, 'n_estimators': 200}\n"
     ]
    }
   ],
   "source": [
    "g = GridSearch(GradientBoostingRegressor(), X_train, X_test, Y6_train, Y6_test, parameters, verbose=True)\n",
    "clf6 = GradientBoostingRegressor(**g).fit(X_train, np.ravel(Y6_train))"
   ]
  },
  {
   "cell_type": "raw",
   "metadata": {},
   "source": [
    "clf1 = GridSearchCV(GradientBoostingRegressor(), parameters, n_jobs=-1)\n",
    "startTime = time.time()\n",
    "clf1.fit(X_train, np.ravel(Y1_train))\n",
    "elapsedTime = time.time() - startTime\n",
    "print('{} s'.format(int(elapsedTime)))\n",
    "print(clf1.score(X_test, Y1_test))\n",
    "print(clf1.best_params_)"
   ]
  },
  {
   "cell_type": "raw",
   "metadata": {},
   "source": [
    "clf2 = GridSearchCV(GradientBoostingRegressor(), parameters, n_jobs=-1)\n",
    "startTime = time.time()\n",
    "clf2.fit(X_train, np.ravel(Y2_train))\n",
    "elapsedTime = time.time() - startTime\n",
    "print('{} s'.format(int(elapsedTime)))\n",
    "print(clf2.score(X_test, Y2_test))\n",
    "print(clf2.best_params_)"
   ]
  },
  {
   "cell_type": "raw",
   "metadata": {},
   "source": [
    "clf3 = GridSearchCV(GradientBoostingRegressor(), parameters, n_jobs=-1)\n",
    "startTime = time.time()\n",
    "clf3.fit(X_train, np.ravel(Y3_train))\n",
    "elapsedTime = time.time() - startTime\n",
    "print('{} s'.format(int(elapsedTime)))\n",
    "print(clf3.score(X_test, Y3_test))\n",
    "print(clf3.best_params_)"
   ]
  },
  {
   "cell_type": "raw",
   "metadata": {},
   "source": [
    "clf4 = GridSearchCV(GradientBoostingRegressor(), parameters, n_jobs=-1)\n",
    "startTime = time.time()\n",
    "clf4.fit(X_train, np.ravel(Y4_train))\n",
    "elapsedTime = time.time() - startTime\n",
    "print('{} s'.format(int(elapsedTime)))\n",
    "print(clf4.score(X_test, Y4_test))\n",
    "print(clf4.best_params_)"
   ]
  },
  {
   "cell_type": "raw",
   "metadata": {},
   "source": [
    "clf5 = GridSearchCV(GradientBoostingRegressor(), parameters, n_jobs=-1)\n",
    "startTime = time.time()\n",
    "clf5.fit(X_train, np.ravel(Y5_train))\n",
    "elapsedTime = time.time() - startTime\n",
    "print('{} s'.format(int(elapsedTime)))\n",
    "print(clf5.score(X_test, Y5_test))\n",
    "print(clf5.best_params_)"
   ]
  },
  {
   "cell_type": "raw",
   "metadata": {},
   "source": [
    "clf6 = GridSearchCV(GradientBoostingRegressor(), parameters, n_jobs=-1)\n",
    "startTime = time.time()\n",
    "clf6.fit(X_train, np.ravel(Y6_train))\n",
    "elapsedTime = time.time() - startTime\n",
    "print('{} s'.format(int(elapsedTime)))\n",
    "print(clf6.score(X_test, Y6_test))\n",
    "print(clf6.best_params_)"
   ]
  },
  {
   "cell_type": "markdown",
   "metadata": {},
   "source": [
    "## Test for each year"
   ]
  },
  {
   "cell_type": "code",
   "execution_count": null,
   "metadata": {
    "scrolled": true
   },
   "outputs": [],
   "source": [
    "np.abs(clf1.predict(X_test.iloc[0::4]) - np.array(Y1_test.iloc[0::4][0])).mean()"
   ]
  },
  {
   "cell_type": "code",
   "execution_count": null,
   "metadata": {},
   "outputs": [],
   "source": [
    "np.abs(clf1.predict(X_test.iloc[1::4]) - np.array(Y1_test.iloc[1::4][0])).mean()"
   ]
  },
  {
   "cell_type": "code",
   "execution_count": null,
   "metadata": {},
   "outputs": [],
   "source": [
    "np.abs(clf1.predict(X_test.iloc[2::4]) - np.array(Y1_test.iloc[2::4][0])).mean()"
   ]
  },
  {
   "cell_type": "code",
   "execution_count": null,
   "metadata": {},
   "outputs": [],
   "source": [
    "np.abs(clf1.predict(X_test.iloc[3::4]) - np.array(Y1_test.iloc[3::4][0])).mean()"
   ]
  },
  {
   "cell_type": "markdown",
   "metadata": {},
   "source": [
    "## One concrete example"
   ]
  },
  {
   "cell_type": "code",
   "execution_count": null,
   "metadata": {},
   "outputs": [],
   "source": [
    "i = 120\n",
    "scalerY.inverse_transform([[clf1.predict([X_test.iloc[i]])[0], clf2.predict([X_test.iloc[i]])[0], clf3.predict([X_test.iloc[i]])[0], \n",
    "                          clf4.predict([X_test.iloc[i]])[0], clf5.predict([X_test.iloc[i]])[0], clf6.predict([X_test.iloc[i]])[0], 0]])"
   ]
  },
  {
   "cell_type": "code",
   "execution_count": null,
   "metadata": {},
   "outputs": [],
   "source": [
    "scalerY.inverse_transform([Y_test.iloc[i]])"
   ]
  },
  {
   "cell_type": "markdown",
   "metadata": {},
   "source": [
    "## Probamos con España"
   ]
  },
  {
   "cell_type": "code",
   "execution_count": 7,
   "metadata": {},
   "outputs": [],
   "source": [
    "country = 'ESP'\n",
    "esp = Complete[Complete.COU == country]"
   ]
  },
  {
   "cell_type": "markdown",
   "metadata": {},
   "source": [
    "### Municipal"
   ]
  },
  {
   "cell_type": "code",
   "execution_count": null,
   "metadata": {},
   "outputs": [],
   "source": [
    "years = list(esp.Year)\n",
    "mun = list(esp.Municipal)\n",
    "predictions = clf1.predict(pd.DataFrame(scalerX.transform(Complete.loc[esp.index[-4:],:][['Built', 'Below Secundary', 'Income Median',\n",
    "       'Population', 'Over 65', 'Over 65 Percentage', 'Over 85',\n",
    "       'Over 85 Percentage', 'Over 50', 'Over 50 Percentage', 'Under 20',\n",
    "       'Under 20 Percentage', 'Income Per Capita', 'Tourism', 'Area',\n",
    "       'Built Area']])))\n",
    "predictions = [a[0] for a in scalerY.inverse_transform([[a,0,0,0,0,0,0] for a in predictions])]"
   ]
  },
  {
   "cell_type": "code",
   "execution_count": null,
   "metadata": {},
   "outputs": [],
   "source": [
    "plt.plot(years, mun, lw=2, label='real')\n",
    "plt.axvline(x=2013.5, c='green', lw=1, ls=':', label='separación')\n",
    "plt.plot(years[-4:], predictions, c='red', lw=2, label='predecido')\n",
    "plt.title(\"Basura municipal en España\")\n",
    "plt.xlabel(\"Año\")\n",
    "plt.ylabel(\"Miles de toneladas\")\n",
    "plt.legend()\n",
    "plt.show()"
   ]
  },
  {
   "cell_type": "markdown",
   "metadata": {},
   "source": [
    "### Household"
   ]
  },
  {
   "cell_type": "code",
   "execution_count": null,
   "metadata": {},
   "outputs": [],
   "source": [
    "years = list(esp.Year)\n",
    "mun = list(esp.Household)\n",
    "predictions = clf2.predict(pd.DataFrame(scalerX.transform(Complete.loc[esp.index[-4:],:][['Built', 'Below Secundary', 'Income Median',\n",
    "       'Population', 'Over 65', 'Over 65 Percentage', 'Over 85',\n",
    "       'Over 85 Percentage', 'Over 50', 'Over 50 Percentage', 'Under 20',\n",
    "       'Under 20 Percentage', 'Income Per Capita', 'Tourism', 'Area',\n",
    "       'Built Area']])))\n",
    "predictions = [a[1] for a in scalerY.inverse_transform([[0,a,0,0,0,0,0] for a in predictions])]"
   ]
  },
  {
   "cell_type": "code",
   "execution_count": null,
   "metadata": {},
   "outputs": [],
   "source": [
    "plt.plot(years, mun, lw=2, label='real')\n",
    "plt.axvline(x=2013.5, c='green', lw=1, ls=':', label='separación')\n",
    "plt.plot(years[-4:], predictions, c='red', lw=2, label='predecido')\n",
    "plt.title(\"Basura doméstica en España\")\n",
    "plt.xlabel(\"Año\")\n",
    "plt.ylabel(\"Miles de toneladas\")\n",
    "plt.legend()\n",
    "plt.show()"
   ]
  },
  {
   "cell_type": "markdown",
   "metadata": {},
   "source": [
    "### Recovered"
   ]
  },
  {
   "cell_type": "code",
   "execution_count": null,
   "metadata": {},
   "outputs": [],
   "source": [
    "years = list(esp.Year)\n",
    "mun = list(esp.Recovered)\n",
    "predictions = clf3.predict(pd.DataFrame(scalerX.transform(Complete.loc[esp.index[-4:],:][['Built', 'Below Secundary', 'Income Median',\n",
    "       'Population', 'Over 65', 'Over 65 Percentage', 'Over 85',\n",
    "       'Over 85 Percentage', 'Over 50', 'Over 50 Percentage', 'Under 20',\n",
    "       'Under 20 Percentage', 'Income Per Capita', 'Tourism', 'Area',\n",
    "       'Built Area']])))\n",
    "predictions = [a[2] for a in scalerY.inverse_transform([[0,0,a,0,0,0,0] for a in predictions])]"
   ]
  },
  {
   "cell_type": "code",
   "execution_count": null,
   "metadata": {},
   "outputs": [],
   "source": [
    "plt.plot(years, mun, lw=2, label='real')\n",
    "plt.axvline(x=2013.5, c='green', lw=1, ls=':', label='separación')\n",
    "plt.plot(years[-4:], predictions, c='red', lw=2, label='predecido')\n",
    "plt.title(\"Basura recuperada en España\")\n",
    "plt.xlabel(\"Año\")\n",
    "plt.ylabel(\"Miles de toneladas\")\n",
    "plt.legend()\n",
    "plt.show()"
   ]
  },
  {
   "cell_type": "markdown",
   "metadata": {},
   "source": [
    "### Recicled"
   ]
  },
  {
   "cell_type": "code",
   "execution_count": null,
   "metadata": {},
   "outputs": [],
   "source": [
    "years = list(esp.Year)\n",
    "mun = list(esp.Recicled)\n",
    "predictions = clf4.predict(pd.DataFrame(scalerX.transform(Complete.loc[esp.index[-4:],:][['Built', 'Below Secundary', 'Income Median',\n",
    "       'Population', 'Over 65', 'Over 65 Percentage', 'Over 85',\n",
    "       'Over 85 Percentage', 'Over 50', 'Over 50 Percentage', 'Under 20',\n",
    "       'Under 20 Percentage', 'Income Per Capita', 'Tourism', 'Area',\n",
    "       'Built Area']])))\n",
    "predictions = [a[3] for a in scalerY.inverse_transform([[0,0,0,a,0,0,0] for a in predictions])]"
   ]
  },
  {
   "cell_type": "code",
   "execution_count": null,
   "metadata": {
    "scrolled": false
   },
   "outputs": [],
   "source": [
    "plt.plot(years, mun, lw=2, label='real')\n",
    "plt.axvline(x=2013.5, c='green', lw=1, ls=':', label='separación')\n",
    "plt.plot(years[-4:], predictions, c='red', lw=2, label='predecido')\n",
    "plt.title(\"Basura reciclada en España\")\n",
    "plt.xlabel(\"Año\")\n",
    "plt.ylabel(\"Miles de toneladas\")\n",
    "plt.legend()\n",
    "plt.show()"
   ]
  },
  {
   "cell_type": "markdown",
   "metadata": {},
   "source": [
    "### Compost"
   ]
  },
  {
   "cell_type": "code",
   "execution_count": null,
   "metadata": {},
   "outputs": [],
   "source": [
    "years = list(esp.Year)\n",
    "mun = list(esp.Compost)\n",
    "predictions = clf5.predict(pd.DataFrame(scalerX.transform(Complete.loc[esp.index[-4:],:][['Built', 'Below Secundary', 'Income Median',\n",
    "       'Population', 'Over 65', 'Over 65 Percentage', 'Over 85',\n",
    "       'Over 85 Percentage', 'Over 50', 'Over 50 Percentage', 'Under 20',\n",
    "       'Under 20 Percentage', 'Income Per Capita', 'Tourism', 'Area',\n",
    "       'Built Area']])))\n",
    "predictions = [a[4] for a in scalerY.inverse_transform([[0,0,0,0,a,0,0] for a in predictions])]"
   ]
  },
  {
   "cell_type": "code",
   "execution_count": null,
   "metadata": {},
   "outputs": [],
   "source": [
    "plt.plot(years, mun, lw=2, label='real')\n",
    "plt.axvline(x=2013.5, c='green', lw=1, ls=':', label='separación')\n",
    "plt.plot(years[-4:], predictions, c='red', lw=2, label='predecido')\n",
    "plt.title(\"Basura compostada en España\")\n",
    "plt.xlabel(\"Año\")\n",
    "plt.ylabel(\"Miles de toneladas\")\n",
    "plt.legend()\n",
    "plt.show()"
   ]
  },
  {
   "cell_type": "markdown",
   "metadata": {},
   "source": [
    "### Disposal"
   ]
  },
  {
   "cell_type": "code",
   "execution_count": 8,
   "metadata": {},
   "outputs": [],
   "source": [
    "years = list(esp.Year)\n",
    "mun = list(esp.Disposal)\n",
    "predictions = clf6.predict(pd.DataFrame(scalerX.transform(Complete.loc[esp.index[-4:],:][['Built', 'Below Secundary', 'Income Median',\n",
    "       'Population', 'Over 65', 'Over 65 Percentage', 'Over 85',\n",
    "       'Over 85 Percentage', 'Over 50', 'Over 50 Percentage', 'Under 20',\n",
    "       'Under 20 Percentage', 'Income Per Capita', 'Tourism', 'Area',\n",
    "       'Built Area']])))\n",
    "predictions = [a[5] for a in scalerY.inverse_transform([[0,0,0,0,0,a,0] for a in predictions])]"
   ]
  },
  {
   "cell_type": "code",
   "execution_count": 9,
   "metadata": {
    "scrolled": false
   },
   "outputs": [
    {
     "data": {
      "image/png": "[encoded data removed]",
      "text/plain": [
       "<Figure size 432x288 with 1 Axes>"
      ]
     },
     "metadata": {
      "needs_background": "light"
     },
     "output_type": "display_data"
    }
   ],
   "source": [
    "plt.plot(years, mun, lw=2, label='real')\n",
    "plt.axvline(x=2013.5, c='green', lw=1, ls=':', label='separación')\n",
    "plt.plot(years[-4:], predictions, c='red', lw=2, label='predecido')\n",
    "plt.title(\"Basura deshechada en España\")\n",
    "plt.xlabel(\"Año\")\n",
    "plt.ylabel(\"Miles de toneladas\")\n",
    "plt.legend()\n",
    "plt.show()"
   ]
  },
  {
   "cell_type": "code",
   "execution_count": null,
   "metadata": {},
   "outputs": [],
   "source": []
  }
 ],
 "metadata": {
  "kernelspec": {
   "display_name": "Python 3",
   "language": "python",
   "name": "python3"
  },
  "language_info": {
   "codemirror_mode": {
    "name": "ipython",
    "version": 3
   },
   "file_extension": ".py",
   "mimetype": "text/x-python",
   "name": "python",
   "nbconvert_exporter": "python",
   "pygments_lexer": "ipython3",
   "version": "3.6.9"
  }
 },
 "nbformat": 4,
 "nbformat_minor": 4
}
