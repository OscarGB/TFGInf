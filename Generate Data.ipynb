{
 "cells": [
  {
   "cell_type": "code",
   "execution_count": 105,
   "metadata": {},
   "outputs": [],
   "source": [
    "import pandas as pd\n",
    "import matplotlib.pyplot as plt\n",
    "import numpy as np"
   ]
  },
  {
   "cell_type": "markdown",
   "metadata": {},
   "source": [
    "## Cargar datos"
   ]
  },
  {
   "cell_type": "code",
   "execution_count": 106,
   "metadata": {},
   "outputs": [],
   "source": [
    "construido = pd.read_parquet(\"construido.parquet\")\n",
    "educacion = pd.read_parquet(\"education2.parquet\")\n",
    "income = pd.read_parquet(\"income.parquet\")\n",
    "over65 = pd.read_parquet(\"over65.parquet\")\n",
    "poblacion = pd.read_parquet(\"poblacion.parquet\")\n",
    "renta = pd.read_parquet(\"renta.parquet\")\n",
    "turismo = pd.read_parquet(\"tourism.parquet\")\n",
    "waste = pd.read_parquet(\"waste.parquet\")"
   ]
  },
  {
   "cell_type": "markdown",
   "metadata": {},
   "source": [
    "## Generar columnas de íncide (País ISO, nombre país y año)"
   ]
  },
  {
   "cell_type": "code",
   "execution_count": 107,
   "metadata": {},
   "outputs": [
    {
     "name": "stdout",
     "output_type": "stream",
     "text": [
      "28\n",
      "43\n",
      "43\n",
      "1204\n",
      "1204\n",
      "1204\n"
     ]
    }
   ],
   "source": [
    "yea = list(waste.YEA.unique())\n",
    "yea.sort()\n",
    "print(len(yea))\n",
    "\n",
    "cou_rem = ['OECD - Total', 'OECD - Europe', 'OECD Asia Oceania', 'OECD America']\n",
    "cou = waste.Country.unique()\n",
    "countr = [a for a in cou if a not in cou_rem]\n",
    "print(len(countr))\n",
    "\n",
    "cou_rem = ['OECD', 'OECDE', 'OECDAO', 'OECDAM']\n",
    "cou = waste.COU.unique()\n",
    "COUNTR = [a for a in cou if a not in cou_rem]\n",
    "print(len(COUNTR))\n",
    "\n",
    "years = yea*len(countr)\n",
    "print(len(years))\n",
    "\n",
    "countries = [item for item in countr for i in range(len(yea))]\n",
    "print(len(countries))\n",
    "\n",
    "COUNTRIES = [item for item in COUNTR for i in range(len(yea))]\n",
    "print(len(COUNTRIES))"
   ]
  },
  {
   "cell_type": "code",
   "execution_count": 108,
   "metadata": {},
   "outputs": [
    {
     "data": {
      "text/html": [
       "<div>\n",
       "<style scoped>\n",
       "    .dataframe tbody tr th:only-of-type {\n",
       "        vertical-align: middle;\n",
       "    }\n",
       "\n",
       "    .dataframe tbody tr th {\n",
       "        vertical-align: top;\n",
       "    }\n",
       "\n",
       "    .dataframe thead th {\n",
       "        text-align: right;\n",
       "    }\n",
       "</style>\n",
       "<table border=\"1\" class=\"dataframe\">\n",
       "  <thead>\n",
       "    <tr style=\"text-align: right;\">\n",
       "      <th></th>\n",
       "      <th>Country</th>\n",
       "      <th>Year</th>\n",
       "      <th>COU</th>\n",
       "    </tr>\n",
       "  </thead>\n",
       "  <tbody>\n",
       "    <tr>\n",
       "      <th>0</th>\n",
       "      <td>Australia</td>\n",
       "      <td>1990</td>\n",
       "      <td>AUS</td>\n",
       "    </tr>\n",
       "    <tr>\n",
       "      <th>1</th>\n",
       "      <td>Australia</td>\n",
       "      <td>1991</td>\n",
       "      <td>AUS</td>\n",
       "    </tr>\n",
       "    <tr>\n",
       "      <th>2</th>\n",
       "      <td>Australia</td>\n",
       "      <td>1992</td>\n",
       "      <td>AUS</td>\n",
       "    </tr>\n",
       "    <tr>\n",
       "      <th>3</th>\n",
       "      <td>Australia</td>\n",
       "      <td>1993</td>\n",
       "      <td>AUS</td>\n",
       "    </tr>\n",
       "    <tr>\n",
       "      <th>4</th>\n",
       "      <td>Australia</td>\n",
       "      <td>1994</td>\n",
       "      <td>AUS</td>\n",
       "    </tr>\n",
       "  </tbody>\n",
       "</table>\n",
       "</div>"
      ],
      "text/plain": [
       "     Country  Year  COU\n",
       "0  Australia  1990  AUS\n",
       "1  Australia  1991  AUS\n",
       "2  Australia  1992  AUS\n",
       "3  Australia  1993  AUS\n",
       "4  Australia  1994  AUS"
      ]
     },
     "execution_count": 108,
     "metadata": {},
     "output_type": "execute_result"
    }
   ],
   "source": [
    "df = pd.DataFrame({'Country':countries, 'Year':years, 'COU':COUNTRIES})\n",
    "df.head()"
   ]
  },
  {
   "cell_type": "markdown",
   "metadata": {},
   "source": [
    "## Terreno construido\n",
    "Cuidado, toma el valor anterior conocido, no interpola ni nada."
   ]
  },
  {
   "cell_type": "code",
   "execution_count": 109,
   "metadata": {},
   "outputs": [
    {
     "data": {
      "text/html": [
       "<div>\n",
       "<style scoped>\n",
       "    .dataframe tbody tr th:only-of-type {\n",
       "        vertical-align: middle;\n",
       "    }\n",
       "\n",
       "    .dataframe tbody tr th {\n",
       "        vertical-align: top;\n",
       "    }\n",
       "\n",
       "    .dataframe thead th {\n",
       "        text-align: right;\n",
       "    }\n",
       "</style>\n",
       "<table border=\"1\" class=\"dataframe\">\n",
       "  <thead>\n",
       "    <tr style=\"text-align: right;\">\n",
       "      <th></th>\n",
       "      <th>Country</th>\n",
       "      <th>Year</th>\n",
       "      <th>COU</th>\n",
       "      <th>Built</th>\n",
       "    </tr>\n",
       "  </thead>\n",
       "  <tbody>\n",
       "    <tr>\n",
       "      <th>0</th>\n",
       "      <td>Australia</td>\n",
       "      <td>1990</td>\n",
       "      <td>AUS</td>\n",
       "      <td>0.12103</td>\n",
       "    </tr>\n",
       "    <tr>\n",
       "      <th>1</th>\n",
       "      <td>Australia</td>\n",
       "      <td>1991</td>\n",
       "      <td>AUS</td>\n",
       "      <td>0.12103</td>\n",
       "    </tr>\n",
       "    <tr>\n",
       "      <th>2</th>\n",
       "      <td>Australia</td>\n",
       "      <td>1992</td>\n",
       "      <td>AUS</td>\n",
       "      <td>0.12103</td>\n",
       "    </tr>\n",
       "    <tr>\n",
       "      <th>3</th>\n",
       "      <td>Australia</td>\n",
       "      <td>1993</td>\n",
       "      <td>AUS</td>\n",
       "      <td>0.12103</td>\n",
       "    </tr>\n",
       "    <tr>\n",
       "      <th>4</th>\n",
       "      <td>Australia</td>\n",
       "      <td>1994</td>\n",
       "      <td>AUS</td>\n",
       "      <td>0.12103</td>\n",
       "    </tr>\n",
       "  </tbody>\n",
       "</table>\n",
       "</div>"
      ],
      "text/plain": [
       "     Country  Year  COU    Built\n",
       "0  Australia  1990  AUS  0.12103\n",
       "1  Australia  1991  AUS  0.12103\n",
       "2  Australia  1992  AUS  0.12103\n",
       "3  Australia  1993  AUS  0.12103\n",
       "4  Australia  1994  AUS  0.12103"
      ]
     },
     "execution_count": 109,
     "metadata": {},
     "output_type": "execute_result"
    }
   ],
   "source": [
    "df[\"Built\"] = [0]*len(COUNTRIES)\n",
    "construido = construido[construido.MEAS == 'PCNT']\n",
    "for a in list(df.COU.unique()):\n",
    "    for b in list(df.Year.unique()):\n",
    "        df.loc[(df.COU == a) & (df.Year == b), \"Built\"] = \\\n",
    "            float(construido[(construido.COU == a) & (construido.Year <= b)].tail(1).Value)\n",
    "df.head()"
   ]
  },
  {
   "cell_type": "markdown",
   "metadata": {},
   "source": [
    "## Personas sin la secundaria\n",
    "Cuidado, toma el valor anterior conocido, no interpola ni nada, en caso de no conocer el dato, el default es 100."
   ]
  },
  {
   "cell_type": "code",
   "execution_count": 110,
   "metadata": {},
   "outputs": [
    {
     "data": {
      "text/html": [
       "<div>\n",
       "<style scoped>\n",
       "    .dataframe tbody tr th:only-of-type {\n",
       "        vertical-align: middle;\n",
       "    }\n",
       "\n",
       "    .dataframe tbody tr th {\n",
       "        vertical-align: top;\n",
       "    }\n",
       "\n",
       "    .dataframe thead th {\n",
       "        text-align: right;\n",
       "    }\n",
       "</style>\n",
       "<table border=\"1\" class=\"dataframe\">\n",
       "  <thead>\n",
       "    <tr style=\"text-align: right;\">\n",
       "      <th></th>\n",
       "      <th>Country</th>\n",
       "      <th>Year</th>\n",
       "      <th>COU</th>\n",
       "      <th>Built</th>\n",
       "      <th>Below Secundary</th>\n",
       "    </tr>\n",
       "  </thead>\n",
       "  <tbody>\n",
       "    <tr>\n",
       "      <th>0</th>\n",
       "      <td>Australia</td>\n",
       "      <td>1990</td>\n",
       "      <td>AUS</td>\n",
       "      <td>0.12103</td>\n",
       "      <td>100.000000</td>\n",
       "    </tr>\n",
       "    <tr>\n",
       "      <th>1</th>\n",
       "      <td>Australia</td>\n",
       "      <td>1991</td>\n",
       "      <td>AUS</td>\n",
       "      <td>0.12103</td>\n",
       "      <td>44.127056</td>\n",
       "    </tr>\n",
       "    <tr>\n",
       "      <th>2</th>\n",
       "      <td>Australia</td>\n",
       "      <td>1992</td>\n",
       "      <td>AUS</td>\n",
       "      <td>0.12103</td>\n",
       "      <td>44.127056</td>\n",
       "    </tr>\n",
       "    <tr>\n",
       "      <th>3</th>\n",
       "      <td>Australia</td>\n",
       "      <td>1993</td>\n",
       "      <td>AUS</td>\n",
       "      <td>0.12103</td>\n",
       "      <td>47.159046</td>\n",
       "    </tr>\n",
       "    <tr>\n",
       "      <th>4</th>\n",
       "      <td>Australia</td>\n",
       "      <td>1994</td>\n",
       "      <td>AUS</td>\n",
       "      <td>0.12103</td>\n",
       "      <td>49.802025</td>\n",
       "    </tr>\n",
       "  </tbody>\n",
       "</table>\n",
       "</div>"
      ],
      "text/plain": [
       "     Country  Year  COU    Built  Below Secundary\n",
       "0  Australia  1990  AUS  0.12103       100.000000\n",
       "1  Australia  1991  AUS  0.12103        44.127056\n",
       "2  Australia  1992  AUS  0.12103        44.127056\n",
       "3  Australia  1993  AUS  0.12103        47.159046\n",
       "4  Australia  1994  AUS  0.12103        49.802025"
      ]
     },
     "execution_count": 110,
     "metadata": {},
     "output_type": "execute_result"
    }
   ],
   "source": [
    "df[\"Below Secundary\"] = [100]*len(COUNTRIES)\n",
    "for a in list(df.COU.unique()):\n",
    "    for b in list(df.Year.unique()):\n",
    "        if educacion[(educacion.LOCATION == a) & (educacion.TIME <= b)].empty :\n",
    "            c = 100\n",
    "        else:\n",
    "            c = float(educacion[(educacion.LOCATION == a) & (educacion.TIME <= b)].tail(1).Value)\n",
    "        df.loc[(df.COU == a) & (df.Year == b), \"Below Secundary\"] = c\n",
    "df.head()"
   ]
  },
  {
   "cell_type": "markdown",
   "metadata": {},
   "source": [
    "## Mediana de ingresos\n",
    "Cuidado, toma el valor anterior conocido, no interpola ni nada, en caso de no conocer el dato, el default es 0."
   ]
  },
  {
   "cell_type": "code",
   "execution_count": 119,
   "metadata": {},
   "outputs": [
    {
     "data": {
      "text/html": [
       "<div>\n",
       "<style scoped>\n",
       "    .dataframe tbody tr th:only-of-type {\n",
       "        vertical-align: middle;\n",
       "    }\n",
       "\n",
       "    .dataframe tbody tr th {\n",
       "        vertical-align: top;\n",
       "    }\n",
       "\n",
       "    .dataframe thead th {\n",
       "        text-align: right;\n",
       "    }\n",
       "</style>\n",
       "<table border=\"1\" class=\"dataframe\">\n",
       "  <thead>\n",
       "    <tr style=\"text-align: right;\">\n",
       "      <th></th>\n",
       "      <th>Country</th>\n",
       "      <th>Year</th>\n",
       "      <th>COU</th>\n",
       "      <th>Built</th>\n",
       "      <th>Below Secundary</th>\n",
       "      <th>Income Median</th>\n",
       "    </tr>\n",
       "  </thead>\n",
       "  <tbody>\n",
       "    <tr>\n",
       "      <th>0</th>\n",
       "      <td>Australia</td>\n",
       "      <td>1990</td>\n",
       "      <td>AUS</td>\n",
       "      <td>0.12103</td>\n",
       "      <td>100.000000</td>\n",
       "      <td>0.0</td>\n",
       "    </tr>\n",
       "    <tr>\n",
       "      <th>1</th>\n",
       "      <td>Australia</td>\n",
       "      <td>1991</td>\n",
       "      <td>AUS</td>\n",
       "      <td>0.12103</td>\n",
       "      <td>44.127056</td>\n",
       "      <td>0.0</td>\n",
       "    </tr>\n",
       "    <tr>\n",
       "      <th>2</th>\n",
       "      <td>Australia</td>\n",
       "      <td>1992</td>\n",
       "      <td>AUS</td>\n",
       "      <td>0.12103</td>\n",
       "      <td>44.127056</td>\n",
       "      <td>0.0</td>\n",
       "    </tr>\n",
       "    <tr>\n",
       "      <th>3</th>\n",
       "      <td>Australia</td>\n",
       "      <td>1993</td>\n",
       "      <td>AUS</td>\n",
       "      <td>0.12103</td>\n",
       "      <td>47.159046</td>\n",
       "      <td>0.0</td>\n",
       "    </tr>\n",
       "    <tr>\n",
       "      <th>4</th>\n",
       "      <td>Australia</td>\n",
       "      <td>1994</td>\n",
       "      <td>AUS</td>\n",
       "      <td>0.12103</td>\n",
       "      <td>49.802025</td>\n",
       "      <td>0.0</td>\n",
       "    </tr>\n",
       "  </tbody>\n",
       "</table>\n",
       "</div>"
      ],
      "text/plain": [
       "     Country  Year  COU    Built  Below Secundary  Income Median\n",
       "0  Australia  1990  AUS  0.12103       100.000000            0.0\n",
       "1  Australia  1991  AUS  0.12103        44.127056            0.0\n",
       "2  Australia  1992  AUS  0.12103        44.127056            0.0\n",
       "3  Australia  1993  AUS  0.12103        47.159046            0.0\n",
       "4  Australia  1994  AUS  0.12103        49.802025            0.0"
      ]
     },
     "execution_count": 119,
     "metadata": {},
     "output_type": "execute_result"
    }
   ],
   "source": [
    "df[\"Income Median\"] = [0]*len(COUNTRIES)\n",
    "for a in list(df.COU.unique()):\n",
    "    for b in list(df.Year.unique()):\n",
    "        if income[(income.LOCATION == a) & (income.TIME <= b) & (income.MEASURE == \"MEDIANC\")].empty :\n",
    "            c = 0\n",
    "        else:\n",
    "            c = float(income[(income.LOCATION == a) & (income.Year <= b) & (income.MEASURE == \"MEDIANC\")].tail(1).Value)\n",
    "        df.loc[(df.COU == a) & (df.Year == b), \"Income Median\"] = c\n",
    "df.head()"
   ]
  },
  {
   "cell_type": "code",
   "execution_count": null,
   "metadata": {},
   "outputs": [],
   "source": []
  }
 ],
 "metadata": {
  "kernelspec": {
   "display_name": "Python 3",
   "language": "python",
   "name": "python3"
  },
  "language_info": {
   "codemirror_mode": {
    "name": "ipython",
    "version": 3
   },
   "file_extension": ".py",
   "mimetype": "text/x-python",
   "name": "python",
   "nbconvert_exporter": "python",
   "pygments_lexer": "ipython3",
   "version": "3.6.9"
  }
 },
 "nbformat": 4,
 "nbformat_minor": 4
}
