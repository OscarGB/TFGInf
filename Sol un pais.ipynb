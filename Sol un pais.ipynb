{
 "cells": [
  {
   "cell_type": "code",
   "execution_count": 1,
   "metadata": {},
   "outputs": [],
   "source": [
    "import pandas as pd\n",
    "import numpy as np\n",
    "from sklearn import svm\n",
    "from sklearn.multioutput import MultiOutputRegressor\n",
    "from sklearn.ensemble import GradientBoostingRegressor\n",
    "from sklearn.preprocessing import MinMaxScaler\n",
    "import time\n",
    "import matplotlib.pyplot as plt\n",
    "from sklearn.model_selection import GridSearchCV, ParameterGrid"
   ]
  },
  {
   "cell_type": "code",
   "execution_count": 2,
   "metadata": {},
   "outputs": [],
   "source": [
    "parameters = {'kernel':['rbf'],\n",
    "              'C':[0.05 ,0.5, 1, 5, 10, 50, 100, 500, 1000],\n",
    "              'epsilon':[0.1,0.01,0.001, 0.0001]}"
   ]
  },
  {
   "cell_type": "code",
   "execution_count": 3,
   "metadata": {},
   "outputs": [],
   "source": [
    "def GridSearch(rf, X_train, X_test, y_train, y_test, grid, verbose=False, skip=False):\n",
    "    best_score = -10\n",
    "    par = ParameterGrid(grid)\n",
    "    ln = len(par)\n",
    "    i = 0\n",
    "    for g in par:\n",
    "        if skip and i == 46:\n",
    "            continue\n",
    "        if(verbose):\n",
    "            print(f\"Probando: {g}, {i} de {ln}\")\n",
    "        i+=1\n",
    "        rf.set_params(**g)\n",
    "        startTime = time.time()\n",
    "        rf.fit(X_train, np.ravel(y_train))\n",
    "        elapsedTime = time.time() - startTime\n",
    "        score = rf.score(X_test, y_test)\n",
    "        if(verbose):\n",
    "            print(f\"Tiempo de entrenamiento: {elapsedTime} s, score: {score}\")\n",
    "        # save if best\n",
    "        if score > best_score:\n",
    "            best_score = score\n",
    "            best_grid = g\n",
    "    print(f\"Best Score: {best_score}\")\n",
    "    print(f\"Best Parameters: {best_grid}\")\n",
    "    return best_grid"
   ]
  },
  {
   "cell_type": "code",
   "execution_count": 4,
   "metadata": {},
   "outputs": [
    {
     "data": {
      "text/plain": [
       "array(['AUS', 'AUT', 'BEL', 'CAN', 'CZE', 'DNK', 'FIN', 'FRA', 'DEU',\n",
       "       'GRC', 'HUN', 'ISL', 'IRL', 'ITA', 'JPN', 'KOR', 'LUX', 'MEX',\n",
       "       'NLD', 'NZL', 'NOR', 'POL', 'PRT', 'SVK', 'ESP', 'SWE', 'CHE',\n",
       "       'TUR', 'GBR', 'USA', 'BRA', 'CHL', 'CHN', 'EST', 'IDN', 'ISR',\n",
       "       'RUS', 'SVN', 'COL', 'LVA', 'CRI', 'IND', 'LTU'], dtype=object)"
      ]
     },
     "execution_count": 4,
     "metadata": {},
     "output_type": "execute_result"
    }
   ],
   "source": [
    "df = pd.read_parquet(\"dataset.parquet\")\n",
    "df.COU.unique()"
   ]
  },
  {
   "cell_type": "code",
   "execution_count": 59,
   "metadata": {},
   "outputs": [],
   "source": [
    "Year_to_separate = 2010\n",
    "df = pd.read_parquet(\"dataset.parquet\")\n",
    "country = 'BEL'\n",
    "df = df[df.COU == country]\n",
    "Y = df[['Municipal', 'Year']]\n",
    "X = df[[x for x in df.columns if x not in ['Country', 'COU', 'Municipal', 'Household', 'Recovered', 'Recicled', 'Compost', 'Disposal']]]\n",
    "X_train = X[X.Year < Year_to_separate].copy()\n",
    "X_test = X[X.Year >= Year_to_separate].copy()\n",
    "Y_train = Y[X.Year < Year_to_separate].copy()\n",
    "Y_test = Y[X.Year >= Year_to_separate].copy()\n",
    "#X_train = pd.read_parquet(\"Xtime/X_train.parquet\")\n",
    "#X_test = pd.read_parquet(\"Xtime/X_test.parquet\")\n",
    "#Y_train = pd.read_parquet(\"Ytime/Y_train.parquet\")\n",
    "#Y_test = pd.read_parquet(\"Ytime/Y_test.parquet\")\n",
    "X_train.drop(columns={'Year'}, inplace=True)\n",
    "X_test.drop(columns={'Year'}, inplace=True)\n",
    "scalerX = MinMaxScaler().fit(X_train)\n",
    "X_train = pd.DataFrame(scalerX.transform(X_train))\n",
    "X_test = pd.DataFrame(scalerX.transform(X_test))\n",
    "scalerY = MinMaxScaler().fit(Y_train)\n",
    "Y_train = pd.DataFrame(scalerY.transform(Y_train))\n",
    "Y_test = pd.DataFrame(scalerY.transform(Y_test))\n",
    "Y_train = Y_train[[Y_train.columns[0]]]\n",
    "Y_test = Y_test[[Y_test.columns[0]]]"
   ]
  },
  {
   "cell_type": "code",
   "execution_count": 60,
   "metadata": {
    "scrolled": true
   },
   "outputs": [
    {
     "name": "stdout",
     "output_type": "stream",
     "text": [
      "Probando: {'C': 0.05, 'epsilon': 0.1, 'kernel': 'rbf'}, 0 de 36\n",
      "Tiempo de entrenamiento: 0.0022461414337158203 s, score: 0.5590148253730006\n",
      "Probando: {'C': 0.05, 'epsilon': 0.01, 'kernel': 'rbf'}, 1 de 36\n",
      "Tiempo de entrenamiento: 0.0018339157104492188 s, score: 0.1054694273888972\n",
      "Probando: {'C': 0.05, 'epsilon': 0.001, 'kernel': 'rbf'}, 2 de 36\n",
      "Tiempo de entrenamiento: 0.0021545886993408203 s, score: 0.1798154492529479\n",
      "Probando: {'C': 0.05, 'epsilon': 0.0001, 'kernel': 'rbf'}, 3 de 36\n",
      "Tiempo de entrenamiento: 0.002833843231201172 s, score: 0.18727574511247858\n",
      "Probando: {'C': 0.5, 'epsilon': 0.1, 'kernel': 'rbf'}, 4 de 36\n",
      "Tiempo de entrenamiento: 0.0025513172149658203 s, score: 0.7406316318458062\n",
      "Probando: {'C': 0.5, 'epsilon': 0.01, 'kernel': 'rbf'}, 5 de 36\n",
      "Tiempo de entrenamiento: 0.001817941665649414 s, score: 0.5860617535857722\n",
      "Probando: {'C': 0.5, 'epsilon': 0.001, 'kernel': 'rbf'}, 6 de 36\n",
      "Tiempo de entrenamiento: 0.0023186206817626953 s, score: 0.5598854049435606\n",
      "Probando: {'C': 0.5, 'epsilon': 0.0001, 'kernel': 'rbf'}, 7 de 36\n",
      "Tiempo de entrenamiento: 0.001955747604370117 s, score: 0.5942095008376219\n",
      "Probando: {'C': 1, 'epsilon': 0.1, 'kernel': 'rbf'}, 8 de 36\n",
      "Tiempo de entrenamiento: 0.002323150634765625 s, score: -0.08434181342061842\n",
      "Probando: {'C': 1, 'epsilon': 0.01, 'kernel': 'rbf'}, 9 de 36\n",
      "Tiempo de entrenamiento: 0.0025954246520996094 s, score: -0.025557587913969112\n",
      "Probando: {'C': 1, 'epsilon': 0.001, 'kernel': 'rbf'}, 10 de 36\n",
      "Tiempo de entrenamiento: 0.0018384456634521484 s, score: -1.0470760580572787\n",
      "Probando: {'C': 1, 'epsilon': 0.0001, 'kernel': 'rbf'}, 11 de 36\n",
      "Tiempo de entrenamiento: 0.0032050609588623047 s, score: -1.1757911944028554\n",
      "Probando: {'C': 5, 'epsilon': 0.1, 'kernel': 'rbf'}, 12 de 36\n",
      "Tiempo de entrenamiento: 0.002874135971069336 s, score: -14.800743563369815\n",
      "Probando: {'C': 5, 'epsilon': 0.01, 'kernel': 'rbf'}, 13 de 36\n",
      "Tiempo de entrenamiento: 0.001834869384765625 s, score: -17.751189452065443\n",
      "Probando: {'C': 5, 'epsilon': 0.001, 'kernel': 'rbf'}, 14 de 36\n",
      "Tiempo de entrenamiento: 0.001535177230834961 s, score: -16.568049549095434\n",
      "Probando: {'C': 5, 'epsilon': 0.0001, 'kernel': 'rbf'}, 15 de 36\n",
      "Tiempo de entrenamiento: 0.00171661376953125 s, score: -15.821353553487999\n",
      "Probando: {'C': 10, 'epsilon': 0.1, 'kernel': 'rbf'}, 16 de 36\n",
      "Tiempo de entrenamiento: 0.0031943321228027344 s, score: -28.856161370903784\n",
      "Probando: {'C': 10, 'epsilon': 0.01, 'kernel': 'rbf'}, 17 de 36\n",
      "Tiempo de entrenamiento: 0.0017538070678710938 s, score: -32.065871658187966\n",
      "Probando: {'C': 10, 'epsilon': 0.001, 'kernel': 'rbf'}, 18 de 36\n",
      "Tiempo de entrenamiento: 0.001583099365234375 s, score: -24.989744915087947\n",
      "Probando: {'C': 10, 'epsilon': 0.0001, 'kernel': 'rbf'}, 19 de 36\n",
      "Tiempo de entrenamiento: 0.002044677734375 s, score: -24.230986443126433\n",
      "Probando: {'C': 50, 'epsilon': 0.1, 'kernel': 'rbf'}, 20 de 36\n",
      "Tiempo de entrenamiento: 0.0017597675323486328 s, score: -68.68923889897884\n",
      "Probando: {'C': 50, 'epsilon': 0.01, 'kernel': 'rbf'}, 21 de 36\n",
      "Tiempo de entrenamiento: 0.0022068023681640625 s, score: -103.92385980284725\n",
      "Probando: {'C': 50, 'epsilon': 0.001, 'kernel': 'rbf'}, 22 de 36\n",
      "Tiempo de entrenamiento: 0.0021293163299560547 s, score: -94.58135645753357\n",
      "Probando: {'C': 50, 'epsilon': 0.0001, 'kernel': 'rbf'}, 23 de 36\n",
      "Tiempo de entrenamiento: 0.0018777847290039062 s, score: -93.42329769045311\n",
      "Probando: {'C': 100, 'epsilon': 0.1, 'kernel': 'rbf'}, 24 de 36\n",
      "Tiempo de entrenamiento: 0.0018444061279296875 s, score: -85.21128311238706\n",
      "Probando: {'C': 100, 'epsilon': 0.01, 'kernel': 'rbf'}, 25 de 36\n",
      "Tiempo de entrenamiento: 0.0024843215942382812 s, score: -202.7246792543449\n",
      "Probando: {'C': 100, 'epsilon': 0.001, 'kernel': 'rbf'}, 26 de 36\n",
      "Tiempo de entrenamiento: 0.0025370121002197266 s, score: -188.65091623718865\n",
      "Probando: {'C': 100, 'epsilon': 0.0001, 'kernel': 'rbf'}, 27 de 36\n",
      "Tiempo de entrenamiento: 0.0031414031982421875 s, score: -188.24143409439012\n",
      "Probando: {'C': 500, 'epsilon': 0.1, 'kernel': 'rbf'}, 28 de 36\n",
      "Tiempo de entrenamiento: 0.002282381057739258 s, score: -124.10111830367251\n",
      "Probando: {'C': 500, 'epsilon': 0.01, 'kernel': 'rbf'}, 29 de 36\n",
      "Tiempo de entrenamiento: 0.001316070556640625 s, score: -218.8962844957515\n",
      "Probando: {'C': 500, 'epsilon': 0.001, 'kernel': 'rbf'}, 30 de 36\n",
      "Tiempo de entrenamiento: 0.0017883777618408203 s, score: -218.11840545651472\n",
      "Probando: {'C': 500, 'epsilon': 0.0001, 'kernel': 'rbf'}, 31 de 36\n",
      "Tiempo de entrenamiento: 0.0019168853759765625 s, score: -219.22772317529692\n",
      "Probando: {'C': 1000, 'epsilon': 0.1, 'kernel': 'rbf'}, 32 de 36\n",
      "Tiempo de entrenamiento: 0.001355886459350586 s, score: -90.9247164355412\n",
      "Probando: {'C': 1000, 'epsilon': 0.01, 'kernel': 'rbf'}, 33 de 36\n",
      "Tiempo de entrenamiento: 0.0032134056091308594 s, score: -175.79520793667282\n",
      "Probando: {'C': 1000, 'epsilon': 0.001, 'kernel': 'rbf'}, 34 de 36\n",
      "Tiempo de entrenamiento: 0.0015034675598144531 s, score: -148.93821054787657\n",
      "Probando: {'C': 1000, 'epsilon': 0.0001, 'kernel': 'rbf'}, 35 de 36\n",
      "Tiempo de entrenamiento: 0.0014677047729492188 s, score: -145.27025103329925\n",
      "Best Score: 0.7406316318458062\n",
      "Best Parameters: {'C': 0.5, 'epsilon': 0.1, 'kernel': 'rbf'}\n"
     ]
    }
   ],
   "source": [
    "g = GridSearch(svm.SVR(), X_train, X_test, Y_train, Y_test, parameters, verbose=True)\n",
    "clf1 = svm.SVR(**g).fit(X_train, np.ravel(Y_train))"
   ]
  },
  {
   "cell_type": "code",
   "execution_count": 62,
   "metadata": {
    "scrolled": true
   },
   "outputs": [
    {
     "data": {
      "image/png": "[encoded data removed]",
      "text/plain": [
       "<Figure size 432x288 with 1 Axes>"
      ]
     },
     "metadata": {
      "needs_background": "light"
     },
     "output_type": "display_data"
    },
    {
     "name": "stdout",
     "output_type": "stream",
     "text": [
      "1.3575143221663504\n"
     ]
    }
   ],
   "source": [
    "esp = df[df.COU == country]\n",
    "years = list(esp.Year)\n",
    "mun = list(esp.Municipal)\n",
    "predictions = clf1.predict(pd.DataFrame(scalerX.transform(df.loc[esp.index[Year_to_separate-2017::],:][[\n",
    "       'Built', 'Below Secundary', 'Income Median',\n",
    "       'Population', 'Over 65', 'Over 65 Percentage', 'Over 85',\n",
    "       'Over 85 Percentage', 'Over 50', 'Over 50 Percentage', 'Under 20',\n",
    "       'Under 20 Percentage', 'Income Per Capita', 'Tourism', 'Area',\n",
    "       'Built Area']])))\n",
    "predictions = [a[0] for a in scalerY.inverse_transform([[a,0] for a in predictions])]\n",
    "plt.plot(years, mun, lw=2, label='real')\n",
    "plt.axvline(x=Year_to_separate + 0.5, c='green', lw=1, ls=':', label='separación')\n",
    "plt.plot([y for y in years if y > Year_to_separate], predictions, c='red', lw=2, label='predecido')\n",
    "plt.title(\"Basura municipal en Bélgica\")\n",
    "plt.xlabel(\"Año\")\n",
    "plt.ylabel(\"Miles de toneladas\")\n",
    "plt.legend()\n",
    "plt.show()\n",
    "print(np.abs(((np.array(mun[-len(predictions):]) - np.array(predictions)))/np.array(predictions)).mean() * 100)\n",
    "deu2000 = predictions"
   ]
  },
  {
   "cell_type": "code",
   "execution_count": 37,
   "metadata": {},
   "outputs": [],
   "source": [
    "Year_to_separate = 2010\n",
    "df = pd.read_parquet(\"dataset.parquet\")\n",
    "country = 'USA'\n",
    "df = df[df.COU == country]\n",
    "Y = df[['Municipal', 'Year']]\n",
    "X = df[[x for x in df.columns if x not in ['Country', 'COU', 'Municipal', 'Household', 'Recovered', 'Recicled', 'Compost', 'Disposal']]]\n",
    "X_train = X[X.Year < Year_to_separate].copy()\n",
    "X_test = X[X.Year >= Year_to_separate].copy()\n",
    "Y_train = Y[X.Year < Year_to_separate].copy()\n",
    "Y_test = Y[X.Year >= Year_to_separate].copy()\n",
    "#X_train = pd.read_parquet(\"Xtime/X_train.parquet\")\n",
    "#X_test = pd.read_parquet(\"Xtime/X_test.parquet\")\n",
    "#Y_train = pd.read_parquet(\"Ytime/Y_train.parquet\")\n",
    "#Y_test = pd.read_parquet(\"Ytime/Y_test.parquet\")\n",
    "X_train.drop(columns={'Year'}, inplace=True)\n",
    "X_test.drop(columns={'Year'}, inplace=True)\n",
    "scalerX = MinMaxScaler().fit(X_train)\n",
    "X_train = pd.DataFrame(scalerX.transform(X_train))\n",
    "X_test = pd.DataFrame(scalerX.transform(X_test))\n",
    "scalerY = MinMaxScaler().fit(Y_train)\n",
    "Y_train = pd.DataFrame(scalerY.transform(Y_train))\n",
    "Y_test = pd.DataFrame(scalerY.transform(Y_test))\n",
    "Y_train = Y_train[[Y_train.columns[0]]]\n",
    "Y_test = Y_test[[Y_test.columns[0]]]"
   ]
  },
  {
   "cell_type": "code",
   "execution_count": 9,
   "metadata": {
    "scrolled": true
   },
   "outputs": [
    {
     "name": "stdout",
     "output_type": "stream",
     "text": [
      "Probando: {'C': 0.05, 'epsilon': 0.1, 'kernel': 'rbf'}, 0 de 36\n",
      "Tiempo de entrenamiento: 0.002120494842529297 s, score: -7.742709419932504\n",
      "Probando: {'C': 0.05, 'epsilon': 0.01, 'kernel': 'rbf'}, 1 de 36\n",
      "Tiempo de entrenamiento: 0.0018358230590820312 s, score: -9.33921576496823\n",
      "Probando: {'C': 0.05, 'epsilon': 0.001, 'kernel': 'rbf'}, 2 de 36\n",
      "Tiempo de entrenamiento: 0.0038318634033203125 s, score: -9.729980011312223\n",
      "Probando: {'C': 0.05, 'epsilon': 0.0001, 'kernel': 'rbf'}, 3 de 36\n",
      "Tiempo de entrenamiento: 0.0016531944274902344 s, score: -9.771900064000125\n",
      "Probando: {'C': 0.5, 'epsilon': 0.1, 'kernel': 'rbf'}, 4 de 36\n",
      "Tiempo de entrenamiento: 0.0020983219146728516 s, score: -8.109110168346204\n",
      "Probando: {'C': 0.5, 'epsilon': 0.01, 'kernel': 'rbf'}, 5 de 36\n",
      "Tiempo de entrenamiento: 0.001954793930053711 s, score: -6.678008462489594\n",
      "Probando: {'C': 0.5, 'epsilon': 0.001, 'kernel': 'rbf'}, 6 de 36\n",
      "Tiempo de entrenamiento: 0.00170135498046875 s, score: -6.371983823789559\n",
      "Probando: {'C': 0.5, 'epsilon': 0.0001, 'kernel': 'rbf'}, 7 de 36\n",
      "Tiempo de entrenamiento: 0.001984834671020508 s, score: -6.3399178185049285\n",
      "Probando: {'C': 1, 'epsilon': 0.1, 'kernel': 'rbf'}, 8 de 36\n",
      "Tiempo de entrenamiento: 0.0019140243530273438 s, score: -7.681758498211074\n",
      "Probando: {'C': 1, 'epsilon': 0.01, 'kernel': 'rbf'}, 9 de 36\n",
      "Tiempo de entrenamiento: 0.001617431640625 s, score: -7.334436494553662\n",
      "Probando: {'C': 1, 'epsilon': 0.001, 'kernel': 'rbf'}, 10 de 36\n",
      "Tiempo de entrenamiento: 0.0018017292022705078 s, score: -6.875966775375386\n",
      "Probando: {'C': 1, 'epsilon': 0.0001, 'kernel': 'rbf'}, 11 de 36\n",
      "Tiempo de entrenamiento: 0.0015978813171386719 s, score: -6.83872345559834\n",
      "Probando: {'C': 5, 'epsilon': 0.1, 'kernel': 'rbf'}, 12 de 36\n",
      "Tiempo de entrenamiento: 0.0020787715911865234 s, score: -6.870515854049666\n",
      "Probando: {'C': 5, 'epsilon': 0.01, 'kernel': 'rbf'}, 13 de 36\n",
      "Tiempo de entrenamiento: 0.001941680908203125 s, score: -13.249668629224958\n",
      "Probando: {'C': 5, 'epsilon': 0.001, 'kernel': 'rbf'}, 14 de 36\n",
      "Tiempo de entrenamiento: 0.0022423267364501953 s, score: -13.215131592236531\n",
      "Probando: {'C': 5, 'epsilon': 0.0001, 'kernel': 'rbf'}, 15 de 36\n",
      "Tiempo de entrenamiento: 0.002033233642578125 s, score: -13.253468557095673\n",
      "Probando: {'C': 10, 'epsilon': 0.1, 'kernel': 'rbf'}, 16 de 36\n",
      "Tiempo de entrenamiento: 0.001947641372680664 s, score: -6.870515854049666\n",
      "Probando: {'C': 10, 'epsilon': 0.01, 'kernel': 'rbf'}, 17 de 36\n",
      "Tiempo de entrenamiento: 0.0020287036895751953 s, score: -18.311377280049236\n",
      "Probando: {'C': 10, 'epsilon': 0.001, 'kernel': 'rbf'}, 18 de 36\n",
      "Tiempo de entrenamiento: 0.001760244369506836 s, score: -21.020537755928814\n",
      "Probando: {'C': 10, 'epsilon': 0.0001, 'kernel': 'rbf'}, 19 de 36\n",
      "Tiempo de entrenamiento: 0.001623392105102539 s, score: -21.20819142095066\n",
      "Probando: {'C': 50, 'epsilon': 0.1, 'kernel': 'rbf'}, 20 de 36\n",
      "Tiempo de entrenamiento: 0.0023636817932128906 s, score: -6.870515854049666\n",
      "Probando: {'C': 50, 'epsilon': 0.01, 'kernel': 'rbf'}, 21 de 36\n",
      "Tiempo de entrenamiento: 0.001735687255859375 s, score: -21.83577489342142\n",
      "Probando: {'C': 50, 'epsilon': 0.001, 'kernel': 'rbf'}, 22 de 36\n",
      "Tiempo de entrenamiento: 0.0031447410583496094 s, score: -24.805478518635393\n",
      "Probando: {'C': 50, 'epsilon': 0.0001, 'kernel': 'rbf'}, 23 de 36\n",
      "Tiempo de entrenamiento: 0.0019044876098632812 s, score: -25.01613697090967\n",
      "Probando: {'C': 100, 'epsilon': 0.1, 'kernel': 'rbf'}, 24 de 36\n",
      "Tiempo de entrenamiento: 0.0030829906463623047 s, score: -6.870515854049666\n",
      "Probando: {'C': 100, 'epsilon': 0.01, 'kernel': 'rbf'}, 25 de 36\n",
      "Tiempo de entrenamiento: 0.003300905227661133 s, score: -21.505808458718196\n",
      "Probando: {'C': 100, 'epsilon': 0.001, 'kernel': 'rbf'}, 26 de 36\n",
      "Tiempo de entrenamiento: 0.004726886749267578 s, score: -28.814395076490374\n",
      "Probando: {'C': 100, 'epsilon': 0.0001, 'kernel': 'rbf'}, 27 de 36\n",
      "Tiempo de entrenamiento: 0.002420663833618164 s, score: -29.93654515485838\n",
      "Probando: {'C': 500, 'epsilon': 0.1, 'kernel': 'rbf'}, 28 de 36\n",
      "Tiempo de entrenamiento: 0.002744436264038086 s, score: -6.870515854049666\n",
      "Probando: {'C': 500, 'epsilon': 0.01, 'kernel': 'rbf'}, 29 de 36\n",
      "Tiempo de entrenamiento: 0.003479480743408203 s, score: -16.960641717776735\n",
      "Probando: {'C': 500, 'epsilon': 0.001, 'kernel': 'rbf'}, 30 de 36\n",
      "Tiempo de entrenamiento: 0.003605365753173828 s, score: -30.79940212130677\n",
      "Probando: {'C': 500, 'epsilon': 0.0001, 'kernel': 'rbf'}, 31 de 36\n",
      "Tiempo de entrenamiento: 0.00418543815612793 s, score: -33.090500695202735\n",
      "Probando: {'C': 1000, 'epsilon': 0.1, 'kernel': 'rbf'}, 32 de 36\n",
      "Tiempo de entrenamiento: 0.0022916793823242188 s, score: -6.870515854049666\n",
      "Probando: {'C': 1000, 'epsilon': 0.01, 'kernel': 'rbf'}, 33 de 36\n",
      "Tiempo de entrenamiento: 0.00638270378112793 s, score: -12.663888428673046\n",
      "Probando: {'C': 1000, 'epsilon': 0.001, 'kernel': 'rbf'}, 34 de 36\n",
      "Tiempo de entrenamiento: 0.013446331024169922 s, score: -18.693173417384887\n",
      "Probando: {'C': 1000, 'epsilon': 0.0001, 'kernel': 'rbf'}, 35 de 36\n",
      "Tiempo de entrenamiento: 0.005800008773803711 s, score: -17.535829066080545\n",
      "Best Score: -6.3399178185049285\n",
      "Best Parameters: {'C': 0.5, 'epsilon': 0.0001, 'kernel': 'rbf'}\n"
     ]
    }
   ],
   "source": [
    "g = GridSearch(svm.SVR(), X_train, X_test, Y_train, Y_test, parameters, verbose=True)\n",
    "clf1 = svm.SVR(**g).fit(X_train, np.ravel(Y_train))"
   ]
  },
  {
   "cell_type": "code",
   "execution_count": 10,
   "metadata": {},
   "outputs": [
    {
     "data": {
      "image/png": "[encoded data removed]",
      "text/plain": [
       "<Figure size 432x288 with 1 Axes>"
      ]
     },
     "metadata": {
      "needs_background": "light"
     },
     "output_type": "display_data"
    },
    {
     "name": "stdout",
     "output_type": "stream",
     "text": [
      "4.908923060741547\n"
     ]
    }
   ],
   "source": [
    "esp = df[df.COU == country]\n",
    "years = list(esp.Year)\n",
    "mun = list(esp.Municipal)\n",
    "predictions = clf1.predict(pd.DataFrame(scalerX.transform(df.loc[esp.index[Year_to_separate-2017::],:][[\n",
    "       'Built', 'Below Secundary', 'Income Median',\n",
    "       'Population', 'Over 65', 'Over 65 Percentage', 'Over 85',\n",
    "       'Over 85 Percentage', 'Over 50', 'Over 50 Percentage', 'Under 20',\n",
    "       'Under 20 Percentage', 'Income Per Capita', 'Tourism', 'Area',\n",
    "       'Built Area']])))\n",
    "predictions = [a[0] for a in scalerY.inverse_transform([[a,0] for a in predictions])]\n",
    "plt.plot(years, mun, lw=2, label='real')\n",
    "plt.axvline(x=Year_to_separate + 0.5, c='green', lw=1, ls=':', label='separación')\n",
    "plt.plot([y for y in years if y > Year_to_separate], predictions, c='red', lw=2, label='predecido')\n",
    "plt.title(\"Basura municipal en Estados Unidos\")\n",
    "plt.xlabel(\"Año\")\n",
    "plt.ylabel(\"Miles de toneladas\")\n",
    "plt.legend()\n",
    "plt.show()\n",
    "print(np.abs(((np.array(mun[-len(predictions):]) - np.array(predictions)))/np.array(predictions)).mean() * 100)\n",
    "deu2000 = predictions"
   ]
  }
 ],
 "metadata": {
  "kernelspec": {
   "display_name": "Python 3",
   "language": "python",
   "name": "python3"
  },
  "language_info": {
   "codemirror_mode": {
    "name": "ipython",
    "version": 3
   },
   "file_extension": ".py",
   "mimetype": "text/x-python",
   "name": "python",
   "nbconvert_exporter": "python",
   "pygments_lexer": "ipython3",
   "version": "3.6.9"
  }
 },
 "nbformat": 4,
 "nbformat_minor": 4
}
