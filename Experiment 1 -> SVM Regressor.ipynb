{
 "cells": [
  {
   "cell_type": "code",
   "execution_count": 1,
   "metadata": {},
   "outputs": [],
   "source": [
    "import pandas as pd\n",
    "import numpy as np\n",
    "from sklearn import svm\n",
    "from sklearn.multioutput import MultiOutputRegressor\n",
    "from sklearn.ensemble import GradientBoostingRegressor\n",
    "from sklearn.preprocessing import MinMaxScaler\n",
    "import time"
   ]
  },
  {
   "cell_type": "code",
   "execution_count": 2,
   "metadata": {},
   "outputs": [],
   "source": [
    "X_train = pd.read_parquet(\"X/X_train.parquet\")\n",
    "X_test = pd.read_parquet(\"X/X_test.parquet\")\n",
    "Y_train = pd.read_parquet(\"Y/Y_train.parquet\")\n",
    "Y_test = pd.read_parquet(\"Y/Y_test.parquet\")\n",
    "X_train = X_train[['Built', 'Below Secundary', 'Income Median',\n",
    "       'Population', 'Over 65', 'Over 65 Percentage', 'Over 85',\n",
    "       'Over 85 Percentage', 'Over 50', 'Over 50 Percentage', 'Under 20',\n",
    "       'Under 20 Percentage', 'Income Per Capita', 'Tourism', 'Area',\n",
    "       'Built Area']]\n",
    "X_test = X_test[['Built', 'Below Secundary', 'Income Median',\n",
    "       'Population', 'Over 65', 'Over 65 Percentage', 'Over 85',\n",
    "       'Over 85 Percentage', 'Over 50', 'Over 50 Percentage', 'Under 20',\n",
    "       'Under 20 Percentage', 'Income Per Capita', 'Tourism', 'Area',\n",
    "       'Built Area']]"
   ]
  },
  {
   "cell_type": "code",
   "execution_count": 3,
   "metadata": {},
   "outputs": [],
   "source": [
    "scalerX = MinMaxScaler().fit(X_train)\n",
    "X_train = pd.DataFrame(scalerX.transform(X_train))\n",
    "X_test = pd.DataFrame(scalerX.transform(X_test))\n",
    "scalerY = MinMaxScaler().fit(Y_train)\n",
    "Y_train = pd.DataFrame(scalerY.transform(Y_train))\n",
    "Y_test = pd.DataFrame(scalerY.transform(Y_test))\n",
    "Y1_train = Y_train[[0]]\n",
    "Y1_test = Y_test[[0]]\n",
    "Y2_train = Y_train[[1]]\n",
    "Y2_test = Y_test[[1]]\n",
    "Y3_train = Y_train[[2]]\n",
    "Y3_test = Y_test[[2]]\n",
    "Y4_train = Y_train[[3]]\n",
    "Y4_test = Y_test[[3]]\n",
    "Y5_train = Y_train[[4]]\n",
    "Y5_test = Y_test[[4]]\n",
    "Y6_train = Y_train[[5]]\n",
    "Y6_test = Y_test[[5]]"
   ]
  },
  {
   "cell_type": "code",
   "execution_count": 23,
   "metadata": {},
   "outputs": [
    {
     "name": "stdout",
     "output_type": "stream",
     "text": [
      "0 s\n",
      "0.8738892508621618\n"
     ]
    }
   ],
   "source": [
    "clf1 = svm.SVR(kernel = \"rbf\", C = 1, max_iter=-1)\n",
    "startTime = time.time()\n",
    "clf1.fit(X_train, np.ravel(Y1_train))\n",
    "elapsedTime = time.time() - startTime\n",
    "print('{} s'.format(int(elapsedTime)))\n",
    "print(clf1.score(X_test, Y1_test))"
   ]
  },
  {
   "cell_type": "code",
   "execution_count": 32,
   "metadata": {},
   "outputs": [
    {
     "name": "stdout",
     "output_type": "stream",
     "text": [
      "0 s\n",
      "0.8864581607826779\n"
     ]
    }
   ],
   "source": [
    "clf2 = svm.SVR(kernel = \"rbf\", C = 100, max_iter=-1)\n",
    "startTime = time.time()\n",
    "clf2.fit(X_train, np.ravel(Y2_train))\n",
    "elapsedTime = time.time() - startTime\n",
    "print('{} s'.format(int(elapsedTime)))\n",
    "print(clf2.score(X_test, Y2_test))"
   ]
  },
  {
   "cell_type": "code",
   "execution_count": 40,
   "metadata": {},
   "outputs": [
    {
     "name": "stdout",
     "output_type": "stream",
     "text": [
      "0 s\n",
      "0.8480183048895138\n"
     ]
    }
   ],
   "source": [
    "clf3 = svm.SVR(kernel = \"rbf\", C = 0.5, max_iter=-1)\n",
    "startTime = time.time()\n",
    "clf3.fit(X_train, np.ravel(Y3_train))\n",
    "elapsedTime = time.time() - startTime\n",
    "print('{} s'.format(int(elapsedTime)))\n",
    "print(clf3.score(X_test, Y3_test))"
   ]
  },
  {
   "cell_type": "code",
   "execution_count": 48,
   "metadata": {},
   "outputs": [
    {
     "name": "stdout",
     "output_type": "stream",
     "text": [
      "0 s\n",
      "0.7993761316900378\n"
     ]
    }
   ],
   "source": [
    "clf4 = svm.SVR(kernel = \"rbf\", C = 80, max_iter=-1)\n",
    "startTime = time.time()\n",
    "clf4.fit(X_train, np.ravel(Y4_train))\n",
    "elapsedTime = time.time() - startTime\n",
    "print('{} s'.format(int(elapsedTime)))\n",
    "print(clf4.score(X_test, Y4_test))"
   ]
  },
  {
   "cell_type": "code",
   "execution_count": 55,
   "metadata": {},
   "outputs": [
    {
     "name": "stdout",
     "output_type": "stream",
     "text": [
      "0 s\n",
      "0.8447605112313197\n"
     ]
    }
   ],
   "source": [
    "clf5 = svm.SVR(kernel = \"rbf\", C = 2, max_iter=-1)\n",
    "startTime = time.time()\n",
    "clf5.fit(X_train, np.ravel(Y5_train))\n",
    "elapsedTime = time.time() - startTime\n",
    "print('{} s'.format(int(elapsedTime)))\n",
    "print(clf5.score(X_test, Y5_test))"
   ]
  },
  {
   "cell_type": "code",
   "execution_count": 69,
   "metadata": {},
   "outputs": [
    {
     "name": "stdout",
     "output_type": "stream",
     "text": [
      "0 s\n",
      "0.9175544638841119\n"
     ]
    }
   ],
   "source": [
    "clf6 = svm.SVR(kernel = \"rbf\", C = 11, max_iter=-1)\n",
    "startTime = time.time()\n",
    "clf6.fit(X_train, np.ravel(Y6_train))\n",
    "elapsedTime = time.time() - startTime\n",
    "print('{} s'.format(int(elapsedTime)))\n",
    "print(clf6.score(X_test, Y6_test))"
   ]
  },
  {
   "cell_type": "code",
   "execution_count": 70,
   "metadata": {},
   "outputs": [
    {
     "data": {
      "text/plain": [
       "0.04404821713151509"
      ]
     },
     "execution_count": 70,
     "metadata": {},
     "output_type": "execute_result"
    }
   ],
   "source": [
    "np.abs(clf6.predict(X_test.iloc[0::4]) - np.array(Y6_test.iloc[0::4][5])).mean()"
   ]
  },
  {
   "cell_type": "code",
   "execution_count": 71,
   "metadata": {},
   "outputs": [
    {
     "data": {
      "text/plain": [
       "0.0449199969637551"
      ]
     },
     "execution_count": 71,
     "metadata": {},
     "output_type": "execute_result"
    }
   ],
   "source": [
    "np.abs(clf6.predict(X_test.iloc[1::4]) - np.array(Y6_test.iloc[1::4][5])).mean()"
   ]
  },
  {
   "cell_type": "code",
   "execution_count": 72,
   "metadata": {},
   "outputs": [
    {
     "data": {
      "text/plain": [
       "0.04854169436129646"
      ]
     },
     "execution_count": 72,
     "metadata": {},
     "output_type": "execute_result"
    }
   ],
   "source": [
    "np.abs(clf6.predict(X_test.iloc[2::4]) - np.array(Y6_test.iloc[2::4][5])).mean()"
   ]
  },
  {
   "cell_type": "code",
   "execution_count": 73,
   "metadata": {},
   "outputs": [
    {
     "data": {
      "text/plain": [
       "0.05050715771253347"
      ]
     },
     "execution_count": 73,
     "metadata": {},
     "output_type": "execute_result"
    }
   ],
   "source": [
    "np.abs(clf6.predict(X_test.iloc[3::4]) - np.array(Y6_test.iloc[3::4][5])).mean()"
   ]
  },
  {
   "cell_type": "code",
   "execution_count": 74,
   "metadata": {},
   "outputs": [
    {
     "data": {
      "text/plain": [
       "array([[ 85080.10516203, 151013.93713559,  12731.25518231,\n",
       "          7519.95317522,   4655.0096595 ,  41796.15749262,\n",
       "          1990.        ]])"
      ]
     },
     "execution_count": 74,
     "metadata": {},
     "output_type": "execute_result"
    }
   ],
   "source": [
    "i = 120\n",
    "scalerY.inverse_transform([[clf1.predict([X_test.iloc[i]])[0], clf2.predict([X_test.iloc[i]])[0], clf3.predict([X_test.iloc[i]])[0], \n",
    "                          clf4.predict([X_test.iloc[i]])[0], clf5.predict([X_test.iloc[i]])[0], clf6.predict([X_test.iloc[i]])[0], 0]])"
   ]
  },
  {
   "cell_type": "code",
   "execution_count": 75,
   "metadata": {},
   "outputs": [
    {
     "data": {
      "text/plain": [
       "array([[ 57900., 136649.,   3206.,    821.,   2385.,  49816.,   2014.]])"
      ]
     },
     "execution_count": 75,
     "metadata": {},
     "output_type": "execute_result"
    }
   ],
   "source": [
    "scalerY.inverse_transform([Y_test.iloc[i]])"
   ]
  }
 ],
 "metadata": {
  "kernelspec": {
   "display_name": "Python 3",
   "language": "python",
   "name": "python3"
  },
  "language_info": {
   "codemirror_mode": {
    "name": "ipython",
    "version": 3
   },
   "file_extension": ".py",
   "mimetype": "text/x-python",
   "name": "python",
   "nbconvert_exporter": "python",
   "pygments_lexer": "ipython3",
   "version": "3.6.9"
  }
 },
 "nbformat": 4,
 "nbformat_minor": 4
}
