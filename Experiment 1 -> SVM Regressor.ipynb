{
 "cells": [
  {
   "cell_type": "code",
   "execution_count": 1,
   "metadata": {},
   "outputs": [],
   "source": [
    "import pandas as pd\n",
    "import numpy as np\n",
    "from sklearn import svm\n",
    "from sklearn.multioutput import MultiOutputRegressor\n",
    "from sklearn.ensemble import GradientBoostingRegressor\n",
    "from sklearn.preprocessing import MinMaxScaler\n",
    "import time"
   ]
  },
  {
   "cell_type": "code",
   "execution_count": 2,
   "metadata": {},
   "outputs": [],
   "source": [
    "X_train = pd.read_parquet(\"X/X_train.parquet\")\n",
    "X_test = pd.read_parquet(\"X/X_test.parquet\")\n",
    "Y_train = pd.read_parquet(\"Y/Y_train.parquet\")\n",
    "Y_test = pd.read_parquet(\"Y/Y_test.parquet\")\n",
    "Y1_train = pd.read_parquet(\"Y/Y1_train.parquet\") # Municipal\n",
    "Y2_train = pd.read_parquet(\"Y/Y2_train.parquet\") # Household\n",
    "Y3_train = pd.read_parquet(\"Y/Y3_train.parquet\") # Recovered\n",
    "Y4_train = pd.read_parquet(\"Y/Y4_train.parquet\") # Recicled\n",
    "Y5_train = pd.read_parquet(\"Y/Y5_train.parquet\") # Compost\n",
    "Y6_train = pd.read_parquet(\"Y/Y6_train.parquet\") # Disposal\n",
    "Y1_test = pd.read_parquet(\"Y/Y1_test.parquet\")   # Municipal\n",
    "Y2_test = pd.read_parquet(\"Y/Y2_test.parquet\")   # Household\n",
    "Y3_test = pd.read_parquet(\"Y/Y3_test.parquet\")   # Recovered\n",
    "Y4_test = pd.read_parquet(\"Y/Y4_test.parquet\")   # Recicled\n",
    "Y5_test = pd.read_parquet(\"Y/Y5_test.parquet\")   # Compost\n",
    "Y6_test = pd.read_parquet(\"Y/Y6_test.parquet\")   # Disposal"
   ]
  },
  {
   "cell_type": "code",
   "execution_count": 3,
   "metadata": {},
   "outputs": [],
   "source": [
    "scalerX = MinMaxScaler().fit(X_train)\n",
    "X_train = pd.DataFrame(scalerX.transform(X_train))\n",
    "X_test = pd.DataFrame(scalerX.transform(X_test))\n",
    "scalerY = MinMaxScaler().fit(Y_train)\n",
    "Y_train = pd.DataFrame(scalerY.transform(Y_train))\n",
    "Y_test = pd.DataFrame(scalerY.transform(Y_test))\n",
    "scalerY1 = MinMaxScaler().fit(Y1_train)\n",
    "Y1_train = pd.DataFrame(scalerY1.transform(Y1_train))\n",
    "Y1_test = pd.DataFrame(scalerY1.transform(Y1_test))"
   ]
  },
  {
   "cell_type": "code",
   "execution_count": 4,
   "metadata": {},
   "outputs": [
    {
     "name": "stdout",
     "output_type": "stream",
     "text": [
      "0 s\n",
      "0.9006166140631826\n"
     ]
    }
   ],
   "source": [
    "clf = svm.SVR(kernel = \"poly\", C = 0.5, degree = 2, max_iter=-1)\n",
    "startTime = time.time()\n",
    "clf.fit(X_train, np.ravel(Y1_train))\n",
    "elapsedTime = time.time() - startTime\n",
    "print('{} s'.format(int(elapsedTime)))\n",
    "print(clf.score(X_test, Y1_test))"
   ]
  },
  {
   "cell_type": "code",
   "execution_count": 5,
   "metadata": {},
   "outputs": [
    {
     "name": "stdout",
     "output_type": "stream",
     "text": [
      "2 s\n",
      "0.9763214742721568\n"
     ]
    }
   ],
   "source": [
    "clf = svm.SVR(kernel = \"poly\", C = 1e5, degree = 2, max_iter=-1)\n",
    "startTime = time.time()\n",
    "clf.fit(X_train, np.ravel(Y2_train))\n",
    "elapsedTime = time.time() - startTime\n",
    "print('{} s'.format(int(elapsedTime)))\n",
    "print(clf.score(X_test, Y2_test))"
   ]
  },
  {
   "cell_type": "code",
   "execution_count": 6,
   "metadata": {},
   "outputs": [
    {
     "name": "stdout",
     "output_type": "stream",
     "text": [
      "1 s\n",
      "0.9830739191844108\n"
     ]
    }
   ],
   "source": [
    "clf = svm.SVR(kernel = \"poly\", C = 1e5, degree = 2, max_iter=-1)\n",
    "startTime = time.time()\n",
    "clf.fit(X_train, np.ravel(Y3_train))\n",
    "elapsedTime = time.time() - startTime\n",
    "print('{} s'.format(int(elapsedTime)))\n",
    "print(clf.score(X_test, Y3_test))"
   ]
  },
  {
   "cell_type": "code",
   "execution_count": 7,
   "metadata": {},
   "outputs": [
    {
     "name": "stdout",
     "output_type": "stream",
     "text": [
      "2 s\n",
      "0.9869165982864876\n"
     ]
    }
   ],
   "source": [
    "clf = svm.SVR(kernel = \"poly\", C = 1e5, degree = 2, max_iter=-1)\n",
    "startTime = time.time()\n",
    "clf.fit(X_train, np.ravel(Y4_train))\n",
    "elapsedTime = time.time() - startTime\n",
    "print('{} s'.format(int(elapsedTime)))\n",
    "print(clf.score(X_test, Y4_test))"
   ]
  },
  {
   "cell_type": "code",
   "execution_count": 8,
   "metadata": {},
   "outputs": [
    {
     "name": "stdout",
     "output_type": "stream",
     "text": [
      "79 s\n",
      "0.9075560485965067\n"
     ]
    }
   ],
   "source": [
    "clf = svm.SVR(kernel = \"poly\", C = 1e6, degree = 2, max_iter=-1)\n",
    "startTime = time.time()\n",
    "clf.fit(X_train, np.ravel(Y5_train))\n",
    "elapsedTime = time.time() - startTime\n",
    "print('{} s'.format(int(elapsedTime)))\n",
    "print(clf.score(X_test, Y5_test))"
   ]
  },
  {
   "cell_type": "code",
   "execution_count": 9,
   "metadata": {},
   "outputs": [
    {
     "name": "stdout",
     "output_type": "stream",
     "text": [
      "1 s\n",
      "0.9877443181470692\n"
     ]
    }
   ],
   "source": [
    "clf = svm.SVR(kernel = \"poly\", C = 1e5, degree = 2, max_iter=-1)\n",
    "startTime = time.time()\n",
    "clf.fit(X_train, np.ravel(Y6_train))\n",
    "elapsedTime = time.time() - startTime\n",
    "print('{} s'.format(int(elapsedTime)))\n",
    "print(clf.score(X_test, Y6_test))"
   ]
  }
 ],
 "metadata": {
  "kernelspec": {
   "display_name": "Python 3",
   "language": "python",
   "name": "python3"
  },
  "language_info": {
   "codemirror_mode": {
    "name": "ipython",
    "version": 3
   },
   "file_extension": ".py",
   "mimetype": "text/x-python",
   "name": "python",
   "nbconvert_exporter": "python",
   "pygments_lexer": "ipython3",
   "version": "3.6.9"
  }
 },
 "nbformat": 4,
 "nbformat_minor": 4
}
