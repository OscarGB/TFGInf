{
 "cells": [
  {
   "cell_type": "code",
   "execution_count": 1,
   "metadata": {},
   "outputs": [],
   "source": [
    "import pandas as pd\n",
    "import numpy as np\n",
    "from sklearn import svm\n",
    "from sklearn.multioutput import MultiOutputRegressor\n",
    "from sklearn.ensemble import GradientBoostingRegressor\n",
    "from sklearn.preprocessing import MinMaxScaler\n",
    "from sklearn.gaussian_process import GaussianProcessRegressor\n",
    "from sklearn.gaussian_process.kernels import DotProduct, WhiteKernel, RBF, RationalQuadratic\n",
    "import time\n",
    "import matplotlib.pyplot as plt\n",
    "from sklearn.model_selection import GridSearchCV, ParameterGrid"
   ]
  },
  {
   "cell_type": "markdown",
   "metadata": {},
   "source": [
    "# Import all data"
   ]
  },
  {
   "cell_type": "code",
   "execution_count": 2,
   "metadata": {},
   "outputs": [],
   "source": [
    "X_train = pd.read_parquet(\"X/X_train.parquet\")\n",
    "X_test = pd.read_parquet(\"X/X_test.parquet\")\n",
    "Y_train = pd.read_parquet(\"Y/Y_train.parquet\")\n",
    "Y_test = pd.read_parquet(\"Y/Y_test.parquet\")\n",
    "X_train = X_train[['Built', 'Below Secundary', 'Income Median',\n",
    "       'Population', 'Over 65', 'Over 65 Percentage', 'Over 85',\n",
    "       'Over 85 Percentage', 'Over 50', 'Over 50 Percentage', 'Under 20',\n",
    "       'Under 20 Percentage', 'Income Per Capita', 'Tourism', 'Area',\n",
    "       'Built Area']]\n",
    "X_test = X_test[['Built', 'Below Secundary', 'Income Median',\n",
    "       'Population', 'Over 65', 'Over 65 Percentage', 'Over 85',\n",
    "       'Over 85 Percentage', 'Over 50', 'Over 50 Percentage', 'Under 20',\n",
    "       'Under 20 Percentage', 'Income Per Capita', 'Tourism', 'Area',\n",
    "       'Built Area']]\n",
    "Complete = pd.read_parquet(\"dataset.parquet\")"
   ]
  },
  {
   "cell_type": "code",
   "execution_count": 3,
   "metadata": {},
   "outputs": [],
   "source": [
    "scalerX = MinMaxScaler().fit(X_train)\n",
    "X_train = pd.DataFrame(scalerX.transform(X_train))\n",
    "X_test = pd.DataFrame(scalerX.transform(X_test))\n",
    "scalerY = MinMaxScaler().fit(Y_train)\n",
    "Y_train = pd.DataFrame(scalerY.transform(Y_train))\n",
    "Y_test = pd.DataFrame(scalerY.transform(Y_test))\n",
    "Y1_train = Y_train[[0]]\n",
    "Y1_test = Y_test[[0]]\n",
    "Y2_train = Y_train[[1]]\n",
    "Y2_test = Y_test[[1]]\n",
    "Y3_train = Y_train[[2]]\n",
    "Y3_test = Y_test[[2]]\n",
    "Y4_train = Y_train[[3]]\n",
    "Y4_test = Y_test[[3]]\n",
    "Y5_train = Y_train[[4]]\n",
    "Y5_test = Y_test[[4]]\n",
    "Y6_train = Y_train[[5]]\n",
    "Y6_test = Y_test[[5]]"
   ]
  },
  {
   "cell_type": "markdown",
   "metadata": {},
   "source": [
    "## Train and score"
   ]
  },
  {
   "cell_type": "code",
   "execution_count": 4,
   "metadata": {},
   "outputs": [],
   "source": [
    "parameters = {'kernel': [RationalQuadratic() + WhiteKernel(), DotProduct() + WhiteKernel(),\n",
    "                         DotProduct() + RationalQuadratic(), RBF() + WhiteKernel(),\n",
    "                         RBF() + DotProduct(), RBF() + RationalQuadratic()]} "
   ]
  },
  {
   "cell_type": "code",
   "execution_count": 5,
   "metadata": {},
   "outputs": [],
   "source": [
    "def GridSearch(rf, X_train, X_test, y_train, y_test, grid, verbose=False):\n",
    "    best_score = 0\n",
    "    par = ParameterGrid(grid)\n",
    "    ln = len(par)\n",
    "    i = 0\n",
    "    for g in par:\n",
    "        if(verbose):\n",
    "            print(f\"Probando: {g}, {i} de {ln}\")\n",
    "        i+=1\n",
    "        rf.set_params(**g)\n",
    "        startTime = time.time()\n",
    "        rf.fit(X_train, np.ravel(y_train))\n",
    "        elapsedTime = time.time() - startTime\n",
    "        score = rf.score(X_test, y_test)\n",
    "        if(verbose):\n",
    "            print(f\"Tiempo de entrenamiento: {elapsedTime} s, score: {score}\")\n",
    "        # save if best\n",
    "        if score > best_score:\n",
    "            best_score = score\n",
    "            best_grid = g\n",
    "    print(f\"Best Score: {best_score}\")\n",
    "    print(f\"Best Parameters: {best_grid}\")\n",
    "    return best_grid"
   ]
  },
  {
   "cell_type": "code",
   "execution_count": 6,
   "metadata": {},
   "outputs": [
    {
     "name": "stdout",
     "output_type": "stream",
     "text": [
      "Probando: {'kernel': RationalQuadratic(alpha=1, length_scale=1) + WhiteKernel(noise_level=1)}, 0 de 6\n",
      "Tiempo de entrenamiento: 7.562634706497192 s, score: 0.9785857476463445\n",
      "Probando: {'kernel': DotProduct(sigma_0=1) + WhiteKernel(noise_level=1)}, 1 de 6\n",
      "Tiempo de entrenamiento: 3.290658950805664 s, score: 0.9057464381878501\n",
      "Probando: {'kernel': DotProduct(sigma_0=1) + RationalQuadratic(alpha=1, length_scale=1)}, 2 de 6\n",
      "Tiempo de entrenamiento: 5.732126235961914 s, score: 0.9482533234646155\n",
      "Probando: {'kernel': RBF(length_scale=1) + WhiteKernel(noise_level=1)}, 3 de 6\n",
      "Tiempo de entrenamiento: 1.6106631755828857 s, score: 0.970769566869085\n",
      "Probando: {'kernel': RBF(length_scale=1) + DotProduct(sigma_0=1)}, 4 de 6\n",
      "Tiempo de entrenamiento: 0.36783623695373535 s, score: -155.95782272239964\n",
      "Probando: {'kernel': RBF(length_scale=1) + RationalQuadratic(alpha=1, length_scale=1)}, 5 de 6\n",
      "Tiempo de entrenamiento: 14.680711269378662 s, score: 0.9727727495264535\n",
      "Best Score: 0.9785857476463445\n",
      "Best Parameters: {'kernel': RationalQuadratic(alpha=1, length_scale=1) + WhiteKernel(noise_level=1)}\n"
     ]
    }
   ],
   "source": [
    "g = GridSearch(GaussianProcessRegressor(), X_train, X_test, Y1_train, Y1_test, parameters, verbose=True)\n",
    "clf1 = GaussianProcessRegressor(**g).fit(X_train, np.ravel(Y1_train))"
   ]
  },
  {
   "cell_type": "code",
   "execution_count": 7,
   "metadata": {},
   "outputs": [
    {
     "name": "stdout",
     "output_type": "stream",
     "text": [
      "Probando: {'kernel': RationalQuadratic(alpha=1, length_scale=1) + WhiteKernel(noise_level=1)}, 0 de 6\n"
     ]
    },
    {
     "name": "stderr",
     "output_type": "stream",
     "text": [
      "/home/oscar/TFGInf/.venv/lib/python3.6/site-packages/sklearn/gaussian_process/_gpr.py:494: ConvergenceWarning: lbfgs failed to converge (status=2):\n",
      "ABNORMAL_TERMINATION_IN_LNSRCH.\n",
      "\n",
      "Increase the number of iterations (max_iter) or scale the data as shown in:\n",
      "    https://scikit-learn.org/stable/modules/preprocessing.html\n",
      "  _check_optimize_result(\"lbfgs\", opt_res)\n"
     ]
    },
    {
     "name": "stdout",
     "output_type": "stream",
     "text": [
      "Tiempo de entrenamiento: 17.83512592315674 s, score: 0.9692780878350102\n",
      "Probando: {'kernel': DotProduct(sigma_0=1) + WhiteKernel(noise_level=1)}, 1 de 6\n",
      "Tiempo de entrenamiento: 2.8510830402374268 s, score: 0.504207431694254\n",
      "Probando: {'kernel': DotProduct(sigma_0=1) + RationalQuadratic(alpha=1, length_scale=1)}, 2 de 6\n",
      "Tiempo de entrenamiento: 0.5811166763305664 s, score: -872.1907192638223\n",
      "Probando: {'kernel': RBF(length_scale=1) + WhiteKernel(noise_level=1)}, 3 de 6\n",
      "Tiempo de entrenamiento: 2.188720703125 s, score: 0.9692778214528253\n",
      "Probando: {'kernel': RBF(length_scale=1) + DotProduct(sigma_0=1)}, 4 de 6\n",
      "Tiempo de entrenamiento: 0.3699195384979248 s, score: -446.9780126975569\n",
      "Probando: {'kernel': RBF(length_scale=1) + RationalQuadratic(alpha=1, length_scale=1)}, 5 de 6\n",
      "Tiempo de entrenamiento: 18.770798683166504 s, score: 0.9690654390196589\n",
      "Best Score: 0.9692780878350102\n",
      "Best Parameters: {'kernel': RationalQuadratic(alpha=1, length_scale=1) + WhiteKernel(noise_level=1)}\n"
     ]
    },
    {
     "name": "stderr",
     "output_type": "stream",
     "text": [
      "/home/oscar/TFGInf/.venv/lib/python3.6/site-packages/sklearn/gaussian_process/_gpr.py:494: ConvergenceWarning: lbfgs failed to converge (status=2):\n",
      "ABNORMAL_TERMINATION_IN_LNSRCH.\n",
      "\n",
      "Increase the number of iterations (max_iter) or scale the data as shown in:\n",
      "    https://scikit-learn.org/stable/modules/preprocessing.html\n",
      "  _check_optimize_result(\"lbfgs\", opt_res)\n"
     ]
    }
   ],
   "source": [
    "g = GridSearch(GaussianProcessRegressor(), X_train, X_test, Y2_train, Y2_test, parameters, verbose=True)\n",
    "clf2 = GaussianProcessRegressor(**g).fit(X_train, np.ravel(Y2_train))"
   ]
  },
  {
   "cell_type": "code",
   "execution_count": 8,
   "metadata": {},
   "outputs": [
    {
     "name": "stdout",
     "output_type": "stream",
     "text": [
      "Probando: {'kernel': RationalQuadratic(alpha=1, length_scale=1) + WhiteKernel(noise_level=1)}, 0 de 6\n",
      "Tiempo de entrenamiento: 6.057366847991943 s, score: 0.9732178303322498\n",
      "Probando: {'kernel': DotProduct(sigma_0=1) + WhiteKernel(noise_level=1)}, 1 de 6\n",
      "Tiempo de entrenamiento: 3.434858798980713 s, score: 0.8563963759026278\n",
      "Probando: {'kernel': DotProduct(sigma_0=1) + RationalQuadratic(alpha=1, length_scale=1)}, 2 de 6\n",
      "Tiempo de entrenamiento: 0.5841901302337646 s, score: -1329.4350268658325\n",
      "Probando: {'kernel': RBF(length_scale=1) + WhiteKernel(noise_level=1)}, 3 de 6\n",
      "Tiempo de entrenamiento: 1.7776038646697998 s, score: 0.944368765543437\n",
      "Probando: {'kernel': RBF(length_scale=1) + DotProduct(sigma_0=1)}, 4 de 6\n",
      "Tiempo de entrenamiento: 0.35237789154052734 s, score: -1117.508556951373\n",
      "Probando: {'kernel': RBF(length_scale=1) + RationalQuadratic(alpha=1, length_scale=1)}, 5 de 6\n",
      "Tiempo de entrenamiento: 21.146454334259033 s, score: 0.9510212678806047\n",
      "Best Score: 0.9732178303322498\n",
      "Best Parameters: {'kernel': RationalQuadratic(alpha=1, length_scale=1) + WhiteKernel(noise_level=1)}\n"
     ]
    }
   ],
   "source": [
    "g = GridSearch(GaussianProcessRegressor(), X_train, X_test, Y3_train, Y3_test, parameters, verbose=True)\n",
    "clf3 = GaussianProcessRegressor(**g).fit(X_train, np.ravel(Y3_train))"
   ]
  },
  {
   "cell_type": "code",
   "execution_count": 9,
   "metadata": {},
   "outputs": [
    {
     "name": "stdout",
     "output_type": "stream",
     "text": [
      "Probando: {'kernel': RationalQuadratic(alpha=1, length_scale=1) + WhiteKernel(noise_level=1)}, 0 de 6\n",
      "Tiempo de entrenamiento: 6.636101484298706 s, score: 0.9498834285963607\n",
      "Probando: {'kernel': DotProduct(sigma_0=1) + WhiteKernel(noise_level=1)}, 1 de 6\n",
      "Tiempo de entrenamiento: 3.235872268676758 s, score: 0.7703663645598535\n",
      "Probando: {'kernel': DotProduct(sigma_0=1) + RationalQuadratic(alpha=1, length_scale=1)}, 2 de 6\n",
      "Tiempo de entrenamiento: 0.6292109489440918 s, score: -66.33244017855645\n",
      "Probando: {'kernel': RBF(length_scale=1) + WhiteKernel(noise_level=1)}, 3 de 6\n",
      "Tiempo de entrenamiento: 1.7660577297210693 s, score: 0.9114063870146586\n",
      "Probando: {'kernel': RBF(length_scale=1) + DotProduct(sigma_0=1)}, 4 de 6\n",
      "Tiempo de entrenamiento: 0.35686254501342773 s, score: -62.498091568933134\n",
      "Probando: {'kernel': RBF(length_scale=1) + RationalQuadratic(alpha=1, length_scale=1)}, 5 de 6\n"
     ]
    },
    {
     "name": "stderr",
     "output_type": "stream",
     "text": [
      "/home/oscar/TFGInf/.venv/lib/python3.6/site-packages/sklearn/gaussian_process/_gpr.py:494: ConvergenceWarning: lbfgs failed to converge (status=2):\n",
      "ABNORMAL_TERMINATION_IN_LNSRCH.\n",
      "\n",
      "Increase the number of iterations (max_iter) or scale the data as shown in:\n",
      "    https://scikit-learn.org/stable/modules/preprocessing.html\n",
      "  _check_optimize_result(\"lbfgs\", opt_res)\n"
     ]
    },
    {
     "name": "stdout",
     "output_type": "stream",
     "text": [
      "Tiempo de entrenamiento: 28.29523491859436 s, score: 0.9104423189714667\n",
      "Best Score: 0.9498834285963607\n",
      "Best Parameters: {'kernel': RationalQuadratic(alpha=1, length_scale=1) + WhiteKernel(noise_level=1)}\n"
     ]
    }
   ],
   "source": [
    "g = GridSearch(GaussianProcessRegressor(), X_train, X_test, Y4_train, Y4_test, parameters, verbose=True)\n",
    "clf4 = GaussianProcessRegressor(**g).fit(X_train, np.ravel(Y4_train))"
   ]
  },
  {
   "cell_type": "code",
   "execution_count": 10,
   "metadata": {},
   "outputs": [
    {
     "name": "stdout",
     "output_type": "stream",
     "text": [
      "Probando: {'kernel': RationalQuadratic(alpha=1, length_scale=1) + WhiteKernel(noise_level=1)}, 0 de 6\n",
      "Tiempo de entrenamiento: 6.357924938201904 s, score: 0.973218016985576\n",
      "Probando: {'kernel': DotProduct(sigma_0=1) + WhiteKernel(noise_level=1)}, 1 de 6\n",
      "Tiempo de entrenamiento: 3.228196382522583 s, score: 0.7422478281708049\n",
      "Probando: {'kernel': DotProduct(sigma_0=1) + RationalQuadratic(alpha=1, length_scale=1)}, 2 de 6\n"
     ]
    },
    {
     "name": "stderr",
     "output_type": "stream",
     "text": [
      "/home/oscar/TFGInf/.venv/lib/python3.6/site-packages/sklearn/gaussian_process/_gpr.py:494: ConvergenceWarning: lbfgs failed to converge (status=2):\n",
      "ABNORMAL_TERMINATION_IN_LNSRCH.\n",
      "\n",
      "Increase the number of iterations (max_iter) or scale the data as shown in:\n",
      "    https://scikit-learn.org/stable/modules/preprocessing.html\n",
      "  _check_optimize_result(\"lbfgs\", opt_res)\n"
     ]
    },
    {
     "name": "stdout",
     "output_type": "stream",
     "text": [
      "Tiempo de entrenamiento: 22.385217666625977 s, score: 0.8784088235820305\n",
      "Probando: {'kernel': RBF(length_scale=1) + WhiteKernel(noise_level=1)}, 3 de 6\n",
      "Tiempo de entrenamiento: 2.4403882026672363 s, score: 0.9586837634759093\n",
      "Probando: {'kernel': RBF(length_scale=1) + DotProduct(sigma_0=1)}, 4 de 6\n",
      "Tiempo de entrenamiento: 0.3509786128997803 s, score: -279.5972353747834\n",
      "Probando: {'kernel': RBF(length_scale=1) + RationalQuadratic(alpha=1, length_scale=1)}, 5 de 6\n",
      "Tiempo de entrenamiento: 32.2824912071228 s, score: 0.9589992490911156\n",
      "Best Score: 0.973218016985576\n",
      "Best Parameters: {'kernel': RationalQuadratic(alpha=1, length_scale=1) + WhiteKernel(noise_level=1)}\n"
     ]
    }
   ],
   "source": [
    "g = GridSearch(GaussianProcessRegressor(), X_train, X_test, Y5_train, Y5_test, parameters, verbose=True)\n",
    "clf5 = GaussianProcessRegressor(**g).fit(X_train, np.ravel(Y5_train))"
   ]
  },
  {
   "cell_type": "code",
   "execution_count": 11,
   "metadata": {},
   "outputs": [
    {
     "name": "stdout",
     "output_type": "stream",
     "text": [
      "Probando: {'kernel': RationalQuadratic(alpha=1, length_scale=1) + WhiteKernel(noise_level=1)}, 0 de 6\n",
      "Tiempo de entrenamiento: 5.81319785118103 s, score: 0.9792527138333394\n",
      "Probando: {'kernel': DotProduct(sigma_0=1) + WhiteKernel(noise_level=1)}, 1 de 6\n",
      "Tiempo de entrenamiento: 2.960428237915039 s, score: 0.7846137644266227\n",
      "Probando: {'kernel': DotProduct(sigma_0=1) + RationalQuadratic(alpha=1, length_scale=1)}, 2 de 6\n",
      "Tiempo de entrenamiento: 0.5874288082122803 s, score: -508.2716871737393\n",
      "Probando: {'kernel': RBF(length_scale=1) + WhiteKernel(noise_level=1)}, 3 de 6\n",
      "Tiempo de entrenamiento: 1.8060269355773926 s, score: 0.9714887393022418\n",
      "Probando: {'kernel': RBF(length_scale=1) + DotProduct(sigma_0=1)}, 4 de 6\n"
     ]
    },
    {
     "name": "stderr",
     "output_type": "stream",
     "text": [
      "/home/oscar/TFGInf/.venv/lib/python3.6/site-packages/sklearn/gaussian_process/_gpr.py:494: ConvergenceWarning: lbfgs failed to converge (status=2):\n",
      "ABNORMAL_TERMINATION_IN_LNSRCH.\n",
      "\n",
      "Increase the number of iterations (max_iter) or scale the data as shown in:\n",
      "    https://scikit-learn.org/stable/modules/preprocessing.html\n",
      "  _check_optimize_result(\"lbfgs\", opt_res)\n"
     ]
    },
    {
     "name": "stdout",
     "output_type": "stream",
     "text": [
      "Tiempo de entrenamiento: 11.935351848602295 s, score: 0.7513854633231474\n",
      "Probando: {'kernel': RBF(length_scale=1) + RationalQuadratic(alpha=1, length_scale=1)}, 5 de 6\n"
     ]
    },
    {
     "name": "stderr",
     "output_type": "stream",
     "text": [
      "/home/oscar/TFGInf/.venv/lib/python3.6/site-packages/sklearn/gaussian_process/_gpr.py:494: ConvergenceWarning: lbfgs failed to converge (status=2):\n",
      "ABNORMAL_TERMINATION_IN_LNSRCH.\n",
      "\n",
      "Increase the number of iterations (max_iter) or scale the data as shown in:\n",
      "    https://scikit-learn.org/stable/modules/preprocessing.html\n",
      "  _check_optimize_result(\"lbfgs\", opt_res)\n"
     ]
    },
    {
     "name": "stdout",
     "output_type": "stream",
     "text": [
      "Tiempo de entrenamiento: 33.37130522727966 s, score: 0.975633652481492\n",
      "Best Score: 0.9792527138333394\n",
      "Best Parameters: {'kernel': RationalQuadratic(alpha=1, length_scale=1) + WhiteKernel(noise_level=1)}\n"
     ]
    }
   ],
   "source": [
    "g = GridSearch(GaussianProcessRegressor(), X_train, X_test, Y6_train, Y6_test, parameters, verbose=True)\n",
    "clf6 = GaussianProcessRegressor(**g).fit(X_train, np.ravel(Y6_train))"
   ]
  },
  {
   "cell_type": "raw",
   "metadata": {},
   "source": [
    "clf1 = GridSearchCV(GaussianProcessRegressor(), parameters, n_jobs=-1)\n",
    "startTime = time.time()\n",
    "clf1.fit(X_train, np.ravel(Y1_train))\n",
    "elapsedTime = time.time() - startTime\n",
    "print('{} s'.format(int(elapsedTime)))\n",
    "print(clf1.score(X_test, Y1_test))\n",
    "print(clf1.best_params_)"
   ]
  },
  {
   "cell_type": "raw",
   "metadata": {},
   "source": [
    "clf2 = GridSearchCV(GaussianProcessRegressor(), parameters, n_jobs=-1)\n",
    "startTime = time.time()\n",
    "clf2.fit(X_train, np.ravel(Y2_train))\n",
    "elapsedTime = time.time() - startTime\n",
    "print('{} s'.format(int(elapsedTime)))\n",
    "print(clf2.score(X_test, Y2_test))\n",
    "print(clf2.best_params_)"
   ]
  },
  {
   "cell_type": "raw",
   "metadata": {},
   "source": [
    "clf3 = GridSearchCV(GaussianProcessRegressor(), parameters, n_jobs=-1)\n",
    "startTime = time.time()\n",
    "clf3.fit(X_train, np.ravel(Y3_train))\n",
    "elapsedTime = time.time() - startTime\n",
    "print('{} s'.format(int(elapsedTime)))\n",
    "print(clf3.score(X_test, Y3_test))\n",
    "print(clf3.best_params_)"
   ]
  },
  {
   "cell_type": "raw",
   "metadata": {},
   "source": [
    "clf4 = GridSearchCV(GaussianProcessRegressor(), parameters, n_jobs=-1)\n",
    "startTime = time.time()\n",
    "clf4.fit(X_train, np.ravel(Y4_train))\n",
    "elapsedTime = time.time() - startTime\n",
    "print('{} s'.format(int(elapsedTime)))\n",
    "print(clf4.score(X_test, Y4_test))\n",
    "print(clf4.best_params_)"
   ]
  },
  {
   "cell_type": "raw",
   "metadata": {},
   "source": [
    "clf5 = GridSearchCV(GaussianProcessRegressor(), parameters, n_jobs=-1)\n",
    "startTime = time.time()\n",
    "clf5.fit(X_train, np.ravel(Y5_train))\n",
    "elapsedTime = time.time() - startTime\n",
    "print('{} s'.format(int(elapsedTime)))\n",
    "print(clf5.score(X_test, Y5_test))\n",
    "print(clf5.best_params_)"
   ]
  },
  {
   "cell_type": "raw",
   "metadata": {},
   "source": [
    "clf6 = GridSearchCV(GaussianProcessRegressor(), parameters, n_jobs=-1)\n",
    "startTime = time.time()\n",
    "clf6.fit(X_train, np.ravel(Y6_train))\n",
    "elapsedTime = time.time() - startTime\n",
    "print('{} s'.format(int(elapsedTime)))\n",
    "print(clf6.score(X_test, Y6_test))\n",
    "print(clf6.best_params_)"
   ]
  },
  {
   "cell_type": "markdown",
   "metadata": {},
   "source": [
    "## Test for each year"
   ]
  },
  {
   "cell_type": "code",
   "execution_count": 12,
   "metadata": {},
   "outputs": [
    {
     "data": {
      "text/plain": [
       "0.014811809847782138"
      ]
     },
     "execution_count": 12,
     "metadata": {},
     "output_type": "execute_result"
    }
   ],
   "source": [
    "np.abs(clf1.predict(X_test.iloc[0::4]) - np.array(Y1_test.iloc[0::4][0])).mean()"
   ]
  },
  {
   "cell_type": "code",
   "execution_count": 13,
   "metadata": {},
   "outputs": [
    {
     "data": {
      "text/plain": [
       "0.017835347295394956"
      ]
     },
     "execution_count": 13,
     "metadata": {},
     "output_type": "execute_result"
    }
   ],
   "source": [
    "np.abs(clf1.predict(X_test.iloc[1::4]) - np.array(Y1_test.iloc[1::4][0])).mean()"
   ]
  },
  {
   "cell_type": "code",
   "execution_count": 14,
   "metadata": {},
   "outputs": [
    {
     "data": {
      "text/plain": [
       "0.020891851409626884"
      ]
     },
     "execution_count": 14,
     "metadata": {},
     "output_type": "execute_result"
    }
   ],
   "source": [
    "np.abs(clf1.predict(X_test.iloc[2::4]) - np.array(Y1_test.iloc[2::4][0])).mean()"
   ]
  },
  {
   "cell_type": "code",
   "execution_count": 15,
   "metadata": {},
   "outputs": [
    {
     "data": {
      "text/plain": [
       "0.023506647783887075"
      ]
     },
     "execution_count": 15,
     "metadata": {},
     "output_type": "execute_result"
    }
   ],
   "source": [
    "np.abs(clf1.predict(X_test.iloc[3::4]) - np.array(Y1_test.iloc[3::4][0])).mean()"
   ]
  },
  {
   "cell_type": "markdown",
   "metadata": {},
   "source": [
    "## One concrete example"
   ]
  },
  {
   "cell_type": "code",
   "execution_count": 16,
   "metadata": {},
   "outputs": [
    {
     "data": {
      "text/plain": [
       "array([[ 68902.497078  , 136371.08880019,   4917.20828333,\n",
       "          1727.59505996,   2646.4056072 ,  50757.29634635,\n",
       "          1990.        ]])"
      ]
     },
     "execution_count": 16,
     "metadata": {},
     "output_type": "execute_result"
    }
   ],
   "source": [
    "i = 120\n",
    "scalerY.inverse_transform([[clf1.predict([X_test.iloc[i]])[0], clf2.predict([X_test.iloc[i]])[0], clf3.predict([X_test.iloc[i]])[0], \n",
    "                          clf4.predict([X_test.iloc[i]])[0], clf5.predict([X_test.iloc[i]])[0], clf6.predict([X_test.iloc[i]])[0], 0]])"
   ]
  },
  {
   "cell_type": "code",
   "execution_count": 17,
   "metadata": {},
   "outputs": [
    {
     "data": {
      "text/plain": [
       "array([[ 57900., 136649.,   3206.,    821.,   2385.,  49816.,   2014.]])"
      ]
     },
     "execution_count": 17,
     "metadata": {},
     "output_type": "execute_result"
    }
   ],
   "source": [
    "scalerY.inverse_transform([Y_test.iloc[i]])"
   ]
  },
  {
   "cell_type": "markdown",
   "metadata": {},
   "source": [
    "## Probamos con España"
   ]
  },
  {
   "cell_type": "code",
   "execution_count": 18,
   "metadata": {},
   "outputs": [],
   "source": [
    "country = 'ESP'\n",
    "esp = Complete[Complete.COU == country]"
   ]
  },
  {
   "cell_type": "markdown",
   "metadata": {},
   "source": [
    "### Municipal"
   ]
  },
  {
   "cell_type": "code",
   "execution_count": 19,
   "metadata": {},
   "outputs": [],
   "source": [
    "years = list(esp.Year)\n",
    "mun = list(esp.Municipal)\n",
    "predictions = clf1.predict(pd.DataFrame(scalerX.transform(Complete.loc[esp.index[-4:],:][['Built', 'Below Secundary', 'Income Median',\n",
    "       'Population', 'Over 65', 'Over 65 Percentage', 'Over 85',\n",
    "       'Over 85 Percentage', 'Over 50', 'Over 50 Percentage', 'Under 20',\n",
    "       'Under 20 Percentage', 'Income Per Capita', 'Tourism', 'Area',\n",
    "       'Built Area']])))\n",
    "predictions = [a[0] for a in scalerY.inverse_transform([[a,0,0,0,0,0,0] for a in predictions])]"
   ]
  },
  {
   "cell_type": "code",
   "execution_count": 20,
   "metadata": {},
   "outputs": [
    {
     "data": {
      "image/png": "[encoded data removed]",
      "text/plain": [
       "<Figure size 432x288 with 1 Axes>"
      ]
     },
     "metadata": {
      "needs_background": "light"
     },
     "output_type": "display_data"
    }
   ],
   "source": [
    "plt.plot(years, mun, lw=2, label='real')\n",
    "plt.axvline(x=2013.5, c='green', lw=1, ls=':', label='separación')\n",
    "plt.plot(years[-4:], predictions, c='red', lw=2, label='predecido')\n",
    "plt.title(\"Basura municipal en España\")\n",
    "plt.xlabel(\"Año\")\n",
    "plt.ylabel(\"Miles de toneladas\")\n",
    "plt.legend()\n",
    "plt.show()"
   ]
  },
  {
   "cell_type": "markdown",
   "metadata": {},
   "source": [
    "### Household"
   ]
  },
  {
   "cell_type": "code",
   "execution_count": 21,
   "metadata": {},
   "outputs": [],
   "source": [
    "years = list(esp.Year)\n",
    "mun = list(esp.Household)\n",
    "predictions = clf2.predict(pd.DataFrame(scalerX.transform(Complete.loc[esp.index[-4:],:][['Built', 'Below Secundary', 'Income Median',\n",
    "       'Population', 'Over 65', 'Over 65 Percentage', 'Over 85',\n",
    "       'Over 85 Percentage', 'Over 50', 'Over 50 Percentage', 'Under 20',\n",
    "       'Under 20 Percentage', 'Income Per Capita', 'Tourism', 'Area',\n",
    "       'Built Area']])))\n",
    "predictions = [a[1] for a in scalerY.inverse_transform([[0,a,0,0,0,0,0] for a in predictions])]"
   ]
  },
  {
   "cell_type": "code",
   "execution_count": 22,
   "metadata": {},
   "outputs": [
    {
     "data": {
      "image/png": "[encoded data removed]",
      "text/plain": [
       "<Figure size 432x288 with 1 Axes>"
      ]
     },
     "metadata": {
      "needs_background": "light"
     },
     "output_type": "display_data"
    }
   ],
   "source": [
    "plt.plot(years, mun, lw=2, label='real')\n",
    "plt.axvline(x=2013.5, c='green', lw=1, ls=':', label='separación')\n",
    "plt.plot(years[-4:], predictions, c='red', lw=2, label='predecido')\n",
    "plt.title(\"Basura doméstica en España\")\n",
    "plt.xlabel(\"Año\")\n",
    "plt.ylabel(\"Miles de toneladas\")\n",
    "plt.legend()\n",
    "plt.show()"
   ]
  },
  {
   "cell_type": "markdown",
   "metadata": {},
   "source": [
    "### Recovered"
   ]
  },
  {
   "cell_type": "code",
   "execution_count": 23,
   "metadata": {},
   "outputs": [],
   "source": [
    "years = list(esp.Year)\n",
    "mun = list(esp.Recovered)\n",
    "predictions = clf3.predict(pd.DataFrame(scalerX.transform(Complete.loc[esp.index[-4:],:][['Built', 'Below Secundary', 'Income Median',\n",
    "       'Population', 'Over 65', 'Over 65 Percentage', 'Over 85',\n",
    "       'Over 85 Percentage', 'Over 50', 'Over 50 Percentage', 'Under 20',\n",
    "       'Under 20 Percentage', 'Income Per Capita', 'Tourism', 'Area',\n",
    "       'Built Area']])))\n",
    "predictions = [a[2] for a in scalerY.inverse_transform([[0,0,a,0,0,0,0] for a in predictions])]"
   ]
  },
  {
   "cell_type": "code",
   "execution_count": 24,
   "metadata": {},
   "outputs": [
    {
     "data": {
      "image/png": "[encoded data removed]",
      "text/plain": [
       "<Figure size 432x288 with 1 Axes>"
      ]
     },
     "metadata": {
      "needs_background": "light"
     },
     "output_type": "display_data"
    }
   ],
   "source": [
    "plt.plot(years, mun, lw=2, label='real')\n",
    "plt.axvline(x=2013.5, c='green', lw=1, ls=':', label='separación')\n",
    "plt.plot(years[-4:], predictions, c='red', lw=2, label='predecido')\n",
    "plt.title(\"Basura recuperada en España\")\n",
    "plt.xlabel(\"Año\")\n",
    "plt.ylabel(\"Miles de toneladas\")\n",
    "plt.legend()\n",
    "plt.show()"
   ]
  },
  {
   "cell_type": "markdown",
   "metadata": {},
   "source": [
    "### Recicled"
   ]
  },
  {
   "cell_type": "code",
   "execution_count": 25,
   "metadata": {},
   "outputs": [],
   "source": [
    "years = list(esp.Year)\n",
    "mun = list(esp.Recicled)\n",
    "predictions = clf4.predict(pd.DataFrame(scalerX.transform(Complete.loc[esp.index[-4:],:][['Built', 'Below Secundary', 'Income Median',\n",
    "       'Population', 'Over 65', 'Over 65 Percentage', 'Over 85',\n",
    "       'Over 85 Percentage', 'Over 50', 'Over 50 Percentage', 'Under 20',\n",
    "       'Under 20 Percentage', 'Income Per Capita', 'Tourism', 'Area',\n",
    "       'Built Area']])))\n",
    "predictions = [a[3] for a in scalerY.inverse_transform([[0,0,0,a,0,0,0] for a in predictions])]"
   ]
  },
  {
   "cell_type": "code",
   "execution_count": 26,
   "metadata": {
    "scrolled": false
   },
   "outputs": [
    {
     "data": {
      "image/png": "[encoded data removed]",
      "text/plain": [
       "<Figure size 432x288 with 1 Axes>"
      ]
     },
     "metadata": {
      "needs_background": "light"
     },
     "output_type": "display_data"
    }
   ],
   "source": [
    "plt.plot(years, mun, lw=2, label='real')\n",
    "plt.axvline(x=2013.5, c='green', lw=1, ls=':', label='separación')\n",
    "plt.plot(years[-4:], predictions, c='red', lw=2, label='predecido')\n",
    "plt.title(\"Basura reciclada en España\")\n",
    "plt.xlabel(\"Año\")\n",
    "plt.ylabel(\"Miles de toneladas\")\n",
    "plt.legend()\n",
    "plt.show()"
   ]
  },
  {
   "cell_type": "markdown",
   "metadata": {},
   "source": [
    "### Compost"
   ]
  },
  {
   "cell_type": "code",
   "execution_count": 27,
   "metadata": {},
   "outputs": [],
   "source": [
    "years = list(esp.Year)\n",
    "mun = list(esp.Compost)\n",
    "predictions = clf5.predict(pd.DataFrame(scalerX.transform(Complete.loc[esp.index[-4:],:][['Built', 'Below Secundary', 'Income Median',\n",
    "       'Population', 'Over 65', 'Over 65 Percentage', 'Over 85',\n",
    "       'Over 85 Percentage', 'Over 50', 'Over 50 Percentage', 'Under 20',\n",
    "       'Under 20 Percentage', 'Income Per Capita', 'Tourism', 'Area',\n",
    "       'Built Area']])))\n",
    "predictions = [a[4] for a in scalerY.inverse_transform([[0,0,0,0,a,0,0] for a in predictions])]"
   ]
  },
  {
   "cell_type": "code",
   "execution_count": 28,
   "metadata": {},
   "outputs": [
    {
     "data": {
      "image/png": "[encoded data removed]",
      "text/plain": [
       "<Figure size 432x288 with 1 Axes>"
      ]
     },
     "metadata": {
      "needs_background": "light"
     },
     "output_type": "display_data"
    }
   ],
   "source": [
    "plt.plot(years, mun, lw=2, label='real')\n",
    "plt.axvline(x=2013.5, c='green', lw=1, ls=':', label='separación')\n",
    "plt.plot(years[-4:], predictions, c='red', lw=2, label='predecido')\n",
    "plt.title(\"Basura compostada en España\")\n",
    "plt.xlabel(\"Año\")\n",
    "plt.ylabel(\"Miles de toneladas\")\n",
    "plt.legend()\n",
    "plt.show()"
   ]
  },
  {
   "cell_type": "markdown",
   "metadata": {},
   "source": [
    "### Disposal"
   ]
  },
  {
   "cell_type": "code",
   "execution_count": 29,
   "metadata": {},
   "outputs": [],
   "source": [
    "years = list(esp.Year)\n",
    "mun = list(esp.Disposal)\n",
    "predictions = clf1.predict(pd.DataFrame(scalerX.transform(Complete.loc[esp.index[-4:],:][['Built', 'Below Secundary', 'Income Median',\n",
    "       'Population', 'Over 65', 'Over 65 Percentage', 'Over 85',\n",
    "       'Over 85 Percentage', 'Over 50', 'Over 50 Percentage', 'Under 20',\n",
    "       'Under 20 Percentage', 'Income Per Capita', 'Tourism', 'Area',\n",
    "       'Built Area']])))\n",
    "predictions = [a[5] for a in scalerY.inverse_transform([[0,0,0,0,0,a,0] for a in predictions])]"
   ]
  },
  {
   "cell_type": "code",
   "execution_count": 30,
   "metadata": {
    "scrolled": false
   },
   "outputs": [
    {
     "data": {
      "image/png": "[encoded data removed]",
      "text/plain": [
       "<Figure size 432x288 with 1 Axes>"
      ]
     },
     "metadata": {
      "needs_background": "light"
     },
     "output_type": "display_data"
    }
   ],
   "source": [
    "plt.plot(years, mun, lw=2, label='real')\n",
    "plt.axvline(x=2013.5, c='green', lw=1, ls=':', label='separación')\n",
    "plt.plot(years[-4:], predictions, c='red', lw=2, label='predecido')\n",
    "plt.title(\"Basura deshechada en España\")\n",
    "plt.xlabel(\"Año\")\n",
    "plt.ylabel(\"Miles de toneladas\")\n",
    "plt.legend()\n",
    "plt.show()"
   ]
  },
  {
   "cell_type": "code",
   "execution_count": null,
   "metadata": {},
   "outputs": [],
   "source": []
  }
 ],
 "metadata": {
  "kernelspec": {
   "display_name": "Python 3",
   "language": "python",
   "name": "python3"
  },
  "language_info": {
   "codemirror_mode": {
    "name": "ipython",
    "version": 3
   },
   "file_extension": ".py",
   "mimetype": "text/x-python",
   "name": "python",
   "nbconvert_exporter": "python",
   "pygments_lexer": "ipython3",
   "version": "3.6.9"
  }
 },
 "nbformat": 4,
 "nbformat_minor": 4
}
