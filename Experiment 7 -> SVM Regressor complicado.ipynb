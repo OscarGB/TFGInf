{
 "cells": [
  {
   "cell_type": "code",
   "execution_count": 1,
   "metadata": {},
   "outputs": [],
   "source": [
    "import pandas as pd\n",
    "import numpy as np\n",
    "from sklearn import svm\n",
    "from sklearn.multioutput import MultiOutputRegressor\n",
    "from sklearn.ensemble import GradientBoostingRegressor\n",
    "from sklearn.preprocessing import MinMaxScaler\n",
    "import time\n",
    "import matplotlib.pyplot as plt\n",
    "from sklearn.model_selection import GridSearchCV, ParameterGrid"
   ]
  },
  {
   "cell_type": "markdown",
   "metadata": {},
   "source": [
    "# Import all data"
   ]
  },
  {
   "cell_type": "code",
   "execution_count": 51,
   "metadata": {},
   "outputs": [],
   "source": [
    "Year_to_separate = 2011\n",
    "df = pd.read_parquet(\"dataset.parquet\")\n",
    "Y = df[['Municipal', 'Household', 'Recovered', 'Recicled', 'Compost', 'Disposal', 'Year']]\n",
    "X = df[[x for x in df.columns if x not in ['Country', 'COU', 'Municipal', 'Household', 'Recovered', 'Recicled', 'Compost', 'Disposal']]]\n",
    "X_train = X[X.Year < Year_to_separate].copy()\n",
    "X_test = X[X.Year >= Year_to_separate].copy()\n",
    "Y_train = Y[X.Year < Year_to_separate].copy()\n",
    "Y_test = Y[X.Year >= Year_to_separate].copy()\n",
    "#X_train = pd.read_parquet(\"Xtime/X_train.parquet\")\n",
    "#X_test = pd.read_parquet(\"Xtime/X_test.parquet\")\n",
    "#Y_train = pd.read_parquet(\"Ytime/Y_train.parquet\")\n",
    "#Y_test = pd.read_parquet(\"Ytime/Y_test.parquet\")\n",
    "X_train.drop(columns={'Year'}, inplace=True)\n",
    "X_test.drop(columns={'Year'}, inplace=True)"
   ]
  },
  {
   "cell_type": "code",
   "execution_count": 52,
   "metadata": {},
   "outputs": [],
   "source": [
    "scalerX = MinMaxScaler().fit(X_train)\n",
    "X_train = pd.DataFrame(scalerX.transform(X_train))\n",
    "X_test = pd.DataFrame(scalerX.transform(X_test))\n",
    "scalerY = MinMaxScaler().fit(Y_train)\n",
    "Y_train = pd.DataFrame(scalerY.transform(Y_train))\n",
    "Y_test = pd.DataFrame(scalerY.transform(Y_test))"
   ]
  },
  {
   "cell_type": "code",
   "execution_count": 53,
   "metadata": {},
   "outputs": [],
   "source": [
    "Y1_train = Y_train[[Y_train.columns[0]]]\n",
    "Y1_test = Y_test[[Y_test.columns[0]]]\n",
    "Y2_train = Y_train[[Y_train.columns[1]]]\n",
    "Y2_test = Y_test[[Y_test.columns[1]]]\n",
    "Y3_train = Y_train[[Y_train.columns[2]]]\n",
    "Y3_test = Y_test[[Y_test.columns[2]]]\n",
    "Y4_train = Y_train[[Y_train.columns[3]]]\n",
    "Y4_test = Y_test[[Y_test.columns[3]]]\n",
    "Y5_train = Y_train[[Y_train.columns[4]]]\n",
    "Y5_test = Y_test[[Y_test.columns[4]]]\n",
    "Y6_train = Y_train[[Y_train.columns[5]]]\n",
    "Y6_test = Y_test[[Y_test.columns[5]]]"
   ]
  },
  {
   "cell_type": "markdown",
   "metadata": {},
   "source": [
    "## Train and score"
   ]
  },
  {
   "cell_type": "code",
   "execution_count": 54,
   "metadata": {},
   "outputs": [],
   "source": [
    "parameters = {'kernel':['linear', 'rbf'],\n",
    "              'C':[0.5, 1, 5, 10, 50, 100, 500, 1000],\n",
    "              'epsilon':[0.1,0.01,0.001]}"
   ]
  },
  {
   "cell_type": "code",
   "execution_count": 55,
   "metadata": {},
   "outputs": [],
   "source": [
    "def GridSearch(rf, X_train, X_test, y_train, y_test, grid, verbose=False, skip=False):\n",
    "    best_score = 0\n",
    "    par = ParameterGrid(grid)\n",
    "    ln = len(par)\n",
    "    i = 0\n",
    "    for g in par:\n",
    "        if skip and i == 46:\n",
    "            continue\n",
    "        if(verbose):\n",
    "            print(f\"Probando: {g}, {i} de {ln}\")\n",
    "        i+=1\n",
    "        rf.set_params(**g)\n",
    "        startTime = time.time()\n",
    "        rf.fit(X_train, np.ravel(y_train))\n",
    "        elapsedTime = time.time() - startTime\n",
    "        score = rf.score(X_test, y_test)\n",
    "        if(verbose):\n",
    "            print(f\"Tiempo de entrenamiento: {elapsedTime} s, score: {score}\")\n",
    "        # save if best\n",
    "        if score > best_score:\n",
    "            best_score = score\n",
    "            best_grid = g\n",
    "    print(f\"Best Score: {best_score}\")\n",
    "    print(f\"Best Parameters: {best_grid}\")\n",
    "    return best_grid"
   ]
  },
  {
   "cell_type": "code",
   "execution_count": 56,
   "metadata": {
    "scrolled": true
   },
   "outputs": [
    {
     "name": "stdout",
     "output_type": "stream",
     "text": [
      "Probando: {'C': 0.5, 'epsilon': 0.1, 'kernel': 'linear'}, 0 de 48\n",
      "Tiempo de entrenamiento: 0.03992962837219238 s, score: 0.8721952773141094\n",
      "Probando: {'C': 0.5, 'epsilon': 0.1, 'kernel': 'rbf'}, 1 de 48\n",
      "Tiempo de entrenamiento: 0.021960973739624023 s, score: 0.8516253113848571\n",
      "Probando: {'C': 0.5, 'epsilon': 0.01, 'kernel': 'linear'}, 2 de 48\n",
      "Tiempo de entrenamiento: 0.18168020248413086 s, score: 0.9192388988928338\n",
      "Probando: {'C': 0.5, 'epsilon': 0.01, 'kernel': 'rbf'}, 3 de 48\n",
      "Tiempo de entrenamiento: 0.05074930191040039 s, score: 0.9564651768566922\n",
      "Probando: {'C': 0.5, 'epsilon': 0.001, 'kernel': 'linear'}, 4 de 48\n",
      "Tiempo de entrenamiento: 0.12633514404296875 s, score: 0.920905717860679\n",
      "Probando: {'C': 0.5, 'epsilon': 0.001, 'kernel': 'rbf'}, 5 de 48\n",
      "Tiempo de entrenamiento: 0.09617757797241211 s, score: 0.9521187200815804\n",
      "Probando: {'C': 1, 'epsilon': 0.1, 'kernel': 'linear'}, 6 de 48\n",
      "Tiempo de entrenamiento: 0.05019736289978027 s, score: 0.8306013525441084\n",
      "Probando: {'C': 1, 'epsilon': 0.1, 'kernel': 'rbf'}, 7 de 48\n",
      "Tiempo de entrenamiento: 0.02140522003173828 s, score: 0.8537719410924942\n",
      "Probando: {'C': 1, 'epsilon': 0.01, 'kernel': 'linear'}, 8 de 48\n",
      "Tiempo de entrenamiento: 0.1717979907989502 s, score: 0.9037029957371165\n",
      "Probando: {'C': 1, 'epsilon': 0.01, 'kernel': 'rbf'}, 9 de 48\n",
      "Tiempo de entrenamiento: 0.1433095932006836 s, score: 0.9660377185594472\n",
      "Probando: {'C': 1, 'epsilon': 0.001, 'kernel': 'linear'}, 10 de 48\n",
      "Tiempo de entrenamiento: 0.2914547920227051 s, score: 0.9086690412785026\n",
      "Probando: {'C': 1, 'epsilon': 0.001, 'kernel': 'rbf'}, 11 de 48\n",
      "Tiempo de entrenamiento: 0.17356038093566895 s, score: 0.9650764476336189\n",
      "Probando: {'C': 5, 'epsilon': 0.1, 'kernel': 'linear'}, 12 de 48\n",
      "Tiempo de entrenamiento: 0.07572388648986816 s, score: 0.8397263467913508\n",
      "Probando: {'C': 5, 'epsilon': 0.1, 'kernel': 'rbf'}, 13 de 48\n",
      "Tiempo de entrenamiento: 0.02351069450378418 s, score: 0.8591597897245237\n",
      "Probando: {'C': 5, 'epsilon': 0.01, 'kernel': 'linear'}, 14 de 48\n",
      "Tiempo de entrenamiento: 0.4541165828704834 s, score: 0.8967835530217274\n",
      "Probando: {'C': 5, 'epsilon': 0.01, 'kernel': 'rbf'}, 15 de 48\n",
      "Tiempo de entrenamiento: 0.12970185279846191 s, score: 0.9786476332768689\n",
      "Probando: {'C': 5, 'epsilon': 0.001, 'kernel': 'linear'}, 16 de 48\n",
      "Tiempo de entrenamiento: 0.8322882652282715 s, score: 0.8939750555302097\n",
      "Probando: {'C': 5, 'epsilon': 0.001, 'kernel': 'rbf'}, 17 de 48\n",
      "Tiempo de entrenamiento: 0.3893730640411377 s, score: 0.9822438521457855\n",
      "Probando: {'C': 10, 'epsilon': 0.1, 'kernel': 'linear'}, 18 de 48\n",
      "Tiempo de entrenamiento: 0.1434929370880127 s, score: 0.8501831679239679\n",
      "Probando: {'C': 10, 'epsilon': 0.1, 'kernel': 'rbf'}, 19 de 48\n",
      "Tiempo de entrenamiento: 0.020281553268432617 s, score: 0.8562743122502507\n",
      "Probando: {'C': 10, 'epsilon': 0.01, 'kernel': 'linear'}, 20 de 48\n",
      "Tiempo de entrenamiento: 0.7016558647155762 s, score: 0.8971601799982607\n",
      "Probando: {'C': 10, 'epsilon': 0.01, 'kernel': 'rbf'}, 21 de 48\n",
      "Tiempo de entrenamiento: 0.1480870246887207 s, score: 0.9824386063078533\n",
      "Probando: {'C': 10, 'epsilon': 0.001, 'kernel': 'linear'}, 22 de 48\n",
      "Tiempo de entrenamiento: 1.3166556358337402 s, score: 0.8958683589297796\n",
      "Probando: {'C': 10, 'epsilon': 0.001, 'kernel': 'rbf'}, 23 de 48\n",
      "Tiempo de entrenamiento: 0.659745454788208 s, score: 0.9871568751667036\n",
      "Probando: {'C': 50, 'epsilon': 0.1, 'kernel': 'linear'}, 24 de 48\n",
      "Tiempo de entrenamiento: 0.43662452697753906 s, score: 0.8672184524258907\n",
      "Probando: {'C': 50, 'epsilon': 0.1, 'kernel': 'rbf'}, 25 de 48\n",
      "Tiempo de entrenamiento: 0.04357099533081055 s, score: 0.7833491589126198\n",
      "Probando: {'C': 50, 'epsilon': 0.01, 'kernel': 'linear'}, 26 de 48\n",
      "Tiempo de entrenamiento: 3.1441650390625 s, score: 0.8995772775882247\n",
      "Probando: {'C': 50, 'epsilon': 0.01, 'kernel': 'rbf'}, 27 de 48\n",
      "Tiempo de entrenamiento: 0.24504756927490234 s, score: 0.9811613124796263\n",
      "Probando: {'C': 50, 'epsilon': 0.001, 'kernel': 'linear'}, 28 de 48\n",
      "Tiempo de entrenamiento: 7.902517080307007 s, score: 0.8959523094036229\n",
      "Probando: {'C': 50, 'epsilon': 0.001, 'kernel': 'rbf'}, 29 de 48\n",
      "Tiempo de entrenamiento: 1.6144018173217773 s, score: 0.9906953293149886\n",
      "Probando: {'C': 100, 'epsilon': 0.1, 'kernel': 'linear'}, 30 de 48\n",
      "Tiempo de entrenamiento: 0.7284688949584961 s, score: 0.8666536266709877\n",
      "Probando: {'C': 100, 'epsilon': 0.1, 'kernel': 'rbf'}, 31 de 48\n",
      "Tiempo de entrenamiento: 0.02968597412109375 s, score: 0.7214268195375306\n",
      "Probando: {'C': 100, 'epsilon': 0.01, 'kernel': 'linear'}, 32 de 48\n",
      "Tiempo de entrenamiento: 6.515851736068726 s, score: 0.8990790058044175\n",
      "Probando: {'C': 100, 'epsilon': 0.01, 'kernel': 'rbf'}, 33 de 48\n",
      "Tiempo de entrenamiento: 0.3509542942047119 s, score: 0.9768108583254651\n",
      "Probando: {'C': 100, 'epsilon': 0.001, 'kernel': 'linear'}, 34 de 48\n",
      "Tiempo de entrenamiento: 12.06139874458313 s, score: 0.8976334179448977\n",
      "Probando: {'C': 100, 'epsilon': 0.001, 'kernel': 'rbf'}, 35 de 48\n",
      "Tiempo de entrenamiento: 2.7187554836273193 s, score: 0.9882339267466347\n",
      "Probando: {'C': 500, 'epsilon': 0.1, 'kernel': 'linear'}, 36 de 48\n",
      "Tiempo de entrenamiento: 3.819378614425659 s, score: 0.877048656656892\n",
      "Probando: {'C': 500, 'epsilon': 0.1, 'kernel': 'rbf'}, 37 de 48\n",
      "Tiempo de entrenamiento: 0.10944104194641113 s, score: 0.569280693559868\n",
      "Probando: {'C': 500, 'epsilon': 0.01, 'kernel': 'linear'}, 38 de 48\n",
      "Tiempo de entrenamiento: 24.349395751953125 s, score: 0.8984394486265378\n",
      "Probando: {'C': 500, 'epsilon': 0.01, 'kernel': 'rbf'}, 39 de 48\n",
      "Tiempo de entrenamiento: 0.6268236637115479 s, score: 0.9332699569480318\n",
      "Probando: {'C': 500, 'epsilon': 0.001, 'kernel': 'linear'}, 40 de 48\n",
      "Tiempo de entrenamiento: 59.854618072509766 s, score: 0.8976061788606309\n",
      "Probando: {'C': 500, 'epsilon': 0.001, 'kernel': 'rbf'}, 41 de 48\n",
      "Tiempo de entrenamiento: 6.601269483566284 s, score: 0.953826411616908\n",
      "Probando: {'C': 1000, 'epsilon': 0.1, 'kernel': 'linear'}, 42 de 48\n",
      "Tiempo de entrenamiento: 4.083243370056152 s, score: 0.8791185012550322\n",
      "Probando: {'C': 1000, 'epsilon': 0.1, 'kernel': 'rbf'}, 43 de 48\n",
      "Tiempo de entrenamiento: 0.10205864906311035 s, score: 0.38904940672006116\n",
      "Probando: {'C': 1000, 'epsilon': 0.01, 'kernel': 'linear'}, 44 de 48\n",
      "Tiempo de entrenamiento: 50.285988092422485 s, score: 0.8982131821369974\n",
      "Probando: {'C': 1000, 'epsilon': 0.01, 'kernel': 'rbf'}, 45 de 48\n",
      "Tiempo de entrenamiento: 1.0815176963806152 s, score: 0.8588880337680147\n",
      "Probando: {'C': 1000, 'epsilon': 0.001, 'kernel': 'linear'}, 46 de 48\n",
      "Tiempo de entrenamiento: 99.3543598651886 s, score: 0.8977877680547375\n",
      "Probando: {'C': 1000, 'epsilon': 0.001, 'kernel': 'rbf'}, 47 de 48\n",
      "Tiempo de entrenamiento: 10.071751356124878 s, score: 0.9028362802881871\n",
      "Best Score: 0.9906953293149886\n",
      "Best Parameters: {'C': 50, 'epsilon': 0.001, 'kernel': 'rbf'}\n"
     ]
    }
   ],
   "source": [
    "g = GridSearch(svm.SVR(), X_train, X_test, Y1_train, Y1_test, parameters, verbose=True)\n",
    "clf1 = svm.SVR(**g).fit(X_train, np.ravel(Y1_train))"
   ]
  },
  {
   "cell_type": "code",
   "execution_count": 8,
   "metadata": {
    "scrolled": true
   },
   "outputs": [
    {
     "name": "stdout",
     "output_type": "stream",
     "text": [
      "Probando: {'C': 0.5, 'epsilon': 0.1, 'kernel': 'linear'}, 0 de 48\n",
      "Tiempo de entrenamiento: 0.0025510787963867188 s, score: 0.9180729741055107\n",
      "Probando: {'C': 0.5, 'epsilon': 0.1, 'kernel': 'rbf'}, 1 de 48\n",
      "Tiempo de entrenamiento: 0.0018732547760009766 s, score: -0.2184668057352146\n",
      "Probando: {'C': 0.5, 'epsilon': 0.01, 'kernel': 'linear'}, 2 de 48\n",
      "Tiempo de entrenamiento: 0.002757549285888672 s, score: 0.9798205212316251\n",
      "Probando: {'C': 0.5, 'epsilon': 0.01, 'kernel': 'rbf'}, 3 de 48\n",
      "Tiempo de entrenamiento: 0.0026006698608398438 s, score: 0.12160634401920845\n",
      "Probando: {'C': 0.5, 'epsilon': 0.001, 'kernel': 'linear'}, 4 de 48\n",
      "Tiempo de entrenamiento: 0.0038919448852539062 s, score: 0.9870318944690964\n",
      "Probando: {'C': 0.5, 'epsilon': 0.001, 'kernel': 'rbf'}, 5 de 48\n",
      "Tiempo de entrenamiento: 0.0024085044860839844 s, score: 0.15234603363638088\n",
      "Probando: {'C': 1, 'epsilon': 0.1, 'kernel': 'linear'}, 6 de 48\n",
      "Tiempo de entrenamiento: 0.002451658248901367 s, score: 0.9207754868245652\n",
      "Probando: {'C': 1, 'epsilon': 0.1, 'kernel': 'rbf'}, 7 de 48\n",
      "Tiempo de entrenamiento: 0.0013124942779541016 s, score: -0.22418427396218554\n",
      "Probando: {'C': 1, 'epsilon': 0.01, 'kernel': 'linear'}, 8 de 48\n",
      "Tiempo de entrenamiento: 0.0035789012908935547 s, score: 0.9742422696446166\n",
      "Probando: {'C': 1, 'epsilon': 0.01, 'kernel': 'rbf'}, 9 de 48\n",
      "Tiempo de entrenamiento: 0.003235340118408203 s, score: 0.08355386073734239\n",
      "Probando: {'C': 1, 'epsilon': 0.001, 'kernel': 'linear'}, 10 de 48\n",
      "Tiempo de entrenamiento: 0.003705263137817383 s, score: 0.9869774328974693\n",
      "Probando: {'C': 1, 'epsilon': 0.001, 'kernel': 'rbf'}, 11 de 48\n",
      "Tiempo de entrenamiento: 0.002788543701171875 s, score: 0.1334692152239142\n",
      "Probando: {'C': 5, 'epsilon': 0.1, 'kernel': 'linear'}, 12 de 48\n",
      "Tiempo de entrenamiento: 0.001706838607788086 s, score: 0.9207754868245652\n",
      "Probando: {'C': 5, 'epsilon': 0.1, 'kernel': 'rbf'}, 13 de 48\n",
      "Tiempo de entrenamiento: 0.0027174949645996094 s, score: -0.22418427396218554\n",
      "Probando: {'C': 5, 'epsilon': 0.01, 'kernel': 'linear'}, 14 de 48\n",
      "Tiempo de entrenamiento: 0.006181478500366211 s, score: 0.9720210814258393\n",
      "Probando: {'C': 5, 'epsilon': 0.01, 'kernel': 'rbf'}, 15 de 48\n",
      "Tiempo de entrenamiento: 0.0024340152740478516 s, score: 0.08355386073734239\n",
      "Probando: {'C': 5, 'epsilon': 0.001, 'kernel': 'linear'}, 16 de 48\n",
      "Tiempo de entrenamiento: 0.02234506607055664 s, score: 0.9869232503748141\n",
      "Probando: {'C': 5, 'epsilon': 0.001, 'kernel': 'rbf'}, 17 de 48\n",
      "Tiempo de entrenamiento: 0.003548145294189453 s, score: 0.14022102889867072\n",
      "Probando: {'C': 10, 'epsilon': 0.1, 'kernel': 'linear'}, 18 de 48\n",
      "Tiempo de entrenamiento: 0.002450704574584961 s, score: 0.9207754868245652\n",
      "Probando: {'C': 10, 'epsilon': 0.1, 'kernel': 'rbf'}, 19 de 48\n",
      "Tiempo de entrenamiento: 0.00160980224609375 s, score: -0.22418427396218554\n",
      "Probando: {'C': 10, 'epsilon': 0.01, 'kernel': 'linear'}, 20 de 48\n",
      "Tiempo de entrenamiento: 0.008867979049682617 s, score: 0.9692102585927729\n",
      "Probando: {'C': 10, 'epsilon': 0.01, 'kernel': 'rbf'}, 21 de 48\n",
      "Tiempo de entrenamiento: 0.0029418468475341797 s, score: 0.08355386073734239\n",
      "Probando: {'C': 10, 'epsilon': 0.001, 'kernel': 'linear'}, 22 de 48\n",
      "Tiempo de entrenamiento: 0.03460383415222168 s, score: 0.9869243570030357\n",
      "Probando: {'C': 10, 'epsilon': 0.001, 'kernel': 'rbf'}, 23 de 48\n",
      "Tiempo de entrenamiento: 0.003185272216796875 s, score: 0.14022102889867072\n",
      "Probando: {'C': 50, 'epsilon': 0.1, 'kernel': 'linear'}, 24 de 48\n",
      "Tiempo de entrenamiento: 0.0018773078918457031 s, score: 0.9207754868245652\n",
      "Probando: {'C': 50, 'epsilon': 0.1, 'kernel': 'rbf'}, 25 de 48\n",
      "Tiempo de entrenamiento: 0.002236604690551758 s, score: -0.22418427396218554\n",
      "Probando: {'C': 50, 'epsilon': 0.01, 'kernel': 'linear'}, 26 de 48\n",
      "Tiempo de entrenamiento: 0.03415179252624512 s, score: 0.9715306973278693\n",
      "Probando: {'C': 50, 'epsilon': 0.01, 'kernel': 'rbf'}, 27 de 48\n",
      "Tiempo de entrenamiento: 0.0029718875885009766 s, score: 0.08355386073734239\n",
      "Probando: {'C': 50, 'epsilon': 0.001, 'kernel': 'linear'}, 28 de 48\n",
      "Tiempo de entrenamiento: 0.19716858863830566 s, score: 0.9869540547956783\n",
      "Probando: {'C': 50, 'epsilon': 0.001, 'kernel': 'rbf'}, 29 de 48\n",
      "Tiempo de entrenamiento: 0.003320455551147461 s, score: 0.14022102889867072\n",
      "Probando: {'C': 100, 'epsilon': 0.1, 'kernel': 'linear'}, 30 de 48\n",
      "Tiempo de entrenamiento: 0.0018281936645507812 s, score: 0.9207754868245652\n",
      "Probando: {'C': 100, 'epsilon': 0.1, 'kernel': 'rbf'}, 31 de 48\n",
      "Tiempo de entrenamiento: 0.002282381057739258 s, score: -0.22418427396218554\n",
      "Probando: {'C': 100, 'epsilon': 0.01, 'kernel': 'linear'}, 32 de 48\n",
      "Tiempo de entrenamiento: 0.07118558883666992 s, score: 0.9719208304885698\n",
      "Probando: {'C': 100, 'epsilon': 0.01, 'kernel': 'rbf'}, 33 de 48\n",
      "Tiempo de entrenamiento: 0.0028264522552490234 s, score: 0.08355386073734239\n",
      "Probando: {'C': 100, 'epsilon': 0.001, 'kernel': 'linear'}, 34 de 48\n",
      "Tiempo de entrenamiento: 0.4282975196838379 s, score: 0.9869134274420225\n",
      "Probando: {'C': 100, 'epsilon': 0.001, 'kernel': 'rbf'}, 35 de 48\n",
      "Tiempo de entrenamiento: 0.0035126209259033203 s, score: 0.14022102889867072\n",
      "Probando: {'C': 500, 'epsilon': 0.1, 'kernel': 'linear'}, 36 de 48\n",
      "Tiempo de entrenamiento: 0.0019114017486572266 s, score: 0.9207754868245652\n",
      "Probando: {'C': 500, 'epsilon': 0.1, 'kernel': 'rbf'}, 37 de 48\n",
      "Tiempo de entrenamiento: 0.0018084049224853516 s, score: -0.22418427396218554\n",
      "Probando: {'C': 500, 'epsilon': 0.01, 'kernel': 'linear'}, 38 de 48\n",
      "Tiempo de entrenamiento: 0.34641313552856445 s, score: 0.9717516858359888\n",
      "Probando: {'C': 500, 'epsilon': 0.01, 'kernel': 'rbf'}, 39 de 48\n",
      "Tiempo de entrenamiento: 0.0030260086059570312 s, score: 0.08355386073734239\n",
      "Probando: {'C': 500, 'epsilon': 0.001, 'kernel': 'linear'}, 40 de 48\n",
      "Tiempo de entrenamiento: 1.3949551582336426 s, score: 0.9850690917341647\n",
      "Probando: {'C': 500, 'epsilon': 0.001, 'kernel': 'rbf'}, 41 de 48\n",
      "Tiempo de entrenamiento: 0.0032837390899658203 s, score: 0.14022102889867072\n",
      "Probando: {'C': 1000, 'epsilon': 0.1, 'kernel': 'linear'}, 42 de 48\n",
      "Tiempo de entrenamiento: 0.0022592544555664062 s, score: 0.9207754868245652\n",
      "Probando: {'C': 1000, 'epsilon': 0.1, 'kernel': 'rbf'}, 43 de 48\n",
      "Tiempo de entrenamiento: 0.0020923614501953125 s, score: -0.22418427396218554\n",
      "Probando: {'C': 1000, 'epsilon': 0.01, 'kernel': 'linear'}, 44 de 48\n",
      "Tiempo de entrenamiento: 0.8220860958099365 s, score: 0.9674781896839767\n",
      "Probando: {'C': 1000, 'epsilon': 0.01, 'kernel': 'rbf'}, 45 de 48\n",
      "Tiempo de entrenamiento: 0.003051280975341797 s, score: 0.08355386073734239\n",
      "Probando: {'C': 1000, 'epsilon': 0.001, 'kernel': 'linear'}, 46 de 48\n",
      "Tiempo de entrenamiento: 2.8679163455963135 s, score: 0.9799119617099815\n",
      "Probando: {'C': 1000, 'epsilon': 0.001, 'kernel': 'rbf'}, 47 de 48\n",
      "Tiempo de entrenamiento: 0.0013089179992675781 s, score: 0.14022102889867072\n",
      "Best Score: 0.9870318944690964\n",
      "Best Parameters: {'C': 0.5, 'epsilon': 0.001, 'kernel': 'linear'}\n"
     ]
    }
   ],
   "source": [
    "g = GridSearch(svm.SVR(), X_train, X_test, Y2_train, Y2_test, parameters, verbose=True)\n",
    "clf2 = svm.SVR(**g).fit(X_train, np.ravel(Y2_train))"
   ]
  },
  {
   "cell_type": "code",
   "execution_count": 9,
   "metadata": {
    "scrolled": true
   },
   "outputs": [
    {
     "name": "stdout",
     "output_type": "stream",
     "text": [
      "Probando: {'C': 0.5, 'epsilon': 0.1, 'kernel': 'linear'}, 0 de 48\n",
      "Tiempo de entrenamiento: 0.002216339111328125 s, score: 0.6662622250825743\n",
      "Probando: {'C': 0.5, 'epsilon': 0.1, 'kernel': 'rbf'}, 1 de 48\n",
      "Tiempo de entrenamiento: 0.001977682113647461 s, score: -0.28031492176285533\n",
      "Probando: {'C': 0.5, 'epsilon': 0.01, 'kernel': 'linear'}, 2 de 48\n",
      "Tiempo de entrenamiento: 0.0035169124603271484 s, score: 0.9169645687310535\n",
      "Probando: {'C': 0.5, 'epsilon': 0.01, 'kernel': 'rbf'}, 3 de 48\n",
      "Tiempo de entrenamiento: 0.002391815185546875 s, score: 0.2898155633056909\n",
      "Probando: {'C': 0.5, 'epsilon': 0.001, 'kernel': 'linear'}, 4 de 48\n",
      "Tiempo de entrenamiento: 0.0037147998809814453 s, score: 0.9322486868988278\n",
      "Probando: {'C': 0.5, 'epsilon': 0.001, 'kernel': 'rbf'}, 5 de 48\n",
      "Tiempo de entrenamiento: 0.0025358200073242188 s, score: 0.3228795500872004\n",
      "Probando: {'C': 1, 'epsilon': 0.1, 'kernel': 'linear'}, 6 de 48\n",
      "Tiempo de entrenamiento: 0.0015347003936767578 s, score: 0.6662622250825743\n",
      "Probando: {'C': 1, 'epsilon': 0.1, 'kernel': 'rbf'}, 7 de 48\n",
      "Tiempo de entrenamiento: 0.0023212432861328125 s, score: -0.38817428540358656\n",
      "Probando: {'C': 1, 'epsilon': 0.01, 'kernel': 'linear'}, 8 de 48\n",
      "Tiempo de entrenamiento: 0.003685474395751953 s, score: 0.939938181354123\n",
      "Probando: {'C': 1, 'epsilon': 0.01, 'kernel': 'rbf'}, 9 de 48\n",
      "Tiempo de entrenamiento: 0.002611875534057617 s, score: 0.215248818621817\n",
      "Probando: {'C': 1, 'epsilon': 0.001, 'kernel': 'linear'}, 10 de 48\n",
      "Tiempo de entrenamiento: 0.008902311325073242 s, score: 0.9498473823661339\n",
      "Probando: {'C': 1, 'epsilon': 0.001, 'kernel': 'rbf'}, 11 de 48\n",
      "Tiempo de entrenamiento: 0.0026340484619140625 s, score: 0.27050230982537593\n",
      "Probando: {'C': 5, 'epsilon': 0.1, 'kernel': 'linear'}, 12 de 48\n",
      "Tiempo de entrenamiento: 0.002180337905883789 s, score: 0.6662622250825743\n",
      "Probando: {'C': 5, 'epsilon': 0.1, 'kernel': 'rbf'}, 13 de 48\n",
      "Tiempo de entrenamiento: 0.002138376235961914 s, score: -0.38817428540358656\n",
      "Probando: {'C': 5, 'epsilon': 0.01, 'kernel': 'linear'}, 14 de 48\n",
      "Tiempo de entrenamiento: 0.007395029067993164 s, score: 0.9506805373086287\n",
      "Probando: {'C': 5, 'epsilon': 0.01, 'kernel': 'rbf'}, 15 de 48\n",
      "Tiempo de entrenamiento: 0.002804994583129883 s, score: 0.2205547593772723\n",
      "Probando: {'C': 5, 'epsilon': 0.001, 'kernel': 'linear'}, 16 de 48\n",
      "Tiempo de entrenamiento: 0.02870345115661621 s, score: 0.9613558602235062\n",
      "Probando: {'C': 5, 'epsilon': 0.001, 'kernel': 'rbf'}, 17 de 48\n",
      "Tiempo de entrenamiento: 0.0033059120178222656 s, score: 0.29303207755757416\n",
      "Probando: {'C': 10, 'epsilon': 0.1, 'kernel': 'linear'}, 18 de 48\n",
      "Tiempo de entrenamiento: 0.001973390579223633 s, score: 0.6662622250825743\n",
      "Probando: {'C': 10, 'epsilon': 0.1, 'kernel': 'rbf'}, 19 de 48\n",
      "Tiempo de entrenamiento: 0.002471446990966797 s, score: -0.38817428540358656\n",
      "Probando: {'C': 10, 'epsilon': 0.01, 'kernel': 'linear'}, 20 de 48\n",
      "Tiempo de entrenamiento: 0.0068051815032958984 s, score: 0.9493590305442635\n",
      "Probando: {'C': 10, 'epsilon': 0.01, 'kernel': 'rbf'}, 21 de 48\n",
      "Tiempo de entrenamiento: 0.002208232879638672 s, score: 0.2205547593772723\n",
      "Probando: {'C': 10, 'epsilon': 0.001, 'kernel': 'linear'}, 22 de 48\n",
      "Tiempo de entrenamiento: 0.05512118339538574 s, score: 0.961806616090154\n",
      "Probando: {'C': 10, 'epsilon': 0.001, 'kernel': 'rbf'}, 23 de 48\n",
      "Tiempo de entrenamiento: 0.0031960010528564453 s, score: 0.29303207755757416\n",
      "Probando: {'C': 50, 'epsilon': 0.1, 'kernel': 'linear'}, 24 de 48\n",
      "Tiempo de entrenamiento: 0.0017342567443847656 s, score: 0.6662622250825743\n",
      "Probando: {'C': 50, 'epsilon': 0.1, 'kernel': 'rbf'}, 25 de 48\n",
      "Tiempo de entrenamiento: 0.0017092227935791016 s, score: -0.38817428540358656\n",
      "Probando: {'C': 50, 'epsilon': 0.01, 'kernel': 'linear'}, 26 de 48\n",
      "Tiempo de entrenamiento: 0.016399383544921875 s, score: 0.9531754772026775\n",
      "Probando: {'C': 50, 'epsilon': 0.01, 'kernel': 'rbf'}, 27 de 48\n",
      "Tiempo de entrenamiento: 0.002276897430419922 s, score: 0.2205547593772723\n",
      "Probando: {'C': 50, 'epsilon': 0.001, 'kernel': 'linear'}, 28 de 48\n",
      "Tiempo de entrenamiento: 0.17474889755249023 s, score: 0.9621098982950052\n",
      "Probando: {'C': 50, 'epsilon': 0.001, 'kernel': 'rbf'}, 29 de 48\n",
      "Tiempo de entrenamiento: 0.0035851001739501953 s, score: 0.29303207755757416\n",
      "Probando: {'C': 100, 'epsilon': 0.1, 'kernel': 'linear'}, 30 de 48\n",
      "Tiempo de entrenamiento: 0.0021219253540039062 s, score: 0.6662622250825743\n",
      "Probando: {'C': 100, 'epsilon': 0.1, 'kernel': 'rbf'}, 31 de 48\n",
      "Tiempo de entrenamiento: 0.0023560523986816406 s, score: -0.38817428540358656\n",
      "Probando: {'C': 100, 'epsilon': 0.01, 'kernel': 'linear'}, 32 de 48\n",
      "Tiempo de entrenamiento: 0.03312540054321289 s, score: 0.9534994111234069\n",
      "Probando: {'C': 100, 'epsilon': 0.01, 'kernel': 'rbf'}, 33 de 48\n",
      "Tiempo de entrenamiento: 0.0024700164794921875 s, score: 0.2205547593772723\n",
      "Probando: {'C': 100, 'epsilon': 0.001, 'kernel': 'linear'}, 34 de 48\n",
      "Tiempo de entrenamiento: 0.4923436641693115 s, score: 0.9621967013873133\n",
      "Probando: {'C': 100, 'epsilon': 0.001, 'kernel': 'rbf'}, 35 de 48\n",
      "Tiempo de entrenamiento: 0.002872467041015625 s, score: 0.29303207755757416\n",
      "Probando: {'C': 500, 'epsilon': 0.1, 'kernel': 'linear'}, 36 de 48\n",
      "Tiempo de entrenamiento: 0.0023856163024902344 s, score: 0.6662622250825743\n",
      "Probando: {'C': 500, 'epsilon': 0.1, 'kernel': 'rbf'}, 37 de 48\n",
      "Tiempo de entrenamiento: 0.0018267631530761719 s, score: -0.38817428540358656\n",
      "Probando: {'C': 500, 'epsilon': 0.01, 'kernel': 'linear'}, 38 de 48\n",
      "Tiempo de entrenamiento: 0.21181249618530273 s, score: 0.9432746120679214\n",
      "Probando: {'C': 500, 'epsilon': 0.01, 'kernel': 'rbf'}, 39 de 48\n",
      "Tiempo de entrenamiento: 0.0030393600463867188 s, score: 0.2205547593772723\n",
      "Probando: {'C': 500, 'epsilon': 0.001, 'kernel': 'linear'}, 40 de 48\n",
      "Tiempo de entrenamiento: 1.981017827987671 s, score: 0.9612864531705102\n",
      "Probando: {'C': 500, 'epsilon': 0.001, 'kernel': 'rbf'}, 41 de 48\n",
      "Tiempo de entrenamiento: 0.0029964447021484375 s, score: 0.29303207755757416\n",
      "Probando: {'C': 1000, 'epsilon': 0.1, 'kernel': 'linear'}, 42 de 48\n",
      "Tiempo de entrenamiento: 0.0021140575408935547 s, score: 0.6662622250825743\n",
      "Probando: {'C': 1000, 'epsilon': 0.1, 'kernel': 'rbf'}, 43 de 48\n",
      "Tiempo de entrenamiento: 0.00162506103515625 s, score: -0.38817428540358656\n",
      "Probando: {'C': 1000, 'epsilon': 0.01, 'kernel': 'linear'}, 44 de 48\n",
      "Tiempo de entrenamiento: 0.459125280380249 s, score: 0.9307798008487839\n",
      "Probando: {'C': 1000, 'epsilon': 0.01, 'kernel': 'rbf'}, 45 de 48\n",
      "Tiempo de entrenamiento: 0.0027866363525390625 s, score: 0.2205547593772723\n",
      "Probando: {'C': 1000, 'epsilon': 0.001, 'kernel': 'linear'}, 46 de 48\n",
      "Tiempo de entrenamiento: 3.2307071685791016 s, score: 0.9573394823574333\n",
      "Probando: {'C': 1000, 'epsilon': 0.001, 'kernel': 'rbf'}, 47 de 48\n",
      "Tiempo de entrenamiento: 0.0032281875610351562 s, score: 0.29303207755757416\n",
      "Best Score: 0.9621967013873133\n",
      "Best Parameters: {'C': 100, 'epsilon': 0.001, 'kernel': 'linear'}\n"
     ]
    }
   ],
   "source": [
    "g = GridSearch(svm.SVR(), X_train, X_test, Y3_train, Y3_test, parameters, verbose=True)\n",
    "clf3 = svm.SVR(**g).fit(X_train, np.ravel(Y3_train))"
   ]
  },
  {
   "cell_type": "code",
   "execution_count": 10,
   "metadata": {
    "scrolled": true
   },
   "outputs": [
    {
     "name": "stdout",
     "output_type": "stream",
     "text": [
      "Probando: {'C': 0.5, 'epsilon': 0.1, 'kernel': 'linear'}, 0 de 48\n",
      "Tiempo de entrenamiento: 0.0028808116912841797 s, score: 0.6875600811694357\n",
      "Probando: {'C': 0.5, 'epsilon': 0.1, 'kernel': 'rbf'}, 1 de 48\n",
      "Tiempo de entrenamiento: 0.002416849136352539 s, score: -0.3505766224572065\n",
      "Probando: {'C': 0.5, 'epsilon': 0.01, 'kernel': 'linear'}, 2 de 48\n",
      "Tiempo de entrenamiento: 0.002683877944946289 s, score: 0.935773089802353\n",
      "Probando: {'C': 0.5, 'epsilon': 0.01, 'kernel': 'rbf'}, 3 de 48\n",
      "Tiempo de entrenamiento: 0.0021326541900634766 s, score: 0.2754415520634669\n",
      "Probando: {'C': 0.5, 'epsilon': 0.001, 'kernel': 'linear'}, 4 de 48\n",
      "Tiempo de entrenamiento: 0.005400896072387695 s, score: 0.9507036410960982\n",
      "Probando: {'C': 0.5, 'epsilon': 0.001, 'kernel': 'rbf'}, 5 de 48\n",
      "Tiempo de entrenamiento: 0.002426624298095703 s, score: 0.32319782185426227\n",
      "Probando: {'C': 1, 'epsilon': 0.1, 'kernel': 'linear'}, 6 de 48\n",
      "Tiempo de entrenamiento: 0.0015506744384765625 s, score: 0.6875600811694357\n",
      "Probando: {'C': 1, 'epsilon': 0.1, 'kernel': 'rbf'}, 7 de 48\n",
      "Tiempo de entrenamiento: 0.001821279525756836 s, score: -0.4906224164240607\n",
      "Probando: {'C': 1, 'epsilon': 0.01, 'kernel': 'linear'}, 8 de 48\n",
      "Tiempo de entrenamiento: 0.0036699771881103516 s, score: 0.9444916095050094\n",
      "Probando: {'C': 1, 'epsilon': 0.01, 'kernel': 'rbf'}, 9 de 48\n",
      "Tiempo de entrenamiento: 0.0025720596313476562 s, score: 0.17873716919709604\n",
      "Probando: {'C': 1, 'epsilon': 0.001, 'kernel': 'linear'}, 10 de 48\n",
      "Tiempo de entrenamiento: 0.008608102798461914 s, score: 0.9554711042981348\n",
      "Probando: {'C': 1, 'epsilon': 0.001, 'kernel': 'rbf'}, 11 de 48\n",
      "Tiempo de entrenamiento: 0.0031027793884277344 s, score: 0.268171978973177\n",
      "Probando: {'C': 5, 'epsilon': 0.1, 'kernel': 'linear'}, 12 de 48\n",
      "Tiempo de entrenamiento: 0.001931905746459961 s, score: 0.6875600811694357\n",
      "Probando: {'C': 5, 'epsilon': 0.1, 'kernel': 'rbf'}, 13 de 48\n",
      "Tiempo de entrenamiento: 0.0017523765563964844 s, score: -0.4906224164240607\n",
      "Probando: {'C': 5, 'epsilon': 0.01, 'kernel': 'linear'}, 14 de 48\n",
      "Tiempo de entrenamiento: 0.0038635730743408203 s, score: 0.9418932544778942\n",
      "Probando: {'C': 5, 'epsilon': 0.01, 'kernel': 'rbf'}, 15 de 48\n",
      "Tiempo de entrenamiento: 0.002061128616333008 s, score: 0.17873716919709604\n",
      "Probando: {'C': 5, 'epsilon': 0.001, 'kernel': 'linear'}, 16 de 48\n",
      "Tiempo de entrenamiento: 0.02652883529663086 s, score: 0.9580893315380523\n",
      "Probando: {'C': 5, 'epsilon': 0.001, 'kernel': 'rbf'}, 17 de 48\n",
      "Tiempo de entrenamiento: 0.0027167797088623047 s, score: 0.268171978973177\n",
      "Probando: {'C': 10, 'epsilon': 0.1, 'kernel': 'linear'}, 18 de 48\n",
      "Tiempo de entrenamiento: 0.0019884109497070312 s, score: 0.6875600811694357\n",
      "Probando: {'C': 10, 'epsilon': 0.1, 'kernel': 'rbf'}, 19 de 48\n",
      "Tiempo de entrenamiento: 0.0023832321166992188 s, score: -0.4906224164240607\n",
      "Probando: {'C': 10, 'epsilon': 0.01, 'kernel': 'linear'}, 20 de 48\n",
      "Tiempo de entrenamiento: 0.00526738166809082 s, score: 0.9418932544778942\n",
      "Probando: {'C': 10, 'epsilon': 0.01, 'kernel': 'rbf'}, 21 de 48\n",
      "Tiempo de entrenamiento: 0.0025823116302490234 s, score: 0.17873716919709604\n",
      "Probando: {'C': 10, 'epsilon': 0.001, 'kernel': 'linear'}, 22 de 48\n",
      "Tiempo de entrenamiento: 0.03515315055847168 s, score: 0.9581795581300244\n",
      "Probando: {'C': 10, 'epsilon': 0.001, 'kernel': 'rbf'}, 23 de 48\n",
      "Tiempo de entrenamiento: 0.0026078224182128906 s, score: 0.268171978973177\n",
      "Probando: {'C': 50, 'epsilon': 0.1, 'kernel': 'linear'}, 24 de 48\n",
      "Tiempo de entrenamiento: 0.0021533966064453125 s, score: 0.6875600811694357\n",
      "Probando: {'C': 50, 'epsilon': 0.1, 'kernel': 'rbf'}, 25 de 48\n",
      "Tiempo de entrenamiento: 0.0024132728576660156 s, score: -0.4906224164240607\n",
      "Probando: {'C': 50, 'epsilon': 0.01, 'kernel': 'linear'}, 26 de 48\n",
      "Tiempo de entrenamiento: 0.003659963607788086 s, score: 0.9418932544778942\n",
      "Probando: {'C': 50, 'epsilon': 0.01, 'kernel': 'rbf'}, 27 de 48\n",
      "Tiempo de entrenamiento: 0.002001523971557617 s, score: 0.17873716919709604\n",
      "Probando: {'C': 50, 'epsilon': 0.001, 'kernel': 'linear'}, 28 de 48\n",
      "Tiempo de entrenamiento: 0.3619077205657959 s, score: 0.9582753631231861\n",
      "Probando: {'C': 50, 'epsilon': 0.001, 'kernel': 'rbf'}, 29 de 48\n",
      "Tiempo de entrenamiento: 0.0032553672790527344 s, score: 0.268171978973177\n",
      "Probando: {'C': 100, 'epsilon': 0.1, 'kernel': 'linear'}, 30 de 48\n",
      "Tiempo de entrenamiento: 0.001960277557373047 s, score: 0.6875600811694357\n",
      "Probando: {'C': 100, 'epsilon': 0.1, 'kernel': 'rbf'}, 31 de 48\n",
      "Tiempo de entrenamiento: 0.0016722679138183594 s, score: -0.4906224164240607\n",
      "Probando: {'C': 100, 'epsilon': 0.01, 'kernel': 'linear'}, 32 de 48\n",
      "Tiempo de entrenamiento: 0.003874540328979492 s, score: 0.9418932544778942\n",
      "Probando: {'C': 100, 'epsilon': 0.01, 'kernel': 'rbf'}, 33 de 48\n",
      "Tiempo de entrenamiento: 0.0021364688873291016 s, score: 0.17873716919709604\n",
      "Probando: {'C': 100, 'epsilon': 0.001, 'kernel': 'linear'}, 34 de 48\n",
      "Tiempo de entrenamiento: 0.5033397674560547 s, score: 0.9583098033956409\n",
      "Probando: {'C': 100, 'epsilon': 0.001, 'kernel': 'rbf'}, 35 de 48\n",
      "Tiempo de entrenamiento: 0.002482891082763672 s, score: 0.268171978973177\n",
      "Probando: {'C': 500, 'epsilon': 0.1, 'kernel': 'linear'}, 36 de 48\n",
      "Tiempo de entrenamiento: 0.001561880111694336 s, score: 0.6875600811694357\n",
      "Probando: {'C': 500, 'epsilon': 0.1, 'kernel': 'rbf'}, 37 de 48\n",
      "Tiempo de entrenamiento: 0.0017180442810058594 s, score: -0.4906224164240607\n",
      "Probando: {'C': 500, 'epsilon': 0.01, 'kernel': 'linear'}, 38 de 48\n",
      "Tiempo de entrenamiento: 0.0036902427673339844 s, score: 0.9418932544778942\n",
      "Probando: {'C': 500, 'epsilon': 0.01, 'kernel': 'rbf'}, 39 de 48\n",
      "Tiempo de entrenamiento: 0.0025789737701416016 s, score: 0.17873716919709604\n",
      "Probando: {'C': 500, 'epsilon': 0.001, 'kernel': 'linear'}, 40 de 48\n",
      "Tiempo de entrenamiento: 2.2242636680603027 s, score: 0.9570002936504033\n",
      "Probando: {'C': 500, 'epsilon': 0.001, 'kernel': 'rbf'}, 41 de 48\n",
      "Tiempo de entrenamiento: 0.003227710723876953 s, score: 0.268171978973177\n",
      "Probando: {'C': 1000, 'epsilon': 0.1, 'kernel': 'linear'}, 42 de 48\n",
      "Tiempo de entrenamiento: 0.0015308856964111328 s, score: 0.6875600811694357\n",
      "Probando: {'C': 1000, 'epsilon': 0.1, 'kernel': 'rbf'}, 43 de 48\n",
      "Tiempo de entrenamiento: 0.0018053054809570312 s, score: -0.4906224164240607\n",
      "Probando: {'C': 1000, 'epsilon': 0.01, 'kernel': 'linear'}, 44 de 48\n",
      "Tiempo de entrenamiento: 0.0036468505859375 s, score: 0.9418932544778942\n",
      "Probando: {'C': 1000, 'epsilon': 0.01, 'kernel': 'rbf'}, 45 de 48\n",
      "Tiempo de entrenamiento: 0.0020308494567871094 s, score: 0.17873716919709604\n",
      "Best Score: 0.9583098033956409\n",
      "Best Parameters: {'C': 100, 'epsilon': 0.001, 'kernel': 'linear'}\n"
     ]
    }
   ],
   "source": [
    "g = GridSearch(svm.SVR(), X_train, X_test, Y4_train, Y4_test, parameters, verbose=True, skip=True) #Saltar siempre el 46 (tarda demasiado)\n",
    "clf4 = svm.SVR(**g).fit(X_train, np.ravel(Y4_train))"
   ]
  },
  {
   "cell_type": "code",
   "execution_count": 11,
   "metadata": {
    "scrolled": true
   },
   "outputs": [
    {
     "name": "stdout",
     "output_type": "stream",
     "text": [
      "Probando: {'C': 0.5, 'epsilon': 0.1, 'kernel': 'linear'}, 0 de 48\n",
      "Tiempo de entrenamiento: 0.0037250518798828125 s, score: 0.7008364749396371\n",
      "Probando: {'C': 0.5, 'epsilon': 0.1, 'kernel': 'rbf'}, 1 de 48\n",
      "Tiempo de entrenamiento: 0.002439260482788086 s, score: -0.45187928052227866\n",
      "Probando: {'C': 0.5, 'epsilon': 0.01, 'kernel': 'linear'}, 2 de 48\n",
      "Tiempo de entrenamiento: 0.0031342506408691406 s, score: 0.9146724639801151\n",
      "Probando: {'C': 0.5, 'epsilon': 0.01, 'kernel': 'rbf'}, 3 de 48\n",
      "Tiempo de entrenamiento: 0.0022706985473632812 s, score: 0.1407400186140112\n",
      "Probando: {'C': 0.5, 'epsilon': 0.001, 'kernel': 'linear'}, 4 de 48\n",
      "Tiempo de entrenamiento: 0.004764556884765625 s, score: 0.9239726771679508\n",
      "Probando: {'C': 0.5, 'epsilon': 0.001, 'kernel': 'rbf'}, 5 de 48\n",
      "Tiempo de entrenamiento: 0.0023293495178222656 s, score: 0.19179336334117758\n",
      "Probando: {'C': 1, 'epsilon': 0.1, 'kernel': 'linear'}, 6 de 48\n",
      "Tiempo de entrenamiento: 0.0023708343505859375 s, score: 0.7114797985248157\n",
      "Probando: {'C': 1, 'epsilon': 0.1, 'kernel': 'rbf'}, 7 de 48\n",
      "Tiempo de entrenamiento: 0.0017495155334472656 s, score: -0.5354886584118739\n",
      "Probando: {'C': 1, 'epsilon': 0.01, 'kernel': 'linear'}, 8 de 48\n",
      "Tiempo de entrenamiento: 0.002846956253051758 s, score: 0.9212297010203538\n",
      "Probando: {'C': 1, 'epsilon': 0.01, 'kernel': 'rbf'}, 9 de 48\n",
      "Tiempo de entrenamiento: 0.0026972293853759766 s, score: 0.10788759060118913\n",
      "Probando: {'C': 1, 'epsilon': 0.001, 'kernel': 'linear'}, 10 de 48\n",
      "Tiempo de entrenamiento: 0.008692026138305664 s, score: 0.9319841805350866\n",
      "Probando: {'C': 1, 'epsilon': 0.001, 'kernel': 'rbf'}, 11 de 48\n",
      "Tiempo de entrenamiento: 0.0023250579833984375 s, score: 0.15699414148005797\n",
      "Probando: {'C': 5, 'epsilon': 0.1, 'kernel': 'linear'}, 12 de 48\n",
      "Tiempo de entrenamiento: 0.001748800277709961 s, score: 0.7114797985248157\n",
      "Probando: {'C': 5, 'epsilon': 0.1, 'kernel': 'rbf'}, 13 de 48\n",
      "Tiempo de entrenamiento: 0.001842498779296875 s, score: -0.5354886584118739\n",
      "Probando: {'C': 5, 'epsilon': 0.01, 'kernel': 'linear'}, 14 de 48\n",
      "Tiempo de entrenamiento: 0.004800319671630859 s, score: 0.9285788095234152\n",
      "Probando: {'C': 5, 'epsilon': 0.01, 'kernel': 'rbf'}, 15 de 48\n",
      "Tiempo de entrenamiento: 0.002745389938354492 s, score: 0.12767518344225215\n",
      "Probando: {'C': 5, 'epsilon': 0.001, 'kernel': 'linear'}, 16 de 48\n",
      "Tiempo de entrenamiento: 0.02480626106262207 s, score: 0.9317494533919294\n",
      "Probando: {'C': 5, 'epsilon': 0.001, 'kernel': 'rbf'}, 17 de 48\n",
      "Tiempo de entrenamiento: 0.002379894256591797 s, score: 0.2019622564059177\n",
      "Probando: {'C': 10, 'epsilon': 0.1, 'kernel': 'linear'}, 18 de 48\n",
      "Tiempo de entrenamiento: 0.001971006393432617 s, score: 0.7114797985248157\n",
      "Probando: {'C': 10, 'epsilon': 0.1, 'kernel': 'rbf'}, 19 de 48\n",
      "Tiempo de entrenamiento: 0.0019845962524414062 s, score: -0.5354886584118739\n",
      "Probando: {'C': 10, 'epsilon': 0.01, 'kernel': 'linear'}, 20 de 48\n",
      "Tiempo de entrenamiento: 0.0062711238861083984 s, score: 0.9258271825127486\n",
      "Probando: {'C': 10, 'epsilon': 0.01, 'kernel': 'rbf'}, 21 de 48\n",
      "Tiempo de entrenamiento: 0.0027904510498046875 s, score: 0.12767518344225215\n",
      "Probando: {'C': 10, 'epsilon': 0.001, 'kernel': 'linear'}, 22 de 48\n",
      "Tiempo de entrenamiento: 0.05791950225830078 s, score: 0.931771562417455\n",
      "Probando: {'C': 10, 'epsilon': 0.001, 'kernel': 'rbf'}, 23 de 48\n",
      "Tiempo de entrenamiento: 0.0035066604614257812 s, score: 0.2019622564059177\n",
      "Probando: {'C': 50, 'epsilon': 0.1, 'kernel': 'linear'}, 24 de 48\n",
      "Tiempo de entrenamiento: 0.0019249916076660156 s, score: 0.7114797985248157\n",
      "Probando: {'C': 50, 'epsilon': 0.1, 'kernel': 'rbf'}, 25 de 48\n",
      "Tiempo de entrenamiento: 0.0017857551574707031 s, score: -0.5354886584118739\n",
      "Probando: {'C': 50, 'epsilon': 0.01, 'kernel': 'linear'}, 26 de 48\n",
      "Tiempo de entrenamiento: 0.02869868278503418 s, score: 0.926580305008211\n",
      "Probando: {'C': 50, 'epsilon': 0.01, 'kernel': 'rbf'}, 27 de 48\n",
      "Tiempo de entrenamiento: 0.002327442169189453 s, score: 0.12767518344225215\n",
      "Probando: {'C': 50, 'epsilon': 0.001, 'kernel': 'linear'}, 28 de 48\n",
      "Tiempo de entrenamiento: 0.12105488777160645 s, score: 0.9314796961798133\n",
      "Probando: {'C': 50, 'epsilon': 0.001, 'kernel': 'rbf'}, 29 de 48\n",
      "Tiempo de entrenamiento: 0.0030210018157958984 s, score: 0.2019622564059177\n",
      "Probando: {'C': 100, 'epsilon': 0.1, 'kernel': 'linear'}, 30 de 48\n",
      "Tiempo de entrenamiento: 0.0023262500762939453 s, score: 0.7114797985248157\n",
      "Probando: {'C': 100, 'epsilon': 0.1, 'kernel': 'rbf'}, 31 de 48\n",
      "Tiempo de entrenamiento: 0.0022819042205810547 s, score: -0.5354886584118739\n",
      "Probando: {'C': 100, 'epsilon': 0.01, 'kernel': 'linear'}, 32 de 48\n",
      "Tiempo de entrenamiento: 0.02300858497619629 s, score: 0.9263666706577225\n",
      "Probando: {'C': 100, 'epsilon': 0.01, 'kernel': 'rbf'}, 33 de 48\n",
      "Tiempo de entrenamiento: 0.0012094974517822266 s, score: 0.12767518344225215\n",
      "Probando: {'C': 100, 'epsilon': 0.001, 'kernel': 'linear'}, 34 de 48\n",
      "Tiempo de entrenamiento: 0.38275766372680664 s, score: 0.9313352377642374\n",
      "Probando: {'C': 100, 'epsilon': 0.001, 'kernel': 'rbf'}, 35 de 48\n",
      "Tiempo de entrenamiento: 0.003497600555419922 s, score: 0.2019622564059177\n",
      "Probando: {'C': 500, 'epsilon': 0.1, 'kernel': 'linear'}, 36 de 48\n",
      "Tiempo de entrenamiento: 0.002245187759399414 s, score: 0.7114797985248157\n",
      "Probando: {'C': 500, 'epsilon': 0.1, 'kernel': 'rbf'}, 37 de 48\n",
      "Tiempo de entrenamiento: 0.0011379718780517578 s, score: -0.5354886584118739\n",
      "Probando: {'C': 500, 'epsilon': 0.01, 'kernel': 'linear'}, 38 de 48\n",
      "Tiempo de entrenamiento: 0.1979842185974121 s, score: 0.9201653367972279\n",
      "Probando: {'C': 500, 'epsilon': 0.01, 'kernel': 'rbf'}, 39 de 48\n",
      "Tiempo de entrenamiento: 0.0029449462890625 s, score: 0.12767518344225215\n",
      "Probando: {'C': 500, 'epsilon': 0.001, 'kernel': 'linear'}, 40 de 48\n",
      "Tiempo de entrenamiento: 1.5251719951629639 s, score: 0.9295401155876379\n",
      "Probando: {'C': 500, 'epsilon': 0.001, 'kernel': 'rbf'}, 41 de 48\n",
      "Tiempo de entrenamiento: 0.0031549930572509766 s, score: 0.2019622564059177\n",
      "Probando: {'C': 1000, 'epsilon': 0.1, 'kernel': 'linear'}, 42 de 48\n",
      "Tiempo de entrenamiento: 0.002259969711303711 s, score: 0.7114797985248157\n",
      "Probando: {'C': 1000, 'epsilon': 0.1, 'kernel': 'rbf'}, 43 de 48\n",
      "Tiempo de entrenamiento: 0.0016636848449707031 s, score: -0.5354886584118739\n",
      "Probando: {'C': 1000, 'epsilon': 0.01, 'kernel': 'linear'}, 44 de 48\n",
      "Tiempo de entrenamiento: 0.2484135627746582 s, score: 0.9156534172803781\n",
      "Probando: {'C': 1000, 'epsilon': 0.01, 'kernel': 'rbf'}, 45 de 48\n",
      "Tiempo de entrenamiento: 0.003015756607055664 s, score: 0.12767518344225215\n",
      "Probando: {'C': 1000, 'epsilon': 0.001, 'kernel': 'linear'}, 46 de 48\n",
      "Tiempo de entrenamiento: 4.427623748779297 s, score: 0.9262751437586699\n",
      "Probando: {'C': 1000, 'epsilon': 0.001, 'kernel': 'rbf'}, 47 de 48\n",
      "Tiempo de entrenamiento: 0.0034902095794677734 s, score: 0.2019622564059177\n",
      "Best Score: 0.9319841805350866\n",
      "Best Parameters: {'C': 1, 'epsilon': 0.001, 'kernel': 'linear'}\n"
     ]
    }
   ],
   "source": [
    "g = GridSearch(svm.SVR(), X_train, X_test, Y5_train, Y5_test, parameters, verbose=True)\n",
    "clf5 = svm.SVR(**g).fit(X_train, np.ravel(Y5_train))"
   ]
  },
  {
   "cell_type": "code",
   "execution_count": 12,
   "metadata": {
    "scrolled": true
   },
   "outputs": [
    {
     "name": "stdout",
     "output_type": "stream",
     "text": [
      "Probando: {'C': 0.5, 'epsilon': 0.1, 'kernel': 'linear'}, 0 de 48\n",
      "Tiempo de entrenamiento: 0.0022821426391601562 s, score: 0.7700836700384626\n",
      "Probando: {'C': 0.5, 'epsilon': 0.1, 'kernel': 'rbf'}, 1 de 48\n",
      "Tiempo de entrenamiento: 0.002315998077392578 s, score: -1.1594690929549705\n",
      "Probando: {'C': 0.5, 'epsilon': 0.01, 'kernel': 'linear'}, 2 de 48\n",
      "Tiempo de entrenamiento: 0.0015788078308105469 s, score: 0.923885318281348\n",
      "Probando: {'C': 0.5, 'epsilon': 0.01, 'kernel': 'rbf'}, 3 de 48\n",
      "Tiempo de entrenamiento: 0.0013570785522460938 s, score: -0.3380352279600565\n",
      "Probando: {'C': 0.5, 'epsilon': 0.001, 'kernel': 'linear'}, 4 de 48\n",
      "Tiempo de entrenamiento: 0.004039287567138672 s, score: 0.9465325734035631\n",
      "Probando: {'C': 0.5, 'epsilon': 0.001, 'kernel': 'rbf'}, 5 de 48\n",
      "Tiempo de entrenamiento: 0.0024700164794921875 s, score: -0.2750981936059145\n",
      "Probando: {'C': 1, 'epsilon': 0.1, 'kernel': 'linear'}, 6 de 48\n",
      "Tiempo de entrenamiento: 0.0019791126251220703 s, score: 0.7700836700384626\n",
      "Probando: {'C': 1, 'epsilon': 0.1, 'kernel': 'rbf'}, 7 de 48\n",
      "Tiempo de entrenamiento: 0.0018663406372070312 s, score: -1.2488596079996337\n",
      "Probando: {'C': 1, 'epsilon': 0.01, 'kernel': 'linear'}, 8 de 48\n",
      "Tiempo de entrenamiento: 0.003314971923828125 s, score: 0.9423346936201089\n",
      "Probando: {'C': 1, 'epsilon': 0.01, 'kernel': 'rbf'}, 9 de 48\n",
      "Tiempo de entrenamiento: 0.002397298812866211 s, score: -0.5012015408348358\n",
      "Probando: {'C': 1, 'epsilon': 0.001, 'kernel': 'linear'}, 10 de 48\n",
      "Tiempo de entrenamiento: 0.007582664489746094 s, score: 0.9518771005129569\n",
      "Probando: {'C': 1, 'epsilon': 0.001, 'kernel': 'rbf'}, 11 de 48\n",
      "Tiempo de entrenamiento: 0.0026023387908935547 s, score: -0.40477717161284343\n",
      "Probando: {'C': 5, 'epsilon': 0.1, 'kernel': 'linear'}, 12 de 48\n",
      "Tiempo de entrenamiento: 0.0019540786743164062 s, score: 0.7700836700384626\n",
      "Probando: {'C': 5, 'epsilon': 0.1, 'kernel': 'rbf'}, 13 de 48\n",
      "Tiempo de entrenamiento: 0.002298593521118164 s, score: -1.2488596079996337\n",
      "Probando: {'C': 5, 'epsilon': 0.01, 'kernel': 'linear'}, 14 de 48\n",
      "Tiempo de entrenamiento: 0.0035331249237060547 s, score: 0.9480262814924486\n",
      "Probando: {'C': 5, 'epsilon': 0.01, 'kernel': 'rbf'}, 15 de 48\n",
      "Tiempo de entrenamiento: 0.0031332969665527344 s, score: -0.48659027905992797\n",
      "Probando: {'C': 5, 'epsilon': 0.001, 'kernel': 'linear'}, 16 de 48\n",
      "Tiempo de entrenamiento: 0.014345645904541016 s, score: 0.9509974590339347\n",
      "Probando: {'C': 5, 'epsilon': 0.001, 'kernel': 'rbf'}, 17 de 48\n",
      "Tiempo de entrenamiento: 0.0014567375183105469 s, score: -0.3853050843892458\n",
      "Probando: {'C': 10, 'epsilon': 0.1, 'kernel': 'linear'}, 18 de 48\n",
      "Tiempo de entrenamiento: 0.0019435882568359375 s, score: 0.7700836700384626\n",
      "Probando: {'C': 10, 'epsilon': 0.1, 'kernel': 'rbf'}, 19 de 48\n",
      "Tiempo de entrenamiento: 0.001953601837158203 s, score: -1.2488596079996337\n",
      "Probando: {'C': 10, 'epsilon': 0.01, 'kernel': 'linear'}, 20 de 48\n",
      "Tiempo de entrenamiento: 0.003934383392333984 s, score: 0.9480262814924486\n",
      "Probando: {'C': 10, 'epsilon': 0.01, 'kernel': 'rbf'}, 21 de 48\n",
      "Tiempo de entrenamiento: 0.0027005672454833984 s, score: -0.48659027905992797\n",
      "Probando: {'C': 10, 'epsilon': 0.001, 'kernel': 'linear'}, 22 de 48\n",
      "Tiempo de entrenamiento: 0.056490182876586914 s, score: 0.950977743991012\n",
      "Probando: {'C': 10, 'epsilon': 0.001, 'kernel': 'rbf'}, 23 de 48\n",
      "Tiempo de entrenamiento: 0.003115415573120117 s, score: -0.3853050843892458\n",
      "Probando: {'C': 50, 'epsilon': 0.1, 'kernel': 'linear'}, 24 de 48\n",
      "Tiempo de entrenamiento: 0.0017383098602294922 s, score: 0.7700836700384626\n",
      "Probando: {'C': 50, 'epsilon': 0.1, 'kernel': 'rbf'}, 25 de 48\n",
      "Tiempo de entrenamiento: 0.0018608570098876953 s, score: -1.2488596079996337\n",
      "Probando: {'C': 50, 'epsilon': 0.01, 'kernel': 'linear'}, 26 de 48\n",
      "Tiempo de entrenamiento: 0.003427267074584961 s, score: 0.9480262814924486\n",
      "Probando: {'C': 50, 'epsilon': 0.01, 'kernel': 'rbf'}, 27 de 48\n",
      "Tiempo de entrenamiento: 0.0022683143615722656 s, score: -0.48659027905992797\n",
      "Probando: {'C': 50, 'epsilon': 0.001, 'kernel': 'linear'}, 28 de 48\n",
      "Tiempo de entrenamiento: 0.17755341529846191 s, score: 0.9509518305793335\n",
      "Probando: {'C': 50, 'epsilon': 0.001, 'kernel': 'rbf'}, 29 de 48\n",
      "Tiempo de entrenamiento: 0.0033681392669677734 s, score: -0.3853050843892458\n",
      "Probando: {'C': 100, 'epsilon': 0.1, 'kernel': 'linear'}, 30 de 48\n",
      "Tiempo de entrenamiento: 0.002069234848022461 s, score: 0.7700836700384626\n",
      "Probando: {'C': 100, 'epsilon': 0.1, 'kernel': 'rbf'}, 31 de 48\n",
      "Tiempo de entrenamiento: 0.0018401145935058594 s, score: -1.2488596079996337\n",
      "Probando: {'C': 100, 'epsilon': 0.01, 'kernel': 'linear'}, 32 de 48\n",
      "Tiempo de entrenamiento: 0.004204273223876953 s, score: 0.9480262814924486\n",
      "Probando: {'C': 100, 'epsilon': 0.01, 'kernel': 'rbf'}, 33 de 48\n",
      "Tiempo de entrenamiento: 0.003228902816772461 s, score: -0.48659027905992797\n",
      "Probando: {'C': 100, 'epsilon': 0.001, 'kernel': 'linear'}, 34 de 48\n",
      "Tiempo de entrenamiento: 0.28618335723876953 s, score: 0.9509793406578364\n",
      "Probando: {'C': 100, 'epsilon': 0.001, 'kernel': 'rbf'}, 35 de 48\n",
      "Tiempo de entrenamiento: 0.0014047622680664062 s, score: -0.3853050843892458\n",
      "Probando: {'C': 500, 'epsilon': 0.1, 'kernel': 'linear'}, 36 de 48\n",
      "Tiempo de entrenamiento: 0.002255678176879883 s, score: 0.7700836700384626\n",
      "Probando: {'C': 500, 'epsilon': 0.1, 'kernel': 'rbf'}, 37 de 48\n",
      "Tiempo de entrenamiento: 0.0022733211517333984 s, score: -1.2488596079996337\n",
      "Probando: {'C': 500, 'epsilon': 0.01, 'kernel': 'linear'}, 38 de 48\n",
      "Tiempo de entrenamiento: 0.004265785217285156 s, score: 0.9480262814924486\n",
      "Probando: {'C': 500, 'epsilon': 0.01, 'kernel': 'rbf'}, 39 de 48\n",
      "Tiempo de entrenamiento: 0.002872467041015625 s, score: -0.48659027905992797\n",
      "Probando: {'C': 500, 'epsilon': 0.001, 'kernel': 'linear'}, 40 de 48\n",
      "Tiempo de entrenamiento: 2.0809051990509033 s, score: 0.9509742228485369\n",
      "Probando: {'C': 500, 'epsilon': 0.001, 'kernel': 'rbf'}, 41 de 48\n",
      "Tiempo de entrenamiento: 0.0025146007537841797 s, score: -0.3853050843892458\n",
      "Probando: {'C': 1000, 'epsilon': 0.1, 'kernel': 'linear'}, 42 de 48\n",
      "Tiempo de entrenamiento: 0.002193927764892578 s, score: 0.7700836700384626\n",
      "Probando: {'C': 1000, 'epsilon': 0.1, 'kernel': 'rbf'}, 43 de 48\n",
      "Tiempo de entrenamiento: 0.0020973682403564453 s, score: -1.2488596079996337\n",
      "Probando: {'C': 1000, 'epsilon': 0.01, 'kernel': 'linear'}, 44 de 48\n",
      "Tiempo de entrenamiento: 0.003912925720214844 s, score: 0.9480262814924486\n",
      "Probando: {'C': 1000, 'epsilon': 0.01, 'kernel': 'rbf'}, 45 de 48\n",
      "Tiempo de entrenamiento: 0.0022783279418945312 s, score: -0.48659027905992797\n",
      "Probando: {'C': 1000, 'epsilon': 0.001, 'kernel': 'linear'}, 46 de 48\n",
      "Tiempo de entrenamiento: 4.2572526931762695 s, score: 0.9508396698758005\n",
      "Probando: {'C': 1000, 'epsilon': 0.001, 'kernel': 'rbf'}, 47 de 48\n",
      "Tiempo de entrenamiento: 0.0028085708618164062 s, score: -0.3853050843892458\n",
      "Best Score: 0.9518771005129569\n",
      "Best Parameters: {'C': 1, 'epsilon': 0.001, 'kernel': 'linear'}\n"
     ]
    }
   ],
   "source": [
    "g = GridSearch(svm.SVR(), X_train, X_test, Y6_train, Y6_test, parameters, verbose=True)\n",
    "clf6 = svm.SVR(**g).fit(X_train, np.ravel(Y6_train))"
   ]
  },
  {
   "cell_type": "raw",
   "metadata": {},
   "source": [
    "clf1 = GridSearchCV(svm.SVR(), parameters, n_jobs=-1)\n",
    "startTime = time.time()\n",
    "clf1.fit(X_train, np.ravel(Y1_train))\n",
    "elapsedTime = time.time() - startTime\n",
    "print('{} s'.format(int(elapsedTime)))\n",
    "print(clf1.score(X_test, Y1_test))\n",
    "print(clf1.best_params_)"
   ]
  },
  {
   "cell_type": "raw",
   "metadata": {},
   "source": [
    "clf2 = GridSearchCV(svm.SVR(), parameters, n_jobs=-1)\n",
    "startTime = time.time()\n",
    "clf2.fit(X_train, np.ravel(Y2_train))\n",
    "elapsedTime = time.time() - startTime\n",
    "print('{} s'.format(int(elapsedTime)))\n",
    "print(clf2.score(X_test, Y2_test))\n",
    "print(clf2.best_params_)"
   ]
  },
  {
   "cell_type": "raw",
   "metadata": {},
   "source": [
    "clf3 = GridSearchCV(svm.SVR(), parameters, n_jobs=-1)\n",
    "startTime = time.time()\n",
    "clf3.fit(X_train, np.ravel(Y3_train))\n",
    "elapsedTime = time.time() - startTime\n",
    "print('{} s'.format(int(elapsedTime)))\n",
    "print(clf3.score(X_test, Y3_test))\n",
    "print(clf3.best_params_)"
   ]
  },
  {
   "cell_type": "raw",
   "metadata": {},
   "source": [
    "clf4 = GridSearchCV(svm.SVR(), parameters, n_jobs=-1)\n",
    "startTime = time.time()\n",
    "clf4.fit(X_train, np.ravel(Y4_train))\n",
    "elapsedTime = time.time() - startTime\n",
    "print('{} s'.format(int(elapsedTime)))\n",
    "print(clf4.score(X_test, Y4_test))\n",
    "print(clf4.best_params_)"
   ]
  },
  {
   "cell_type": "raw",
   "metadata": {},
   "source": [
    "clf5 = GridSearchCV(svm.SVR(), parameters, n_jobs=-1)\n",
    "startTime = time.time()\n",
    "clf5.fit(X_train, np.ravel(Y5_train))\n",
    "elapsedTime = time.time() - startTime\n",
    "print('{} s'.format(int(elapsedTime)))\n",
    "print(clf5.score(X_test, Y5_test))\n",
    "print(clf5.best_params_)"
   ]
  },
  {
   "cell_type": "raw",
   "metadata": {},
   "source": [
    "clf6 = GridSearchCV(svm.SVR(), parameters, n_jobs=-1)\n",
    "startTime = time.time()\n",
    "clf6.fit(X_train, np.ravel(Y6_train))\n",
    "elapsedTime = time.time() - startTime\n",
    "print('{} s'.format(int(elapsedTime)))\n",
    "print(clf6.score(X_test, Y6_test))\n",
    "print(clf6.best_params_)"
   ]
  },
  {
   "cell_type": "markdown",
   "metadata": {},
   "source": [
    "## Test for each year"
   ]
  },
  {
   "cell_type": "code",
   "execution_count": 17,
   "metadata": {},
   "outputs": [
    {
     "data": {
      "text/plain": [
       "0.07570924458734792"
      ]
     },
     "execution_count": 17,
     "metadata": {},
     "output_type": "execute_result"
    }
   ],
   "source": [
    "np.abs(clf1.predict(X_test.iloc[0::22]) - np.array(Y1_test.iloc[0::22][0])).mean()"
   ]
  },
  {
   "cell_type": "code",
   "execution_count": 18,
   "metadata": {},
   "outputs": [
    {
     "data": {
      "text/plain": [
       "0.07658728593775431"
      ]
     },
     "execution_count": 18,
     "metadata": {},
     "output_type": "execute_result"
    }
   ],
   "source": [
    "np.abs(clf1.predict(X_test.iloc[1::22]) - np.array(Y1_test.iloc[1::22][0])).mean()"
   ]
  },
  {
   "cell_type": "code",
   "execution_count": 19,
   "metadata": {},
   "outputs": [
    {
     "data": {
      "text/plain": [
       "0.07775347573775385"
      ]
     },
     "execution_count": 19,
     "metadata": {},
     "output_type": "execute_result"
    }
   ],
   "source": [
    "np.abs(clf1.predict(X_test.iloc[2::22]) - np.array(Y1_test.iloc[2::22][0])).mean()"
   ]
  },
  {
   "cell_type": "code",
   "execution_count": 20,
   "metadata": {},
   "outputs": [
    {
     "data": {
      "text/plain": [
       "0.07907687383852215"
      ]
     },
     "execution_count": 20,
     "metadata": {},
     "output_type": "execute_result"
    }
   ],
   "source": [
    "np.abs(clf1.predict(X_test.iloc[3::22]) - np.array(Y1_test.iloc[3::22][0])).mean()"
   ]
  },
  {
   "cell_type": "code",
   "execution_count": 21,
   "metadata": {},
   "outputs": [
    {
     "data": {
      "text/plain": [
       "0.07584970194874711"
      ]
     },
     "execution_count": 21,
     "metadata": {},
     "output_type": "execute_result"
    }
   ],
   "source": [
    "np.abs(clf1.predict(X_test.iloc[4::22]) - np.array(Y1_test.iloc[4::22][0])).mean()"
   ]
  },
  {
   "cell_type": "code",
   "execution_count": 22,
   "metadata": {},
   "outputs": [
    {
     "data": {
      "text/plain": [
       "0.0770131296490057"
      ]
     },
     "execution_count": 22,
     "metadata": {},
     "output_type": "execute_result"
    }
   ],
   "source": [
    "np.abs(clf1.predict(X_test.iloc[5::22]) - np.array(Y1_test.iloc[5::22][0])).mean()"
   ]
  },
  {
   "cell_type": "code",
   "execution_count": 23,
   "metadata": {},
   "outputs": [
    {
     "data": {
      "text/plain": [
       "0.07778421675254081"
      ]
     },
     "execution_count": 23,
     "metadata": {},
     "output_type": "execute_result"
    }
   ],
   "source": [
    "np.abs(clf1.predict(X_test.iloc[6::22]) - np.array(Y1_test.iloc[6::22][0])).mean()"
   ]
  },
  {
   "cell_type": "code",
   "execution_count": 24,
   "metadata": {},
   "outputs": [
    {
     "data": {
      "text/plain": [
       "0.07903537565852499"
      ]
     },
     "execution_count": 24,
     "metadata": {},
     "output_type": "execute_result"
    }
   ],
   "source": [
    "np.abs(clf1.predict(X_test.iloc[7::22]) - np.array(Y1_test.iloc[7::22][0])).mean()"
   ]
  },
  {
   "cell_type": "code",
   "execution_count": 25,
   "metadata": {},
   "outputs": [
    {
     "data": {
      "text/plain": [
       "0.0829971816024722"
      ]
     },
     "execution_count": 25,
     "metadata": {},
     "output_type": "execute_result"
    }
   ],
   "source": [
    "np.abs(clf1.predict(X_test.iloc[8::22]) - np.array(Y1_test.iloc[8::22][0])).mean()"
   ]
  },
  {
   "cell_type": "code",
   "execution_count": 26,
   "metadata": {},
   "outputs": [
    {
     "data": {
      "text/plain": [
       "0.03769194359902837"
      ]
     },
     "execution_count": 26,
     "metadata": {},
     "output_type": "execute_result"
    }
   ],
   "source": [
    "np.abs(clf1.predict(X_test.iloc[9::22]) - np.array(Y1_test.iloc[9::22][0])).mean()"
   ]
  },
  {
   "cell_type": "code",
   "execution_count": 27,
   "metadata": {},
   "outputs": [
    {
     "data": {
      "text/plain": [
       "0.0366242829702316"
      ]
     },
     "execution_count": 27,
     "metadata": {},
     "output_type": "execute_result"
    }
   ],
   "source": [
    "np.abs(clf1.predict(X_test.iloc[10::22]) - np.array(Y1_test.iloc[10::22][0])).mean()"
   ]
  },
  {
   "cell_type": "markdown",
   "metadata": {},
   "source": [
    "## One concrete example"
   ]
  },
  {
   "cell_type": "code",
   "execution_count": 17,
   "metadata": {},
   "outputs": [
    {
     "data": {
      "text/plain": [
       "array([[3672.77319889, 2208.74278887, 1349.09237343,  700.2734787 ,\n",
       "          72.44659093, 2127.19853273, 1992.        ]])"
      ]
     },
     "execution_count": 17,
     "metadata": {},
     "output_type": "execute_result"
    }
   ],
   "source": [
    "i = 120\n",
    "scalerY.inverse_transform([[clf1.predict([X_test.iloc[i]])[0], clf2.predict([X_test.iloc[i]])[0], clf3.predict([X_test.iloc[i]])[0], \n",
    "                          clf4.predict([X_test.iloc[i]])[0], clf5.predict([X_test.iloc[i]])[0], clf6.predict([X_test.iloc[i]])[0], 0]])"
   ]
  },
  {
   "cell_type": "code",
   "execution_count": 18,
   "metadata": {},
   "outputs": [
    {
     "data": {
      "text/plain": [
       "array([[3228.23, 2263.31, 1410.43,  685.92,   96.1 , 1817.8 , 2013.  ]])"
      ]
     },
     "execution_count": 18,
     "metadata": {},
     "output_type": "execute_result"
    }
   ],
   "source": [
    "scalerY.inverse_transform([Y_test.iloc[i]])"
   ]
  },
  {
   "cell_type": "markdown",
   "metadata": {},
   "source": [
    "## Probamos con España"
   ]
  },
  {
   "cell_type": "code",
   "execution_count": 57,
   "metadata": {},
   "outputs": [],
   "source": [
    "country = 'ESP'\n",
    "esp = df[df.COU == country]\n",
    "Complete = df"
   ]
  },
  {
   "cell_type": "markdown",
   "metadata": {},
   "source": [
    "### Municipal"
   ]
  },
  {
   "cell_type": "code",
   "execution_count": 58,
   "metadata": {},
   "outputs": [],
   "source": [
    "years = list(esp.Year)\n",
    "mun = list(esp.Municipal)\n",
    "predictions = clf1.predict(pd.DataFrame(scalerX.transform(Complete.loc[esp.index[Year_to_separate-2017:],:][['Built', 'Below Secundary', 'Income Median',\n",
    "       'Population', 'Over 65', 'Over 65 Percentage', 'Over 85',\n",
    "       'Over 85 Percentage', 'Over 50', 'Over 50 Percentage', 'Under 20',\n",
    "       'Under 20 Percentage', 'Income Per Capita', 'Tourism', 'Area',\n",
    "       'Built Area']])))\n",
    "predictions = [a[0] for a in scalerY.inverse_transform([[a,0,0,0,0,0,0] for a in predictions])]"
   ]
  },
  {
   "cell_type": "code",
   "execution_count": 59,
   "metadata": {},
   "outputs": [
    {
     "data": {
      "image/png": "[encoded data removed]",
      "text/plain": [
       "<Figure size 432x288 with 1 Axes>"
      ]
     },
     "metadata": {
      "needs_background": "light"
     },
     "output_type": "display_data"
    }
   ],
   "source": [
    "plt.plot(years, mun, lw=2, label='real')\n",
    "plt.axvline(x=Year_to_separate + 0.5, c='green', lw=1, ls=':', label='separación')\n",
    "plt.plot([y for y in years if y > Year_to_separate], predictions, c='red', lw=2, label='predecido')\n",
    "plt.title(\"Basura municipal en España\")\n",
    "plt.xlabel(\"Año\")\n",
    "plt.ylabel(\"Miles de toneladas\")\n",
    "plt.legend()\n",
    "plt.show()"
   ]
  },
  {
   "cell_type": "code",
   "execution_count": 49,
   "metadata": {},
   "outputs": [
    {
     "data": {
      "image/png": "[encoded data removed]",
      "text/plain": [
       "<Figure size 432x288 with 1 Axes>"
      ]
     },
     "metadata": {
      "needs_background": "light"
     },
     "output_type": "display_data"
    }
   ],
   "source": [
    "plt.plot([y for y in years if y > Year_to_separate], ((np.array(mun[-12:])-np.array(predictions))/np.array(mun[-12:])), c='green', lw=2, label='error')\n",
    "plt.legend()\n",
    "plt.show()"
   ]
  },
  {
   "cell_type": "markdown",
   "metadata": {},
   "source": [
    "### Household"
   ]
  },
  {
   "cell_type": "code",
   "execution_count": 22,
   "metadata": {},
   "outputs": [],
   "source": [
    "years = list(esp.Year)\n",
    "mun = list(esp.Household)\n",
    "predictions = clf2.predict(pd.DataFrame(scalerX.transform(Complete.loc[esp.index[Year_to_separate-2017:],:][['Built', 'Below Secundary', 'Income Median',\n",
    "       'Population', 'Over 65', 'Over 65 Percentage', 'Over 85',\n",
    "       'Over 85 Percentage', 'Over 50', 'Over 50 Percentage', 'Under 20',\n",
    "       'Under 20 Percentage', 'Income Per Capita', 'Tourism', 'Area',\n",
    "       'Built Area', 'Last Year Municipal', 'Last Year Household',\n",
    "       'Last Year Recovered', 'Last Year Recicled', 'Last Year Compost',\n",
    "       'Last Year Disposal',\n",
    "       'Last Year Built', 'Difference Built',\n",
    "       'Last Year Below Secundary', 'Difference Below Secundary',\n",
    "       'Last Year Population', 'Difference Population', 'Last Year Tourism',\n",
    "       'Difference Tourism']])))\n",
    "predictions = [a[1] for a in scalerY.inverse_transform([[0,a,0,0,0,0,0] for a in predictions])]"
   ]
  },
  {
   "cell_type": "code",
   "execution_count": 23,
   "metadata": {},
   "outputs": [
    {
     "data": {
      "image/png": "[encoded data removed]",
      "text/plain": [
       "<Figure size 432x288 with 1 Axes>"
      ]
     },
     "metadata": {
      "needs_background": "light"
     },
     "output_type": "display_data"
    }
   ],
   "source": [
    "plt.plot(years, mun, lw=2, label='real')\n",
    "plt.axvline(x=Year_to_separate + 0.5, c='green', lw=1, ls=':', label='separación')\n",
    "plt.plot([y for y in years if y > Year_to_separate], predictions, c='red', lw=2, label='predecido')\n",
    "plt.title(\"Basura doméstica en España\")\n",
    "plt.xlabel(\"Año\")\n",
    "plt.ylabel(\"Miles de toneladas\")\n",
    "plt.legend()\n",
    "plt.show()"
   ]
  },
  {
   "cell_type": "markdown",
   "metadata": {},
   "source": [
    "### Recovered"
   ]
  },
  {
   "cell_type": "code",
   "execution_count": 24,
   "metadata": {},
   "outputs": [],
   "source": [
    "years = list(esp.Year)\n",
    "mun = list(esp.Recovered)\n",
    "predictions = clf3.predict(pd.DataFrame(scalerX.transform(Complete.loc[esp.index[Year_to_separate-2017:],:][['Built', 'Below Secundary', 'Income Median',\n",
    "       'Population', 'Over 65', 'Over 65 Percentage', 'Over 85',\n",
    "       'Over 85 Percentage', 'Over 50', 'Over 50 Percentage', 'Under 20',\n",
    "       'Under 20 Percentage', 'Income Per Capita', 'Tourism', 'Area',\n",
    "       'Built Area', 'Last Year Municipal', 'Last Year Household',\n",
    "       'Last Year Recovered', 'Last Year Recicled', 'Last Year Compost',\n",
    "       'Last Year Disposal',\n",
    "       'Last Year Built', 'Difference Built',\n",
    "       'Last Year Below Secundary', 'Difference Below Secundary',\n",
    "       'Last Year Population', 'Difference Population', 'Last Year Tourism',\n",
    "       'Difference Tourism']])))\n",
    "predictions = [a[2] for a in scalerY.inverse_transform([[0,0,a,0,0,0,0] for a in predictions])]"
   ]
  },
  {
   "cell_type": "code",
   "execution_count": 25,
   "metadata": {},
   "outputs": [
    {
     "data": {
      "image/png": "[encoded data removed]",
      "text/plain": [
       "<Figure size 432x288 with 1 Axes>"
      ]
     },
     "metadata": {
      "needs_background": "light"
     },
     "output_type": "display_data"
    }
   ],
   "source": [
    "plt.plot(years, mun, lw=2, label='real')\n",
    "plt.axvline(x=Year_to_separate + 0.5, c='green', lw=1, ls=':', label='separación')\n",
    "plt.plot([y for y in years if y > Year_to_separate], predictions, c='red', lw=2, label='predecido')\n",
    "plt.title(\"Basura recuperada en España\")\n",
    "plt.xlabel(\"Año\")\n",
    "plt.ylabel(\"Miles de toneladas\")\n",
    "plt.legend()\n",
    "plt.show()"
   ]
  },
  {
   "cell_type": "markdown",
   "metadata": {},
   "source": [
    "### Recicled"
   ]
  },
  {
   "cell_type": "code",
   "execution_count": 26,
   "metadata": {},
   "outputs": [],
   "source": [
    "years = list(esp.Year)\n",
    "mun = list(esp.Recicled)\n",
    "predictions = clf4.predict(pd.DataFrame(scalerX.transform(Complete.loc[esp.index[Year_to_separate-2017:],:][['Built', 'Below Secundary', 'Income Median',\n",
    "       'Population', 'Over 65', 'Over 65 Percentage', 'Over 85',\n",
    "       'Over 85 Percentage', 'Over 50', 'Over 50 Percentage', 'Under 20',\n",
    "       'Under 20 Percentage', 'Income Per Capita', 'Tourism', 'Area',\n",
    "       'Built Area', 'Last Year Municipal', 'Last Year Household',\n",
    "       'Last Year Recovered', 'Last Year Recicled', 'Last Year Compost',\n",
    "       'Last Year Disposal',\n",
    "       'Last Year Built', 'Difference Built',\n",
    "       'Last Year Below Secundary', 'Difference Below Secundary',\n",
    "       'Last Year Population', 'Difference Population', 'Last Year Tourism',\n",
    "       'Difference Tourism']])))\n",
    "predictions = [a[3] for a in scalerY.inverse_transform([[0,0,0,a,0,0,0] for a in predictions])]"
   ]
  },
  {
   "cell_type": "code",
   "execution_count": 27,
   "metadata": {
    "scrolled": false
   },
   "outputs": [
    {
     "data": {
      "image/png": "[encoded data removed]",
      "text/plain": [
       "<Figure size 432x288 with 1 Axes>"
      ]
     },
     "metadata": {
      "needs_background": "light"
     },
     "output_type": "display_data"
    }
   ],
   "source": [
    "plt.plot(years, mun, lw=2, label='real')\n",
    "plt.axvline(x=Year_to_separate + 0.5, c='green', lw=1, ls=':', label='separación')\n",
    "plt.plot([y for y in years if y > Year_to_separate], predictions, c='red', lw=2, label='predecido')\n",
    "plt.title(\"Basura reciclada en España\")\n",
    "plt.xlabel(\"Año\")\n",
    "plt.ylabel(\"Miles de toneladas\")\n",
    "plt.legend()\n",
    "plt.show()"
   ]
  },
  {
   "cell_type": "markdown",
   "metadata": {},
   "source": [
    "### Compost"
   ]
  },
  {
   "cell_type": "code",
   "execution_count": 28,
   "metadata": {},
   "outputs": [],
   "source": [
    "years = list(esp.Year)\n",
    "mun = list(esp.Compost)\n",
    "predictions = clf5.predict(pd.DataFrame(scalerX.transform(Complete.loc[esp.index[Year_to_separate-2017:],:][['Built', 'Below Secundary', 'Income Median',\n",
    "       'Population', 'Over 65', 'Over 65 Percentage', 'Over 85',\n",
    "       'Over 85 Percentage', 'Over 50', 'Over 50 Percentage', 'Under 20',\n",
    "       'Under 20 Percentage', 'Income Per Capita', 'Tourism', 'Area',\n",
    "       'Built Area', 'Last Year Municipal', 'Last Year Household',\n",
    "       'Last Year Recovered', 'Last Year Recicled', 'Last Year Compost',\n",
    "       'Last Year Disposal',\n",
    "       'Last Year Built', 'Difference Built',\n",
    "       'Last Year Below Secundary', 'Difference Below Secundary',\n",
    "       'Last Year Population', 'Difference Population', 'Last Year Tourism',\n",
    "       'Difference Tourism']])))\n",
    "predictions = [a[4] for a in scalerY.inverse_transform([[0,0,0,0,a,0,0] for a in predictions])]"
   ]
  },
  {
   "cell_type": "code",
   "execution_count": 29,
   "metadata": {},
   "outputs": [
    {
     "data": {
      "image/png": "[encoded data removed]",
      "text/plain": [
       "<Figure size 432x288 with 1 Axes>"
      ]
     },
     "metadata": {
      "needs_background": "light"
     },
     "output_type": "display_data"
    }
   ],
   "source": [
    "plt.plot(years, mun, lw=2, label='real')\n",
    "plt.axvline(x=Year_to_separate + 0.5, c='green', lw=1, ls=':', label='separación')\n",
    "plt.plot([y for y in years if y > Year_to_separate], predictions, c='red', lw=2, label='predecido')\n",
    "plt.title(\"Basura compostada en España\")\n",
    "plt.xlabel(\"Año\")\n",
    "plt.ylabel(\"Miles de toneladas\")\n",
    "plt.legend()\n",
    "plt.show()"
   ]
  },
  {
   "cell_type": "markdown",
   "metadata": {},
   "source": [
    "### Disposal"
   ]
  },
  {
   "cell_type": "code",
   "execution_count": 30,
   "metadata": {},
   "outputs": [],
   "source": [
    "years = list(esp.Year)\n",
    "mun = list(esp.Disposal)\n",
    "predictions = clf1.predict(pd.DataFrame(scalerX.transform(Complete.loc[esp.index[Year_to_separate-2017:],:][['Built', 'Below Secundary', 'Income Median',\n",
    "       'Population', 'Over 65', 'Over 65 Percentage', 'Over 85',\n",
    "       'Over 85 Percentage', 'Over 50', 'Over 50 Percentage', 'Under 20',\n",
    "       'Under 20 Percentage', 'Income Per Capita', 'Tourism', 'Area',\n",
    "       'Built Area', 'Last Year Municipal', 'Last Year Household',\n",
    "       'Last Year Recovered', 'Last Year Recicled', 'Last Year Compost',\n",
    "       'Last Year Disposal',\n",
    "       'Last Year Built', 'Difference Built',\n",
    "       'Last Year Below Secundary', 'Difference Below Secundary',\n",
    "       'Last Year Population', 'Difference Population', 'Last Year Tourism',\n",
    "       'Difference Tourism']])))\n",
    "predictions = [a[5] for a in scalerY.inverse_transform([[0,0,0,0,0,a,0] for a in predictions])]"
   ]
  },
  {
   "cell_type": "code",
   "execution_count": 31,
   "metadata": {
    "scrolled": false
   },
   "outputs": [
    {
     "data": {
      "image/png": "[encoded data removed]",
      "text/plain": [
       "<Figure size 432x288 with 1 Axes>"
      ]
     },
     "metadata": {
      "needs_background": "light"
     },
     "output_type": "display_data"
    }
   ],
   "source": [
    "plt.plot(years, mun, lw=2, label='real')\n",
    "plt.axvline(x=Year_to_separate + 0.5, c='green', lw=1, ls=':', label='separación')\n",
    "plt.plot([y for y in years if y > Year_to_separate], predictions, c='red', lw=2, label='predecido')\n",
    "plt.title(\"Basura deshechada en España\")\n",
    "plt.xlabel(\"Año\")\n",
    "plt.ylabel(\"Miles de toneladas\")\n",
    "plt.legend()\n",
    "plt.show()"
   ]
  }
 ],
 "metadata": {
  "kernelspec": {
   "display_name": "Python 3",
   "language": "python",
   "name": "python3"
  },
  "language_info": {
   "codemirror_mode": {
    "name": "ipython",
    "version": 3
   },
   "file_extension": ".py",
   "mimetype": "text/x-python",
   "name": "python",
   "nbconvert_exporter": "python",
   "pygments_lexer": "ipython3",
   "version": "3.6.9"
  }
 },
 "nbformat": 4,
 "nbformat_minor": 4
}
