{
 "cells": [
  {
   "cell_type": "code",
   "execution_count": 1,
   "metadata": {},
   "outputs": [],
   "source": [
    "import pandas as pd\n",
    "import numpy as np\n",
    "from sklearn import svm\n",
    "from sklearn.multioutput import MultiOutputRegressor\n",
    "from sklearn.ensemble import GradientBoostingRegressor\n",
    "from sklearn.preprocessing import MinMaxScaler\n",
    "import time\n",
    "import matplotlib.pyplot as plt\n",
    "from sklearn.model_selection import GridSearchCV, ParameterGrid"
   ]
  },
  {
   "cell_type": "markdown",
   "metadata": {},
   "source": [
    "# Import all data"
   ]
  },
  {
   "cell_type": "code",
   "execution_count": 2,
   "metadata": {},
   "outputs": [],
   "source": [
    "X_train = pd.read_parquet(\"Xtime/X_train.parquet\")\n",
    "X_test = pd.read_parquet(\"Xtime/X_test.parquet\")\n",
    "Y_train = pd.read_parquet(\"Ytime/Y_train.parquet\")\n",
    "Y_test = pd.read_parquet(\"Ytime/Y_test.parquet\")\n",
    "X_train = X_train[['Built', 'Below Secundary', 'Income Median',\n",
    "       'Population', 'Over 65', 'Over 65 Percentage', 'Over 85',\n",
    "       'Over 85 Percentage', 'Over 50', 'Over 50 Percentage', 'Under 20',\n",
    "       'Under 20 Percentage', 'Income Per Capita', 'Tourism', 'Area',\n",
    "       'Built Area', 'Last Year Municipal', 'Last Year Household',\n",
    "       'Last Year Recovered', 'Last Year Recicled', 'Last Year Compost',\n",
    "       'Last Year Disposal',\n",
    "       'Last Year Built', 'Difference Built',\n",
    "       'Last Year Below Secundary', 'Difference Below Secundary',\n",
    "       'Last Year Population', 'Difference Population', 'Last Year Tourism',\n",
    "       'Difference Tourism']]\n",
    "X_test = X_test[['Built', 'Below Secundary', 'Income Median',\n",
    "       'Population', 'Over 65', 'Over 65 Percentage', 'Over 85',\n",
    "       'Over 85 Percentage', 'Over 50', 'Over 50 Percentage', 'Under 20',\n",
    "       'Under 20 Percentage', 'Income Per Capita', 'Tourism', 'Area',\n",
    "       'Built Area', 'Last Year Municipal', 'Last Year Household',\n",
    "       'Last Year Recovered', 'Last Year Recicled', 'Last Year Compost',\n",
    "       'Last Year Disposal',\n",
    "       'Last Year Built', 'Difference Built',\n",
    "       'Last Year Below Secundary', 'Difference Below Secundary',\n",
    "       'Last Year Population', 'Difference Population', 'Last Year Tourism',\n",
    "       'Difference Tourism']]\n",
    "Complete = pd.read_parquet(\"time_dataset.parquet\")"
   ]
  },
  {
   "cell_type": "code",
   "execution_count": 3,
   "metadata": {},
   "outputs": [],
   "source": [
    "scalerX = MinMaxScaler().fit(X_train)\n",
    "X_train = pd.DataFrame(scalerX.transform(X_train))\n",
    "X_test = pd.DataFrame(scalerX.transform(X_test))\n",
    "scalerY = MinMaxScaler().fit(Y_train)\n",
    "Y_train = pd.DataFrame(scalerY.transform(Y_train))\n",
    "Y_test = pd.DataFrame(scalerY.transform(Y_test))"
   ]
  },
  {
   "cell_type": "code",
   "execution_count": 4,
   "metadata": {},
   "outputs": [],
   "source": [
    "Y1_train = Y_train[[Y_train.columns[0]]]\n",
    "Y1_test = Y_test[[Y_test.columns[0]]]\n",
    "Y2_train = Y_train[[Y_train.columns[1]]]\n",
    "Y2_test = Y_test[[Y_test.columns[1]]]\n",
    "Y3_train = Y_train[[Y_train.columns[2]]]\n",
    "Y3_test = Y_test[[Y_test.columns[2]]]\n",
    "Y4_train = Y_train[[Y_train.columns[3]]]\n",
    "Y4_test = Y_test[[Y_test.columns[3]]]\n",
    "Y5_train = Y_train[[Y_train.columns[4]]]\n",
    "Y5_test = Y_test[[Y_test.columns[4]]]\n",
    "Y6_train = Y_train[[Y_train.columns[5]]]\n",
    "Y6_test = Y_test[[Y_test.columns[5]]]"
   ]
  },
  {
   "cell_type": "markdown",
   "metadata": {},
   "source": [
    "## Train and score"
   ]
  },
  {
   "cell_type": "code",
   "execution_count": 5,
   "metadata": {},
   "outputs": [],
   "source": [
    "parameters = {'kernel':['linear', 'rbf'],\n",
    "              'C':[0.5, 1, 5, 10, 50, 100, 500, 1000],\n",
    "              'epsilon':[0.1,0.01,0.001]}"
   ]
  },
  {
   "cell_type": "code",
   "execution_count": 6,
   "metadata": {},
   "outputs": [],
   "source": [
    "def GridSearch(rf, X_train, X_test, y_train, y_test, grid, verbose=False, skip=False):\n",
    "    best_score = 0\n",
    "    par = ParameterGrid(grid)\n",
    "    ln = len(par)\n",
    "    i = 0\n",
    "    for g in par:\n",
    "        if skip and i == 46:\n",
    "            continue\n",
    "        if(verbose):\n",
    "            print(f\"Probando: {g}, {i} de {ln}\")\n",
    "        i+=1\n",
    "        rf.set_params(**g)\n",
    "        startTime = time.time()\n",
    "        rf.fit(X_train, np.ravel(y_train))\n",
    "        elapsedTime = time.time() - startTime\n",
    "        score = rf.score(X_test, y_test)\n",
    "        if(verbose):\n",
    "            print(f\"Tiempo de entrenamiento: {elapsedTime} s, score: {score}\")\n",
    "        # save if best\n",
    "        if score > best_score:\n",
    "            best_score = score\n",
    "            best_grid = g\n",
    "    print(f\"Best Score: {best_score}\")\n",
    "    print(f\"Best Parameters: {best_grid}\")\n",
    "    return best_grid"
   ]
  },
  {
   "cell_type": "code",
   "execution_count": 7,
   "metadata": {
    "scrolled": true
   },
   "outputs": [
    {
     "name": "stdout",
     "output_type": "stream",
     "text": [
      "Probando: {'C': 0.5, 'epsilon': 0.1, 'kernel': 'linear'}, 0 de 48\n",
      "Tiempo de entrenamiento: 0.014623165130615234 s, score: 0.9242402030935484\n",
      "Probando: {'C': 0.5, 'epsilon': 0.1, 'kernel': 'rbf'}, 1 de 48\n",
      "Tiempo de entrenamiento: 0.020822763442993164 s, score: 0.8396178587595235\n",
      "Probando: {'C': 0.5, 'epsilon': 0.01, 'kernel': 'linear'}, 2 de 48\n",
      "Tiempo de entrenamiento: 0.06179404258728027 s, score: 0.9991565344245478\n",
      "Probando: {'C': 0.5, 'epsilon': 0.01, 'kernel': 'rbf'}, 3 de 48\n",
      "Tiempo de entrenamiento: 0.03846573829650879 s, score: 0.988465941458733\n",
      "Probando: {'C': 0.5, 'epsilon': 0.001, 'kernel': 'linear'}, 4 de 48\n",
      "Tiempo de entrenamiento: 0.4230329990386963 s, score: 0.9997475812764913\n",
      "Probando: {'C': 0.5, 'epsilon': 0.001, 'kernel': 'rbf'}, 5 de 48\n",
      "Tiempo de entrenamiento: 0.19558238983154297 s, score: 0.989422937112329\n",
      "Probando: {'C': 1, 'epsilon': 0.1, 'kernel': 'linear'}, 6 de 48\n",
      "Tiempo de entrenamiento: 0.011304378509521484 s, score: 0.9175209051466363\n",
      "Probando: {'C': 1, 'epsilon': 0.1, 'kernel': 'rbf'}, 7 de 48\n",
      "Tiempo de entrenamiento: 0.01792740821838379 s, score: 0.8399488811389961\n",
      "Probando: {'C': 1, 'epsilon': 0.01, 'kernel': 'linear'}, 8 de 48\n",
      "Tiempo de entrenamiento: 0.12635040283203125 s, score: 0.999255140876274\n",
      "Probando: {'C': 1, 'epsilon': 0.01, 'kernel': 'rbf'}, 9 de 48\n",
      "Tiempo de entrenamiento: 0.07278084754943848 s, score: 0.9895621000732886\n",
      "Probando: {'C': 1, 'epsilon': 0.001, 'kernel': 'linear'}, 10 de 48\n",
      "Tiempo de entrenamiento: 0.8327755928039551 s, score: 0.9997504145846706\n",
      "Probando: {'C': 1, 'epsilon': 0.001, 'kernel': 'rbf'}, 11 de 48\n",
      "Tiempo de entrenamiento: 0.2075634002685547 s, score: 0.9916155079011528\n",
      "Probando: {'C': 5, 'epsilon': 0.1, 'kernel': 'linear'}, 12 de 48\n",
      "Tiempo de entrenamiento: 0.028316020965576172 s, score: 0.9201566265258408\n",
      "Probando: {'C': 5, 'epsilon': 0.1, 'kernel': 'rbf'}, 13 de 48\n",
      "Tiempo de entrenamiento: 0.009599924087524414 s, score: 0.8422655568293602\n",
      "Probando: {'C': 5, 'epsilon': 0.01, 'kernel': 'linear'}, 14 de 48\n",
      "Tiempo de entrenamiento: 0.2514536380767822 s, score: 0.9992920660920792\n",
      "Probando: {'C': 5, 'epsilon': 0.01, 'kernel': 'rbf'}, 15 de 48\n",
      "Tiempo de entrenamiento: 0.0787508487701416 s, score: 0.9901944539492537\n",
      "Probando: {'C': 5, 'epsilon': 0.001, 'kernel': 'linear'}, 16 de 48\n",
      "Tiempo de entrenamiento: 2.785310983657837 s, score: 0.9997703665368595\n",
      "Probando: {'C': 5, 'epsilon': 0.001, 'kernel': 'rbf'}, 17 de 48\n",
      "Tiempo de entrenamiento: 0.2818927764892578 s, score: 0.995388440734964\n",
      "Probando: {'C': 10, 'epsilon': 0.1, 'kernel': 'linear'}, 18 de 48\n",
      "Tiempo de entrenamiento: 0.031427860260009766 s, score: 0.9165317176355043\n",
      "Probando: {'C': 10, 'epsilon': 0.1, 'kernel': 'rbf'}, 19 de 48\n",
      "Tiempo de entrenamiento: 0.009350299835205078 s, score: 0.8466692755191215\n",
      "Probando: {'C': 10, 'epsilon': 0.01, 'kernel': 'linear'}, 20 de 48\n",
      "Tiempo de entrenamiento: 0.435410737991333 s, score: 0.9993262082354992\n",
      "Probando: {'C': 10, 'epsilon': 0.01, 'kernel': 'rbf'}, 21 de 48\n",
      "Tiempo de entrenamiento: 0.08198785781860352 s, score: 0.9890373921354492\n",
      "Probando: {'C': 10, 'epsilon': 0.001, 'kernel': 'linear'}, 22 de 48\n",
      "Tiempo de entrenamiento: 4.975008249282837 s, score: 0.9997714493112394\n",
      "Probando: {'C': 10, 'epsilon': 0.001, 'kernel': 'rbf'}, 23 de 48\n",
      "Tiempo de entrenamiento: 0.40775370597839355 s, score: 0.9958108049889706\n",
      "Probando: {'C': 50, 'epsilon': 0.1, 'kernel': 'linear'}, 24 de 48\n",
      "Tiempo de entrenamiento: 0.031239748001098633 s, score: 0.9065583396491594\n",
      "Probando: {'C': 50, 'epsilon': 0.1, 'kernel': 'rbf'}, 25 de 48\n",
      "Tiempo de entrenamiento: 0.017662763595581055 s, score: 0.8703796041072812\n",
      "Probando: {'C': 50, 'epsilon': 0.01, 'kernel': 'linear'}, 26 de 48\n",
      "Tiempo de entrenamiento: 1.2438297271728516 s, score: 0.9993354282680436\n",
      "Probando: {'C': 50, 'epsilon': 0.01, 'kernel': 'rbf'}, 27 de 48\n",
      "Tiempo de entrenamiento: 0.08243179321289062 s, score: 0.9908849302793271\n",
      "Probando: {'C': 50, 'epsilon': 0.001, 'kernel': 'linear'}, 28 de 48\n",
      "Tiempo de entrenamiento: 18.465877532958984 s, score: 0.9997697904525686\n",
      "Probando: {'C': 50, 'epsilon': 0.001, 'kernel': 'rbf'}, 29 de 48\n",
      "Tiempo de entrenamiento: 0.9955594539642334 s, score: 0.9962365097274605\n",
      "Probando: {'C': 100, 'epsilon': 0.1, 'kernel': 'linear'}, 30 de 48\n",
      "Tiempo de entrenamiento: 0.052620887756347656 s, score: 0.8920204764987297\n",
      "Probando: {'C': 100, 'epsilon': 0.1, 'kernel': 'rbf'}, 31 de 48\n",
      "Tiempo de entrenamiento: 0.011501073837280273 s, score: 0.8565127970941708\n",
      "Probando: {'C': 100, 'epsilon': 0.01, 'kernel': 'linear'}, 32 de 48\n",
      "Tiempo de entrenamiento: 2.060483694076538 s, score: 0.999350966953552\n",
      "Probando: {'C': 100, 'epsilon': 0.01, 'kernel': 'rbf'}, 33 de 48\n",
      "Tiempo de entrenamiento: 0.08389139175415039 s, score: 0.9915289579260735\n",
      "Probando: {'C': 100, 'epsilon': 0.001, 'kernel': 'linear'}, 34 de 48\n",
      "Tiempo de entrenamiento: 36.45293951034546 s, score: 0.9997638751871191\n",
      "Probando: {'C': 100, 'epsilon': 0.001, 'kernel': 'rbf'}, 35 de 48\n",
      "Tiempo de entrenamiento: 1.362767219543457 s, score: 0.9963540090163888\n",
      "Probando: {'C': 500, 'epsilon': 0.1, 'kernel': 'linear'}, 36 de 48\n",
      "Tiempo de entrenamiento: 0.06107807159423828 s, score: 0.8865551309564924\n",
      "Probando: {'C': 500, 'epsilon': 0.1, 'kernel': 'rbf'}, 37 de 48\n",
      "Tiempo de entrenamiento: 0.028738021850585938 s, score: 0.7774805693568595\n",
      "Probando: {'C': 500, 'epsilon': 0.01, 'kernel': 'linear'}, 38 de 48\n",
      "Tiempo de entrenamiento: 7.565323829650879 s, score: 0.9993506819620264\n",
      "Probando: {'C': 500, 'epsilon': 0.01, 'kernel': 'rbf'}, 39 de 48\n",
      "Tiempo de entrenamiento: 0.1538829803466797 s, score: 0.9459175884151528\n",
      "Probando: {'C': 500, 'epsilon': 0.001, 'kernel': 'linear'}, 40 de 48\n",
      "Tiempo de entrenamiento: 178.26670503616333 s, score: 0.9997763966086667\n",
      "Probando: {'C': 500, 'epsilon': 0.001, 'kernel': 'rbf'}, 41 de 48\n",
      "Tiempo de entrenamiento: 3.0147666931152344 s, score: 0.9614219551235421\n",
      "Probando: {'C': 1000, 'epsilon': 0.1, 'kernel': 'linear'}, 42 de 48\n",
      "Tiempo de entrenamiento: 0.05938887596130371 s, score: 0.8842702879588025\n",
      "Probando: {'C': 1000, 'epsilon': 0.1, 'kernel': 'rbf'}, 43 de 48\n",
      "Tiempo de entrenamiento: 0.03152728080749512 s, score: 0.6617336668639746\n",
      "Probando: {'C': 1000, 'epsilon': 0.01, 'kernel': 'linear'}, 44 de 48\n",
      "Tiempo de entrenamiento: 14.032681226730347 s, score: 0.9992190182947911\n",
      "Probando: {'C': 1000, 'epsilon': 0.01, 'kernel': 'rbf'}, 45 de 48\n",
      "Tiempo de entrenamiento: 0.2565310001373291 s, score: 0.7459162060757363\n",
      "Probando: {'C': 1000, 'epsilon': 0.001, 'kernel': 'linear'}, 46 de 48\n",
      "Tiempo de entrenamiento: 334.92179703712463 s, score: 0.9997732660127353\n",
      "Probando: {'C': 1000, 'epsilon': 0.001, 'kernel': 'rbf'}, 47 de 48\n",
      "Tiempo de entrenamiento: 4.25717830657959 s, score: 0.8349093549418036\n",
      "Best Score: 0.9997763966086667\n",
      "Best Parameters: {'C': 500, 'epsilon': 0.001, 'kernel': 'linear'}\n"
     ]
    }
   ],
   "source": [
    "g = GridSearch(svm.SVR(), X_train, X_test, Y1_train, Y1_test, parameters, verbose=True)\n",
    "clf1 = svm.SVR(**g).fit(X_train, np.ravel(Y1_train))"
   ]
  },
  {
   "cell_type": "code",
   "execution_count": 8,
   "metadata": {
    "scrolled": true
   },
   "outputs": [
    {
     "name": "stdout",
     "output_type": "stream",
     "text": [
      "Probando: {'C': 0.5, 'epsilon': 0.1, 'kernel': 'linear'}, 0 de 48\n",
      "Tiempo de entrenamiento: 0.016912460327148438 s, score: 0.9700764933596301\n",
      "Probando: {'C': 0.5, 'epsilon': 0.1, 'kernel': 'rbf'}, 1 de 48\n",
      "Tiempo de entrenamiento: 0.02508711814880371 s, score: 0.9316351230886605\n",
      "Probando: {'C': 0.5, 'epsilon': 0.01, 'kernel': 'linear'}, 2 de 48\n",
      "Tiempo de entrenamiento: 0.06641364097595215 s, score: 0.9982489255140156\n",
      "Probando: {'C': 0.5, 'epsilon': 0.01, 'kernel': 'rbf'}, 3 de 48\n",
      "Tiempo de entrenamiento: 0.0818934440612793 s, score: 0.9908111941399679\n",
      "Probando: {'C': 0.5, 'epsilon': 0.001, 'kernel': 'linear'}, 4 de 48\n",
      "Tiempo de entrenamiento: 0.42497754096984863 s, score: 0.9985108055305931\n",
      "Probando: {'C': 0.5, 'epsilon': 0.001, 'kernel': 'rbf'}, 5 de 48\n",
      "Tiempo de entrenamiento: 0.14175820350646973 s, score: 0.9938003730019094\n",
      "Probando: {'C': 1, 'epsilon': 0.1, 'kernel': 'linear'}, 6 de 48\n",
      "Tiempo de entrenamiento: 0.029015302658081055 s, score: 0.9710731677911799\n",
      "Probando: {'C': 1, 'epsilon': 0.1, 'kernel': 'rbf'}, 7 de 48\n",
      "Tiempo de entrenamiento: 0.02602410316467285 s, score: 0.9317658312118587\n",
      "Probando: {'C': 1, 'epsilon': 0.01, 'kernel': 'linear'}, 8 de 48\n",
      "Tiempo de entrenamiento: 0.07920002937316895 s, score: 0.9982813894017399\n",
      "Probando: {'C': 1, 'epsilon': 0.01, 'kernel': 'rbf'}, 9 de 48\n",
      "Tiempo de entrenamiento: 0.0464322566986084 s, score: 0.9906832134373763\n",
      "Probando: {'C': 1, 'epsilon': 0.001, 'kernel': 'linear'}, 10 de 48\n",
      "Tiempo de entrenamiento: 0.5425124168395996 s, score: 0.9985110889770965\n",
      "Probando: {'C': 1, 'epsilon': 0.001, 'kernel': 'rbf'}, 11 de 48\n",
      "Tiempo de entrenamiento: 0.1656174659729004 s, score: 0.9946682973973994\n",
      "Probando: {'C': 5, 'epsilon': 0.1, 'kernel': 'linear'}, 12 de 48\n",
      "Tiempo de entrenamiento: 0.03849601745605469 s, score: 0.973026923510658\n",
      "Probando: {'C': 5, 'epsilon': 0.1, 'kernel': 'rbf'}, 13 de 48\n",
      "Tiempo de entrenamiento: 0.015407085418701172 s, score: 0.93223837447648\n",
      "Probando: {'C': 5, 'epsilon': 0.01, 'kernel': 'linear'}, 14 de 48\n",
      "Tiempo de entrenamiento: 0.18060708045959473 s, score: 0.9983355550342123\n",
      "Probando: {'C': 5, 'epsilon': 0.01, 'kernel': 'rbf'}, 15 de 48\n",
      "Tiempo de entrenamiento: 0.08307147026062012 s, score: 0.989376222790625\n",
      "Probando: {'C': 5, 'epsilon': 0.001, 'kernel': 'linear'}, 16 de 48\n",
      "Tiempo de entrenamiento: 1.819549322128296 s, score: 0.9985115756810162\n",
      "Probando: {'C': 5, 'epsilon': 0.001, 'kernel': 'rbf'}, 17 de 48\n",
      "Tiempo de entrenamiento: 0.27452969551086426 s, score: 0.9951669843753793\n",
      "Probando: {'C': 10, 'epsilon': 0.1, 'kernel': 'linear'}, 18 de 48\n",
      "Tiempo de entrenamiento: 0.0442352294921875 s, score: 0.9740252286062139\n",
      "Probando: {'C': 10, 'epsilon': 0.1, 'kernel': 'rbf'}, 19 de 48\n",
      "Tiempo de entrenamiento: 0.018026113510131836 s, score: 0.9321829931350221\n",
      "Probando: {'C': 10, 'epsilon': 0.01, 'kernel': 'linear'}, 20 de 48\n",
      "Tiempo de entrenamiento: 0.3067479133605957 s, score: 0.9983073161865841\n",
      "Probando: {'C': 10, 'epsilon': 0.01, 'kernel': 'rbf'}, 21 de 48\n",
      "Tiempo de entrenamiento: 0.09508538246154785 s, score: 0.9884015227161898\n",
      "Probando: {'C': 10, 'epsilon': 0.001, 'kernel': 'linear'}, 22 de 48\n",
      "Tiempo de entrenamiento: 3.3619465827941895 s, score: 0.9985100147361186\n",
      "Probando: {'C': 10, 'epsilon': 0.001, 'kernel': 'rbf'}, 23 de 48\n",
      "Tiempo de entrenamiento: 0.43383097648620605 s, score: 0.9949036384112876\n",
      "Probando: {'C': 50, 'epsilon': 0.1, 'kernel': 'linear'}, 24 de 48\n",
      "Tiempo de entrenamiento: 0.12980103492736816 s, score: 0.9676982446487329\n",
      "Probando: {'C': 50, 'epsilon': 0.1, 'kernel': 'rbf'}, 25 de 48\n",
      "Tiempo de entrenamiento: 0.012644052505493164 s, score: 0.9339225530170048\n",
      "Probando: {'C': 50, 'epsilon': 0.01, 'kernel': 'linear'}, 26 de 48\n",
      "Tiempo de entrenamiento: 0.90956711769104 s, score: 0.9983031069489725\n",
      "Probando: {'C': 50, 'epsilon': 0.01, 'kernel': 'rbf'}, 27 de 48\n",
      "Tiempo de entrenamiento: 0.11051583290100098 s, score: 0.9862698172582651\n",
      "Probando: {'C': 50, 'epsilon': 0.001, 'kernel': 'linear'}, 28 de 48\n",
      "Tiempo de entrenamiento: 12.973068952560425 s, score: 0.998509560780351\n",
      "Probando: {'C': 50, 'epsilon': 0.001, 'kernel': 'rbf'}, 29 de 48\n",
      "Tiempo de entrenamiento: 1.0348727703094482 s, score: 0.9940593022975616\n",
      "Probando: {'C': 100, 'epsilon': 0.1, 'kernel': 'linear'}, 30 de 48\n",
      "Tiempo de entrenamiento: 0.15016579627990723 s, score: 0.9680298727995048\n",
      "Probando: {'C': 100, 'epsilon': 0.1, 'kernel': 'rbf'}, 31 de 48\n",
      "Tiempo de entrenamiento: 0.017985105514526367 s, score: 0.937169100776278\n",
      "Probando: {'C': 100, 'epsilon': 0.01, 'kernel': 'linear'}, 32 de 48\n",
      "Tiempo de entrenamiento: 1.6913809776306152 s, score: 0.998315399348048\n",
      "Probando: {'C': 100, 'epsilon': 0.01, 'kernel': 'rbf'}, 33 de 48\n",
      "Tiempo de entrenamiento: 0.1388719081878662 s, score: 0.9860293055552162\n",
      "Probando: {'C': 100, 'epsilon': 0.001, 'kernel': 'linear'}, 34 de 48\n",
      "Tiempo de entrenamiento: 23.186808347702026 s, score: 0.9985123423564201\n",
      "Probando: {'C': 100, 'epsilon': 0.001, 'kernel': 'rbf'}, 35 de 48\n",
      "Tiempo de entrenamiento: 1.3983230590820312 s, score: 0.9942580710307007\n",
      "Probando: {'C': 500, 'epsilon': 0.1, 'kernel': 'linear'}, 36 de 48\n",
      "Tiempo de entrenamiento: 0.5065622329711914 s, score: 0.969484519363784\n",
      "Probando: {'C': 500, 'epsilon': 0.1, 'kernel': 'rbf'}, 37 de 48\n",
      "Tiempo de entrenamiento: 0.01680278778076172 s, score: 0.9235052632739059\n",
      "Probando: {'C': 500, 'epsilon': 0.01, 'kernel': 'linear'}, 38 de 48\n",
      "Tiempo de entrenamiento: 6.227900266647339 s, score: 0.9982818642671444\n",
      "Probando: {'C': 500, 'epsilon': 0.01, 'kernel': 'rbf'}, 39 de 48\n",
      "Tiempo de entrenamiento: 0.2325448989868164 s, score: 0.9798344797492169\n",
      "Probando: {'C': 500, 'epsilon': 0.001, 'kernel': 'linear'}, 40 de 48\n",
      "Tiempo de entrenamiento: 97.96912121772766 s, score: 0.9985025264669887\n",
      "Probando: {'C': 500, 'epsilon': 0.001, 'kernel': 'rbf'}, 41 de 48\n",
      "Tiempo de entrenamiento: 3.165823459625244 s, score: 0.9918804967486733\n",
      "Probando: {'C': 1000, 'epsilon': 0.1, 'kernel': 'linear'}, 42 de 48\n",
      "Tiempo de entrenamiento: 0.9252068996429443 s, score: 0.9629707567027779\n",
      "Probando: {'C': 1000, 'epsilon': 0.1, 'kernel': 'rbf'}, 43 de 48\n",
      "Tiempo de entrenamiento: 0.06815195083618164 s, score: 0.90292451683107\n",
      "Probando: {'C': 1000, 'epsilon': 0.01, 'kernel': 'linear'}, 44 de 48\n",
      "Tiempo de entrenamiento: 11.012642860412598 s, score: 0.9982238573432445\n",
      "Probando: {'C': 1000, 'epsilon': 0.01, 'kernel': 'rbf'}, 45 de 48\n",
      "Tiempo de entrenamiento: 0.3805816173553467 s, score: 0.9639841339520138\n",
      "Probando: {'C': 1000, 'epsilon': 0.001, 'kernel': 'linear'}, 46 de 48\n",
      "Tiempo de entrenamiento: 367.65526819229126 s, score: 0.998490639483819\n",
      "Probando: {'C': 1000, 'epsilon': 0.001, 'kernel': 'rbf'}, 47 de 48\n",
      "Tiempo de entrenamiento: 5.438914060592651 s, score: 0.9875679726563766\n",
      "Best Score: 0.9985123423564201\n",
      "Best Parameters: {'C': 100, 'epsilon': 0.001, 'kernel': 'linear'}\n"
     ]
    }
   ],
   "source": [
    "g = GridSearch(svm.SVR(), X_train, X_test, Y2_train, Y2_test, parameters, verbose=True)\n",
    "clf2 = svm.SVR(**g).fit(X_train, np.ravel(Y2_train))"
   ]
  },
  {
   "cell_type": "code",
   "execution_count": 9,
   "metadata": {
    "scrolled": true
   },
   "outputs": [
    {
     "name": "stdout",
     "output_type": "stream",
     "text": [
      "Probando: {'C': 0.5, 'epsilon': 0.1, 'kernel': 'linear'}, 0 de 48\n",
      "Tiempo de entrenamiento: 0.02328181266784668 s, score: 0.9225206172500324\n",
      "Probando: {'C': 0.5, 'epsilon': 0.1, 'kernel': 'rbf'}, 1 de 48\n",
      "Tiempo de entrenamiento: 0.01914238929748535 s, score: 0.8532225332161671\n",
      "Probando: {'C': 0.5, 'epsilon': 0.01, 'kernel': 'linear'}, 2 de 48\n",
      "Tiempo de entrenamiento: 0.10317540168762207 s, score: 0.9983871845307989\n",
      "Probando: {'C': 0.5, 'epsilon': 0.01, 'kernel': 'rbf'}, 3 de 48\n",
      "Tiempo de entrenamiento: 0.037364959716796875 s, score: 0.9852011490673122\n",
      "Probando: {'C': 0.5, 'epsilon': 0.001, 'kernel': 'linear'}, 4 de 48\n",
      "Tiempo de entrenamiento: 0.6354660987854004 s, score: 0.9990942999568193\n",
      "Probando: {'C': 0.5, 'epsilon': 0.001, 'kernel': 'rbf'}, 5 de 48\n",
      "Tiempo de entrenamiento: 0.15861868858337402 s, score: 0.9885762290522726\n",
      "Probando: {'C': 1, 'epsilon': 0.1, 'kernel': 'linear'}, 6 de 48\n",
      "Tiempo de entrenamiento: 0.015527725219726562 s, score: 0.9240462197225907\n",
      "Probando: {'C': 1, 'epsilon': 0.1, 'kernel': 'rbf'}, 7 de 48\n",
      "Tiempo de entrenamiento: 0.010469436645507812 s, score: 0.8526309606981446\n",
      "Probando: {'C': 1, 'epsilon': 0.01, 'kernel': 'linear'}, 8 de 48\n",
      "Tiempo de entrenamiento: 0.0923471450805664 s, score: 0.9982219625212528\n",
      "Probando: {'C': 1, 'epsilon': 0.01, 'kernel': 'rbf'}, 9 de 48\n",
      "Tiempo de entrenamiento: 0.0498805046081543 s, score: 0.9880712041806488\n",
      "Probando: {'C': 1, 'epsilon': 0.001, 'kernel': 'linear'}, 10 de 48\n",
      "Tiempo de entrenamiento: 1.1075220108032227 s, score: 0.9990646057704112\n",
      "Probando: {'C': 1, 'epsilon': 0.001, 'kernel': 'rbf'}, 11 de 48\n",
      "Tiempo de entrenamiento: 0.17690467834472656 s, score: 0.9898953934172791\n",
      "Probando: {'C': 5, 'epsilon': 0.1, 'kernel': 'linear'}, 12 de 48\n",
      "Tiempo de entrenamiento: 0.04590749740600586 s, score: 0.919016905457664\n",
      "Probando: {'C': 5, 'epsilon': 0.1, 'kernel': 'rbf'}, 13 de 48\n",
      "Tiempo de entrenamiento: 0.009634733200073242 s, score: 0.8552530354211241\n",
      "Probando: {'C': 5, 'epsilon': 0.01, 'kernel': 'linear'}, 14 de 48\n",
      "Tiempo de entrenamiento: 0.26413917541503906 s, score: 0.9979884601692273\n",
      "Probando: {'C': 5, 'epsilon': 0.01, 'kernel': 'rbf'}, 15 de 48\n",
      "Tiempo de entrenamiento: 0.06459331512451172 s, score: 0.9882367659544236\n",
      "Probando: {'C': 5, 'epsilon': 0.001, 'kernel': 'linear'}, 16 de 48\n",
      "Tiempo de entrenamiento: 3.5878827571868896 s, score: 0.999061250891808\n",
      "Probando: {'C': 5, 'epsilon': 0.001, 'kernel': 'rbf'}, 17 de 48\n",
      "Tiempo de entrenamiento: 0.3123340606689453 s, score: 0.9932015448008505\n",
      "Probando: {'C': 10, 'epsilon': 0.1, 'kernel': 'linear'}, 18 de 48\n",
      "Tiempo de entrenamiento: 0.039235830307006836 s, score: 0.9183428985748091\n",
      "Probando: {'C': 10, 'epsilon': 0.1, 'kernel': 'rbf'}, 19 de 48\n",
      "Tiempo de entrenamiento: 0.018863916397094727 s, score: 0.8597655194172792\n",
      "Probando: {'C': 10, 'epsilon': 0.01, 'kernel': 'linear'}, 20 de 48\n",
      "Tiempo de entrenamiento: 0.5099408626556396 s, score: 0.9980017393230728\n",
      "Probando: {'C': 10, 'epsilon': 0.01, 'kernel': 'rbf'}, 21 de 48\n",
      "Tiempo de entrenamiento: 0.08504724502563477 s, score: 0.9883193675294017\n",
      "Probando: {'C': 10, 'epsilon': 0.001, 'kernel': 'linear'}, 22 de 48\n",
      "Tiempo de entrenamiento: 6.8426148891448975 s, score: 0.9990622396553753\n",
      "Probando: {'C': 10, 'epsilon': 0.001, 'kernel': 'rbf'}, 23 de 48\n",
      "Tiempo de entrenamiento: 0.42026233673095703 s, score: 0.9946330929878566\n",
      "Probando: {'C': 50, 'epsilon': 0.1, 'kernel': 'linear'}, 24 de 48\n",
      "Tiempo de entrenamiento: 0.07424330711364746 s, score: 0.9179111587714469\n",
      "Probando: {'C': 50, 'epsilon': 0.1, 'kernel': 'rbf'}, 25 de 48\n",
      "Tiempo de entrenamiento: 0.01979541778564453 s, score: 0.883969907213633\n",
      "Probando: {'C': 50, 'epsilon': 0.01, 'kernel': 'linear'}, 26 de 48\n",
      "Tiempo de entrenamiento: 1.8240001201629639 s, score: 0.9979599201153818\n",
      "Probando: {'C': 50, 'epsilon': 0.01, 'kernel': 'rbf'}, 27 de 48\n",
      "Tiempo de entrenamiento: 0.12737536430358887 s, score: 0.9882547474521034\n",
      "Probando: {'C': 50, 'epsilon': 0.001, 'kernel': 'linear'}, 28 de 48\n",
      "Tiempo de entrenamiento: 26.3299458026886 s, score: 0.9990564571933691\n",
      "Probando: {'C': 50, 'epsilon': 0.001, 'kernel': 'rbf'}, 29 de 48\n",
      "Tiempo de entrenamiento: 1.2134687900543213 s, score: 0.995344437379177\n",
      "Probando: {'C': 100, 'epsilon': 0.1, 'kernel': 'linear'}, 30 de 48\n",
      "Tiempo de entrenamiento: 0.07587242126464844 s, score: 0.9103687800714656\n",
      "Probando: {'C': 100, 'epsilon': 0.1, 'kernel': 'rbf'}, 31 de 48\n",
      "Tiempo de entrenamiento: 0.011371135711669922 s, score: 0.890611482688289\n",
      "Probando: {'C': 100, 'epsilon': 0.01, 'kernel': 'linear'}, 32 de 48\n",
      "Tiempo de entrenamiento: 3.095893621444702 s, score: 0.9979605051362871\n",
      "Probando: {'C': 100, 'epsilon': 0.01, 'kernel': 'rbf'}, 33 de 48\n",
      "Tiempo de entrenamiento: 0.1318676471710205 s, score: 0.9887298290235002\n",
      "Probando: {'C': 100, 'epsilon': 0.001, 'kernel': 'linear'}, 34 de 48\n",
      "Tiempo de entrenamiento: 55.82115292549133 s, score: 0.9990661617969708\n",
      "Probando: {'C': 100, 'epsilon': 0.001, 'kernel': 'rbf'}, 35 de 48\n",
      "Tiempo de entrenamiento: 1.9316096305847168 s, score: 0.9935841143364322\n",
      "Probando: {'C': 500, 'epsilon': 0.1, 'kernel': 'linear'}, 36 de 48\n",
      "Tiempo de entrenamiento: 0.26987743377685547 s, score: 0.8966178945879648\n",
      "Probando: {'C': 500, 'epsilon': 0.1, 'kernel': 'rbf'}, 37 de 48\n",
      "Tiempo de entrenamiento: 0.010731697082519531 s, score: 0.8315160406063673\n",
      "Probando: {'C': 500, 'epsilon': 0.01, 'kernel': 'linear'}, 38 de 48\n",
      "Tiempo de entrenamiento: 14.242526531219482 s, score: 0.9980130118791775\n",
      "Probando: {'C': 500, 'epsilon': 0.01, 'kernel': 'rbf'}, 39 de 48\n",
      "Tiempo de entrenamiento: 0.26633334159851074 s, score: 0.9357659206514746\n",
      "Probando: {'C': 500, 'epsilon': 0.001, 'kernel': 'linear'}, 40 de 48\n",
      "Tiempo de entrenamiento: 203.65934896469116 s, score: 0.9990905140066365\n",
      "Probando: {'C': 500, 'epsilon': 0.001, 'kernel': 'rbf'}, 41 de 48\n",
      "Tiempo de entrenamiento: 4.827579498291016 s, score: 0.9519661853352643\n",
      "Probando: {'C': 1000, 'epsilon': 0.1, 'kernel': 'linear'}, 42 de 48\n",
      "Tiempo de entrenamiento: 0.35495996475219727 s, score: 0.8809477823857754\n",
      "Probando: {'C': 1000, 'epsilon': 0.1, 'kernel': 'rbf'}, 43 de 48\n",
      "Tiempo de entrenamiento: 0.02987504005432129 s, score: 0.6441838782633409\n",
      "Probando: {'C': 1000, 'epsilon': 0.01, 'kernel': 'linear'}, 44 de 48\n",
      "Tiempo de entrenamiento: 23.665242433547974 s, score: 0.9981056449145951\n",
      "Probando: {'C': 1000, 'epsilon': 0.01, 'kernel': 'rbf'}, 45 de 48\n",
      "Tiempo de entrenamiento: 0.3484952449798584 s, score: 0.7112245863152864\n",
      "Probando: {'C': 1000, 'epsilon': 0.001, 'kernel': 'linear'}, 46 de 48\n",
      "Tiempo de entrenamiento: 321.58520245552063 s, score: 0.9990951012269252\n",
      "Probando: {'C': 1000, 'epsilon': 0.001, 'kernel': 'rbf'}, 47 de 48\n",
      "Tiempo de entrenamiento: 7.323317527770996 s, score: 0.8187579834768788\n",
      "Best Score: 0.9990951012269252\n",
      "Best Parameters: {'C': 1000, 'epsilon': 0.001, 'kernel': 'linear'}\n"
     ]
    }
   ],
   "source": [
    "g = GridSearch(svm.SVR(), X_train, X_test, Y3_train, Y3_test, parameters, verbose=True)\n",
    "clf3 = svm.SVR(**g).fit(X_train, np.ravel(Y3_train))"
   ]
  },
  {
   "cell_type": "code",
   "execution_count": 10,
   "metadata": {
    "scrolled": true
   },
   "outputs": [
    {
     "name": "stdout",
     "output_type": "stream",
     "text": [
      "Probando: {'C': 0.5, 'epsilon': 0.1, 'kernel': 'linear'}, 0 de 48\n",
      "Tiempo de entrenamiento: 0.016637802124023438 s, score: 0.9487322595942004\n",
      "Probando: {'C': 0.5, 'epsilon': 0.1, 'kernel': 'rbf'}, 1 de 48\n",
      "Tiempo de entrenamiento: 0.007760524749755859 s, score: 0.787051454931111\n",
      "Probando: {'C': 0.5, 'epsilon': 0.01, 'kernel': 'linear'}, 2 de 48\n",
      "Tiempo de entrenamiento: 0.07236003875732422 s, score: 0.9973152177990149\n",
      "Probando: {'C': 0.5, 'epsilon': 0.01, 'kernel': 'rbf'}, 3 de 48\n",
      "Tiempo de entrenamiento: 0.04021406173706055 s, score: 0.985494796765529\n",
      "Probando: {'C': 0.5, 'epsilon': 0.001, 'kernel': 'linear'}, 4 de 48\n",
      "Tiempo de entrenamiento: 0.5508365631103516 s, score: 0.9988237228155552\n",
      "Probando: {'C': 0.5, 'epsilon': 0.001, 'kernel': 'rbf'}, 5 de 48\n",
      "Tiempo de entrenamiento: 0.1658775806427002 s, score: 0.9898366285789434\n",
      "Probando: {'C': 1, 'epsilon': 0.1, 'kernel': 'linear'}, 6 de 48\n",
      "Tiempo de entrenamiento: 0.013483524322509766 s, score: 0.9487392465551634\n",
      "Probando: {'C': 1, 'epsilon': 0.1, 'kernel': 'rbf'}, 7 de 48\n",
      "Tiempo de entrenamiento: 0.018488168716430664 s, score: 0.7870111095540073\n",
      "Probando: {'C': 1, 'epsilon': 0.01, 'kernel': 'linear'}, 8 de 48\n",
      "Tiempo de entrenamiento: 0.10779809951782227 s, score: 0.9974410255382817\n",
      "Probando: {'C': 1, 'epsilon': 0.01, 'kernel': 'rbf'}, 9 de 48\n",
      "Tiempo de entrenamiento: 0.03775835037231445 s, score: 0.9856148940272625\n",
      "Probando: {'C': 1, 'epsilon': 0.001, 'kernel': 'linear'}, 10 de 48\n",
      "Tiempo de entrenamiento: 0.9031181335449219 s, score: 0.9988567680479638\n",
      "Probando: {'C': 1, 'epsilon': 0.001, 'kernel': 'rbf'}, 11 de 48\n",
      "Tiempo de entrenamiento: 0.23772311210632324 s, score: 0.9907194092684417\n",
      "Probando: {'C': 5, 'epsilon': 0.1, 'kernel': 'linear'}, 12 de 48\n",
      "Tiempo de entrenamiento: 0.01001286506652832 s, score: 0.9429441067732602\n",
      "Probando: {'C': 5, 'epsilon': 0.1, 'kernel': 'rbf'}, 13 de 48\n",
      "Tiempo de entrenamiento: 0.017285823822021484 s, score: 0.7883172260341181\n",
      "Probando: {'C': 5, 'epsilon': 0.01, 'kernel': 'linear'}, 14 de 48\n",
      "Tiempo de entrenamiento: 0.21680426597595215 s, score: 0.9976970802613976\n",
      "Probando: {'C': 5, 'epsilon': 0.01, 'kernel': 'rbf'}, 15 de 48\n",
      "Tiempo de entrenamiento: 0.0554804801940918 s, score: 0.9868420724956459\n",
      "Probando: {'C': 5, 'epsilon': 0.001, 'kernel': 'linear'}, 16 de 48\n",
      "Tiempo de entrenamiento: 3.6398088932037354 s, score: 0.9988634677114668\n",
      "Probando: {'C': 5, 'epsilon': 0.001, 'kernel': 'rbf'}, 17 de 48\n",
      "Tiempo de entrenamiento: 0.3385956287384033 s, score: 0.9892429662520923\n",
      "Probando: {'C': 10, 'epsilon': 0.1, 'kernel': 'linear'}, 18 de 48\n",
      "Tiempo de entrenamiento: 0.011984825134277344 s, score: 0.9359392179294451\n",
      "Probando: {'C': 10, 'epsilon': 0.1, 'kernel': 'rbf'}, 19 de 48\n",
      "Tiempo de entrenamiento: 0.012348651885986328 s, score: 0.7903176735007563\n",
      "Probando: {'C': 10, 'epsilon': 0.01, 'kernel': 'linear'}, 20 de 48\n",
      "Tiempo de entrenamiento: 0.41824984550476074 s, score: 0.9978235804113463\n",
      "Probando: {'C': 10, 'epsilon': 0.01, 'kernel': 'rbf'}, 21 de 48\n",
      "Tiempo de entrenamiento: 0.07431793212890625 s, score: 0.9867440133986695\n",
      "Probando: {'C': 10, 'epsilon': 0.001, 'kernel': 'linear'}, 22 de 48\n",
      "Tiempo de entrenamiento: 6.314260482788086 s, score: 0.9988324869862595\n",
      "Probando: {'C': 10, 'epsilon': 0.001, 'kernel': 'rbf'}, 23 de 48\n",
      "Tiempo de entrenamiento: 0.44790005683898926 s, score: 0.9885188264513325\n",
      "Probando: {'C': 50, 'epsilon': 0.1, 'kernel': 'linear'}, 24 de 48\n",
      "Tiempo de entrenamiento: 0.01998114585876465 s, score: 0.8753428547371308\n",
      "Probando: {'C': 50, 'epsilon': 0.1, 'kernel': 'rbf'}, 25 de 48\n",
      "Tiempo de entrenamiento: 0.01682734489440918 s, score: 0.8012319782291228\n",
      "Probando: {'C': 50, 'epsilon': 0.01, 'kernel': 'linear'}, 26 de 48\n",
      "Tiempo de entrenamiento: 1.3093173503875732 s, score: 0.9977513645013546\n",
      "Probando: {'C': 50, 'epsilon': 0.01, 'kernel': 'rbf'}, 27 de 48\n",
      "Tiempo de entrenamiento: 0.11459803581237793 s, score: 0.9888625529751351\n",
      "Probando: {'C': 50, 'epsilon': 0.001, 'kernel': 'linear'}, 28 de 48\n",
      "Tiempo de entrenamiento: 24.42353105545044 s, score: 0.9988589442209153\n",
      "Probando: {'C': 50, 'epsilon': 0.001, 'kernel': 'rbf'}, 29 de 48\n",
      "Tiempo de entrenamiento: 1.157127857208252 s, score: 0.9916656211691546\n",
      "Probando: {'C': 100, 'epsilon': 0.1, 'kernel': 'linear'}, 30 de 48\n",
      "Tiempo de entrenamiento: 0.031652212142944336 s, score: 0.8766514809991034\n",
      "Probando: {'C': 100, 'epsilon': 0.1, 'kernel': 'rbf'}, 31 de 48\n",
      "Tiempo de entrenamiento: 0.017771244049072266 s, score: 0.8097013240040818\n",
      "Probando: {'C': 100, 'epsilon': 0.01, 'kernel': 'linear'}, 32 de 48\n",
      "Tiempo de entrenamiento: 1.8870878219604492 s, score: 0.9977881023670225\n",
      "Probando: {'C': 100, 'epsilon': 0.01, 'kernel': 'rbf'}, 33 de 48\n",
      "Tiempo de entrenamiento: 0.16879582405090332 s, score: 0.9868238222761077\n",
      "Probando: {'C': 100, 'epsilon': 0.001, 'kernel': 'linear'}, 34 de 48\n",
      "Tiempo de entrenamiento: 44.18711471557617 s, score: 0.9988554801262972\n",
      "Probando: {'C': 100, 'epsilon': 0.001, 'kernel': 'rbf'}, 35 de 48\n",
      "Tiempo de entrenamiento: 1.8567800521850586 s, score: 0.9942018452116882\n",
      "Probando: {'C': 500, 'epsilon': 0.1, 'kernel': 'linear'}, 36 de 48\n",
      "Tiempo de entrenamiento: 0.06921696662902832 s, score: 0.861503912141802\n",
      "Probando: {'C': 500, 'epsilon': 0.1, 'kernel': 'rbf'}, 37 de 48\n",
      "Tiempo de entrenamiento: 0.021431922912597656 s, score: 0.760579838089524\n",
      "Probando: {'C': 500, 'epsilon': 0.01, 'kernel': 'linear'}, 38 de 48\n",
      "Tiempo de entrenamiento: 6.483998537063599 s, score: 0.9978472806972873\n",
      "Probando: {'C': 500, 'epsilon': 0.01, 'kernel': 'rbf'}, 39 de 48\n",
      "Tiempo de entrenamiento: 0.32708024978637695 s, score: 0.9305587344030023\n",
      "Probando: {'C': 500, 'epsilon': 0.001, 'kernel': 'linear'}, 40 de 48\n",
      "Tiempo de entrenamiento: 200.5742962360382 s, score: 0.9988981964657343\n",
      "Probando: {'C': 500, 'epsilon': 0.001, 'kernel': 'rbf'}, 41 de 48\n",
      "Tiempo de entrenamiento: 4.243602514266968 s, score: 0.9592801693212888\n",
      "Probando: {'C': 1000, 'epsilon': 0.1, 'kernel': 'linear'}, 42 de 48\n",
      "Tiempo de entrenamiento: 0.06642818450927734 s, score: 0.8508189347847595\n",
      "Probando: {'C': 1000, 'epsilon': 0.1, 'kernel': 'rbf'}, 43 de 48\n",
      "Tiempo de entrenamiento: 0.03295302391052246 s, score: 0.5329417562681458\n",
      "Probando: {'C': 1000, 'epsilon': 0.01, 'kernel': 'linear'}, 44 de 48\n",
      "Tiempo de entrenamiento: 12.232290267944336 s, score: 0.9978047326549463\n",
      "Probando: {'C': 1000, 'epsilon': 0.01, 'kernel': 'rbf'}, 45 de 48\n",
      "Tiempo de entrenamiento: 0.3775947093963623 s, score: 0.7432278222321267\n",
      "Best Score: 0.9988981964657343\n",
      "Best Parameters: {'C': 500, 'epsilon': 0.001, 'kernel': 'linear'}\n"
     ]
    }
   ],
   "source": [
    "g = GridSearch(svm.SVR(), X_train, X_test, Y4_train, Y4_test, parameters, verbose=True, skip=True) #Saltar siempre el 46 (tarda demasiado)\n",
    "clf4 = svm.SVR(**g).fit(X_train, np.ravel(Y4_train))"
   ]
  },
  {
   "cell_type": "code",
   "execution_count": 11,
   "metadata": {
    "scrolled": true
   },
   "outputs": [
    {
     "name": "stdout",
     "output_type": "stream",
     "text": [
      "Probando: {'C': 0.5, 'epsilon': 0.1, 'kernel': 'linear'}, 0 de 48\n",
      "Tiempo de entrenamiento: 0.037137746810913086 s, score: 0.8961978783685629\n",
      "Probando: {'C': 0.5, 'epsilon': 0.1, 'kernel': 'rbf'}, 1 de 48\n",
      "Tiempo de entrenamiento: 0.026908159255981445 s, score: 0.8053984319041965\n",
      "Probando: {'C': 0.5, 'epsilon': 0.01, 'kernel': 'linear'}, 2 de 48\n",
      "Tiempo de entrenamiento: 0.09947562217712402 s, score: 0.9969461257190753\n",
      "Probando: {'C': 0.5, 'epsilon': 0.01, 'kernel': 'rbf'}, 3 de 48\n",
      "Tiempo de entrenamiento: 0.050469160079956055 s, score: 0.9818131070741056\n",
      "Probando: {'C': 0.5, 'epsilon': 0.001, 'kernel': 'linear'}, 4 de 48\n",
      "Tiempo de entrenamiento: 0.5599319934844971 s, score: 0.9985659431040594\n",
      "Probando: {'C': 0.5, 'epsilon': 0.001, 'kernel': 'rbf'}, 5 de 48\n",
      "Tiempo de entrenamiento: 0.12482380867004395 s, score: 0.9845675077300892\n",
      "Probando: {'C': 1, 'epsilon': 0.1, 'kernel': 'linear'}, 6 de 48\n",
      "Tiempo de entrenamiento: 0.024585247039794922 s, score: 0.9131809280609912\n",
      "Probando: {'C': 1, 'epsilon': 0.1, 'kernel': 'rbf'}, 7 de 48\n",
      "Tiempo de entrenamiento: 0.013581991195678711 s, score: 0.8020354472257315\n",
      "Probando: {'C': 1, 'epsilon': 0.01, 'kernel': 'linear'}, 8 de 48\n",
      "Tiempo de entrenamiento: 0.16927337646484375 s, score: 0.9971888887055186\n",
      "Probando: {'C': 1, 'epsilon': 0.01, 'kernel': 'rbf'}, 9 de 48\n",
      "Tiempo de entrenamiento: 0.04992985725402832 s, score: 0.9857763773534534\n",
      "Probando: {'C': 1, 'epsilon': 0.001, 'kernel': 'linear'}, 10 de 48\n",
      "Tiempo de entrenamiento: 1.006713628768921 s, score: 0.9985705833687496\n",
      "Probando: {'C': 1, 'epsilon': 0.001, 'kernel': 'rbf'}, 11 de 48\n",
      "Tiempo de entrenamiento: 0.16406774520874023 s, score: 0.98948480498227\n",
      "Probando: {'C': 5, 'epsilon': 0.1, 'kernel': 'linear'}, 12 de 48\n",
      "Tiempo de entrenamiento: 0.04922747611999512 s, score: 0.9292650726761857\n",
      "Probando: {'C': 5, 'epsilon': 0.1, 'kernel': 'rbf'}, 13 de 48\n",
      "Tiempo de entrenamiento: 0.02297210693359375 s, score: 0.8368697260602491\n",
      "Probando: {'C': 5, 'epsilon': 0.01, 'kernel': 'linear'}, 14 de 48\n",
      "Tiempo de entrenamiento: 0.44886112213134766 s, score: 0.9972146823588172\n",
      "Probando: {'C': 5, 'epsilon': 0.01, 'kernel': 'rbf'}, 15 de 48\n",
      "Tiempo de entrenamiento: 0.08018875122070312 s, score: 0.9932968233566527\n",
      "Probando: {'C': 5, 'epsilon': 0.001, 'kernel': 'linear'}, 16 de 48\n",
      "Tiempo de entrenamiento: 3.828017234802246 s, score: 0.9985399681983678\n",
      "Probando: {'C': 5, 'epsilon': 0.001, 'kernel': 'rbf'}, 17 de 48\n",
      "Tiempo de entrenamiento: 0.31759190559387207 s, score: 0.9960916796576337\n",
      "Probando: {'C': 10, 'epsilon': 0.1, 'kernel': 'linear'}, 18 de 48\n",
      "Tiempo de entrenamiento: 0.05030345916748047 s, score: 0.922151221646174\n",
      "Probando: {'C': 10, 'epsilon': 0.1, 'kernel': 'rbf'}, 19 de 48\n",
      "Tiempo de entrenamiento: 0.013153553009033203 s, score: 0.8591865165750946\n",
      "Probando: {'C': 10, 'epsilon': 0.01, 'kernel': 'linear'}, 20 de 48\n",
      "Tiempo de entrenamiento: 0.6161532402038574 s, score: 0.9972332658910356\n",
      "Probando: {'C': 10, 'epsilon': 0.01, 'kernel': 'rbf'}, 21 de 48\n",
      "Tiempo de entrenamiento: 0.09870719909667969 s, score: 0.9925423812541968\n",
      "Probando: {'C': 10, 'epsilon': 0.001, 'kernel': 'linear'}, 22 de 48\n",
      "Tiempo de entrenamiento: 6.4516282081604 s, score: 0.9985248293802352\n",
      "Probando: {'C': 10, 'epsilon': 0.001, 'kernel': 'rbf'}, 23 de 48\n",
      "Tiempo de entrenamiento: 0.48359155654907227 s, score: 0.9968875235153164\n",
      "Probando: {'C': 50, 'epsilon': 0.1, 'kernel': 'linear'}, 24 de 48\n",
      "Tiempo de entrenamiento: 0.1060938835144043 s, score: 0.9214082832923574\n",
      "Probando: {'C': 50, 'epsilon': 0.1, 'kernel': 'rbf'}, 25 de 48\n",
      "Tiempo de entrenamiento: 0.02240443229675293 s, score: 0.8351140202233016\n",
      "Probando: {'C': 50, 'epsilon': 0.01, 'kernel': 'linear'}, 26 de 48\n",
      "Tiempo de entrenamiento: 2.07757306098938 s, score: 0.9970062931352259\n",
      "Probando: {'C': 50, 'epsilon': 0.01, 'kernel': 'rbf'}, 27 de 48\n",
      "Tiempo de entrenamiento: 0.2570037841796875 s, score: 0.9808855740490244\n",
      "Probando: {'C': 50, 'epsilon': 0.001, 'kernel': 'linear'}, 28 de 48\n",
      "Tiempo de entrenamiento: 23.5534188747406 s, score: 0.9985403399295116\n",
      "Probando: {'C': 50, 'epsilon': 0.001, 'kernel': 'rbf'}, 29 de 48\n",
      "Tiempo de entrenamiento: 1.2280733585357666 s, score: 0.990595417674589\n",
      "Probando: {'C': 100, 'epsilon': 0.1, 'kernel': 'linear'}, 30 de 48\n",
      "Tiempo de entrenamiento: 0.14524292945861816 s, score: 0.9217756745882318\n",
      "Probando: {'C': 100, 'epsilon': 0.1, 'kernel': 'rbf'}, 31 de 48\n",
      "Tiempo de entrenamiento: 0.019739151000976562 s, score: 0.795702897108238\n",
      "Probando: {'C': 100, 'epsilon': 0.01, 'kernel': 'linear'}, 32 de 48\n",
      "Tiempo de entrenamiento: 3.9781501293182373 s, score: 0.9970535992314815\n",
      "Probando: {'C': 100, 'epsilon': 0.01, 'kernel': 'rbf'}, 33 de 48\n",
      "Tiempo de entrenamiento: 0.2900857925415039 s, score: 0.9743212485738032\n",
      "Probando: {'C': 100, 'epsilon': 0.001, 'kernel': 'linear'}, 34 de 48\n",
      "Tiempo de entrenamiento: 45.032315254211426 s, score: 0.9985396264818315\n",
      "Probando: {'C': 100, 'epsilon': 0.001, 'kernel': 'rbf'}, 35 de 48\n",
      "Tiempo de entrenamiento: 1.9423229694366455 s, score: 0.9835308064566253\n",
      "Probando: {'C': 500, 'epsilon': 0.1, 'kernel': 'linear'}, 36 de 48\n",
      "Tiempo de entrenamiento: 0.6534953117370605 s, score: 0.9237275608461609\n",
      "Probando: {'C': 500, 'epsilon': 0.1, 'kernel': 'rbf'}, 37 de 48\n",
      "Tiempo de entrenamiento: 0.045418500900268555 s, score: 0.7183154468164574\n",
      "Probando: {'C': 500, 'epsilon': 0.01, 'kernel': 'linear'}, 38 de 48\n",
      "Tiempo de entrenamiento: 13.401718854904175 s, score: 0.9969523411609623\n",
      "Probando: {'C': 500, 'epsilon': 0.01, 'kernel': 'rbf'}, 39 de 48\n",
      "Tiempo de entrenamiento: 0.4721391201019287 s, score: 0.8954124031471866\n",
      "Probando: {'C': 500, 'epsilon': 0.001, 'kernel': 'linear'}, 40 de 48\n",
      "Tiempo de entrenamiento: 190.47506046295166 s, score: 0.9985377717387254\n",
      "Probando: {'C': 500, 'epsilon': 0.001, 'kernel': 'rbf'}, 41 de 48\n",
      "Tiempo de entrenamiento: 4.86165976524353 s, score: 0.9159200062936149\n",
      "Probando: {'C': 1000, 'epsilon': 0.1, 'kernel': 'linear'}, 42 de 48\n",
      "Tiempo de entrenamiento: 1.1731178760528564 s, score: 0.9245268216009797\n",
      "Probando: {'C': 1000, 'epsilon': 0.1, 'kernel': 'rbf'}, 43 de 48\n",
      "Tiempo de entrenamiento: 0.04657125473022461 s, score: 0.5409684079013448\n",
      "Probando: {'C': 1000, 'epsilon': 0.01, 'kernel': 'linear'}, 44 de 48\n",
      "Tiempo de entrenamiento: 28.91697645187378 s, score: 0.9969322543797703\n",
      "Probando: {'C': 1000, 'epsilon': 0.01, 'kernel': 'rbf'}, 45 de 48\n",
      "Tiempo de entrenamiento: 0.6763577461242676 s, score: 0.6729806976705522\n",
      "Probando: {'C': 1000, 'epsilon': 0.001, 'kernel': 'linear'}, 46 de 48\n",
      "Tiempo de entrenamiento: 331.0708613395691 s, score: 0.9984892361042428\n",
      "Probando: {'C': 1000, 'epsilon': 0.001, 'kernel': 'rbf'}, 47 de 48\n",
      "Tiempo de entrenamiento: 7.928128480911255 s, score: 0.7724941280973062\n",
      "Best Score: 0.9985705833687496\n",
      "Best Parameters: {'C': 1, 'epsilon': 0.001, 'kernel': 'linear'}\n"
     ]
    }
   ],
   "source": [
    "g = GridSearch(svm.SVR(), X_train, X_test, Y5_train, Y5_test, parameters, verbose=True)\n",
    "clf5 = svm.SVR(**g).fit(X_train, np.ravel(Y5_train))"
   ]
  },
  {
   "cell_type": "code",
   "execution_count": 12,
   "metadata": {
    "scrolled": true
   },
   "outputs": [
    {
     "name": "stdout",
     "output_type": "stream",
     "text": [
      "Probando: {'C': 0.5, 'epsilon': 0.1, 'kernel': 'linear'}, 0 de 48\n",
      "Tiempo de entrenamiento: 0.02519083023071289 s, score: 0.9546304757047237\n",
      "Probando: {'C': 0.5, 'epsilon': 0.1, 'kernel': 'rbf'}, 1 de 48\n",
      "Tiempo de entrenamiento: 0.022365331649780273 s, score: 0.8563605997509718\n",
      "Probando: {'C': 0.5, 'epsilon': 0.01, 'kernel': 'linear'}, 2 de 48\n",
      "Tiempo de entrenamiento: 0.07097625732421875 s, score: 0.9991918414513304\n",
      "Probando: {'C': 0.5, 'epsilon': 0.01, 'kernel': 'rbf'}, 3 de 48\n",
      "Tiempo de entrenamiento: 0.045622825622558594 s, score: 0.987549883795383\n",
      "Probando: {'C': 0.5, 'epsilon': 0.001, 'kernel': 'linear'}, 4 de 48\n",
      "Tiempo de entrenamiento: 0.348064661026001 s, score: 0.999675457711269\n",
      "Probando: {'C': 0.5, 'epsilon': 0.001, 'kernel': 'rbf'}, 5 de 48\n",
      "Tiempo de entrenamiento: 0.12629437446594238 s, score: 0.9912918167596326\n",
      "Probando: {'C': 1, 'epsilon': 0.1, 'kernel': 'linear'}, 6 de 48\n",
      "Tiempo de entrenamiento: 0.02413153648376465 s, score: 0.9521799508871119\n",
      "Probando: {'C': 1, 'epsilon': 0.1, 'kernel': 'rbf'}, 7 de 48\n",
      "Tiempo de entrenamiento: 0.009860038757324219 s, score: 0.8568731206368652\n",
      "Probando: {'C': 1, 'epsilon': 0.01, 'kernel': 'linear'}, 8 de 48\n",
      "Tiempo de entrenamiento: 0.11452245712280273 s, score: 0.999081270061662\n",
      "Probando: {'C': 1, 'epsilon': 0.01, 'kernel': 'rbf'}, 9 de 48\n",
      "Tiempo de entrenamiento: 0.05831313133239746 s, score: 0.989199265600142\n",
      "Probando: {'C': 1, 'epsilon': 0.001, 'kernel': 'linear'}, 10 de 48\n",
      "Tiempo de entrenamiento: 0.6088089942932129 s, score: 0.9996799937015414\n",
      "Probando: {'C': 1, 'epsilon': 0.001, 'kernel': 'rbf'}, 11 de 48\n",
      "Tiempo de entrenamiento: 0.15097546577453613 s, score: 0.9927660231264251\n",
      "Probando: {'C': 5, 'epsilon': 0.1, 'kernel': 'linear'}, 12 de 48\n",
      "Tiempo de entrenamiento: 0.03356146812438965 s, score: 0.9325088958923059\n",
      "Probando: {'C': 5, 'epsilon': 0.1, 'kernel': 'rbf'}, 13 de 48\n",
      "Tiempo de entrenamiento: 0.013359308242797852 s, score: 0.8587861177731305\n",
      "Probando: {'C': 5, 'epsilon': 0.01, 'kernel': 'linear'}, 14 de 48\n",
      "Tiempo de entrenamiento: 0.30393052101135254 s, score: 0.998858901177524\n",
      "Probando: {'C': 5, 'epsilon': 0.01, 'kernel': 'rbf'}, 15 de 48\n",
      "Tiempo de entrenamiento: 0.07232975959777832 s, score: 0.9911525407881452\n",
      "Probando: {'C': 5, 'epsilon': 0.001, 'kernel': 'linear'}, 16 de 48\n",
      "Tiempo de entrenamiento: 2.7524352073669434 s, score: 0.999677729154173\n",
      "Probando: {'C': 5, 'epsilon': 0.001, 'kernel': 'rbf'}, 17 de 48\n",
      "Tiempo de entrenamiento: 0.30199670791625977 s, score: 0.995209667848997\n",
      "Probando: {'C': 10, 'epsilon': 0.1, 'kernel': 'linear'}, 18 de 48\n",
      "Tiempo de entrenamiento: 0.04035329818725586 s, score: 0.9333778155225164\n",
      "Probando: {'C': 10, 'epsilon': 0.1, 'kernel': 'rbf'}, 19 de 48\n",
      "Tiempo de entrenamiento: 0.021170854568481445 s, score: 0.8564268604614234\n",
      "Probando: {'C': 10, 'epsilon': 0.01, 'kernel': 'linear'}, 20 de 48\n",
      "Tiempo de entrenamiento: 0.5096564292907715 s, score: 0.9990338155609948\n",
      "Probando: {'C': 10, 'epsilon': 0.01, 'kernel': 'rbf'}, 21 de 48\n",
      "Tiempo de entrenamiento: 0.10118460655212402 s, score: 0.991542683368031\n",
      "Probando: {'C': 10, 'epsilon': 0.001, 'kernel': 'linear'}, 22 de 48\n",
      "Tiempo de entrenamiento: 5.194396734237671 s, score: 0.9996808499770174\n",
      "Probando: {'C': 10, 'epsilon': 0.001, 'kernel': 'rbf'}, 23 de 48\n",
      "Tiempo de entrenamiento: 0.4570157527923584 s, score: 0.9957888716600419\n",
      "Probando: {'C': 50, 'epsilon': 0.1, 'kernel': 'linear'}, 24 de 48\n",
      "Tiempo de entrenamiento: 0.03966212272644043 s, score: 0.9316660751874468\n",
      "Probando: {'C': 50, 'epsilon': 0.1, 'kernel': 'rbf'}, 25 de 48\n",
      "Tiempo de entrenamiento: 0.016584157943725586 s, score: 0.8110908501243315\n",
      "Probando: {'C': 50, 'epsilon': 0.01, 'kernel': 'linear'}, 26 de 48\n",
      "Tiempo de entrenamiento: 1.6454682350158691 s, score: 0.9990508415266851\n",
      "Probando: {'C': 50, 'epsilon': 0.01, 'kernel': 'rbf'}, 27 de 48\n",
      "Tiempo de entrenamiento: 0.18317508697509766 s, score: 0.9904984506131777\n",
      "Probando: {'C': 50, 'epsilon': 0.001, 'kernel': 'linear'}, 28 de 48\n",
      "Tiempo de entrenamiento: 19.417210817337036 s, score: 0.9996792483406947\n",
      "Probando: {'C': 50, 'epsilon': 0.001, 'kernel': 'rbf'}, 29 de 48\n",
      "Tiempo de entrenamiento: 1.018366813659668 s, score: 0.9936896790093126\n",
      "Probando: {'C': 100, 'epsilon': 0.1, 'kernel': 'linear'}, 30 de 48\n",
      "Tiempo de entrenamiento: 0.03986167907714844 s, score: 0.932028863153801\n",
      "Probando: {'C': 100, 'epsilon': 0.1, 'kernel': 'rbf'}, 31 de 48\n",
      "Tiempo de entrenamiento: 0.022183656692504883 s, score: 0.8019158141548903\n",
      "Probando: {'C': 100, 'epsilon': 0.01, 'kernel': 'linear'}, 32 de 48\n",
      "Tiempo de entrenamiento: 2.804264783859253 s, score: 0.9990550359871693\n",
      "Probando: {'C': 100, 'epsilon': 0.01, 'kernel': 'rbf'}, 33 de 48\n",
      "Tiempo de entrenamiento: 0.22434639930725098 s, score: 0.9890316012133358\n",
      "Probando: {'C': 100, 'epsilon': 0.001, 'kernel': 'linear'}, 34 de 48\n",
      "Tiempo de entrenamiento: 39.42432928085327 s, score: 0.9996811432024323\n",
      "Probando: {'C': 100, 'epsilon': 0.001, 'kernel': 'rbf'}, 35 de 48\n",
      "Tiempo de entrenamiento: 1.4696788787841797 s, score: 0.9918828867093832\n",
      "Probando: {'C': 500, 'epsilon': 0.1, 'kernel': 'linear'}, 36 de 48\n",
      "Tiempo de entrenamiento: 0.07750916481018066 s, score: 0.9340008410871242\n",
      "Probando: {'C': 500, 'epsilon': 0.1, 'kernel': 'rbf'}, 37 de 48\n",
      "Tiempo de entrenamiento: 0.030866384506225586 s, score: 0.7900916634598938\n",
      "Probando: {'C': 500, 'epsilon': 0.01, 'kernel': 'linear'}, 38 de 48\n",
      "Tiempo de entrenamiento: 9.376301527023315 s, score: 0.9989842598364017\n",
      "Probando: {'C': 500, 'epsilon': 0.01, 'kernel': 'rbf'}, 39 de 48\n",
      "Tiempo de entrenamiento: 0.43963193893432617 s, score: 0.9500812213806343\n",
      "Probando: {'C': 500, 'epsilon': 0.001, 'kernel': 'linear'}, 40 de 48\n",
      "Tiempo de entrenamiento: 183.67423725128174 s, score: 0.9996420155685082\n",
      "Probando: {'C': 500, 'epsilon': 0.001, 'kernel': 'rbf'}, 41 de 48\n",
      "Tiempo de entrenamiento: 4.223094463348389 s, score: 0.9588648439585352\n",
      "Probando: {'C': 1000, 'epsilon': 0.1, 'kernel': 'linear'}, 42 de 48\n",
      "Tiempo de entrenamiento: 0.1615738868713379 s, score: 0.9346372185387204\n",
      "Probando: {'C': 1000, 'epsilon': 0.1, 'kernel': 'rbf'}, 43 de 48\n",
      "Tiempo de entrenamiento: 0.03241682052612305 s, score: 0.7494221224755533\n",
      "Probando: {'C': 1000, 'epsilon': 0.01, 'kernel': 'linear'}, 44 de 48\n",
      "Tiempo de entrenamiento: 18.546096324920654 s, score: 0.9990461622967826\n",
      "Probando: {'C': 1000, 'epsilon': 0.01, 'kernel': 'rbf'}, 45 de 48\n",
      "Tiempo de entrenamiento: 0.6962504386901855 s, score: 0.7873147099032866\n",
      "Probando: {'C': 1000, 'epsilon': 0.001, 'kernel': 'linear'}, 46 de 48\n",
      "Tiempo de entrenamiento: 339.656227350235 s, score: 0.9995946082008916\n",
      "Probando: {'C': 1000, 'epsilon': 0.001, 'kernel': 'rbf'}, 47 de 48\n",
      "Tiempo de entrenamiento: 7.4096105098724365 s, score: 0.8563145671638005\n",
      "Best Score: 0.9996811432024323\n",
      "Best Parameters: {'C': 100, 'epsilon': 0.001, 'kernel': 'linear'}\n"
     ]
    }
   ],
   "source": [
    "g = GridSearch(svm.SVR(), X_train, X_test, Y6_train, Y6_test, parameters, verbose=True)\n",
    "clf6 = svm.SVR(**g).fit(X_train, np.ravel(Y6_train))"
   ]
  },
  {
   "cell_type": "raw",
   "metadata": {},
   "source": [
    "clf1 = GridSearchCV(svm.SVR(), parameters, n_jobs=-1)\n",
    "startTime = time.time()\n",
    "clf1.fit(X_train, np.ravel(Y1_train))\n",
    "elapsedTime = time.time() - startTime\n",
    "print('{} s'.format(int(elapsedTime)))\n",
    "print(clf1.score(X_test, Y1_test))\n",
    "print(clf1.best_params_)"
   ]
  },
  {
   "cell_type": "raw",
   "metadata": {},
   "source": [
    "clf2 = GridSearchCV(svm.SVR(), parameters, n_jobs=-1)\n",
    "startTime = time.time()\n",
    "clf2.fit(X_train, np.ravel(Y2_train))\n",
    "elapsedTime = time.time() - startTime\n",
    "print('{} s'.format(int(elapsedTime)))\n",
    "print(clf2.score(X_test, Y2_test))\n",
    "print(clf2.best_params_)"
   ]
  },
  {
   "cell_type": "raw",
   "metadata": {},
   "source": [
    "clf3 = GridSearchCV(svm.SVR(), parameters, n_jobs=-1)\n",
    "startTime = time.time()\n",
    "clf3.fit(X_train, np.ravel(Y3_train))\n",
    "elapsedTime = time.time() - startTime\n",
    "print('{} s'.format(int(elapsedTime)))\n",
    "print(clf3.score(X_test, Y3_test))\n",
    "print(clf3.best_params_)"
   ]
  },
  {
   "cell_type": "raw",
   "metadata": {},
   "source": [
    "clf4 = GridSearchCV(svm.SVR(), parameters, n_jobs=-1)\n",
    "startTime = time.time()\n",
    "clf4.fit(X_train, np.ravel(Y4_train))\n",
    "elapsedTime = time.time() - startTime\n",
    "print('{} s'.format(int(elapsedTime)))\n",
    "print(clf4.score(X_test, Y4_test))\n",
    "print(clf4.best_params_)"
   ]
  },
  {
   "cell_type": "raw",
   "metadata": {},
   "source": [
    "clf5 = GridSearchCV(svm.SVR(), parameters, n_jobs=-1)\n",
    "startTime = time.time()\n",
    "clf5.fit(X_train, np.ravel(Y5_train))\n",
    "elapsedTime = time.time() - startTime\n",
    "print('{} s'.format(int(elapsedTime)))\n",
    "print(clf5.score(X_test, Y5_test))\n",
    "print(clf5.best_params_)"
   ]
  },
  {
   "cell_type": "raw",
   "metadata": {},
   "source": [
    "clf6 = GridSearchCV(svm.SVR(), parameters, n_jobs=-1)\n",
    "startTime = time.time()\n",
    "clf6.fit(X_train, np.ravel(Y6_train))\n",
    "elapsedTime = time.time() - startTime\n",
    "print('{} s'.format(int(elapsedTime)))\n",
    "print(clf6.score(X_test, Y6_test))\n",
    "print(clf6.best_params_)"
   ]
  },
  {
   "cell_type": "markdown",
   "metadata": {},
   "source": [
    "## Test for each year"
   ]
  },
  {
   "cell_type": "code",
   "execution_count": 13,
   "metadata": {},
   "outputs": [
    {
     "data": {
      "text/plain": [
       "0.0013526984822377949"
      ]
     },
     "execution_count": 13,
     "metadata": {},
     "output_type": "execute_result"
    }
   ],
   "source": [
    "np.abs(clf1.predict(X_test.iloc[0::4]) - np.array(Y1_test.iloc[0::4][0])).mean()"
   ]
  },
  {
   "cell_type": "code",
   "execution_count": 14,
   "metadata": {},
   "outputs": [
    {
     "data": {
      "text/plain": [
       "0.0012591971771323263"
      ]
     },
     "execution_count": 14,
     "metadata": {},
     "output_type": "execute_result"
    }
   ],
   "source": [
    "np.abs(clf1.predict(X_test.iloc[1::4]) - np.array(Y1_test.iloc[1::4][0])).mean()"
   ]
  },
  {
   "cell_type": "code",
   "execution_count": 15,
   "metadata": {},
   "outputs": [
    {
     "data": {
      "text/plain": [
       "0.0018410001453809507"
      ]
     },
     "execution_count": 15,
     "metadata": {},
     "output_type": "execute_result"
    }
   ],
   "source": [
    "np.abs(clf1.predict(X_test.iloc[2::4]) - np.array(Y1_test.iloc[2::4][0])).mean()"
   ]
  },
  {
   "cell_type": "code",
   "execution_count": 16,
   "metadata": {},
   "outputs": [
    {
     "data": {
      "text/plain": [
       "0.001329745750490052"
      ]
     },
     "execution_count": 16,
     "metadata": {},
     "output_type": "execute_result"
    }
   ],
   "source": [
    "np.abs(clf1.predict(X_test.iloc[3::4]) - np.array(Y1_test.iloc[3::4][0])).mean()"
   ]
  },
  {
   "cell_type": "markdown",
   "metadata": {},
   "source": [
    "## One concrete example"
   ]
  },
  {
   "cell_type": "code",
   "execution_count": 17,
   "metadata": {},
   "outputs": [
    {
     "data": {
      "text/plain": [
       "array([[ 58530.43894245, 136759.31003616,   3167.53801226,\n",
       "           838.68480292,   2374.73048879,  50037.85608335,\n",
       "          1992.        ]])"
      ]
     },
     "execution_count": 17,
     "metadata": {},
     "output_type": "execute_result"
    }
   ],
   "source": [
    "i = 120\n",
    "scalerY.inverse_transform([[clf1.predict([X_test.iloc[i]])[0], clf2.predict([X_test.iloc[i]])[0], clf3.predict([X_test.iloc[i]])[0], \n",
    "                          clf4.predict([X_test.iloc[i]])[0], clf5.predict([X_test.iloc[i]])[0], clf6.predict([X_test.iloc[i]])[0], 0]])"
   ]
  },
  {
   "cell_type": "code",
   "execution_count": 18,
   "metadata": {},
   "outputs": [
    {
     "data": {
      "text/plain": [
       "array([[ 57900., 136649.,   3206.,    821.,   2385.,  49816.,   2014.]])"
      ]
     },
     "execution_count": 18,
     "metadata": {},
     "output_type": "execute_result"
    }
   ],
   "source": [
    "scalerY.inverse_transform([Y_test.iloc[i]])"
   ]
  },
  {
   "cell_type": "markdown",
   "metadata": {},
   "source": [
    "## Probamos con España"
   ]
  },
  {
   "cell_type": "code",
   "execution_count": 19,
   "metadata": {},
   "outputs": [],
   "source": [
    "country = 'ESP'\n",
    "esp = Complete[Complete.COU == country]"
   ]
  },
  {
   "cell_type": "markdown",
   "metadata": {},
   "source": [
    "### Municipal"
   ]
  },
  {
   "cell_type": "code",
   "execution_count": 20,
   "metadata": {},
   "outputs": [],
   "source": [
    "years = list(esp.Year)\n",
    "mun = list(esp.Municipal)\n",
    "predictions = clf1.predict(pd.DataFrame(scalerX.transform(Complete.loc[esp.index[-4:],:][['Built', 'Below Secundary', 'Income Median',\n",
    "       'Population', 'Over 65', 'Over 65 Percentage', 'Over 85',\n",
    "       'Over 85 Percentage', 'Over 50', 'Over 50 Percentage', 'Under 20',\n",
    "       'Under 20 Percentage', 'Income Per Capita', 'Tourism', 'Area',\n",
    "       'Built Area', 'Last Year Municipal', 'Last Year Household',\n",
    "       'Last Year Recovered', 'Last Year Recicled', 'Last Year Compost',\n",
    "       'Last Year Disposal',\n",
    "       'Last Year Built', 'Difference Built',\n",
    "       'Last Year Below Secundary', 'Difference Below Secundary',\n",
    "       'Last Year Population', 'Difference Population', 'Last Year Tourism',\n",
    "       'Difference Tourism']])))\n",
    "predictions = [a[0] for a in scalerY.inverse_transform([[a,0,0,0,0,0,0] for a in predictions])]"
   ]
  },
  {
   "cell_type": "code",
   "execution_count": 21,
   "metadata": {},
   "outputs": [
    {
     "data": {
      "image/png": "[encoded data removed]",
      "text/plain": [
       "<Figure size 432x288 with 1 Axes>"
      ]
     },
     "metadata": {
      "needs_background": "light"
     },
     "output_type": "display_data"
    }
   ],
   "source": [
    "plt.plot(years, mun, lw=2, label='real')\n",
    "plt.axvline(x=2013.5, c='green', lw=1, ls=':', label='separación')\n",
    "plt.plot(years[-4:], predictions, c='red', lw=2, label='predecido')\n",
    "plt.title(\"Basura municipal en España\")\n",
    "plt.xlabel(\"Año\")\n",
    "plt.ylabel(\"Miles de toneladas\")\n",
    "plt.legend()\n",
    "plt.show()"
   ]
  },
  {
   "cell_type": "markdown",
   "metadata": {},
   "source": [
    "### Household"
   ]
  },
  {
   "cell_type": "code",
   "execution_count": 22,
   "metadata": {},
   "outputs": [],
   "source": [
    "years = list(esp.Year)\n",
    "mun = list(esp.Household)\n",
    "predictions = clf2.predict(pd.DataFrame(scalerX.transform(Complete.loc[esp.index[-4:],:][['Built', 'Below Secundary', 'Income Median',\n",
    "       'Population', 'Over 65', 'Over 65 Percentage', 'Over 85',\n",
    "       'Over 85 Percentage', 'Over 50', 'Over 50 Percentage', 'Under 20',\n",
    "       'Under 20 Percentage', 'Income Per Capita', 'Tourism', 'Area',\n",
    "       'Built Area', 'Last Year Municipal', 'Last Year Household',\n",
    "       'Last Year Recovered', 'Last Year Recicled', 'Last Year Compost',\n",
    "       'Last Year Disposal',\n",
    "       'Last Year Built', 'Difference Built',\n",
    "       'Last Year Below Secundary', 'Difference Below Secundary',\n",
    "       'Last Year Population', 'Difference Population', 'Last Year Tourism',\n",
    "       'Difference Tourism']])))\n",
    "predictions = [a[1] for a in scalerY.inverse_transform([[0,a,0,0,0,0,0] for a in predictions])]"
   ]
  },
  {
   "cell_type": "code",
   "execution_count": 23,
   "metadata": {},
   "outputs": [
    {
     "data": {
      "image/png": "[encoded data removed]",
      "text/plain": [
       "<Figure size 432x288 with 1 Axes>"
      ]
     },
     "metadata": {
      "needs_background": "light"
     },
     "output_type": "display_data"
    }
   ],
   "source": [
    "plt.plot(years, mun, lw=2, label='real')\n",
    "plt.axvline(x=2013.5, c='green', lw=1, ls=':', label='separación')\n",
    "plt.plot(years[-4:], predictions, c='red', lw=2, label='predecido')\n",
    "plt.title(\"Basura doméstica en España\")\n",
    "plt.xlabel(\"Año\")\n",
    "plt.ylabel(\"Miles de toneladas\")\n",
    "plt.legend()\n",
    "plt.show()"
   ]
  },
  {
   "cell_type": "markdown",
   "metadata": {},
   "source": [
    "### Recovered"
   ]
  },
  {
   "cell_type": "code",
   "execution_count": 24,
   "metadata": {},
   "outputs": [],
   "source": [
    "years = list(esp.Year)\n",
    "mun = list(esp.Recovered)\n",
    "predictions = clf3.predict(pd.DataFrame(scalerX.transform(Complete.loc[esp.index[-4:],:][['Built', 'Below Secundary', 'Income Median',\n",
    "       'Population', 'Over 65', 'Over 65 Percentage', 'Over 85',\n",
    "       'Over 85 Percentage', 'Over 50', 'Over 50 Percentage', 'Under 20',\n",
    "       'Under 20 Percentage', 'Income Per Capita', 'Tourism', 'Area',\n",
    "       'Built Area', 'Last Year Municipal', 'Last Year Household',\n",
    "       'Last Year Recovered', 'Last Year Recicled', 'Last Year Compost',\n",
    "       'Last Year Disposal',\n",
    "       'Last Year Built', 'Difference Built',\n",
    "       'Last Year Below Secundary', 'Difference Below Secundary',\n",
    "       'Last Year Population', 'Difference Population', 'Last Year Tourism',\n",
    "       'Difference Tourism']])))\n",
    "predictions = [a[2] for a in scalerY.inverse_transform([[0,0,a,0,0,0,0] for a in predictions])]"
   ]
  },
  {
   "cell_type": "code",
   "execution_count": 25,
   "metadata": {},
   "outputs": [
    {
     "data": {
      "image/png": "[encoded data removed]",
      "text/plain": [
       "<Figure size 432x288 with 1 Axes>"
      ]
     },
     "metadata": {
      "needs_background": "light"
     },
     "output_type": "display_data"
    }
   ],
   "source": [
    "plt.plot(years, mun, lw=2, label='real')\n",
    "plt.axvline(x=2013.5, c='green', lw=1, ls=':', label='separación')\n",
    "plt.plot(years[-4:], predictions, c='red', lw=2, label='predecido')\n",
    "plt.title(\"Basura recuperada en España\")\n",
    "plt.xlabel(\"Año\")\n",
    "plt.ylabel(\"Miles de toneladas\")\n",
    "plt.legend()\n",
    "plt.show()"
   ]
  },
  {
   "cell_type": "markdown",
   "metadata": {},
   "source": [
    "### Recicled"
   ]
  },
  {
   "cell_type": "code",
   "execution_count": 26,
   "metadata": {},
   "outputs": [],
   "source": [
    "years = list(esp.Year)\n",
    "mun = list(esp.Recicled)\n",
    "predictions = clf4.predict(pd.DataFrame(scalerX.transform(Complete.loc[esp.index[-4:],:][['Built', 'Below Secundary', 'Income Median',\n",
    "       'Population', 'Over 65', 'Over 65 Percentage', 'Over 85',\n",
    "       'Over 85 Percentage', 'Over 50', 'Over 50 Percentage', 'Under 20',\n",
    "       'Under 20 Percentage', 'Income Per Capita', 'Tourism', 'Area',\n",
    "       'Built Area', 'Last Year Municipal', 'Last Year Household',\n",
    "       'Last Year Recovered', 'Last Year Recicled', 'Last Year Compost',\n",
    "       'Last Year Disposal',\n",
    "       'Last Year Built', 'Difference Built',\n",
    "       'Last Year Below Secundary', 'Difference Below Secundary',\n",
    "       'Last Year Population', 'Difference Population', 'Last Year Tourism',\n",
    "       'Difference Tourism']])))\n",
    "predictions = [a[3] for a in scalerY.inverse_transform([[0,0,0,a,0,0,0] for a in predictions])]"
   ]
  },
  {
   "cell_type": "code",
   "execution_count": 27,
   "metadata": {
    "scrolled": false
   },
   "outputs": [
    {
     "data": {
      "image/png": "[encoded data removed]",
      "text/plain": [
       "<Figure size 432x288 with 1 Axes>"
      ]
     },
     "metadata": {
      "needs_background": "light"
     },
     "output_type": "display_data"
    }
   ],
   "source": [
    "plt.plot(years, mun, lw=2, label='real')\n",
    "plt.axvline(x=2013.5, c='green', lw=1, ls=':', label='separación')\n",
    "plt.plot(years[-4:], predictions, c='red', lw=2, label='predecido')\n",
    "plt.title(\"Basura reciclada en España\")\n",
    "plt.xlabel(\"Año\")\n",
    "plt.ylabel(\"Miles de toneladas\")\n",
    "plt.legend()\n",
    "plt.show()"
   ]
  },
  {
   "cell_type": "markdown",
   "metadata": {},
   "source": [
    "### Compost"
   ]
  },
  {
   "cell_type": "code",
   "execution_count": 28,
   "metadata": {},
   "outputs": [],
   "source": [
    "years = list(esp.Year)\n",
    "mun = list(esp.Compost)\n",
    "predictions = clf5.predict(pd.DataFrame(scalerX.transform(Complete.loc[esp.index[-4:],:][['Built', 'Below Secundary', 'Income Median',\n",
    "       'Population', 'Over 65', 'Over 65 Percentage', 'Over 85',\n",
    "       'Over 85 Percentage', 'Over 50', 'Over 50 Percentage', 'Under 20',\n",
    "       'Under 20 Percentage', 'Income Per Capita', 'Tourism', 'Area',\n",
    "       'Built Area', 'Last Year Municipal', 'Last Year Household',\n",
    "       'Last Year Recovered', 'Last Year Recicled', 'Last Year Compost',\n",
    "       'Last Year Disposal',\n",
    "       'Last Year Built', 'Difference Built',\n",
    "       'Last Year Below Secundary', 'Difference Below Secundary',\n",
    "       'Last Year Population', 'Difference Population', 'Last Year Tourism',\n",
    "       'Difference Tourism']])))\n",
    "predictions = [a[4] for a in scalerY.inverse_transform([[0,0,0,0,a,0,0] for a in predictions])]"
   ]
  },
  {
   "cell_type": "code",
   "execution_count": 29,
   "metadata": {},
   "outputs": [
    {
     "data": {
      "image/png": "[encoded data removed]",
      "text/plain": [
       "<Figure size 432x288 with 1 Axes>"
      ]
     },
     "metadata": {
      "needs_background": "light"
     },
     "output_type": "display_data"
    }
   ],
   "source": [
    "plt.plot(years, mun, lw=2, label='real')\n",
    "plt.axvline(x=2013.5, c='green', lw=1, ls=':', label='separación')\n",
    "plt.plot(years[-4:], predictions, c='red', lw=2, label='predecido')\n",
    "plt.title(\"Basura compostada en España\")\n",
    "plt.xlabel(\"Año\")\n",
    "plt.ylabel(\"Miles de toneladas\")\n",
    "plt.legend()\n",
    "plt.show()"
   ]
  },
  {
   "cell_type": "markdown",
   "metadata": {},
   "source": [
    "### Disposal"
   ]
  },
  {
   "cell_type": "code",
   "execution_count": 30,
   "metadata": {},
   "outputs": [],
   "source": [
    "years = list(esp.Year)\n",
    "mun = list(esp.Disposal)\n",
    "predictions = clf1.predict(pd.DataFrame(scalerX.transform(Complete.loc[esp.index[-4:],:][['Built', 'Below Secundary', 'Income Median',\n",
    "       'Population', 'Over 65', 'Over 65 Percentage', 'Over 85',\n",
    "       'Over 85 Percentage', 'Over 50', 'Over 50 Percentage', 'Under 20',\n",
    "       'Under 20 Percentage', 'Income Per Capita', 'Tourism', 'Area',\n",
    "       'Built Area', 'Last Year Municipal', 'Last Year Household',\n",
    "       'Last Year Recovered', 'Last Year Recicled', 'Last Year Compost',\n",
    "       'Last Year Disposal',\n",
    "       'Last Year Built', 'Difference Built',\n",
    "       'Last Year Below Secundary', 'Difference Below Secundary',\n",
    "       'Last Year Population', 'Difference Population', 'Last Year Tourism',\n",
    "       'Difference Tourism']])))\n",
    "predictions = [a[5] for a in scalerY.inverse_transform([[0,0,0,0,0,a,0] for a in predictions])]"
   ]
  },
  {
   "cell_type": "code",
   "execution_count": 31,
   "metadata": {
    "scrolled": false
   },
   "outputs": [
    {
     "data": {
      "image/png": "[encoded data removed]",
      "text/plain": [
       "<Figure size 432x288 with 1 Axes>"
      ]
     },
     "metadata": {
      "needs_background": "light"
     },
     "output_type": "display_data"
    }
   ],
   "source": [
    "plt.plot(years, mun, lw=2, label='real')\n",
    "plt.axvline(x=2013.5, c='green', lw=1, ls=':', label='separación')\n",
    "plt.plot(years[-4:], predictions, c='red', lw=2, label='predecido')\n",
    "plt.title(\"Basura deshechada en España\")\n",
    "plt.xlabel(\"Año\")\n",
    "plt.ylabel(\"Miles de toneladas\")\n",
    "plt.legend()\n",
    "plt.show()"
   ]
  }
 ],
 "metadata": {
  "kernelspec": {
   "display_name": "Python 3",
   "language": "python",
   "name": "python3"
  },
  "language_info": {
   "codemirror_mode": {
    "name": "ipython",
    "version": 3
   },
   "file_extension": ".py",
   "mimetype": "text/x-python",
   "name": "python",
   "nbconvert_exporter": "python",
   "pygments_lexer": "ipython3",
   "version": "3.6.9"
  }
 },
 "nbformat": 4,
 "nbformat_minor": 4
}
