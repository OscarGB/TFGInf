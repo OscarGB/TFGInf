{
 "cells": [
  {
   "cell_type": "code",
   "execution_count": 1,
   "metadata": {},
   "outputs": [],
   "source": [
    "import pandas as pd\n",
    "import numpy as np\n",
    "from sklearn import svm\n",
    "from sklearn.multioutput import MultiOutputRegressor\n",
    "from sklearn.ensemble import GradientBoostingRegressor\n",
    "from sklearn.preprocessing import MinMaxScaler\n",
    "import time"
   ]
  },
  {
   "cell_type": "code",
   "execution_count": 2,
   "metadata": {},
   "outputs": [],
   "source": [
    "X_train = pd.read_parquet(\"Xtime/X_train.parquet\")\n",
    "X_test = pd.read_parquet(\"Xtime/X_test.parquet\")\n",
    "Y_train = pd.read_parquet(\"Ytime/Y_train.parquet\")\n",
    "Y_test = pd.read_parquet(\"Ytime/Y_test.parquet\")\n",
    "X_train = X_train[['Built', 'Below Secundary', 'Income Median',\n",
    "       'Population', 'Over 65', 'Over 65 Percentage', 'Over 85',\n",
    "       'Over 85 Percentage', 'Over 50', 'Over 50 Percentage', 'Under 20',\n",
    "       'Under 20 Percentage', 'Income Per Capita', 'Tourism', 'Area',\n",
    "       'Built Area', 'Last Year Municipal', 'Last Year Household',\n",
    "       'Last Year Recovered', 'Last Year Recicled', 'Last Year Compost',\n",
    "       'Last Year Built', 'Difference Built', 'Mean Built',\n",
    "       'Last Year Below Secundary', 'Difference Below Secundary',\n",
    "       'Last Year Population', 'Difference Population', 'Last Year Tourism',\n",
    "       'Difference Tourism']]\n",
    "X_test = X_test[['Built', 'Below Secundary', 'Income Median',\n",
    "       'Population', 'Over 65', 'Over 65 Percentage', 'Over 85',\n",
    "       'Over 85 Percentage', 'Over 50', 'Over 50 Percentage', 'Under 20',\n",
    "       'Under 20 Percentage', 'Income Per Capita', 'Tourism', 'Area',\n",
    "       'Built Area', 'Last Year Municipal', 'Last Year Household',\n",
    "       'Last Year Recovered', 'Last Year Recicled', 'Last Year Compost',\n",
    "       'Last Year Built', 'Difference Built', 'Mean Built',\n",
    "       'Last Year Below Secundary', 'Difference Below Secundary',\n",
    "       'Last Year Population', 'Difference Population', 'Last Year Tourism',\n",
    "       'Difference Tourism']]"
   ]
  },
  {
   "cell_type": "code",
   "execution_count": 3,
   "metadata": {},
   "outputs": [],
   "source": [
    "scalerX = MinMaxScaler().fit(X_train)\n",
    "X_train = pd.DataFrame(scalerX.transform(X_train))\n",
    "X_test = pd.DataFrame(scalerX.transform(X_test))\n",
    "scalerY = MinMaxScaler().fit(Y_train)\n",
    "Y_train = pd.DataFrame(scalerY.transform(Y_train))\n",
    "Y_test = pd.DataFrame(scalerY.transform(Y_test))\n",
    "Y1_train = Y_train[[0]]\n",
    "Y1_test = Y_test[[0]]\n",
    "Y2_train = Y_train[[1]]\n",
    "Y2_test = Y_test[[1]]\n",
    "Y3_train = Y_train[[2]]\n",
    "Y3_test = Y_test[[2]]\n",
    "Y4_train = Y_train[[3]]\n",
    "Y4_test = Y_test[[3]]\n",
    "Y5_train = Y_train[[4]]\n",
    "Y5_test = Y_test[[4]]\n",
    "Y6_train = Y_train[[5]]\n",
    "Y6_test = Y_test[[5]]"
   ]
  },
  {
   "cell_type": "code",
   "execution_count": 4,
   "metadata": {},
   "outputs": [
    {
     "name": "stdout",
     "output_type": "stream",
     "text": [
      "0 s\n",
      "0.979188165869881\n"
     ]
    }
   ],
   "source": [
    "clf1 = GradientBoostingRegressor()\n",
    "startTime = time.time()\n",
    "clf1.fit(X_train, np.ravel(Y1_train))\n",
    "elapsedTime = time.time() - startTime\n",
    "print('{} s'.format(int(elapsedTime)))\n",
    "print(clf1.score(X_test, Y1_test))"
   ]
  },
  {
   "cell_type": "code",
   "execution_count": 5,
   "metadata": {},
   "outputs": [
    {
     "name": "stdout",
     "output_type": "stream",
     "text": [
      "0 s\n",
      "0.9936148466888065\n"
     ]
    }
   ],
   "source": [
    "clf2 = GradientBoostingRegressor()\n",
    "startTime = time.time()\n",
    "clf2.fit(X_train, np.ravel(Y2_train))\n",
    "elapsedTime = time.time() - startTime\n",
    "print('{} s'.format(int(elapsedTime)))\n",
    "print(clf2.score(X_test, Y2_test))"
   ]
  },
  {
   "cell_type": "code",
   "execution_count": 6,
   "metadata": {},
   "outputs": [
    {
     "name": "stdout",
     "output_type": "stream",
     "text": [
      "0 s\n",
      "0.9427478245883824\n"
     ]
    }
   ],
   "source": [
    "clf3 = GradientBoostingRegressor()\n",
    "startTime = time.time()\n",
    "clf3.fit(X_train, np.ravel(Y3_train))\n",
    "elapsedTime = time.time() - startTime\n",
    "print('{} s'.format(int(elapsedTime)))\n",
    "print(clf3.score(X_test, Y3_test))"
   ]
  },
  {
   "cell_type": "code",
   "execution_count": 7,
   "metadata": {},
   "outputs": [
    {
     "name": "stdout",
     "output_type": "stream",
     "text": [
      "0 s\n",
      "0.9294579160116708\n"
     ]
    }
   ],
   "source": [
    "clf4 = GradientBoostingRegressor()\n",
    "startTime = time.time()\n",
    "clf4.fit(X_train, np.ravel(Y4_train))\n",
    "elapsedTime = time.time() - startTime\n",
    "print('{} s'.format(int(elapsedTime)))\n",
    "print(clf4.score(X_test, Y4_test))"
   ]
  },
  {
   "cell_type": "code",
   "execution_count": 8,
   "metadata": {},
   "outputs": [
    {
     "name": "stdout",
     "output_type": "stream",
     "text": [
      "0 s\n",
      "0.9403447383140947\n"
     ]
    }
   ],
   "source": [
    "clf5 = GradientBoostingRegressor()\n",
    "startTime = time.time()\n",
    "clf5.fit(X_train, np.ravel(Y5_train))\n",
    "elapsedTime = time.time() - startTime\n",
    "print('{} s'.format(int(elapsedTime)))\n",
    "print(clf5.score(X_test, Y5_test))"
   ]
  },
  {
   "cell_type": "code",
   "execution_count": 9,
   "metadata": {},
   "outputs": [
    {
     "name": "stdout",
     "output_type": "stream",
     "text": [
      "0 s\n",
      "0.983518147373874\n"
     ]
    }
   ],
   "source": [
    "clf6 = GradientBoostingRegressor()\n",
    "startTime = time.time()\n",
    "clf6.fit(X_train, np.ravel(Y6_train))\n",
    "elapsedTime = time.time() - startTime\n",
    "print('{} s'.format(int(elapsedTime)))\n",
    "print(clf6.score(X_test, Y6_test))"
   ]
  },
  {
   "cell_type": "code",
   "execution_count": 10,
   "metadata": {},
   "outputs": [
    {
     "data": {
      "text/plain": [
       "0.01308605740417267"
      ]
     },
     "execution_count": 10,
     "metadata": {},
     "output_type": "execute_result"
    }
   ],
   "source": [
    "np.abs(clf1.predict(X_test.iloc[0::4]) - np.array(Y1_test.iloc[0::4][0])).mean()"
   ]
  },
  {
   "cell_type": "code",
   "execution_count": 11,
   "metadata": {},
   "outputs": [
    {
     "data": {
      "text/plain": [
       "0.005551595571008284"
      ]
     },
     "execution_count": 11,
     "metadata": {},
     "output_type": "execute_result"
    }
   ],
   "source": [
    "np.abs(clf1.predict(X_test.iloc[1::4]) - np.array(Y1_test.iloc[1::4][0])).mean()"
   ]
  },
  {
   "cell_type": "code",
   "execution_count": 12,
   "metadata": {},
   "outputs": [
    {
     "data": {
      "text/plain": [
       "0.0072245804140108425"
      ]
     },
     "execution_count": 12,
     "metadata": {},
     "output_type": "execute_result"
    }
   ],
   "source": [
    "np.abs(clf1.predict(X_test.iloc[2::4]) - np.array(Y1_test.iloc[2::4][0])).mean()"
   ]
  },
  {
   "cell_type": "code",
   "execution_count": 13,
   "metadata": {},
   "outputs": [
    {
     "data": {
      "text/plain": [
       "0.0071541193235313775"
      ]
     },
     "execution_count": 13,
     "metadata": {},
     "output_type": "execute_result"
    }
   ],
   "source": [
    "np.abs(clf1.predict(X_test.iloc[3::4]) - np.array(Y1_test.iloc[3::4][0])).mean()"
   ]
  },
  {
   "cell_type": "code",
   "execution_count": 14,
   "metadata": {},
   "outputs": [
    {
     "data": {
      "text/plain": [
       "array([[ 41493.66873371, 136745.13916429,   3353.79125409,\n",
       "           853.63561295,   2513.89754899,  30133.41978017,\n",
       "          1992.        ]])"
      ]
     },
     "execution_count": 14,
     "metadata": {},
     "output_type": "execute_result"
    }
   ],
   "source": [
    "i = 120\n",
    "scalerY.inverse_transform([[clf1.predict([X_test.iloc[i]])[0], clf2.predict([X_test.iloc[i]])[0], clf3.predict([X_test.iloc[i]])[0], \n",
    "                          clf4.predict([X_test.iloc[i]])[0], clf5.predict([X_test.iloc[i]])[0], clf6.predict([X_test.iloc[i]])[0], 0]])"
   ]
  },
  {
   "cell_type": "code",
   "execution_count": 15,
   "metadata": {},
   "outputs": [
    {
     "data": {
      "text/plain": [
       "array([[ 57900., 136649.,   3206.,    821.,   2385.,  49816.,   2014.]])"
      ]
     },
     "execution_count": 15,
     "metadata": {},
     "output_type": "execute_result"
    }
   ],
   "source": [
    "scalerY.inverse_transform([Y_test.iloc[i]])"
   ]
  },
  {
   "cell_type": "code",
   "execution_count": null,
   "metadata": {},
   "outputs": [],
   "source": []
  }
 ],
 "metadata": {
  "kernelspec": {
   "display_name": "Python 3",
   "language": "python",
   "name": "python3"
  },
  "language_info": {
   "codemirror_mode": {
    "name": "ipython",
    "version": 3
   },
   "file_extension": ".py",
   "mimetype": "text/x-python",
   "name": "python",
   "nbconvert_exporter": "python",
   "pygments_lexer": "ipython3",
   "version": "3.6.9"
  }
 },
 "nbformat": 4,
 "nbformat_minor": 4
}
