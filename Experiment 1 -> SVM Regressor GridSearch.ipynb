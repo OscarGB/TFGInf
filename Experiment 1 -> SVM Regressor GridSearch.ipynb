{
 "cells": [
  {
   "cell_type": "code",
   "execution_count": 1,
   "metadata": {},
   "outputs": [],
   "source": [
    "import pandas as pd\n",
    "import numpy as np\n",
    "from sklearn import svm\n",
    "from sklearn.multioutput import MultiOutputRegressor\n",
    "from sklearn.ensemble import GradientBoostingRegressor\n",
    "from sklearn.preprocessing import MinMaxScaler\n",
    "import time\n",
    "import matplotlib.pyplot as plt\n",
    "from sklearn.model_selection import GridSearchCV, ParameterGrid"
   ]
  },
  {
   "cell_type": "markdown",
   "metadata": {},
   "source": [
    "# Import all data"
   ]
  },
  {
   "cell_type": "code",
   "execution_count": 2,
   "metadata": {},
   "outputs": [],
   "source": [
    "X_train = pd.read_parquet(\"X/X_train.parquet\")\n",
    "X_test = pd.read_parquet(\"X/X_test.parquet\")\n",
    "Y_train = pd.read_parquet(\"Y/Y_train.parquet\")\n",
    "Y_test = pd.read_parquet(\"Y/Y_test.parquet\")\n",
    "X_train = X_train[['Built', 'Below Secundary', 'Income Median',\n",
    "       'Population', 'Over 65', 'Over 65 Percentage', 'Over 85',\n",
    "       'Over 85 Percentage', 'Over 50', 'Over 50 Percentage', 'Under 20',\n",
    "       'Under 20 Percentage', 'Income Per Capita', 'Tourism', 'Area',\n",
    "       'Built Area']]\n",
    "X_test = X_test[['Built', 'Below Secundary', 'Income Median',\n",
    "       'Population', 'Over 65', 'Over 65 Percentage', 'Over 85',\n",
    "       'Over 85 Percentage', 'Over 50', 'Over 50 Percentage', 'Under 20',\n",
    "       'Under 20 Percentage', 'Income Per Capita', 'Tourism', 'Area',\n",
    "       'Built Area']]\n",
    "Complete = pd.read_parquet(\"dataset.parquet\")"
   ]
  },
  {
   "cell_type": "code",
   "execution_count": 3,
   "metadata": {},
   "outputs": [],
   "source": [
    "scalerX = MinMaxScaler().fit(X_train)\n",
    "X_train = pd.DataFrame(scalerX.transform(X_train))\n",
    "X_test = pd.DataFrame(scalerX.transform(X_test))\n",
    "scalerY = MinMaxScaler().fit(Y_train)\n",
    "Y_train = pd.DataFrame(scalerY.transform(Y_train))\n",
    "Y_test = pd.DataFrame(scalerY.transform(Y_test))\n",
    "Y1_train = Y_train[[0]]\n",
    "Y1_test = Y_test[[0]]\n",
    "Y2_train = Y_train[[1]]\n",
    "Y2_test = Y_test[[1]]\n",
    "Y3_train = Y_train[[2]]\n",
    "Y3_test = Y_test[[2]]\n",
    "Y4_train = Y_train[[3]]\n",
    "Y4_test = Y_test[[3]]\n",
    "Y5_train = Y_train[[4]]\n",
    "Y5_test = Y_test[[4]]\n",
    "Y6_train = Y_train[[5]]\n",
    "Y6_test = Y_test[[5]]"
   ]
  },
  {
   "cell_type": "markdown",
   "metadata": {},
   "source": [
    "## Train and score"
   ]
  },
  {
   "cell_type": "code",
   "execution_count": 4,
   "metadata": {},
   "outputs": [],
   "source": [
    "parameters = {'kernel':['linear', 'rbf'],\n",
    "              'C':[0.5, 1, 5, 10, 50, 100],\n",
    "              'epsilon':[0.1, 0.01, 0.001]}"
   ]
  },
  {
   "cell_type": "code",
   "execution_count": 5,
   "metadata": {},
   "outputs": [],
   "source": [
    "def GridSearch(rf, X_train, X_test, y_train, y_test, grid, verbose=False):\n",
    "    best_score = 0\n",
    "    par = ParameterGrid(grid)\n",
    "    ln = len(par)\n",
    "    i = 0\n",
    "    for g in par:\n",
    "        if(verbose):\n",
    "            print(f\"Probando: {g}, {i} de {ln}\")\n",
    "        i+=1\n",
    "        rf.set_params(**g)\n",
    "        startTime = time.time()\n",
    "        rf.fit(X_train, np.ravel(y_train))\n",
    "        elapsedTime = time.time() - startTime\n",
    "        score = rf.score(X_test, y_test)\n",
    "        if(verbose):\n",
    "            print(f\"Tiempo de entrenamiento: {elapsedTime} s, score: {score}\")\n",
    "        # save if best\n",
    "        if score > best_score:\n",
    "            best_score = score\n",
    "            best_grid = g\n",
    "    print(f\"Best Score: {best_score}\")\n",
    "    print(f\"Best Parameters: {best_grid}\")\n",
    "    return best_grid"
   ]
  },
  {
   "cell_type": "code",
   "execution_count": 6,
   "metadata": {
    "scrolled": true
   },
   "outputs": [
    {
     "name": "stdout",
     "output_type": "stream",
     "text": [
      "Probando: {'C': 0.5, 'epsilon': 0.1, 'kernel': 'linear'}, 0 de 36\n",
      "Tiempo de entrenamiento: 0.026299715042114258 s, score: 0.8601250322630651\n",
      "Probando: {'C': 0.5, 'epsilon': 0.1, 'kernel': 'rbf'}, 1 de 36\n",
      "Tiempo de entrenamiento: 0.009791135787963867 s, score: 0.8686020501658644\n",
      "Probando: {'C': 0.5, 'epsilon': 0.01, 'kernel': 'linear'}, 2 de 36\n",
      "Tiempo de entrenamiento: 0.19191789627075195 s, score: 0.8957529888584529\n",
      "Probando: {'C': 0.5, 'epsilon': 0.01, 'kernel': 'rbf'}, 3 de 36\n",
      "Tiempo de entrenamiento: 0.08983492851257324 s, score: 0.9740361449235317\n",
      "Probando: {'C': 0.5, 'epsilon': 0.001, 'kernel': 'linear'}, 4 de 36\n",
      "Tiempo de entrenamiento: 0.27713847160339355 s, score: 0.8900759643164549\n",
      "Probando: {'C': 0.5, 'epsilon': 0.001, 'kernel': 'rbf'}, 5 de 36\n",
      "Tiempo de entrenamiento: 0.17535614967346191 s, score: 0.9764634139822593\n",
      "Probando: {'C': 1, 'epsilon': 0.1, 'kernel': 'linear'}, 6 de 36\n",
      "Tiempo de entrenamiento: 0.09586596488952637 s, score: 0.8345520774113628\n",
      "Probando: {'C': 1, 'epsilon': 0.1, 'kernel': 'rbf'}, 7 de 36\n",
      "Tiempo de entrenamiento: 0.022780656814575195 s, score: 0.8738892508621618\n",
      "Probando: {'C': 1, 'epsilon': 0.01, 'kernel': 'linear'}, 8 de 36\n",
      "Tiempo de entrenamiento: 0.17536520957946777 s, score: 0.8829131751498144\n",
      "Probando: {'C': 1, 'epsilon': 0.01, 'kernel': 'rbf'}, 9 de 36\n",
      "Tiempo de entrenamiento: 0.1804215908050537 s, score: 0.9781749192751208\n",
      "Probando: {'C': 1, 'epsilon': 0.001, 'kernel': 'linear'}, 10 de 36\n",
      "Tiempo de entrenamiento: 0.4884908199310303 s, score: 0.8801076629489174\n",
      "Probando: {'C': 1, 'epsilon': 0.001, 'kernel': 'rbf'}, 11 de 36\n",
      "Tiempo de entrenamiento: 0.3062591552734375 s, score: 0.9800116909000206\n",
      "Probando: {'C': 5, 'epsilon': 0.1, 'kernel': 'linear'}, 12 de 36\n",
      "Tiempo de entrenamiento: 0.12943434715270996 s, score: 0.8594931623761012\n",
      "Probando: {'C': 5, 'epsilon': 0.1, 'kernel': 'rbf'}, 13 de 36\n",
      "Tiempo de entrenamiento: 0.02588963508605957 s, score: 0.8751569056860401\n",
      "Probando: {'C': 5, 'epsilon': 0.01, 'kernel': 'linear'}, 14 de 36\n",
      "Tiempo de entrenamiento: 0.6683123111724854 s, score: 0.8777233459619294\n",
      "Probando: {'C': 5, 'epsilon': 0.01, 'kernel': 'rbf'}, 15 de 36\n",
      "Tiempo de entrenamiento: 0.2151963710784912 s, score: 0.9875484368302735\n",
      "Probando: {'C': 5, 'epsilon': 0.001, 'kernel': 'linear'}, 16 de 36\n",
      "Tiempo de entrenamiento: 0.8836331367492676 s, score: 0.8734725353638964\n",
      "Probando: {'C': 5, 'epsilon': 0.001, 'kernel': 'rbf'}, 17 de 36\n",
      "Tiempo de entrenamiento: 0.6380066871643066 s, score: 0.9886387068711259\n",
      "Probando: {'C': 10, 'epsilon': 0.1, 'kernel': 'linear'}, 18 de 36\n",
      "Tiempo de entrenamiento: 0.09239506721496582 s, score: 0.8728778815470062\n",
      "Probando: {'C': 10, 'epsilon': 0.1, 'kernel': 'rbf'}, 19 de 36\n",
      "Tiempo de entrenamiento: 0.027399301528930664 s, score: 0.8632676556265748\n",
      "Probando: {'C': 10, 'epsilon': 0.01, 'kernel': 'linear'}, 20 de 36\n",
      "Tiempo de entrenamiento: 1.1815876960754395 s, score: 0.8814411693202775\n",
      "Probando: {'C': 10, 'epsilon': 0.01, 'kernel': 'rbf'}, 21 de 36\n",
      "Tiempo de entrenamiento: 0.17027711868286133 s, score: 0.9875803649800917\n",
      "Probando: {'C': 10, 'epsilon': 0.001, 'kernel': 'linear'}, 22 de 36\n",
      "Tiempo de entrenamiento: 1.6570277214050293 s, score: 0.8814627631105552\n",
      "Probando: {'C': 10, 'epsilon': 0.001, 'kernel': 'rbf'}, 23 de 36\n",
      "Tiempo de entrenamiento: 0.9894230365753174 s, score: 0.9905355052744996\n",
      "Probando: {'C': 50, 'epsilon': 0.1, 'kernel': 'linear'}, 24 de 36\n",
      "Tiempo de entrenamiento: 0.4867687225341797 s, score: 0.8810654005395201\n",
      "Probando: {'C': 50, 'epsilon': 0.1, 'kernel': 'rbf'}, 25 de 36\n",
      "Tiempo de entrenamiento: 0.04478096961975098 s, score: 0.8347764637264785\n",
      "Probando: {'C': 50, 'epsilon': 0.01, 'kernel': 'linear'}, 26 de 36\n",
      "Tiempo de entrenamiento: 4.168989419937134 s, score: 0.8858508093945002\n",
      "Probando: {'C': 50, 'epsilon': 0.01, 'kernel': 'rbf'}, 27 de 36\n",
      "Tiempo de entrenamiento: 0.2506687641143799 s, score: 0.9868939654233208\n",
      "Probando: {'C': 50, 'epsilon': 0.001, 'kernel': 'linear'}, 28 de 36\n",
      "Tiempo de entrenamiento: 9.89104413986206 s, score: 0.888853433105473\n",
      "Probando: {'C': 50, 'epsilon': 0.001, 'kernel': 'rbf'}, 29 de 36\n",
      "Tiempo de entrenamiento: 3.233898162841797 s, score: 0.9910835899937136\n",
      "Probando: {'C': 100, 'epsilon': 0.1, 'kernel': 'linear'}, 30 de 36\n",
      "Tiempo de entrenamiento: 0.6593661308288574 s, score: 0.8831134644064379\n",
      "Probando: {'C': 100, 'epsilon': 0.1, 'kernel': 'rbf'}, 31 de 36\n",
      "Tiempo de entrenamiento: 0.04956865310668945 s, score: 0.8024912258991784\n",
      "Probando: {'C': 100, 'epsilon': 0.01, 'kernel': 'linear'}, 32 de 36\n",
      "Tiempo de entrenamiento: 8.753434896469116 s, score: 0.8866639367203983\n",
      "Probando: {'C': 100, 'epsilon': 0.01, 'kernel': 'rbf'}, 33 de 36\n",
      "Tiempo de entrenamiento: 0.5101227760314941 s, score: 0.9858873415265049\n",
      "Probando: {'C': 100, 'epsilon': 0.001, 'kernel': 'linear'}, 34 de 36\n",
      "Tiempo de entrenamiento: 17.785993814468384 s, score: 0.888485971793001\n",
      "Probando: {'C': 100, 'epsilon': 0.001, 'kernel': 'rbf'}, 35 de 36\n",
      "Tiempo de entrenamiento: 4.50149393081665 s, score: 0.9891442210728779\n",
      "Best Score: 0.9910835899937136\n",
      "Best Parameters: {'C': 50, 'epsilon': 0.001, 'kernel': 'rbf'}\n"
     ]
    }
   ],
   "source": [
    "g = GridSearch(svm.SVR(), X_train, X_test, Y1_train, Y1_test, parameters, verbose=True)\n",
    "clf1 = svm.SVR(**g).fit(X_train, np.ravel(Y1_train))"
   ]
  },
  {
   "cell_type": "code",
   "execution_count": null,
   "metadata": {
    "scrolled": true
   },
   "outputs": [
    {
     "name": "stdout",
     "output_type": "stream",
     "text": [
      "Probando: {'C': 0.5, 'epsilon': 0.1, 'kernel': 'linear'}, 0 de 36\n",
      "Tiempo de entrenamiento: 0.1290576457977295 s, score: 0.43296091207574317\n",
      "Probando: {'C': 0.5, 'epsilon': 0.1, 'kernel': 'rbf'}, 1 de 36\n",
      "Tiempo de entrenamiento: 0.05638623237609863 s, score: 0.819845419701657\n",
      "Probando: {'C': 0.5, 'epsilon': 0.01, 'kernel': 'linear'}, 2 de 36\n",
      "Tiempo de entrenamiento: 0.15159392356872559 s, score: 0.38870196660025014\n",
      "Probando: {'C': 0.5, 'epsilon': 0.01, 'kernel': 'rbf'}, 3 de 36\n",
      "Tiempo de entrenamiento: 0.1280689239501953 s, score: 0.8214976410774986\n",
      "Probando: {'C': 0.5, 'epsilon': 0.001, 'kernel': 'linear'}, 4 de 36\n",
      "Tiempo de entrenamiento: 0.21256804466247559 s, score: 0.3909513462236167\n",
      "Probando: {'C': 0.5, 'epsilon': 0.001, 'kernel': 'rbf'}, 5 de 36\n",
      "Tiempo de entrenamiento: 0.19503569602966309 s, score: 0.8158000317205505\n",
      "Probando: {'C': 1, 'epsilon': 0.1, 'kernel': 'linear'}, 6 de 36\n",
      "Tiempo de entrenamiento: 0.06585502624511719 s, score: 0.4031112707203144\n",
      "Probando: {'C': 1, 'epsilon': 0.1, 'kernel': 'rbf'}, 7 de 36\n",
      "Tiempo de entrenamiento: 0.07275843620300293 s, score: 0.8338675869930593\n",
      "Probando: {'C': 1, 'epsilon': 0.01, 'kernel': 'linear'}, 8 de 36\n",
      "Tiempo de entrenamiento: 0.23592114448547363 s, score: 0.36119809929422547\n",
      "Probando: {'C': 1, 'epsilon': 0.01, 'kernel': 'rbf'}, 9 de 36\n",
      "Tiempo de entrenamiento: 0.1291656494140625 s, score: 0.8299143139041699\n",
      "Probando: {'C': 1, 'epsilon': 0.001, 'kernel': 'linear'}, 10 de 36\n",
      "Tiempo de entrenamiento: 0.39499354362487793 s, score: 0.36123532007856485\n",
      "Probando: {'C': 1, 'epsilon': 0.001, 'kernel': 'rbf'}, 11 de 36\n",
      "Tiempo de entrenamiento: 0.18755769729614258 s, score: 0.8203720348757866\n",
      "Probando: {'C': 5, 'epsilon': 0.1, 'kernel': 'linear'}, 12 de 36\n",
      "Tiempo de entrenamiento: 0.15152764320373535 s, score: 0.4057176188062065\n",
      "Probando: {'C': 5, 'epsilon': 0.1, 'kernel': 'rbf'}, 13 de 36\n",
      "Tiempo de entrenamiento: 0.06926822662353516 s, score: 0.8820041958329898\n",
      "Probando: {'C': 5, 'epsilon': 0.01, 'kernel': 'linear'}, 14 de 36\n",
      "Tiempo de entrenamiento: 0.6793370246887207 s, score: 0.31196809809560844\n",
      "Probando: {'C': 5, 'epsilon': 0.01, 'kernel': 'rbf'}, 15 de 36\n",
      "Tiempo de entrenamiento: 0.29434919357299805 s, score: 0.8956021788344889\n",
      "Probando: {'C': 5, 'epsilon': 0.001, 'kernel': 'linear'}, 16 de 36\n",
      "Tiempo de entrenamiento: 1.0800166130065918 s, score: 0.30437176021951395\n",
      "Probando: {'C': 5, 'epsilon': 0.001, 'kernel': 'rbf'}, 17 de 36\n",
      "Tiempo de entrenamiento: 0.4337637424468994 s, score: 0.882640991334755\n",
      "Probando: {'C': 10, 'epsilon': 0.1, 'kernel': 'linear'}, 18 de 36\n",
      "Tiempo de entrenamiento: 0.2734827995300293 s, score: 0.4039453800766749\n",
      "Probando: {'C': 10, 'epsilon': 0.1, 'kernel': 'rbf'}, 19 de 36\n",
      "Tiempo de entrenamiento: 0.06397271156311035 s, score: 0.8805808890730649\n",
      "Probando: {'C': 10, 'epsilon': 0.01, 'kernel': 'linear'}, 20 de 36\n",
      "Tiempo de entrenamiento: 1.1570000648498535 s, score: 0.31249438670124874\n",
      "Probando: {'C': 10, 'epsilon': 0.01, 'kernel': 'rbf'}, 21 de 36\n",
      "Tiempo de entrenamiento: 0.41063952445983887 s, score: 0.9354351513799379\n",
      "Probando: {'C': 10, 'epsilon': 0.001, 'kernel': 'linear'}, 22 de 36\n",
      "Tiempo de entrenamiento: 2.1084864139556885 s, score: 0.3052136574894083\n",
      "Probando: {'C': 10, 'epsilon': 0.001, 'kernel': 'rbf'}, 23 de 36\n",
      "Tiempo de entrenamiento: 0.7780592441558838 s, score: 0.9270017404854666\n",
      "Probando: {'C': 50, 'epsilon': 0.1, 'kernel': 'linear'}, 24 de 36\n",
      "Tiempo de entrenamiento: 0.9885718822479248 s, score: 0.39085882799692545\n",
      "Probando: {'C': 50, 'epsilon': 0.1, 'kernel': 'rbf'}, 25 de 36\n",
      "Tiempo de entrenamiento: 0.07867908477783203 s, score: 0.8794959119192847\n",
      "Probando: {'C': 50, 'epsilon': 0.01, 'kernel': 'linear'}, 26 de 36\n",
      "Tiempo de entrenamiento: 3.069817543029785 s, score: 0.3114609334026348\n",
      "Probando: {'C': 50, 'epsilon': 0.01, 'kernel': 'rbf'}, 27 de 36\n",
      "Tiempo de entrenamiento: 0.7941422462463379 s, score: 0.9598451345156919\n",
      "Probando: {'C': 50, 'epsilon': 0.001, 'kernel': 'linear'}, 28 de 36\n",
      "Tiempo de entrenamiento: 8.236869096755981 s, score: 0.30478140520126673\n",
      "Probando: {'C': 50, 'epsilon': 0.001, 'kernel': 'rbf'}, 29 de 36\n",
      "Tiempo de entrenamiento: 2.02786922454834 s, score: 0.954848661956835\n",
      "Probando: {'C': 100, 'epsilon': 0.1, 'kernel': 'linear'}, 30 de 36\n",
      "Tiempo de entrenamiento: 1.5765411853790283 s, score: 0.3810919482100321\n",
      "Probando: {'C': 100, 'epsilon': 0.1, 'kernel': 'rbf'}, 31 de 36\n",
      "Tiempo de entrenamiento: 0.10505962371826172 s, score: 0.8864581607826779\n",
      "Probando: {'C': 100, 'epsilon': 0.01, 'kernel': 'linear'}, 32 de 36\n",
      "Tiempo de entrenamiento: 6.010111331939697 s, score: 0.3106091221204354\n",
      "Probando: {'C': 100, 'epsilon': 0.01, 'kernel': 'rbf'}, 33 de 36\n"
     ]
    }
   ],
   "source": [
    "g = GridSearch(svm.SVR(), X_train, X_test, Y2_train, Y2_test, parameters, verbose=True)\n",
    "clf2 = svm.SVR(**g).fit(X_train, np.ravel(Y2_train))"
   ]
  },
  {
   "cell_type": "code",
   "execution_count": null,
   "metadata": {
    "scrolled": true
   },
   "outputs": [],
   "source": [
    "g = GridSearch(svm.SVR(), X_train, X_test, Y3_train, Y3_test, parameters, verbose=True)\n",
    "clf3 = svm.SVR(**g).fit(X_train, np.ravel(Y3_train))"
   ]
  },
  {
   "cell_type": "code",
   "execution_count": null,
   "metadata": {
    "scrolled": true
   },
   "outputs": [],
   "source": [
    "g = GridSearch(svm.SVR(), X_train, X_test, Y4_train, Y4_test, parameters, verbose=True)\n",
    "clf4 = svm.SVR(**g).fit(X_train, np.ravel(Y4_train))"
   ]
  },
  {
   "cell_type": "code",
   "execution_count": null,
   "metadata": {
    "scrolled": true
   },
   "outputs": [],
   "source": [
    "g = GridSearch(svm.SVR(), X_train, X_test, Y5_train, Y5_test, parameters, verbose=True)\n",
    "clf5 = svm.SVR(**g).fit(X_train, np.ravel(Y5_train))"
   ]
  },
  {
   "cell_type": "code",
   "execution_count": 6,
   "metadata": {
    "scrolled": true
   },
   "outputs": [
    {
     "name": "stdout",
     "output_type": "stream",
     "text": [
      "Probando: {'C': 0.5, 'epsilon': 0.1, 'kernel': 'linear'}, 0 de 36\n",
      "Tiempo de entrenamiento: 0.04574298858642578 s, score: 0.778806234475738\n",
      "Probando: {'C': 0.5, 'epsilon': 0.1, 'kernel': 'rbf'}, 1 de 36\n",
      "Tiempo de entrenamiento: 0.030347824096679688 s, score: 0.8706147514847858\n",
      "Probando: {'C': 0.5, 'epsilon': 0.01, 'kernel': 'linear'}, 2 de 36\n",
      "Tiempo de entrenamiento: 0.14618682861328125 s, score: 0.8092381060760655\n",
      "Probando: {'C': 0.5, 'epsilon': 0.01, 'kernel': 'rbf'}, 3 de 36\n",
      "Tiempo de entrenamiento: 0.06838393211364746 s, score: 0.9683952649134938\n",
      "Probando: {'C': 0.5, 'epsilon': 0.001, 'kernel': 'linear'}, 4 de 36\n",
      "Tiempo de entrenamiento: 0.13797950744628906 s, score: 0.7941934132989175\n",
      "Probando: {'C': 0.5, 'epsilon': 0.001, 'kernel': 'rbf'}, 5 de 36\n",
      "Tiempo de entrenamiento: 0.18767905235290527 s, score: 0.969981562582717\n",
      "Probando: {'C': 1, 'epsilon': 0.1, 'kernel': 'linear'}, 6 de 36\n",
      "Tiempo de entrenamiento: 0.10310149192810059 s, score: 0.7640800501557202\n",
      "Probando: {'C': 1, 'epsilon': 0.1, 'kernel': 'rbf'}, 7 de 36\n",
      "Tiempo de entrenamiento: 0.019547700881958008 s, score: 0.8893007521432729\n",
      "Probando: {'C': 1, 'epsilon': 0.01, 'kernel': 'linear'}, 8 de 36\n",
      "Tiempo de entrenamiento: 0.26547861099243164 s, score: 0.8253465537393718\n",
      "Probando: {'C': 1, 'epsilon': 0.01, 'kernel': 'rbf'}, 9 de 36\n",
      "Tiempo de entrenamiento: 0.19258546829223633 s, score: 0.9742109601650474\n",
      "Probando: {'C': 1, 'epsilon': 0.001, 'kernel': 'linear'}, 10 de 36\n",
      "Tiempo de entrenamiento: 0.3422820568084717 s, score: 0.814973761504059\n",
      "Probando: {'C': 1, 'epsilon': 0.001, 'kernel': 'rbf'}, 11 de 36\n",
      "Tiempo de entrenamiento: 0.3153083324432373 s, score: 0.9757472241828233\n",
      "Probando: {'C': 5, 'epsilon': 0.1, 'kernel': 'linear'}, 12 de 36\n",
      "Tiempo de entrenamiento: 0.19314002990722656 s, score: 0.7376831509128619\n",
      "Probando: {'C': 5, 'epsilon': 0.1, 'kernel': 'rbf'}, 13 de 36\n",
      "Tiempo de entrenamiento: 0.030425310134887695 s, score: 0.9062933785275964\n",
      "Probando: {'C': 5, 'epsilon': 0.01, 'kernel': 'linear'}, 14 de 36\n",
      "Tiempo de entrenamiento: 0.6202609539031982 s, score: 0.8218252498081785\n",
      "Probando: {'C': 5, 'epsilon': 0.01, 'kernel': 'rbf'}, 15 de 36\n",
      "Tiempo de entrenamiento: 0.32245779037475586 s, score: 0.986272285139052\n",
      "Probando: {'C': 5, 'epsilon': 0.001, 'kernel': 'linear'}, 16 de 36\n",
      "Tiempo de entrenamiento: 0.973383903503418 s, score: 0.8269425465111729\n",
      "Probando: {'C': 5, 'epsilon': 0.001, 'kernel': 'rbf'}, 17 de 36\n",
      "Tiempo de entrenamiento: 0.739224910736084 s, score: 0.98754503664092\n",
      "Probando: {'C': 10, 'epsilon': 0.1, 'kernel': 'linear'}, 18 de 36\n",
      "Tiempo de entrenamiento: 0.27970337867736816 s, score: 0.7256105392921584\n",
      "Probando: {'C': 10, 'epsilon': 0.1, 'kernel': 'rbf'}, 19 de 36\n",
      "Tiempo de entrenamiento: 0.025669097900390625 s, score: 0.9173527420325114\n",
      "Probando: {'C': 10, 'epsilon': 0.01, 'kernel': 'linear'}, 20 de 36\n",
      "Tiempo de entrenamiento: 1.069446086883545 s, score: 0.8045617922064694\n",
      "Probando: {'C': 10, 'epsilon': 0.01, 'kernel': 'rbf'}, 21 de 36\n",
      "Tiempo de entrenamiento: 0.35912108421325684 s, score: 0.9886255171060296\n",
      "Probando: {'C': 10, 'epsilon': 0.001, 'kernel': 'linear'}, 22 de 36\n",
      "Tiempo de entrenamiento: 1.4470651149749756 s, score: 0.8011728495172028\n",
      "Probando: {'C': 10, 'epsilon': 0.001, 'kernel': 'rbf'}, 23 de 36\n",
      "Tiempo de entrenamiento: 0.9285311698913574 s, score: 0.9915169265920997\n",
      "Probando: {'C': 50, 'epsilon': 0.1, 'kernel': 'linear'}, 24 de 36\n",
      "Tiempo de entrenamiento: 0.7830605506896973 s, score: 0.7428617269928772\n",
      "Probando: {'C': 50, 'epsilon': 0.1, 'kernel': 'rbf'}, 25 de 36\n",
      "Tiempo de entrenamiento: 0.05550432205200195 s, score: 0.8598304020357759\n",
      "Probando: {'C': 50, 'epsilon': 0.01, 'kernel': 'linear'}, 26 de 36\n",
      "Tiempo de entrenamiento: 3.483541488647461 s, score: 0.8148889012013156\n",
      "Probando: {'C': 50, 'epsilon': 0.01, 'kernel': 'rbf'}, 27 de 36\n",
      "Tiempo de entrenamiento: 0.5709578990936279 s, score: 0.9904489928640322\n",
      "Probando: {'C': 50, 'epsilon': 0.001, 'kernel': 'linear'}, 28 de 36\n",
      "Tiempo de entrenamiento: 5.658172130584717 s, score: 0.8135016114467817\n",
      "Probando: {'C': 50, 'epsilon': 0.001, 'kernel': 'rbf'}, 29 de 36\n",
      "Tiempo de entrenamiento: 2.2933144569396973 s, score: 0.9858949078495315\n",
      "Probando: {'C': 100, 'epsilon': 0.1, 'kernel': 'linear'}, 30 de 36\n",
      "Tiempo de entrenamiento: 1.3295471668243408 s, score: 0.7437165509434216\n",
      "Probando: {'C': 100, 'epsilon': 0.1, 'kernel': 'rbf'}, 31 de 36\n",
      "Tiempo de entrenamiento: 0.04284262657165527 s, score: 0.8339488961980617\n",
      "Probando: {'C': 100, 'epsilon': 0.01, 'kernel': 'linear'}, 32 de 36\n",
      "Tiempo de entrenamiento: 5.839647531509399 s, score: 0.8155977685978584\n",
      "Probando: {'C': 100, 'epsilon': 0.01, 'kernel': 'rbf'}, 33 de 36\n",
      "Tiempo de entrenamiento: 0.6669297218322754 s, score: 0.9888084774891271\n",
      "Probando: {'C': 100, 'epsilon': 0.001, 'kernel': 'linear'}, 34 de 36\n",
      "Tiempo de entrenamiento: 10.606501817703247 s, score: 0.8173998071874229\n",
      "Probando: {'C': 100, 'epsilon': 0.001, 'kernel': 'rbf'}, 35 de 36\n",
      "Tiempo de entrenamiento: 4.068657398223877 s, score: 0.9818056312410953\n",
      "Best Score: 0.9915169265920997\n",
      "Best Parameters: {'C': 10, 'epsilon': 0.001, 'kernel': 'rbf'}\n"
     ]
    }
   ],
   "source": [
    "g = GridSearch(svm.SVR(), X_train, X_test, Y6_train, Y6_test, parameters, verbose=True)\n",
    "clf6 = svm.SVR(**g).fit(X_train, np.ravel(Y6_train))"
   ]
  },
  {
   "cell_type": "raw",
   "metadata": {},
   "source": [
    "clf1 = GridSearchCV(svm.SVR(), parameters, n_jobs=-1, verbose=True, cv=2)\n",
    "startTime = time.time()\n",
    "clf1.fit(X_train, np.ravel(Y1_train))\n",
    "elapsedTime = time.time() - startTime\n",
    "print('{} s'.format(int(elapsedTime)))\n",
    "print(clf1.score(X_test, Y1_test))\n",
    "print(clf1.best_params_)"
   ]
  },
  {
   "cell_type": "raw",
   "metadata": {},
   "source": [
    "clf2 = GridSearchCV(svm.SVR(), parameters, n_jobs=-1, verbose=True, cv=2)\n",
    "startTime = time.time()\n",
    "clf2.fit(X_train, np.ravel(Y2_train))\n",
    "elapsedTime = time.time() - startTime\n",
    "print('{} s'.format(int(elapsedTime)))\n",
    "print(clf2.score(X_test, Y2_test))\n",
    "print(clf2.best_params_)"
   ]
  },
  {
   "cell_type": "raw",
   "metadata": {},
   "source": [
    "clf3 = GridSearchCV(svm.SVR(), parameters, n_jobs=-1, verbose=True, cv=2)\n",
    "startTime = time.time()\n",
    "clf3.fit(X_train, np.ravel(Y3_train))\n",
    "elapsedTime = time.time() - startTime\n",
    "print('{} s'.format(int(elapsedTime)))\n",
    "print(clf3.score(X_test, Y3_test))\n",
    "print(clf3.best_params_)"
   ]
  },
  {
   "cell_type": "raw",
   "metadata": {},
   "source": [
    "clf4 = GridSearchCV(svm.SVR(), parameters, n_jobs=-1, verbose=True, cv=2)\n",
    "startTime = time.time()\n",
    "clf4.fit(X_train, np.ravel(Y4_train))\n",
    "elapsedTime = time.time() - startTime\n",
    "print('{} s'.format(int(elapsedTime)))\n",
    "print(clf4.score(X_test, Y4_test))\n",
    "print(clf4.best_params_)"
   ]
  },
  {
   "cell_type": "raw",
   "metadata": {},
   "source": [
    "clf5 = GridSearchCV(svm.SVR(), parameters, n_jobs=-1, verbose=True, cv=2)\n",
    "startTime = time.time()\n",
    "clf5.fit(X_train, np.ravel(Y5_train))\n",
    "elapsedTime = time.time() - startTime\n",
    "print('{} s'.format(int(elapsedTime)))\n",
    "print(clf5.score(X_test, Y5_test))\n",
    "print(clf5.best_params_)"
   ]
  },
  {
   "cell_type": "raw",
   "metadata": {},
   "source": [
    "clf6 = GridSearchCV(svm.SVR(), parameters, n_jobs=-1, verbose=True, cv=2)\n",
    "startTime = time.time()\n",
    "clf6.fit(X_train, np.ravel(Y6_train))\n",
    "elapsedTime = time.time() - startTime\n",
    "print('{} s'.format(int(elapsedTime)))\n",
    "print(clf6.score(X_test, Y6_test))\n",
    "print(clf6.best_params_)"
   ]
  },
  {
   "cell_type": "markdown",
   "metadata": {},
   "source": [
    "## Test for each year"
   ]
  },
  {
   "cell_type": "code",
   "execution_count": null,
   "metadata": {},
   "outputs": [],
   "source": [
    "np.abs(clf6.predict(X_test.iloc[0::4]) - np.array(Y6_test.iloc[0::4][5])).mean()"
   ]
  },
  {
   "cell_type": "code",
   "execution_count": null,
   "metadata": {},
   "outputs": [],
   "source": [
    "np.abs(clf6.predict(X_test.iloc[1::4]) - np.array(Y6_test.iloc[1::4][5])).mean()"
   ]
  },
  {
   "cell_type": "code",
   "execution_count": null,
   "metadata": {},
   "outputs": [],
   "source": [
    "np.abs(clf6.predict(X_test.iloc[2::4]) - np.array(Y6_test.iloc[2::4][5])).mean()"
   ]
  },
  {
   "cell_type": "code",
   "execution_count": null,
   "metadata": {},
   "outputs": [],
   "source": [
    "np.abs(clf6.predict(X_test.iloc[3::4]) - np.array(Y6_test.iloc[3::4][5])).mean()"
   ]
  },
  {
   "cell_type": "markdown",
   "metadata": {},
   "source": [
    "## One concrete example"
   ]
  },
  {
   "cell_type": "code",
   "execution_count": null,
   "metadata": {},
   "outputs": [],
   "source": [
    "i = 120\n",
    "scalerY.inverse_transform([[clf1.predict([X_test.iloc[i]])[0], clf2.predict([X_test.iloc[i]])[0], clf3.predict([X_test.iloc[i]])[0], \n",
    "                          clf4.predict([X_test.iloc[i]])[0], clf5.predict([X_test.iloc[i]])[0], clf6.predict([X_test.iloc[i]])[0], 0]])"
   ]
  },
  {
   "cell_type": "code",
   "execution_count": null,
   "metadata": {},
   "outputs": [],
   "source": [
    "scalerY.inverse_transform([Y_test.iloc[i]])"
   ]
  },
  {
   "cell_type": "markdown",
   "metadata": {},
   "source": [
    "## Probamos con España"
   ]
  },
  {
   "cell_type": "code",
   "execution_count": 7,
   "metadata": {},
   "outputs": [],
   "source": [
    "country = 'ESP'\n",
    "esp = Complete[Complete.COU == country]"
   ]
  },
  {
   "cell_type": "markdown",
   "metadata": {},
   "source": [
    "### Municipal"
   ]
  },
  {
   "cell_type": "code",
   "execution_count": null,
   "metadata": {},
   "outputs": [],
   "source": [
    "years = list(esp.Year)\n",
    "mun = list(esp.Municipal)\n",
    "predictions = clf1.predict(pd.DataFrame(scalerX.transform(Complete.loc[esp.index[-4:],:][['Built', 'Below Secundary', 'Income Median',\n",
    "       'Population', 'Over 65', 'Over 65 Percentage', 'Over 85',\n",
    "       'Over 85 Percentage', 'Over 50', 'Over 50 Percentage', 'Under 20',\n",
    "       'Under 20 Percentage', 'Income Per Capita', 'Tourism', 'Area',\n",
    "       'Built Area']])))\n",
    "predictions = [a[0] for a in scalerY.inverse_transform([[a,0,0,0,0,0,0] for a in predictions])]"
   ]
  },
  {
   "cell_type": "code",
   "execution_count": null,
   "metadata": {},
   "outputs": [],
   "source": [
    "plt.plot(years, mun, lw=2, label='real')\n",
    "plt.axvline(x=2013.5, c='green', lw=1, ls=':', label='separación')\n",
    "plt.plot(years[-4:], predictions, c='red', lw=2, label='predecido')\n",
    "plt.title(\"Basura municipal en España\")\n",
    "plt.xlabel(\"Año\")\n",
    "plt.ylabel(\"Miles de toneladas\")\n",
    "plt.legend()\n",
    "plt.show()"
   ]
  },
  {
   "cell_type": "markdown",
   "metadata": {},
   "source": [
    "### Household"
   ]
  },
  {
   "cell_type": "code",
   "execution_count": null,
   "metadata": {},
   "outputs": [],
   "source": [
    "years = list(esp.Year)\n",
    "mun = list(esp.Household)\n",
    "predictions = clf2.predict(pd.DataFrame(scalerX.transform(Complete.loc[esp.index[-4:],:][['Built', 'Below Secundary', 'Income Median',\n",
    "       'Population', 'Over 65', 'Over 65 Percentage', 'Over 85',\n",
    "       'Over 85 Percentage', 'Over 50', 'Over 50 Percentage', 'Under 20',\n",
    "       'Under 20 Percentage', 'Income Per Capita', 'Tourism', 'Area',\n",
    "       'Built Area']])))\n",
    "predictions = [a[1] for a in scalerY.inverse_transform([[0,a,0,0,0,0,0] for a in predictions])]"
   ]
  },
  {
   "cell_type": "code",
   "execution_count": null,
   "metadata": {},
   "outputs": [],
   "source": [
    "plt.plot(years, mun, lw=2, label='real')\n",
    "plt.axvline(x=2013.5, c='green', lw=1, ls=':', label='separación')\n",
    "plt.plot(years[-4:], predictions, c='red', lw=2, label='predecido')\n",
    "plt.title(\"Basura doméstica en España\")\n",
    "plt.xlabel(\"Año\")\n",
    "plt.ylabel(\"Miles de toneladas\")\n",
    "plt.legend()\n",
    "plt.show()"
   ]
  },
  {
   "cell_type": "markdown",
   "metadata": {},
   "source": [
    "### Recovered"
   ]
  },
  {
   "cell_type": "code",
   "execution_count": null,
   "metadata": {},
   "outputs": [],
   "source": [
    "years = list(esp.Year)\n",
    "mun = list(esp.Recovered)\n",
    "predictions = clf3.predict(pd.DataFrame(scalerX.transform(Complete.loc[esp.index[-4:],:][['Built', 'Below Secundary', 'Income Median',\n",
    "       'Population', 'Over 65', 'Over 65 Percentage', 'Over 85',\n",
    "       'Over 85 Percentage', 'Over 50', 'Over 50 Percentage', 'Under 20',\n",
    "       'Under 20 Percentage', 'Income Per Capita', 'Tourism', 'Area',\n",
    "       'Built Area']])))\n",
    "predictions = [a[2] for a in scalerY.inverse_transform([[0,0,a,0,0,0,0] for a in predictions])]"
   ]
  },
  {
   "cell_type": "code",
   "execution_count": null,
   "metadata": {},
   "outputs": [],
   "source": [
    "plt.plot(years, mun, lw=2, label='real')\n",
    "plt.axvline(x=2013.5, c='green', lw=1, ls=':', label='separación')\n",
    "plt.plot(years[-4:], predictions, c='red', lw=2, label='predecido')\n",
    "plt.title(\"Basura recuperada en España\")\n",
    "plt.xlabel(\"Año\")\n",
    "plt.ylabel(\"Miles de toneladas\")\n",
    "plt.legend()\n",
    "plt.show()"
   ]
  },
  {
   "cell_type": "markdown",
   "metadata": {},
   "source": [
    "### Recicled"
   ]
  },
  {
   "cell_type": "code",
   "execution_count": null,
   "metadata": {},
   "outputs": [],
   "source": [
    "years = list(esp.Year)\n",
    "mun = list(esp.Recicled)\n",
    "predictions = clf4.predict(pd.DataFrame(scalerX.transform(Complete.loc[esp.index[-4:],:][['Built', 'Below Secundary', 'Income Median',\n",
    "       'Population', 'Over 65', 'Over 65 Percentage', 'Over 85',\n",
    "       'Over 85 Percentage', 'Over 50', 'Over 50 Percentage', 'Under 20',\n",
    "       'Under 20 Percentage', 'Income Per Capita', 'Tourism', 'Area',\n",
    "       'Built Area']])))\n",
    "predictions = [a[3] for a in scalerY.inverse_transform([[0,0,0,a,0,0,0] for a in predictions])]"
   ]
  },
  {
   "cell_type": "code",
   "execution_count": null,
   "metadata": {
    "scrolled": false
   },
   "outputs": [],
   "source": [
    "plt.plot(years, mun, lw=2, label='real')\n",
    "plt.axvline(x=2013.5, c='green', lw=1, ls=':', label='separación')\n",
    "plt.plot(years[-4:], predictions, c='red', lw=2, label='predecido')\n",
    "plt.title(\"Basura reciclada en España\")\n",
    "plt.xlabel(\"Año\")\n",
    "plt.ylabel(\"Miles de toneladas\")\n",
    "plt.legend()\n",
    "plt.show()"
   ]
  },
  {
   "cell_type": "markdown",
   "metadata": {},
   "source": [
    "### Compost"
   ]
  },
  {
   "cell_type": "code",
   "execution_count": null,
   "metadata": {},
   "outputs": [],
   "source": [
    "years = list(esp.Year)\n",
    "mun = list(esp.Compost)\n",
    "predictions = clf5.predict(pd.DataFrame(scalerX.transform(Complete.loc[esp.index[-4:],:][['Built', 'Below Secundary', 'Income Median',\n",
    "       'Population', 'Over 65', 'Over 65 Percentage', 'Over 85',\n",
    "       'Over 85 Percentage', 'Over 50', 'Over 50 Percentage', 'Under 20',\n",
    "       'Under 20 Percentage', 'Income Per Capita', 'Tourism', 'Area',\n",
    "       'Built Area']])))\n",
    "predictions = [a[4] for a in scalerY.inverse_transform([[0,0,0,0,a,0,0] for a in predictions])]"
   ]
  },
  {
   "cell_type": "code",
   "execution_count": null,
   "metadata": {},
   "outputs": [],
   "source": [
    "plt.plot(years, mun, lw=2, label='real')\n",
    "plt.axvline(x=2013.5, c='green', lw=1, ls=':', label='separación')\n",
    "plt.plot(years[-4:], predictions, c='red', lw=2, label='predecido')\n",
    "plt.title(\"Basura compostada en España\")\n",
    "plt.xlabel(\"Año\")\n",
    "plt.ylabel(\"Miles de toneladas\")\n",
    "plt.legend()\n",
    "plt.show()"
   ]
  },
  {
   "cell_type": "markdown",
   "metadata": {},
   "source": [
    "### Disposal"
   ]
  },
  {
   "cell_type": "code",
   "execution_count": 8,
   "metadata": {},
   "outputs": [],
   "source": [
    "years = list(esp.Year)\n",
    "mun = list(esp.Disposal)\n",
    "predictions = clf6.predict(pd.DataFrame(scalerX.transform(Complete.loc[esp.index[-4:],:][['Built', 'Below Secundary', 'Income Median',\n",
    "       'Population', 'Over 65', 'Over 65 Percentage', 'Over 85',\n",
    "       'Over 85 Percentage', 'Over 50', 'Over 50 Percentage', 'Under 20',\n",
    "       'Under 20 Percentage', 'Income Per Capita', 'Tourism', 'Area',\n",
    "       'Built Area']])))\n",
    "predictions = [a[5] for a in scalerY.inverse_transform([[0,0,0,0,0,a,0] for a in predictions])]"
   ]
  },
  {
   "cell_type": "code",
   "execution_count": 9,
   "metadata": {
    "scrolled": true
   },
   "outputs": [
    {
     "data": {
      "image/png": "[encoded data removed]",
      "text/plain": [
       "<Figure size 432x288 with 1 Axes>"
      ]
     },
     "metadata": {
      "needs_background": "light"
     },
     "output_type": "display_data"
    }
   ],
   "source": [
    "plt.plot(years, mun, lw=2, label='real')\n",
    "plt.axvline(x=2013.5, c='green', lw=1, ls=':', label='separación')\n",
    "plt.plot(years[-4:], predictions, c='red', lw=2, label='predecido')\n",
    "plt.title(\"Basura deshechada en España\")\n",
    "plt.xlabel(\"Año\")\n",
    "plt.ylabel(\"Miles de toneladas\")\n",
    "plt.legend()\n",
    "plt.show()"
   ]
  },
  {
   "cell_type": "code",
   "execution_count": null,
   "metadata": {},
   "outputs": [],
   "source": []
  }
 ],
 "metadata": {
  "kernelspec": {
   "display_name": "Python 3",
   "language": "python",
   "name": "python3"
  },
  "language_info": {
   "codemirror_mode": {
    "name": "ipython",
    "version": 3
   },
   "file_extension": ".py",
   "mimetype": "text/x-python",
   "name": "python",
   "nbconvert_exporter": "python",
   "pygments_lexer": "ipython3",
   "version": "3.6.9"
  }
 },
 "nbformat": 4,
 "nbformat_minor": 4
}
