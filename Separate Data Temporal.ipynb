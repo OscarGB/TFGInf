{
 "cells": [
  {
   "cell_type": "markdown",
   "metadata": {},
   "source": [
    "# Separate Data\n",
    "Este notebook recoge los parquets generado por *Generate Data*. Lo separa en train y test. Luego genera un X para cada uno y un Y para cada variable de basuras."
   ]
  },
  {
   "cell_type": "code",
   "execution_count": 1,
   "metadata": {},
   "outputs": [],
   "source": [
    "import pandas as pd"
   ]
  },
  {
   "cell_type": "code",
   "execution_count": 2,
   "metadata": {},
   "outputs": [],
   "source": [
    "Year_to_separate = 2014"
   ]
  },
  {
   "cell_type": "code",
   "execution_count": 3,
   "metadata": {},
   "outputs": [],
   "source": [
    "df = pd.read_parquet(\"time_dataset.parquet\")"
   ]
  },
  {
   "cell_type": "code",
   "execution_count": 4,
   "metadata": {},
   "outputs": [],
   "source": [
    "Ys = df[['Municipal', 'Household', 'Recovered', 'Recicled', 'Compost', 'Disposal', 'Year']]\n",
    "X = df[[x for x in df.columns if x not in ['Country', 'COU', 'Municipal', 'Household', 'Recovered', 'Recicled', 'Compost', 'Disposal']]]\n",
    "X_train = X[X.Year < Year_to_separate]\n",
    "X_test = X[X.Year >= Year_to_separate]\n",
    "Y_train = Ys[X.Year < Year_to_separate]\n",
    "Y_test = Ys[X.Year >= Year_to_separate]"
   ]
  },
  {
   "cell_type": "code",
   "execution_count": 5,
   "metadata": {},
   "outputs": [
    {
     "data": {
      "text/html": [
       "<div>\n",
       "<style scoped>\n",
       "    .dataframe tbody tr th:only-of-type {\n",
       "        vertical-align: middle;\n",
       "    }\n",
       "\n",
       "    .dataframe tbody tr th {\n",
       "        vertical-align: top;\n",
       "    }\n",
       "\n",
       "    .dataframe thead th {\n",
       "        text-align: right;\n",
       "    }\n",
       "</style>\n",
       "<table border=\"1\" class=\"dataframe\">\n",
       "  <thead>\n",
       "    <tr style=\"text-align: right;\">\n",
       "      <th></th>\n",
       "      <th>Municipal</th>\n",
       "      <th>Household</th>\n",
       "      <th>Recovered</th>\n",
       "      <th>Recicled</th>\n",
       "      <th>Compost</th>\n",
       "      <th>Disposal</th>\n",
       "      <th>Year</th>\n",
       "    </tr>\n",
       "  </thead>\n",
       "  <tbody>\n",
       "    <tr>\n",
       "      <th>24</th>\n",
       "      <td>13109.635</td>\n",
       "      <td>8903.000</td>\n",
       "      <td>7107.560</td>\n",
       "      <td>5531.395</td>\n",
       "      <td>814.000</td>\n",
       "      <td>6002.070</td>\n",
       "      <td>2014</td>\n",
       "    </tr>\n",
       "    <tr>\n",
       "      <th>25</th>\n",
       "      <td>13344.539</td>\n",
       "      <td>12010.000</td>\n",
       "      <td>6858.410</td>\n",
       "      <td>5605.196</td>\n",
       "      <td>814.000</td>\n",
       "      <td>6486.130</td>\n",
       "      <td>2015</td>\n",
       "    </tr>\n",
       "    <tr>\n",
       "      <th>26</th>\n",
       "      <td>13344.539</td>\n",
       "      <td>12010.000</td>\n",
       "      <td>6858.410</td>\n",
       "      <td>5605.196</td>\n",
       "      <td>814.000</td>\n",
       "      <td>6486.130</td>\n",
       "      <td>2016</td>\n",
       "    </tr>\n",
       "    <tr>\n",
       "      <th>27</th>\n",
       "      <td>13344.539</td>\n",
       "      <td>12010.000</td>\n",
       "      <td>6858.410</td>\n",
       "      <td>5605.196</td>\n",
       "      <td>814.000</td>\n",
       "      <td>6486.130</td>\n",
       "      <td>2017</td>\n",
       "    </tr>\n",
       "    <tr>\n",
       "      <th>52</th>\n",
       "      <td>4832.500</td>\n",
       "      <td>4170.200</td>\n",
       "      <td>4479.100</td>\n",
       "      <td>1231.000</td>\n",
       "      <td>1492.300</td>\n",
       "      <td>194.100</td>\n",
       "      <td>2014</td>\n",
       "    </tr>\n",
       "    <tr>\n",
       "      <th>...</th>\n",
       "      <td>...</td>\n",
       "      <td>...</td>\n",
       "      <td>...</td>\n",
       "      <td>...</td>\n",
       "      <td>...</td>\n",
       "      <td>...</td>\n",
       "      <td>...</td>\n",
       "    </tr>\n",
       "    <tr>\n",
       "      <th>1175</th>\n",
       "      <td>1267.000</td>\n",
       "      <td>31875.532</td>\n",
       "      <td>103.700</td>\n",
       "      <td>100.200</td>\n",
       "      <td>10481.455</td>\n",
       "      <td>1163.300</td>\n",
       "      <td>2017</td>\n",
       "    </tr>\n",
       "    <tr>\n",
       "      <th>1200</th>\n",
       "      <td>1270.250</td>\n",
       "      <td>889.171</td>\n",
       "      <td>499.573</td>\n",
       "      <td>267.886</td>\n",
       "      <td>119.094</td>\n",
       "      <td>747.713</td>\n",
       "      <td>2014</td>\n",
       "    </tr>\n",
       "    <tr>\n",
       "      <th>1201</th>\n",
       "      <td>1300.000</td>\n",
       "      <td>909.999</td>\n",
       "      <td>580.414</td>\n",
       "      <td>298.172</td>\n",
       "      <td>132.357</td>\n",
       "      <td>702.127</td>\n",
       "      <td>2015</td>\n",
       "    </tr>\n",
       "    <tr>\n",
       "      <th>1202</th>\n",
       "      <td>1272.060</td>\n",
       "      <td>890.440</td>\n",
       "      <td>832.000</td>\n",
       "      <td>312.270</td>\n",
       "      <td>298.710</td>\n",
       "      <td>379.270</td>\n",
       "      <td>2016</td>\n",
       "    </tr>\n",
       "    <tr>\n",
       "      <th>1203</th>\n",
       "      <td>1286.430</td>\n",
       "      <td>900.500</td>\n",
       "      <td>854.500</td>\n",
       "      <td>310.810</td>\n",
       "      <td>307.970</td>\n",
       "      <td>420.830</td>\n",
       "      <td>2017</td>\n",
       "    </tr>\n",
       "  </tbody>\n",
       "</table>\n",
       "<p>172 rows × 7 columns</p>\n",
       "</div>"
      ],
      "text/plain": [
       "      Municipal  Household  Recovered  Recicled    Compost  Disposal  Year\n",
       "24    13109.635   8903.000   7107.560  5531.395    814.000  6002.070  2014\n",
       "25    13344.539  12010.000   6858.410  5605.196    814.000  6486.130  2015\n",
       "26    13344.539  12010.000   6858.410  5605.196    814.000  6486.130  2016\n",
       "27    13344.539  12010.000   6858.410  5605.196    814.000  6486.130  2017\n",
       "52     4832.500   4170.200   4479.100  1231.000   1492.300   194.100  2014\n",
       "...         ...        ...        ...       ...        ...       ...   ...\n",
       "1175   1267.000  31875.532    103.700   100.200  10481.455  1163.300  2017\n",
       "1200   1270.250    889.171    499.573   267.886    119.094   747.713  2014\n",
       "1201   1300.000    909.999    580.414   298.172    132.357   702.127  2015\n",
       "1202   1272.060    890.440    832.000   312.270    298.710   379.270  2016\n",
       "1203   1286.430    900.500    854.500   310.810    307.970   420.830  2017\n",
       "\n",
       "[172 rows x 7 columns]"
      ]
     },
     "execution_count": 5,
     "metadata": {},
     "output_type": "execute_result"
    }
   ],
   "source": [
    "Y_test"
   ]
  },
  {
   "cell_type": "code",
   "execution_count": 6,
   "metadata": {},
   "outputs": [],
   "source": [
    "X_train.to_parquet(\"Xtime/X_train.parquet\")\n",
    "X_test.to_parquet(\"Xtime/X_test.parquet\")\n",
    "Y_train.to_parquet(\"Ytime/Y_train.parquet\")\n",
    "Y_test.to_parquet(\"Ytime/Y_test.parquet\")"
   ]
  },
  {
   "cell_type": "code",
   "execution_count": 7,
   "metadata": {},
   "outputs": [],
   "source": [
    "Y1_train = Y_train[[\"Municipal\"]]\n",
    "Y2_train = Y_train[[\"Household\"]]\n",
    "Y3_train = Y_train[[\"Recovered\"]]\n",
    "Y4_train = Y_train[[\"Recicled\"]]\n",
    "Y5_train = Y_train[[\"Compost\"]]\n",
    "Y6_train = Y_train[[\"Disposal\"]]"
   ]
  },
  {
   "cell_type": "code",
   "execution_count": 8,
   "metadata": {},
   "outputs": [],
   "source": [
    "Y1_test = Y_test[[\"Municipal\"]]\n",
    "Y2_test = Y_test[[\"Household\"]]\n",
    "Y3_test = Y_test[[\"Recovered\"]]\n",
    "Y4_test = Y_test[[\"Recicled\"]]\n",
    "Y5_test = Y_test[[\"Compost\"]]\n",
    "Y6_test = Y_test[[\"Disposal\"]]"
   ]
  },
  {
   "cell_type": "code",
   "execution_count": 9,
   "metadata": {},
   "outputs": [],
   "source": [
    "Y1_train.to_parquet(\"Ytime/Y1_train.parquet\")\n",
    "Y2_train.to_parquet(\"Ytime/Y2_train.parquet\")\n",
    "Y3_train.to_parquet(\"Ytime/Y3_train.parquet\")\n",
    "Y4_train.to_parquet(\"Ytime/Y4_train.parquet\")\n",
    "Y5_train.to_parquet(\"Ytime/Y5_train.parquet\")\n",
    "Y6_train.to_parquet(\"Ytime/Y6_train.parquet\")"
   ]
  },
  {
   "cell_type": "code",
   "execution_count": 10,
   "metadata": {},
   "outputs": [],
   "source": [
    "Y1_test.to_parquet(\"Ytime/Y1_test.parquet\")\n",
    "Y2_test.to_parquet(\"Ytime/Y2_test.parquet\")\n",
    "Y3_test.to_parquet(\"Ytime/Y3_test.parquet\")\n",
    "Y4_test.to_parquet(\"Ytime/Y4_test.parquet\")\n",
    "Y5_test.to_parquet(\"Ytime/Y5_test.parquet\")\n",
    "Y6_test.to_parquet(\"Ytime/Y6_test.parquet\")"
   ]
  },
  {
   "cell_type": "code",
   "execution_count": null,
   "metadata": {},
   "outputs": [],
   "source": []
  }
 ],
 "metadata": {
  "kernelspec": {
   "display_name": "Python 3",
   "language": "python",
   "name": "python3"
  },
  "language_info": {
   "codemirror_mode": {
    "name": "ipython",
    "version": 3
   },
   "file_extension": ".py",
   "mimetype": "text/x-python",
   "name": "python",
   "nbconvert_exporter": "python",
   "pygments_lexer": "ipython3",
   "version": "3.6.9"
  }
 },
 "nbformat": 4,
 "nbformat_minor": 4
}
