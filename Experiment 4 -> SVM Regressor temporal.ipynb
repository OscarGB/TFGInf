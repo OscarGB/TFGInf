{
 "cells": [
  {
   "cell_type": "code",
   "execution_count": 1,
   "metadata": {},
   "outputs": [],
   "source": [
    "import pandas as pd\n",
    "import numpy as np\n",
    "from sklearn import svm\n",
    "from sklearn.multioutput import MultiOutputRegressor\n",
    "from sklearn.ensemble import GradientBoostingRegressor\n",
    "from sklearn.preprocessing import MinMaxScaler\n",
    "import time\n",
    "import matplotlib.pyplot as plt"
   ]
  },
  {
   "cell_type": "markdown",
   "metadata": {},
   "source": [
    "# Import all data"
   ]
  },
  {
   "cell_type": "code",
   "execution_count": 2,
   "metadata": {},
   "outputs": [],
   "source": [
    "X_train = pd.read_parquet(\"Xtime/X_train.parquet\")\n",
    "X_test = pd.read_parquet(\"Xtime/X_test.parquet\")\n",
    "Y_train = pd.read_parquet(\"Ytime/Y_train.parquet\")\n",
    "Y_test = pd.read_parquet(\"Ytime/Y_test.parquet\")\n",
    "X_train = X_train[['Built', 'Below Secundary', 'Income Median',\n",
    "       'Population', 'Over 65', 'Over 65 Percentage', 'Over 85',\n",
    "       'Over 85 Percentage', 'Over 50', 'Over 50 Percentage', 'Under 20',\n",
    "       'Under 20 Percentage', 'Income Per Capita', 'Tourism', 'Area',\n",
    "       'Built Area', 'Last Year Municipal', 'Last Year Household',\n",
    "       'Last Year Recovered', 'Last Year Recicled', 'Last Year Compost',\n",
    "       'Last Year Disposal',\n",
    "       'Last Year Built', 'Difference Built',\n",
    "       'Last Year Below Secundary', 'Difference Below Secundary',\n",
    "       'Last Year Population', 'Difference Population', 'Last Year Tourism',\n",
    "       'Difference Tourism']]\n",
    "X_test = X_test[['Built', 'Below Secundary', 'Income Median',\n",
    "       'Population', 'Over 65', 'Over 65 Percentage', 'Over 85',\n",
    "       'Over 85 Percentage', 'Over 50', 'Over 50 Percentage', 'Under 20',\n",
    "       'Under 20 Percentage', 'Income Per Capita', 'Tourism', 'Area',\n",
    "       'Built Area', 'Last Year Municipal', 'Last Year Household',\n",
    "       'Last Year Recovered', 'Last Year Recicled', 'Last Year Compost',\n",
    "       'Last Year Disposal',\n",
    "       'Last Year Built', 'Difference Built',\n",
    "       'Last Year Below Secundary', 'Difference Below Secundary',\n",
    "       'Last Year Population', 'Difference Population', 'Last Year Tourism',\n",
    "       'Difference Tourism']]\n",
    "Complete = pd.read_parquet(\"time_dataset.parquet\")"
   ]
  },
  {
   "cell_type": "code",
   "execution_count": 3,
   "metadata": {},
   "outputs": [],
   "source": [
    "scalerX = MinMaxScaler().fit(X_train)\n",
    "X_train = pd.DataFrame(scalerX.transform(X_train))\n",
    "X_test = pd.DataFrame(scalerX.transform(X_test))\n",
    "scalerY = MinMaxScaler().fit(Y_train)\n",
    "Y_train = pd.DataFrame(scalerY.transform(Y_train))\n",
    "Y_test = pd.DataFrame(scalerY.transform(Y_test))"
   ]
  },
  {
   "cell_type": "code",
   "execution_count": 4,
   "metadata": {},
   "outputs": [],
   "source": [
    "Y1_train = Y_train[[Y_train.columns[0]]]\n",
    "Y1_test = Y_test[[Y_test.columns[0]]]\n",
    "Y2_train = Y_train[[Y_train.columns[1]]]\n",
    "Y2_test = Y_test[[Y_test.columns[1]]]\n",
    "Y3_train = Y_train[[Y_train.columns[2]]]\n",
    "Y3_test = Y_test[[Y_test.columns[2]]]\n",
    "Y4_train = Y_train[[Y_train.columns[3]]]\n",
    "Y4_test = Y_test[[Y_test.columns[3]]]\n",
    "Y5_train = Y_train[[Y_train.columns[4]]]\n",
    "Y5_test = Y_test[[Y_test.columns[4]]]\n",
    "Y6_train = Y_train[[Y_train.columns[5]]]\n",
    "Y6_test = Y_test[[Y_test.columns[5]]]"
   ]
  },
  {
   "cell_type": "markdown",
   "metadata": {},
   "source": [
    "## Train and score"
   ]
  },
  {
   "cell_type": "code",
   "execution_count": 5,
   "metadata": {},
   "outputs": [
    {
     "name": "stdout",
     "output_type": "stream",
     "text": [
      "0 s\n",
      "0.9901944539492537\n"
     ]
    }
   ],
   "source": [
    "clf1 = svm.SVR(kernel = \"rbf\", max_iter=-1, epsilon=0.01, C=5)\n",
    "startTime = time.time()\n",
    "clf1.fit(X_train, np.ravel(Y1_train))\n",
    "elapsedTime = time.time() - startTime\n",
    "print('{} s'.format(int(elapsedTime)))\n",
    "print(clf1.score(X_test, Y1_test))"
   ]
  },
  {
   "cell_type": "code",
   "execution_count": 6,
   "metadata": {},
   "outputs": [
    {
     "name": "stdout",
     "output_type": "stream",
     "text": [
      "0 s\n",
      "0.9908111941399679\n"
     ]
    }
   ],
   "source": [
    "clf2 = svm.SVR(kernel = \"rbf\", max_iter=-1, epsilon=0.01, C=0.5)\n",
    "startTime = time.time()\n",
    "clf2.fit(X_train, np.ravel(Y2_train))\n",
    "elapsedTime = time.time() - startTime\n",
    "print('{} s'.format(int(elapsedTime)))\n",
    "print(clf2.score(X_test, Y2_test))"
   ]
  },
  {
   "cell_type": "code",
   "execution_count": 7,
   "metadata": {},
   "outputs": [
    {
     "name": "stdout",
     "output_type": "stream",
     "text": [
      "0 s\n",
      "0.9880712041806488\n"
     ]
    }
   ],
   "source": [
    "clf3 = svm.SVR(kernel = \"rbf\", max_iter=-1, epsilon=0.01, C=1)\n",
    "startTime = time.time()\n",
    "clf3.fit(X_train, np.ravel(Y3_train))\n",
    "elapsedTime = time.time() - startTime\n",
    "print('{} s'.format(int(elapsedTime)))\n",
    "print(clf3.score(X_test, Y3_test))"
   ]
  },
  {
   "cell_type": "code",
   "execution_count": 8,
   "metadata": {},
   "outputs": [
    {
     "name": "stdout",
     "output_type": "stream",
     "text": [
      "0 s\n",
      "0.9867440133986695\n"
     ]
    }
   ],
   "source": [
    "clf4 = svm.SVR(kernel = \"rbf\", max_iter=-1, epsilon=0.01, C=10)\n",
    "startTime = time.time()\n",
    "clf4.fit(X_train, np.ravel(Y4_train))\n",
    "elapsedTime = time.time() - startTime\n",
    "print('{} s'.format(int(elapsedTime)))\n",
    "print(clf4.score(X_test, Y4_test))"
   ]
  },
  {
   "cell_type": "code",
   "execution_count": 9,
   "metadata": {},
   "outputs": [
    {
     "name": "stdout",
     "output_type": "stream",
     "text": [
      "0 s\n",
      "0.9925423812541968\n"
     ]
    }
   ],
   "source": [
    "clf5 = svm.SVR(kernel = \"rbf\", max_iter=-1, epsilon=0.01, C=10)\n",
    "startTime = time.time()\n",
    "clf5.fit(X_train, np.ravel(Y5_train))\n",
    "elapsedTime = time.time() - startTime\n",
    "print('{} s'.format(int(elapsedTime)))\n",
    "print(clf5.score(X_test, Y5_test))"
   ]
  },
  {
   "cell_type": "code",
   "execution_count": 10,
   "metadata": {},
   "outputs": [
    {
     "name": "stdout",
     "output_type": "stream",
     "text": [
      "0 s\n",
      "0.991542683368031\n"
     ]
    }
   ],
   "source": [
    "clf6 = svm.SVR(kernel = \"rbf\", max_iter=-1, epsilon=0.01, C=10)\n",
    "startTime = time.time()\n",
    "clf6.fit(X_train, np.ravel(Y6_train))\n",
    "elapsedTime = time.time() - startTime\n",
    "print('{} s'.format(int(elapsedTime)))\n",
    "print(clf6.score(X_test, Y6_test))"
   ]
  },
  {
   "cell_type": "markdown",
   "metadata": {},
   "source": [
    "## Test for each year"
   ]
  },
  {
   "cell_type": "code",
   "execution_count": 11,
   "metadata": {},
   "outputs": [
    {
     "data": {
      "text/plain": [
       "0.012706473956338197"
      ]
     },
     "execution_count": 11,
     "metadata": {},
     "output_type": "execute_result"
    }
   ],
   "source": [
    "np.abs(clf1.predict(X_test.iloc[0::4]) - np.array(Y1_test.iloc[0::4][0])).mean()"
   ]
  },
  {
   "cell_type": "code",
   "execution_count": 12,
   "metadata": {},
   "outputs": [
    {
     "data": {
      "text/plain": [
       "0.010525492265945036"
      ]
     },
     "execution_count": 12,
     "metadata": {},
     "output_type": "execute_result"
    }
   ],
   "source": [
    "np.abs(clf1.predict(X_test.iloc[1::4]) - np.array(Y1_test.iloc[1::4][0])).mean()"
   ]
  },
  {
   "cell_type": "code",
   "execution_count": 13,
   "metadata": {},
   "outputs": [
    {
     "data": {
      "text/plain": [
       "0.0110418129814732"
      ]
     },
     "execution_count": 13,
     "metadata": {},
     "output_type": "execute_result"
    }
   ],
   "source": [
    "np.abs(clf1.predict(X_test.iloc[2::4]) - np.array(Y1_test.iloc[2::4][0])).mean()"
   ]
  },
  {
   "cell_type": "code",
   "execution_count": 14,
   "metadata": {},
   "outputs": [
    {
     "data": {
      "text/plain": [
       "0.011954658716678444"
      ]
     },
     "execution_count": 14,
     "metadata": {},
     "output_type": "execute_result"
    }
   ],
   "source": [
    "np.abs(clf1.predict(X_test.iloc[3::4]) - np.array(Y1_test.iloc[3::4][0])).mean()"
   ]
  },
  {
   "cell_type": "markdown",
   "metadata": {},
   "source": [
    "## One concrete example"
   ]
  },
  {
   "cell_type": "code",
   "execution_count": 15,
   "metadata": {},
   "outputs": [
    {
     "data": {
      "text/plain": [
       "array([[6.08993277e+04, 1.42112786e+05, 1.83873535e+03, 8.92985027e+01,\n",
       "        2.37065255e+03, 4.87639148e+04, 1.99200000e+03]])"
      ]
     },
     "execution_count": 15,
     "metadata": {},
     "output_type": "execute_result"
    }
   ],
   "source": [
    "i = 120\n",
    "scalerY.inverse_transform([[clf1.predict([X_test.iloc[i]])[0], clf2.predict([X_test.iloc[i]])[0], clf3.predict([X_test.iloc[i]])[0], \n",
    "                          clf4.predict([X_test.iloc[i]])[0], clf5.predict([X_test.iloc[i]])[0], clf6.predict([X_test.iloc[i]])[0], 0]])"
   ]
  },
  {
   "cell_type": "code",
   "execution_count": 16,
   "metadata": {},
   "outputs": [
    {
     "data": {
      "text/plain": [
       "array([[ 57900., 136649.,   3206.,    821.,   2385.,  49816.,   2014.]])"
      ]
     },
     "execution_count": 16,
     "metadata": {},
     "output_type": "execute_result"
    }
   ],
   "source": [
    "scalerY.inverse_transform([Y_test.iloc[i]])"
   ]
  },
  {
   "cell_type": "markdown",
   "metadata": {},
   "source": [
    "## Probamos con España"
   ]
  },
  {
   "cell_type": "code",
   "execution_count": 17,
   "metadata": {},
   "outputs": [],
   "source": [
    "country = 'ESP'\n",
    "esp = Complete[Complete.COU == country]"
   ]
  },
  {
   "cell_type": "markdown",
   "metadata": {},
   "source": [
    "### Municipal"
   ]
  },
  {
   "cell_type": "code",
   "execution_count": 18,
   "metadata": {},
   "outputs": [],
   "source": [
    "years = list(esp.Year)\n",
    "mun = list(esp.Municipal)\n",
    "predictions = clf1.predict(pd.DataFrame(scalerX.transform(Complete.loc[esp.index[-4:],:][['Built', 'Below Secundary', 'Income Median',\n",
    "       'Population', 'Over 65', 'Over 65 Percentage', 'Over 85',\n",
    "       'Over 85 Percentage', 'Over 50', 'Over 50 Percentage', 'Under 20',\n",
    "       'Under 20 Percentage', 'Income Per Capita', 'Tourism', 'Area',\n",
    "       'Built Area', 'Last Year Municipal', 'Last Year Household',\n",
    "       'Last Year Recovered', 'Last Year Recicled', 'Last Year Compost',\n",
    "       'Last Year Disposal',\n",
    "       'Last Year Built', 'Difference Built',\n",
    "       'Last Year Below Secundary', 'Difference Below Secundary',\n",
    "       'Last Year Population', 'Difference Population', 'Last Year Tourism',\n",
    "       'Difference Tourism']])))\n",
    "predictions = [a[0] for a in scalerY.inverse_transform([[a,0,0,0,0,0,0] for a in predictions])]"
   ]
  },
  {
   "cell_type": "code",
   "execution_count": 19,
   "metadata": {},
   "outputs": [
    {
     "data": {
      "image/png": "[encoded data removed]",
      "text/plain": [
       "<Figure size 432x288 with 1 Axes>"
      ]
     },
     "metadata": {
      "needs_background": "light"
     },
     "output_type": "display_data"
    }
   ],
   "source": [
    "plt.plot(years, mun, lw=2, label='real')\n",
    "plt.axvline(x=2013.5, c='green', lw=1, ls=':', label='separación')\n",
    "plt.plot(years[-4:], predictions, c='red', lw=2, label='predecido')\n",
    "plt.title(\"Basura municipal en España\")\n",
    "plt.xlabel(\"Año\")\n",
    "plt.ylabel(\"Miles de toneladas\")\n",
    "plt.legend()\n",
    "plt.show()"
   ]
  },
  {
   "cell_type": "markdown",
   "metadata": {},
   "source": [
    "### Household"
   ]
  },
  {
   "cell_type": "code",
   "execution_count": 20,
   "metadata": {},
   "outputs": [],
   "source": [
    "years = list(esp.Year)\n",
    "mun = list(esp.Household)\n",
    "predictions = clf2.predict(pd.DataFrame(scalerX.transform(Complete.loc[esp.index[-4:],:][['Built', 'Below Secundary', 'Income Median',\n",
    "       'Population', 'Over 65', 'Over 65 Percentage', 'Over 85',\n",
    "       'Over 85 Percentage', 'Over 50', 'Over 50 Percentage', 'Under 20',\n",
    "       'Under 20 Percentage', 'Income Per Capita', 'Tourism', 'Area',\n",
    "       'Built Area', 'Last Year Municipal', 'Last Year Household',\n",
    "       'Last Year Recovered', 'Last Year Recicled', 'Last Year Compost',\n",
    "       'Last Year Disposal',\n",
    "       'Last Year Built', 'Difference Built',\n",
    "       'Last Year Below Secundary', 'Difference Below Secundary',\n",
    "       'Last Year Population', 'Difference Population', 'Last Year Tourism',\n",
    "       'Difference Tourism']])))\n",
    "predictions = [a[1] for a in scalerY.inverse_transform([[0,a,0,0,0,0,0] for a in predictions])]"
   ]
  },
  {
   "cell_type": "code",
   "execution_count": 21,
   "metadata": {},
   "outputs": [
    {
     "data": {
      "image/png": "[encoded data removed]",
      "text/plain": [
       "<Figure size 432x288 with 1 Axes>"
      ]
     },
     "metadata": {
      "needs_background": "light"
     },
     "output_type": "display_data"
    }
   ],
   "source": [
    "plt.plot(years, mun, lw=2, label='real')\n",
    "plt.axvline(x=2013.5, c='green', lw=1, ls=':', label='separación')\n",
    "plt.plot(years[-4:], predictions, c='red', lw=2, label='predecido')\n",
    "plt.title(\"Basura doméstica en España\")\n",
    "plt.xlabel(\"Año\")\n",
    "plt.ylabel(\"Miles de toneladas\")\n",
    "plt.legend()\n",
    "plt.show()"
   ]
  },
  {
   "cell_type": "markdown",
   "metadata": {},
   "source": [
    "### Recovered"
   ]
  },
  {
   "cell_type": "code",
   "execution_count": 22,
   "metadata": {},
   "outputs": [],
   "source": [
    "years = list(esp.Year)\n",
    "mun = list(esp.Recovered)\n",
    "predictions = clf3.predict(pd.DataFrame(scalerX.transform(Complete.loc[esp.index[-4:],:][['Built', 'Below Secundary', 'Income Median',\n",
    "       'Population', 'Over 65', 'Over 65 Percentage', 'Over 85',\n",
    "       'Over 85 Percentage', 'Over 50', 'Over 50 Percentage', 'Under 20',\n",
    "       'Under 20 Percentage', 'Income Per Capita', 'Tourism', 'Area',\n",
    "       'Built Area', 'Last Year Municipal', 'Last Year Household',\n",
    "       'Last Year Recovered', 'Last Year Recicled', 'Last Year Compost',\n",
    "       'Last Year Disposal',\n",
    "       'Last Year Built', 'Difference Built',\n",
    "       'Last Year Below Secundary', 'Difference Below Secundary',\n",
    "       'Last Year Population', 'Difference Population', 'Last Year Tourism',\n",
    "       'Difference Tourism']])))\n",
    "predictions = [a[2] for a in scalerY.inverse_transform([[0,0,a,0,0,0,0] for a in predictions])]"
   ]
  },
  {
   "cell_type": "code",
   "execution_count": 23,
   "metadata": {},
   "outputs": [
    {
     "data": {
      "image/png": "[encoded data removed]",
      "text/plain": [
       "<Figure size 432x288 with 1 Axes>"
      ]
     },
     "metadata": {
      "needs_background": "light"
     },
     "output_type": "display_data"
    }
   ],
   "source": [
    "plt.plot(years, mun, lw=2, label='real')\n",
    "plt.axvline(x=2013.5, c='green', lw=1, ls=':', label='separación')\n",
    "plt.plot(years[-4:], predictions, c='red', lw=2, label='predecido')\n",
    "plt.title(\"Basura recuperada en España\")\n",
    "plt.xlabel(\"Año\")\n",
    "plt.ylabel(\"Miles de toneladas\")\n",
    "plt.legend()\n",
    "plt.show()"
   ]
  },
  {
   "cell_type": "markdown",
   "metadata": {},
   "source": [
    "### Recicled"
   ]
  },
  {
   "cell_type": "code",
   "execution_count": 24,
   "metadata": {},
   "outputs": [],
   "source": [
    "years = list(esp.Year)\n",
    "mun = list(esp.Recicled)\n",
    "predictions = clf4.predict(pd.DataFrame(scalerX.transform(Complete.loc[esp.index[-4:],:][['Built', 'Below Secundary', 'Income Median',\n",
    "       'Population', 'Over 65', 'Over 65 Percentage', 'Over 85',\n",
    "       'Over 85 Percentage', 'Over 50', 'Over 50 Percentage', 'Under 20',\n",
    "       'Under 20 Percentage', 'Income Per Capita', 'Tourism', 'Area',\n",
    "       'Built Area', 'Last Year Municipal', 'Last Year Household',\n",
    "       'Last Year Recovered', 'Last Year Recicled', 'Last Year Compost',\n",
    "       'Last Year Disposal',\n",
    "       'Last Year Built', 'Difference Built',\n",
    "       'Last Year Below Secundary', 'Difference Below Secundary',\n",
    "       'Last Year Population', 'Difference Population', 'Last Year Tourism',\n",
    "       'Difference Tourism']])))\n",
    "predictions = [a[3] for a in scalerY.inverse_transform([[0,0,0,a,0,0,0] for a in predictions])]"
   ]
  },
  {
   "cell_type": "code",
   "execution_count": 25,
   "metadata": {
    "scrolled": false
   },
   "outputs": [
    {
     "data": {
      "image/png": "[encoded data removed]",
      "text/plain": [
       "<Figure size 432x288 with 1 Axes>"
      ]
     },
     "metadata": {
      "needs_background": "light"
     },
     "output_type": "display_data"
    }
   ],
   "source": [
    "plt.plot(years, mun, lw=2, label='real')\n",
    "plt.axvline(x=2013.5, c='green', lw=1, ls=':', label='separación')\n",
    "plt.plot(years[-4:], predictions, c='red', lw=2, label='predecido')\n",
    "plt.title(\"Basura reciclada en España\")\n",
    "plt.xlabel(\"Año\")\n",
    "plt.ylabel(\"Miles de toneladas\")\n",
    "plt.legend()\n",
    "plt.show()"
   ]
  },
  {
   "cell_type": "markdown",
   "metadata": {},
   "source": [
    "### Compost"
   ]
  },
  {
   "cell_type": "code",
   "execution_count": 26,
   "metadata": {},
   "outputs": [],
   "source": [
    "years = list(esp.Year)\n",
    "mun = list(esp.Compost)\n",
    "predictions = clf5.predict(pd.DataFrame(scalerX.transform(Complete.loc[esp.index[-4:],:][['Built', 'Below Secundary', 'Income Median',\n",
    "       'Population', 'Over 65', 'Over 65 Percentage', 'Over 85',\n",
    "       'Over 85 Percentage', 'Over 50', 'Over 50 Percentage', 'Under 20',\n",
    "       'Under 20 Percentage', 'Income Per Capita', 'Tourism', 'Area',\n",
    "       'Built Area', 'Last Year Municipal', 'Last Year Household',\n",
    "       'Last Year Recovered', 'Last Year Recicled', 'Last Year Compost',\n",
    "       'Last Year Disposal',\n",
    "       'Last Year Built', 'Difference Built',\n",
    "       'Last Year Below Secundary', 'Difference Below Secundary',\n",
    "       'Last Year Population', 'Difference Population', 'Last Year Tourism',\n",
    "       'Difference Tourism']])))\n",
    "predictions = [a[4] for a in scalerY.inverse_transform([[0,0,0,0,a,0,0] for a in predictions])]"
   ]
  },
  {
   "cell_type": "code",
   "execution_count": 27,
   "metadata": {},
   "outputs": [
    {
     "data": {
      "image/png": "[encoded data removed]",
      "text/plain": [
       "<Figure size 432x288 with 1 Axes>"
      ]
     },
     "metadata": {
      "needs_background": "light"
     },
     "output_type": "display_data"
    }
   ],
   "source": [
    "plt.plot(years, mun, lw=2, label='real')\n",
    "plt.axvline(x=2013.5, c='green', lw=1, ls=':', label='separación')\n",
    "plt.plot(years[-4:], predictions, c='red', lw=2, label='predecido')\n",
    "plt.title(\"Basura compostada en España\")\n",
    "plt.xlabel(\"Año\")\n",
    "plt.ylabel(\"Miles de toneladas\")\n",
    "plt.legend()\n",
    "plt.show()"
   ]
  },
  {
   "cell_type": "markdown",
   "metadata": {},
   "source": [
    "### Disposal"
   ]
  },
  {
   "cell_type": "code",
   "execution_count": 28,
   "metadata": {},
   "outputs": [],
   "source": [
    "years = list(esp.Year)\n",
    "mun = list(esp.Disposal)\n",
    "predictions = clf1.predict(pd.DataFrame(scalerX.transform(Complete.loc[esp.index[-4:],:][['Built', 'Below Secundary', 'Income Median',\n",
    "       'Population', 'Over 65', 'Over 65 Percentage', 'Over 85',\n",
    "       'Over 85 Percentage', 'Over 50', 'Over 50 Percentage', 'Under 20',\n",
    "       'Under 20 Percentage', 'Income Per Capita', 'Tourism', 'Area',\n",
    "       'Built Area', 'Last Year Municipal', 'Last Year Household',\n",
    "       'Last Year Recovered', 'Last Year Recicled', 'Last Year Compost',\n",
    "       'Last Year Disposal',\n",
    "       'Last Year Built', 'Difference Built',\n",
    "       'Last Year Below Secundary', 'Difference Below Secundary',\n",
    "       'Last Year Population', 'Difference Population', 'Last Year Tourism',\n",
    "       'Difference Tourism']])))\n",
    "predictions = [a[5] for a in scalerY.inverse_transform([[0,0,0,0,0,a,0] for a in predictions])]"
   ]
  },
  {
   "cell_type": "code",
   "execution_count": 29,
   "metadata": {
    "scrolled": false
   },
   "outputs": [
    {
     "data": {
      "image/png": "[encoded data removed]",
      "text/plain": [
       "<Figure size 432x288 with 1 Axes>"
      ]
     },
     "metadata": {
      "needs_background": "light"
     },
     "output_type": "display_data"
    }
   ],
   "source": [
    "plt.plot(years, mun, lw=2, label='real')\n",
    "plt.axvline(x=2013.5, c='green', lw=1, ls=':', label='separación')\n",
    "plt.plot(years[-4:], predictions, c='red', lw=2, label='predecido')\n",
    "plt.title(\"Basura deshechada en España\")\n",
    "plt.xlabel(\"Año\")\n",
    "plt.ylabel(\"Miles de toneladas\")\n",
    "plt.legend()\n",
    "plt.show()"
   ]
  },
  {
   "cell_type": "code",
   "execution_count": null,
   "metadata": {},
   "outputs": [],
   "source": []
  }
 ],
 "metadata": {
  "kernelspec": {
   "display_name": "Python 3",
   "language": "python",
   "name": "python3"
  },
  "language_info": {
   "codemirror_mode": {
    "name": "ipython",
    "version": 3
   },
   "file_extension": ".py",
   "mimetype": "text/x-python",
   "name": "python",
   "nbconvert_exporter": "python",
   "pygments_lexer": "ipython3",
   "version": "3.6.9"
  }
 },
 "nbformat": 4,
 "nbformat_minor": 4
}
